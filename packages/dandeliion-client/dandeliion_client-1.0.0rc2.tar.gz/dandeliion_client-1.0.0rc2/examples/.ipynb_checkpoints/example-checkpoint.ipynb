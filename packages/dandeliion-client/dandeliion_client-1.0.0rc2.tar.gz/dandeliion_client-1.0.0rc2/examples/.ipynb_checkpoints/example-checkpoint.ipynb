{
 "cells": [
  {
   "cell_type": "code",
   "execution_count": 1,
   "id": "62b21eed-fcab-4ad8-be9a-438dde08af5d",
   "metadata": {},
   "outputs": [],
   "source": [
    "import sys\n",
    "from pathlib import Path\n",
    "\n",
    "# Path to the root directory of the repository\n",
    "root_dir = Path().resolve().parent\n",
    "sys.path.append(str(root_dir / 'src' / 'python'))\n",
    "\n",
    "import numpy as np\n",
    "import matplotlib.pyplot as plt\n",
    "from pybamm import Experiment\n",
    "import dandeliion.client as dandeliion\n",
    "\n",
    "# The following lines enable logging output in this notebook\n",
    "import logging\n",
    "logging.basicConfig(stream=sys.stdout, level=logging.INFO)"
   ]
  },
  {
   "cell_type": "markdown",
   "id": "6b38282b-c158-4def-bc9a-f5d565e82299",
   "metadata": {},
   "source": [
    "### Authentication\n",
    "One of the ways to define the simulator object can be the following:"
   ]
  },
  {
   "cell_type": "code",
   "execution_count": 2,
   "id": "424cfefd-19b2-4e2a-83dd-a306ead4ff98",
   "metadata": {},
   "outputs": [],
   "source": [
    "api_url = \"http://localhost/v1\"\n",
    "api_key = \"f1543b9ff2001d04bd2c002d9375c8a28ad0bcac9914ce5d8f0e0b98ef4404cf\"\n",
    "\n",
    "simulator = dandeliion.Simulator(api_url, api_key)\n",
    "\n",
    "# The following sets up a mock simulator (to be used instead of actual simulator for testing)\n",
    "sys.path.append(str(root_dir / 'tests' / 'python' / 'dandeliion' / 'client'))\n",
    "\n",
    "# from mock_simulator import MockSimulator\n",
    "# simulator = MockSimulator(api_url, api_key)"
   ]
  },
  {
   "cell_type": "markdown",
   "id": "ec0b6b20-bf68-4e00-bcb9-49f6987b47bd",
   "metadata": {},
   "source": [
    "### Parameters\n",
    "A valid BPX file with battery cell parameters (json-file)"
   ]
  },
  {
   "cell_type": "code",
   "execution_count": 3,
   "id": "8fe2f5ef-1c2d-4259-8e45-ce592a122b91",
   "metadata": {},
   "outputs": [],
   "source": [
    "# Can be a file or already read-in valid BPX as dict or BPX object\n",
    "params = root_dir / 'examples' / 'AE_gen1_BPX.json'"
   ]
  },
  {
   "cell_type": "markdown",
   "id": "251b4538-abf6-438b-b2f4-ae0b6b433378",
   "metadata": {},
   "source": [
    "### Experiment\n",
    "PyBaMM Experiment object, for example:"
   ]
  },
  {
   "cell_type": "code",
   "execution_count": 4,
   "id": "041b9b60-c797-47c8-982c-6f78b3526929",
   "metadata": {},
   "outputs": [],
   "source": [
    "experiment = Experiment(\n",
    "    [\n",
    "        (\n",
    "            \"Discharge at 6 A for 100 seconds\",\n",
    "            \"Rest for 10 seconds\",\n",
    "            \"Charge at 1 A for 10 seconds\",\n",
    "        ),\n",
    "        (\n",
    "            \"Discharge at 1 A for 20 seconds\",\n",
    "            \"Rest for 10 seconds\",\n",
    "            \"Charge at 1 A for 20 seconds\",\n",
    "        ),\n",
    "    ] * 2,\n",
    "    period=\"1 second\",  # Optional\n",
    ")"
   ]
  },
  {
   "cell_type": "markdown",
   "id": "abb95e28-8293-49b4-87ed-6739f39ca65a",
   "metadata": {},
   "source": [
    "### Additional model/backend-specific parameters\n",
    "A dictionary"
   ]
  },
  {
   "cell_type": "code",
   "execution_count": 5,
   "id": "55c1d753-029a-44e6-8a6c-5fdf34a2a1b1",
   "metadata": {},
   "outputs": [],
   "source": [
    "extra_params = {}\n",
    "\n",
    "# Number of mesh points in PyBaMM format (default is 16 mesh points everywhere):\n",
    "extra_params['Mesh'] = {\"x_n\": 16, \"x_s\": 8, \"x_p\": 16, \"r_n\": 16, \"r_p\": 16}\n",
    "\n",
    "# Initial state of charge (default is 1):\n",
    "extra_params['Initial SOC'] = 1.0"
   ]
  },
  {
   "cell_type": "markdown",
   "id": "709bd5a4-f0b0-40c5-95d9-88d3aa35438a",
   "metadata": {},
   "source": [
    "### Calculating solution"
   ]
  },
  {
   "cell_type": "code",
   "execution_count": 6,
   "id": "d22442eb-c0bf-41bc-b9ee-25d19800d1d0",
   "metadata": {},
   "outputs": [
    {
     "name": "stderr",
     "output_type": "stream",
     "text": [
      "/home/schewtsj/Documents/dandeliion/dandeliion-client/.venv/lib/python3.12/site-packages/pydantic/_internal/_decorators_v1.py:171: UserWarning: The minimum voltage computed from the STO limits (2.4988861558265327 V) is less than the lower voltage cut-off (2.5 V) with the absolute tolerance v_tol = 0.001 V\n",
      "  model_dict_new = validator(model_dict)\n"
     ]
    },
    {
     "ename": "DandeliionAPIException",
     "evalue": "Your request has failed: Internal Server Error",
     "output_type": "error",
     "traceback": [
      "\u001b[0;31m---------------------------------------------------------------------------\u001b[0m",
      "\u001b[0;31mDandeliionAPIException\u001b[0m                    Traceback (most recent call last)",
      "Cell \u001b[0;32mIn[6], line 1\u001b[0m\n\u001b[0;32m----> 1\u001b[0m solution \u001b[38;5;241m=\u001b[39m \u001b[43mdandeliion\u001b[49m\u001b[38;5;241;43m.\u001b[39;49m\u001b[43msolve\u001b[49m\u001b[43m(\u001b[49m\n\u001b[1;32m      2\u001b[0m \u001b[43m    \u001b[49m\u001b[43msimulator\u001b[49m\u001b[38;5;241;43m=\u001b[39;49m\u001b[43msimulator\u001b[49m\u001b[43m,\u001b[49m\n\u001b[1;32m      3\u001b[0m \u001b[43m    \u001b[49m\u001b[43mparams\u001b[49m\u001b[38;5;241;43m=\u001b[39;49m\u001b[43mparams\u001b[49m\u001b[43m,\u001b[49m\n\u001b[1;32m      4\u001b[0m \u001b[43m    \u001b[49m\u001b[43mexperiment\u001b[49m\u001b[38;5;241;43m=\u001b[39;49m\u001b[43mexperiment\u001b[49m\u001b[43m,\u001b[49m\u001b[43m  \u001b[49m\u001b[38;5;66;43;03m# Optional, default is 1C discharge. Translates into the \"DandeLiion: Experiment\" section\u001b[39;49;00m\n\u001b[1;32m      5\u001b[0m \u001b[43m    \u001b[49m\u001b[43mis_blocking\u001b[49m\u001b[38;5;241;43m=\u001b[39;49m\u001b[38;5;28;43;01mTrue\u001b[39;49;00m\u001b[43m,\u001b[49m\n\u001b[1;32m      6\u001b[0m \u001b[43m)\u001b[49m\n",
      "File \u001b[0;32m~/Documents/dandeliion/dandeliion-client/src/python/dandeliion/client/__init__.py:86\u001b[0m, in \u001b[0;36msolve\u001b[0;34m(simulator, params, experiment, extra_params, is_blocking)\u001b[0m\n\u001b[1;32m     83\u001b[0m     \u001b[38;5;28;01mfor\u001b[39;00m param, value \u001b[38;5;129;01min\u001b[39;00m extra_params\u001b[38;5;241m.\u001b[39mitems():\n\u001b[1;32m     84\u001b[0m         params[\u001b[38;5;124m'\u001b[39m\u001b[38;5;124mParameterisation\u001b[39m\u001b[38;5;124m'\u001b[39m][\u001b[38;5;124m\"\u001b[39m\u001b[38;5;124mUser-defined\u001b[39m\u001b[38;5;124m\"\u001b[39m][\u001b[38;5;124mf\u001b[39m\u001b[38;5;124m\"\u001b[39m\u001b[38;5;124mDandeLiion: \u001b[39m\u001b[38;5;132;01m{\u001b[39;00mparam\u001b[38;5;132;01m}\u001b[39;00m\u001b[38;5;124m\"\u001b[39m] \u001b[38;5;241m=\u001b[39m value\n\u001b[0;32m---> 86\u001b[0m \u001b[38;5;28;01mreturn\u001b[39;00m \u001b[43msimulator\u001b[49m\u001b[38;5;241;43m.\u001b[39;49m\u001b[43msubmit\u001b[49m\u001b[43m(\u001b[49m\u001b[43mparameters\u001b[49m\u001b[38;5;241;43m=\u001b[39;49m\u001b[43mparams\u001b[49m\u001b[43m,\u001b[49m\u001b[43m \u001b[49m\u001b[43mis_blocking\u001b[49m\u001b[38;5;241;43m=\u001b[39;49m\u001b[43mis_blocking\u001b[49m\u001b[43m)\u001b[49m\n",
      "File \u001b[0;32m~/Documents/dandeliion/dandeliion-client/src/python/dandeliion/client/simulator.py:60\u001b[0m, in \u001b[0;36mSimulator.submit\u001b[0;34m(self, parameters, is_blocking)\u001b[0m\n\u001b[1;32m     58\u001b[0m response \u001b[38;5;241m=\u001b[39m requests\u001b[38;5;241m.\u001b[39mpost(url\u001b[38;5;241m=\u001b[39m\u001b[38;5;28mself\u001b[39m\u001b[38;5;241m.\u001b[39mapi_url, json\u001b[38;5;241m=\u001b[39mparameters, headers\u001b[38;5;241m=\u001b[39mheaders)\n\u001b[1;32m     59\u001b[0m \u001b[38;5;28;01mif\u001b[39;00m response\u001b[38;5;241m.\u001b[39mstatus_code \u001b[38;5;241m>\u001b[39m\u001b[38;5;241m=\u001b[39m \u001b[38;5;241m400\u001b[39m:\n\u001b[0;32m---> 60\u001b[0m     \u001b[38;5;28;01mraise\u001b[39;00m DandeliionAPIException(\u001b[38;5;124mf\u001b[39m\u001b[38;5;124m\"\u001b[39m\u001b[38;5;124mYour request has failed: \u001b[39m\u001b[38;5;132;01m{\u001b[39;00mresponse\u001b[38;5;241m.\u001b[39mreason\u001b[38;5;132;01m}\u001b[39;00m\u001b[38;5;124m\"\u001b[39m)\n\u001b[1;32m     61\u001b[0m response_json \u001b[38;5;241m=\u001b[39m response\u001b[38;5;241m.\u001b[39mjson()\n\u001b[1;32m     63\u001b[0m run_id \u001b[38;5;241m=\u001b[39m response_json[\u001b[38;5;124m'\u001b[39m\u001b[38;5;124mRun\u001b[39m\u001b[38;5;124m'\u001b[39m][\u001b[38;5;124m'\u001b[39m\u001b[38;5;124mid\u001b[39m\u001b[38;5;124m'\u001b[39m]\n",
      "\u001b[0;31mDandeliionAPIException\u001b[0m: Your request has failed: Internal Server Error"
     ]
    }
   ],
   "source": [
    "solution = dandeliion.solve(\n",
    "    simulator=simulator,\n",
    "    params=params,\n",
    "    experiment=experiment,  # Optional, default is 1C discharge. Translates into the \"DandeLiion: Experiment\" section\n",
    "    is_blocking=True,\n",
    ")"
   ]
  },
  {
   "cell_type": "code",
   "execution_count": null,
   "id": "987aa8e4-98c2-4b1e-8e16-b38f49a31241",
   "metadata": {},
   "outputs": [],
   "source": [
    "solution.status"
   ]
  },
  {
   "cell_type": "markdown",
   "id": "e3c7b5e7-e0e4-44d9-ba44-bd978e8974fb",
   "metadata": {},
   "source": [
    "### Results\n",
    "Print all available keys in the solution object.\n",
    "Here method `keys()` is used to get all available keys in the solution object."
   ]
  },
  {
   "cell_type": "code",
   "execution_count": null,
   "id": "bf329a1e-fd4f-47a8-81f3-4e3130804616",
   "metadata": {},
   "outputs": [],
   "source": [
    "for key in sorted(solution.keys()):\n",
    "    print(key)"
   ]
  },
  {
   "cell_type": "code",
   "execution_count": null,
   "id": "84abbcab-168c-4175-8f3e-9a9555857f30",
   "metadata": {},
   "outputs": [],
   "source": [
    "# Print the final values of time, voltage, and temperature\n",
    "print(f\"Final time [s]: {solution['Time [s]'][-1]}\")\n",
    "print(f\"Final voltage [V]: {solution['Voltage [V]'][-1]}\")\n",
    "print(f\"Final temperature [K]: {solution['Temperature [K]'][-1]}\")"
   ]
  },
  {
   "cell_type": "code",
   "execution_count": null,
   "id": "0ac018b7-b201-466c-adef-0aff6e624ab1",
   "metadata": {},
   "outputs": [],
   "source": [
    "# Plot current and voltage vs time.\n",
    "# Here we access scalar values vs time.\n",
    "fig, axs = plt.subplots(2, 1, figsize=(10, 8))\n",
    "axs[0].plot(solution[\"Time [s]\"], solution[\"Current [A]\"], label=\"Dandeliion\")\n",
    "axs[0].set_xlabel(\"time [s]\")\n",
    "axs[0].set_title(\"Current [A]\")\n",
    "axs[0].legend()\n",
    "axs[0].grid()\n",
    "axs[1].plot(solution[\"Time [s]\"], solution[\"Voltage [V]\"], label=\"Dandeliion\")\n",
    "axs[1].set_xlabel(\"time [s]\")\n",
    "axs[1].set_title(\"Voltage [V]\")\n",
    "axs[1].legend()\n",
    "axs[1].grid()\n",
    "plt.tight_layout()\n",
    "plt.show()"
   ]
  },
  {
   "cell_type": "code",
   "execution_count": null,
   "id": "f9d0531c-8c29-442d-9890-fcf73fa2f238",
   "metadata": {},
   "outputs": [],
   "source": [
    "# Concentration in the electrolyte vs `x` at the last time step.\n",
    "# Here we access spatially dependent values vs time.\n",
    "plt.plot(\n",
    "    solution[\"Electrolyte x-coordinate [m]\"] * 1e6,\n",
    "    solution[\"Electrolyte concentration [mol.m-3]\"][-1],\n",
    "    label=\"Dandeliion\",\n",
    ")\n",
    "plt.xlabel(r\"x [$\\mu$m]\")\n",
    "plt.title(\"Electrolyte conc. (end of experiment) [mol.m-3]\")\n",
    "plt.legend()\n",
    "plt.grid()\n",
    "plt.show()"
   ]
  },
  {
   "cell_type": "code",
   "execution_count": null,
   "id": "4bd77010-99e8-4efb-b026-a594e45e893d",
   "metadata": {},
   "outputs": [],
   "source": [
    "solution[\"Electrolyte x-coordinate [m]\"][-1]"
   ]
  },
  {
   "cell_type": "code",
   "execution_count": null,
   "id": "816148d3-13c6-468d-a118-3fb9a273ee81",
   "metadata": {},
   "outputs": [],
   "source": [
    "# A list of output times (optional)\n",
    "t_eval = np.arange(0, 3600, 1)\n",
    "\n",
    "# If the user needs the solution at the `t_eval` times, the following code can be used (works only correctly on columns with timeline data)\n",
    "# This is a linear interpolation with constant extrapolation\n",
    "solution[\"Voltage [V]\"](t=t_eval)"
   ]
  },
  {
   "cell_type": "code",
   "execution_count": null,
   "id": "220b42b7-94a2-44a4-b593-b8c648107718",
   "metadata": {},
   "outputs": [],
   "source": []
  }
 ],
 "metadata": {
  "kernelspec": {
   "display_name": "Python 3 (ipykernel)",
   "language": "python",
   "name": "python3"
  },
  "language_info": {
   "codemirror_mode": {
    "name": "ipython",
    "version": 3
   },
   "file_extension": ".py",
   "mimetype": "text/x-python",
   "name": "python",
   "nbconvert_exporter": "python",
   "pygments_lexer": "ipython3",
   "version": "3.12.3"
  }
 },
 "nbformat": 4,
 "nbformat_minor": 5
}
