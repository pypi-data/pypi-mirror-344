{
 "cells": [
  {
   "cell_type": "code",
   "execution_count": 1,
   "metadata": {},
   "outputs": [],
   "source": [
    "import os\n",
    "from typing import List, Tuple, Literal as Lit\n",
    "import joblib\n",
    "import numpy as np\n",
    "import scipy.stats as sp_stats\n",
    "import pandas as pd\n",
    "\n",
    "from numpy import nan, inf\n",
    "from numpy import exp, log"
   ]
  },
  {
   "cell_type": "markdown",
   "metadata": {},
   "source": [
    "# System"
   ]
  },
  {
   "cell_type": "code",
   "execution_count": null,
   "metadata": {},
   "outputs": [],
   "source": [
    "HEADERS = { 'User-Agent':'Mozilla/5.0 (X11; Linux x86_64) AppleWebKit/537.36 (KHTML, like Gecko) Chrome/108.0.0.0 Safari/537.36', 'X-Requested-With':'XMLHttpRequest' }"
   ]
  },
  {
   "cell_type": "code",
   "execution_count": null,
   "metadata": {},
   "outputs": [],
   "source": [
    "def _pickle(CASES:Lit['COMPUTE','RELOAD','LOAD'], Lambda, dirs=[], name='', ext='.pkl', *a,**b):\n",
    "\n",
    "    path    = os.path.join(*dirs, name + ext)\n",
    "    EXISTS  = os.path.exists(path)\n",
    "\n",
    "    def _calc():    return Lambda(*a,**b)\n",
    "    def _read():    return joblib.load(path)\n",
    "    def _save(X):   joblib.dump(X, path);  return X\n",
    "\n",
    "    if (CASES == 'COMPUTE'):    return _calc()\n",
    "    if (CASES == 'RELOAD'):     return _save(_calc())\n",
    "    if (CASES == 'LOAD'):\n",
    "        if     EXISTS:          return _read()\n",
    "        if not EXISTS:          return _save(_calc())\n",
    "\n",
    "def _parquet(CASES:Lit['COMPUTE','RELOAD','LOAD'], Lambda, dirs=[], name='', ext='.parquet', *a,**b):\n",
    "\n",
    "    path    = os.path.join(*dirs, name + ext)\n",
    "    EXISTS  = os.path.exists(path)\n",
    "\n",
    "    def _calc():    return Lambda(*a,**b)\n",
    "    def _read():    return pd.read_parquet(path)\n",
    "    def _save(Df):  Df.to_parquet(path, index=False);  return Df\n",
    "\n",
    "    if (CASES == 'COMPUTE'):    return _calc()\n",
    "    if (CASES == 'RELOAD'):     return _save(_calc())\n",
    "    if (CASES == 'LOAD'):\n",
    "        if     EXISTS:          return _read()\n",
    "        if not EXISTS:          return _save(_calc())"
   ]
  },
  {
   "cell_type": "markdown",
   "metadata": {},
   "source": [
    "# Casting"
   ]
  },
  {
   "cell_type": "code",
   "execution_count": null,
   "metadata": {},
   "outputs": [],
   "source": [
    "def _to_bool(x:None|bool|int|float|str, extend:bool): \n",
    "\n",
    "    if            str(x).lower() in ['true','1','1.0','t','y','yes']:   return True\n",
    "    if            str(x).lower() in ['false','0','0.0','f','n','no']:   return False\n",
    "    if extend and str(x).lower() in ['none','null','nan','']:           return False\n",
    "\n",
    "    raise Exception('CASTING_BOOLEAN_FAILED')"
   ]
  },
  {
   "cell_type": "code",
   "execution_count": null,
   "metadata": {},
   "outputs": [],
   "source": [
    "def _as_bool(x:None|bool|int|float|str, extend:bool, undefine:bool): \n",
    "\n",
    "    if            str(x).lower() in ['true','1','1.0','t','y','yes']:   return True\n",
    "    if            str(x).lower() in ['false','0','0.0','f','n','no']:   return False\n",
    "    if extend and str(x).lower() in ['none','null','nan','']:           return False\n",
    "    if undefine:                                                        return None\n",
    "\n",
    "    raise Exception('CASTING_BOOLEAN_FAILED')"
   ]
  },
  {
   "cell_type": "code",
   "execution_count": null,
   "metadata": {},
   "outputs": [],
   "source": [
    "def _to_logic(x:None|bool|int|float|str, astype:Lit['bool','int'], extend:bool) -> (bool|int): \n",
    "\n",
    "    if            str(x).lower() in ['true','1','1.0','t','y','yes']:   return { 'bool':True,  'int':1 }[astype]\n",
    "    if            str(x).lower() in ['false','0','0.0','f','n','no']:   return { 'bool':False, 'int':0 }[astype]\n",
    "    if extend and str(x).lower() in ['none','null','nan','']:           return { 'bool':False, 'int':0 }[astype]\n",
    "\n",
    "    raise Exception('CASTING_BOOLEAN_FAILED')"
   ]
  },
  {
   "cell_type": "code",
   "execution_count": null,
   "metadata": {},
   "outputs": [],
   "source": [
    "def _as_logic(x:None|bool|int|float|str, astype:Lit['bool','int'], extend:bool, undefine:bool) -> (None|bool|int): \n",
    "\n",
    "    if            str(x).lower() in ['true','1','1.0','t','y','yes']:   return { 'bool':True,  'int': 1 }[astype]\n",
    "    if            str(x).lower() in ['false','0','0.0','f','n','no']:   return { 'bool':False, 'int': 0 }[astype]\n",
    "    if extend and str(x).lower() in ['none','null','nan','']:           return { 'bool':False, 'int': 0 }[astype]\n",
    "    if undefine:                                                        return { 'bool':None,  'int':-1 }[astype]\n",
    "\n",
    "    raise Exception('CASTING_BOOLEAN_FAILED')"
   ]
  },
  {
   "cell_type": "markdown",
   "metadata": {},
   "source": [
    "# Text Functions"
   ]
  },
  {
   "cell_type": "code",
   "execution_count": null,
   "metadata": {},
   "outputs": [],
   "source": [
    "def _between(txt:str, A:str, Z:str):\n",
    "    return txt.split(A)[1].split(Z)[0]\n",
    "\n",
    "\n",
    "def _replaces(txt:str, args:List[Tuple[str, str]]):\n",
    "    \n",
    "    for (old, new) in args:\n",
    "        txt = txt.replace(old, new)\n",
    "\n",
    "    return txt"
   ]
  },
  {
   "cell_type": "markdown",
   "metadata": {},
   "source": [
    "# Math Formulas 1"
   ]
  },
  {
   "cell_type": "code",
   "execution_count": null,
   "metadata": {},
   "outputs": [],
   "source": [
    "def _step(X, stp=nan): \n",
    "    if isinstance(stp, int) and (stp < 0 or 1 < stp):\n",
    "            return X[::stp]\n",
    "    else:   return X\n",
    "\n",
    "def _round(x, R=nan):\n",
    "    if isinstance(R, int) and (R >= 0):\n",
    "            return np.round(x, R)\n",
    "    else:   return x"
   ]
  },
  {
   "cell_type": "code",
   "execution_count": null,
   "metadata": {},
   "outputs": [],
   "source": [
    "def _count(x):        return pd.Series(x).count()\n",
    "\n",
    "def _sum(x):          return np.nansum(x)\n",
    "def _prod(x):         return np.nanprod(x)\n",
    "\n",
    "def _cumsum(x):       return np.nancumsum(x)\n",
    "def _cumprod(x):      return np.nancumprod(x)\n",
    "\n",
    "def _mean(x):         return np.nanmean(x)\n",
    "def _std(x):          return np.nanstd(x)\n",
    "\n",
    "def _gmean(x):        return exp(np.nanmean(log(x)))\n",
    "def _gstd(x):         return exp(np.nanstd(log(x)))\n",
    "\n",
    "def _med(x):          return np.nanmedian(x)\n",
    "def _mad(x):          return sp_stats.median_abs_deviation(x, nan_policy='omit')\n",
    "\n",
    "def _max(x):          return np.nanmax(x)\n",
    "def _min(x):          return np.nanmin(x)\n",
    "\n",
    "def _Q3(x):           return np.nanpercentile(x, 75)\n",
    "def _Q1(x):           return np.nanpercentile(x, 25)\n",
    "\n",
    "def _pct_prod(x):     return    _prod(1+x/100)\n",
    "def _pct_cumprod(x):  return _cumprod(1+x/100)\n",
    "def _pct_gmean(x):    return   _gmean(1+x/100)*100-100\n",
    "def _pct_gstd(x):     return    _gstd(1+x/100)*100-100"
   ]
  },
  {
   "cell_type": "code",
   "execution_count": null,
   "metadata": {},
   "outputs": [],
   "source": [
    "def _range(Max, Min):               return (Max - Min)\n",
    "def _IQR(Q3, Q1):                   return (Q3 - Q1)\n",
    "\n",
    "def _minmax(Val, Min, Range):       return (Val - Min) / Range *100\n",
    "def _robust(val, med, IQR):         return (val - med) / IQR   *100\n",
    "\n",
    "def _zscore(val, avg, dev):         return (val - avg) / dev\n",
    "def _pscore(val, series):           return sp_stats.percentileofscore(series, val, 'mean', 'omit')\n",
    "\n",
    "def _log1p_zscore(val, avg, dev):   return (log(1+val/100) - log(1+avg/100)) / log(1+dev/100)"
   ]
  },
  {
   "cell_type": "markdown",
   "metadata": {},
   "source": [
    "# Math Formulas 2"
   ]
  },
  {
   "cell_type": "code",
   "execution_count": null,
   "metadata": {},
   "outputs": [],
   "source": [
    "def _groupby(Df, By=''):\n",
    "    if By:  return Df.groupby(By, sort=0, group_keys=0, dropna=0)\n",
    "    else:   return Df\n",
    "\n",
    "def _apply(Df,      Lambda,            By='', stp=nan, R=nan):  return _round(_groupby(_step(Df, stp), By)                        .apply(Lambda),                       R)\n",
    "def   _cum(Df, Col, Lambda,            By='', stp=nan, R=nan):  return _round(_groupby(_step(Df, stp), By)[Col].expanding()       .apply(Lambda).reset_index(0,drop=1), R)\n",
    "def  _roll(Df, Col, Lambda, win, wmin, By='', stp=nan, R=nan):  return _round(_groupby(_step(Df, stp), By)[Col].rolling(win, wmin).apply(Lambda).reset_index(0,drop=1), R)"
   ]
  },
  {
   "cell_type": "code",
   "execution_count": null,
   "metadata": {},
   "outputs": [],
   "source": [
    "def      _shift(Df, Col, P,   By=''                          ):  return        _groupby(      Df,       By)[Col]      .shift(P)\n",
    "def       _diff(Df, Col, P=1, By='',           stp=nan, R=nan):  return _round(_groupby(_step(Df, stp), By)[Col]       .diff(P),           R)\n",
    "def _pct_change(Df, Col, P=1, By='', base=100, stp=nan, R=nan):  return _round(_groupby(_step(Df, stp), By)[Col] .pct_change(P).mul(base), R)"
   ]
  },
  {
   "cell_type": "code",
   "execution_count": null,
   "metadata": {},
   "outputs": [],
   "source": [
    "def _cum_count      (Df, Col,            By=''                 ):  return  _cum(Df, Col, _count,                By)\n",
    "def _cum_pct_prod   (Df, Col,            By=''                 ):  return  _cum(Df, Col, _pct_prod,             By)\n",
    "\n",
    "def _roll_mean      (Df, Col, win, wmin, By='', stp=nan, R=nan):   return _roll(Df, Col, _mean,      win, wmin, By, stp, R)\n",
    "def _roll_std       (Df, Col, win, wmin, By='', stp=nan, R=nan):   return _roll(Df, Col, _std,       win, wmin, By, stp, R)\n",
    "\n",
    "def _roll_gmean     (Df, Col, win, wmin, By='', stp=nan, R=nan):   return _roll(Df, Col, _gmean,     win, wmin, By, stp, R)\n",
    "def _roll_gstd      (Df, Col, win, wmin, By='', stp=nan, R=nan):   return _roll(Df, Col, _gstd,      win, wmin, By, stp, R)\n",
    "\n",
    "def _roll_pct_gmean (Df, Col, win, wmin, By='', stp=nan, R=nan):   return _roll(Df, Col, _pct_gmean, win, wmin, By, stp, R)\n",
    "def _roll_pct_gstd  (Df, Col, win, wmin, By='', stp=nan, R=nan):   return _roll(Df, Col, _pct_gstd,  win, wmin, By, stp, R)\n",
    "\n",
    "def _roll_med       (Df, Col, win, wmin, By='', stp=nan, R=nan):   return _roll(Df, Col, _med,       win, wmin, By, stp, R)\n",
    "def _roll_mad       (Df, Col, win, wmin, By='', stp=nan, R=nan):   return _roll(Df, Col, _mad,       win, wmin, By, stp, R)\n",
    "\n",
    "def _roll_max       (Df, Col, win, wmin, By='', stp=nan, R=nan):   return _roll(Df, Col, _max,       win, wmin, By, stp, R)\n",
    "def _roll_min       (Df, Col, win, wmin, By='', stp=nan, R=nan):   return _roll(Df, Col, _min,       win, wmin, By, stp, R)\n",
    "\n",
    "def _roll_Q3        (Df, Col, win, wmin, By='', stp=nan, R=nan):   return _roll(Df, Col, _Q3,        win, wmin, By, stp, R)\n",
    "def _roll_Q1        (Df, Col, win, wmin, By='', stp=nan, R=nan):   return _roll(Df, Col, _Q1,        win, wmin, By, stp, R)\n",
    "\n",
    "def _roll_range     (Df, Col, win, wmin, By='', stp=nan, R=nan):   return _round(_range(Max=_roll_max(Df, Col, win, wmin, By, stp), Min=_roll_min(Df, Col, win, wmin, By, stp)), R)\n",
    "def _roll_iqr       (Df, Col, win, wmin, By='', stp=nan, R=nan):   return _round(  _IQR( Q3= _roll_Q3(Df, Col, win, wmin, By, stp),  Q1= _roll_Q1(Df, Col, win, wmin, By, stp)), R)"
   ]
  },
  {
   "cell_type": "code",
   "execution_count": null,
   "metadata": {},
   "outputs": [],
   "source": [
    "def _roll_minmax     (Df, Col, win, wmin, By='', stp=nan, R=nan):  return _round(      _minmax(Val=Df[Col],  Min=      _roll_min(Df, Col, win, wmin, By, stp),  Range= _roll_range(Df, Col, win, wmin, By, stp)), R)\n",
    "def _roll_robust     (Df, Col, win, wmin, By='', stp=nan, R=nan):  return _round(      _robust(val=Df[Col],  med=      _roll_med(Df, Col, win, wmin, By, stp),  IQR=     _roll_iqr(Df, Col, win, wmin, By, stp)), R)\n",
    "def _roll_zscore     (Df, Col, win, wmin, By='', stp=nan, R=nan):  return _round(      _zscore(val=Df[Col],  avg=     _roll_mean(Df, Col, win, wmin, By, stp),  dev=     _roll_std(Df, Col, win, wmin, By, stp)), R)\n",
    "def _roll_pct_gscore (Df, Col, win, wmin, By='', stp=nan, R=nan):  return _round(_log1p_zscore(val=Df[Col],  avg=_roll_pct_gmean(Df, Col, win, wmin, By, stp),  dev=_roll_pct_gstd(Df, Col, win, wmin, By, stp)), R)\n",
    "\n",
    "def _roll_pscore     (Df, Col, win, wmin, By='', stp=nan, R=nan):  return _roll(Df, Col, lambda X: _pscore(val=X.tail(1), series=X), win, wmin, By, stp, R)"
   ]
  },
  {
   "cell_type": "markdown",
   "metadata": {},
   "source": [
    "# Pandas Dataframe"
   ]
  },
  {
   "cell_type": "code",
   "execution_count": null,
   "metadata": {},
   "outputs": [],
   "source": [
    "def _columns(Df, A, Z): \n",
    "    return Df.loc[:, A:Z].columns\n",
    "\n",
    "def _insert(Df, idx, Col, Val):\n",
    "    if Col in Df:   Df[Col] = Val\n",
    "    else:           Df.insert(idx, Col, Val)\n",
    "\n",
    "def _get_group(Df, Get, By):\n",
    "    return _groupby(Df, By).get_group(Get) .reset_index(0,drop=1)"
   ]
  },
  {
   "cell_type": "code",
   "execution_count": null,
   "metadata": {},
   "outputs": [],
   "source": [
    "def _rank      (Df, Col, By, method='dense', ascending=True): return _groupby(Df, By)[Col].rank(method,  ascending)\n",
    "def _rank_high (Df, Col, By, method='dense'):                 return _groupby(Df, By)[Col].rank(method, False)\n",
    "def _rank_low  (Df, Col, By, method='dense'):                 return _groupby(Df, By)[Col].rank(method,  True)"
   ]
  }
 ],
 "metadata": {
  "kernelspec": {
   "display_name": "base",
   "language": "python",
   "name": "python3"
  },
  "language_info": {
   "codemirror_mode": {
    "name": "ipython",
    "version": 3
   },
   "file_extension": ".py",
   "mimetype": "text/x-python",
   "name": "python",
   "nbconvert_exporter": "python",
   "pygments_lexer": "ipython3",
   "version": "3.11.11"
  }
 },
 "nbformat": 4,
 "nbformat_minor": 2
}
