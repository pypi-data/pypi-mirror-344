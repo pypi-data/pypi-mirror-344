{
  "cells": [
    {
      "cell_type": "code",
      "execution_count": null,
      "metadata": {
        "collapsed": false
      },
      "outputs": [],
      "source": [
        "%matplotlib inline"
      ]
    },
    {
      "cell_type": "markdown",
      "metadata": {},
      "source": [
        "\n# Classify class-imbalanced hand-written digits\n\nThis example shows how imbalanced-ensemble can be used to cooperate with \nscikit-learn base classifier and recognize images of hand-written digits, from 0-9.\n\nThis example uses:\n\n    - :class:`imbens.ensemble.SelfPacedEnsembleClassifier`\n    - :class:`imbens.visualizer.ImbalancedEnsembleVisualizer`\n"
      ]
    },
    {
      "cell_type": "code",
      "execution_count": null,
      "metadata": {
        "collapsed": false
      },
      "outputs": [],
      "source": [
        "# Adapted from sklearn\n# Author: Zhining Liu <zhining.liu@outlook.com>\n#         Gael Varoquaux <gael dot varoquaux at normalesup dot org>\n# License: BSD 3 clause"
      ]
    },
    {
      "cell_type": "code",
      "execution_count": null,
      "metadata": {
        "collapsed": false
      },
      "outputs": [],
      "source": [
        "print(__doc__)\n\n# Import imbalanced-ensemble\nimport imbens\n\n# Import utilities\nimport sklearn\nfrom sklearn.model_selection import train_test_split\nfrom imbens.datasets import make_imbalance\nfrom imbens.utils._plot import plot_2Dprojection_and_cardinality\nimport matplotlib.pyplot as plt\n\nRANDOM_STATE = 42"
      ]
    },
    {
      "cell_type": "markdown",
      "metadata": {},
      "source": [
        "## Digits dataset\nThe digits dataset consists of 8x8 pixel images of digits. The images attribute of the dataset stores 8x8 arrays of grayscale values for each image. We will use these arrays to visualize the first 4 images. The target attribute of the dataset stores the digit each image represents and this is included in the title of the 4 plots below.\n\n"
      ]
    },
    {
      "cell_type": "markdown",
      "metadata": {},
      "source": [
        "To apply a classifier on this data, we need to flatten the images, turning each 2-D array of grayscale values from shape (8, 8) into shape (64,). Subsequently, the entire dataset will be of shape (n_samples, n_features), where n_samples is the number of images and n_features is the total number of pixels in each image.\n\n"
      ]
    },
    {
      "cell_type": "code",
      "execution_count": null,
      "metadata": {
        "collapsed": false
      },
      "outputs": [],
      "source": [
        "digits = sklearn.datasets.load_digits()\n\n# flatten the images\nn_samples = len(digits.images)\nX, y = digits.images.reshape((n_samples, -1)), digits.target\n\n_, axes = plt.subplots(nrows=3, ncols=4, figsize=(10, 9))\nfor ax, image, label in zip(axes.flatten(), digits.images, digits.target):\n    ax.set_axis_off()\n    ax.imshow(image, cmap=plt.cm.gray_r, interpolation='nearest')\n    ax.set_title('Training: %i' % label)"
      ]
    },
    {
      "cell_type": "markdown",
      "metadata": {},
      "source": [
        "**The original digits dataset**\n\n"
      ]
    },
    {
      "cell_type": "code",
      "execution_count": null,
      "metadata": {
        "collapsed": false
      },
      "outputs": [],
      "source": [
        "fig = plot_2Dprojection_and_cardinality(X, y, figsize=(8, 4))"
      ]
    },
    {
      "cell_type": "markdown",
      "metadata": {},
      "source": [
        "**Make class-imbalanced digits dataset**\n\n"
      ]
    },
    {
      "cell_type": "code",
      "execution_count": null,
      "metadata": {
        "collapsed": false
      },
      "outputs": [],
      "source": [
        "imbalance_distr = {\n    0: 178,\n    1: 120,\n    2: 80,\n    3: 60,\n    4: 50,\n    5: 44,\n    6: 40,\n    7: 40,\n    8: 40,\n    9: 40,\n}\n\nX, y = make_imbalance(\n    X, y, sampling_strategy=imbalance_distr, random_state=RANDOM_STATE\n)\n\nfig = plot_2Dprojection_and_cardinality(X, y, figsize=(8, 4))"
      ]
    },
    {
      "cell_type": "markdown",
      "metadata": {},
      "source": [
        "## Classification\nWe split the data into train and test subsets and fit a ``SelfPacedEnsembleClassifier`` (with support vector machine as base classifier) on the train samples.\nThe fitted classifier can subsequently be used to predict the value of the digit for the samples in the test subset.\n\n"
      ]
    },
    {
      "cell_type": "code",
      "execution_count": null,
      "metadata": {
        "collapsed": false
      },
      "outputs": [],
      "source": [
        "# Split data into 50% train and 50% test subsets\nX_train, X_test, y_train, y_test = train_test_split(\n    X, y, test_size=0.5, shuffle=True, stratify=y, random_state=0\n)\n\n# Create a classifier: a SPE with support vector base classifier\nbase_clf = sklearn.svm.SVC(gamma=0.001, probability=True)\nclf = imbens.ensemble.SelfPacedEnsembleClassifier(\n    n_estimators=5,\n    estimator=base_clf,\n)\n\n# Learn the digits on the train subset\nclf.fit(X_train, y_train)\n\n# Predict the value of the digit on the test subset\npredicted = clf.predict(X_test)"
      ]
    },
    {
      "cell_type": "markdown",
      "metadata": {},
      "source": [
        "``sklearn.metrics.classification_report`` builds a text report showing the main classification metrics.\n\n"
      ]
    },
    {
      "cell_type": "code",
      "execution_count": null,
      "metadata": {
        "collapsed": false
      },
      "outputs": [],
      "source": [
        "print(\n    f\"Classification report for classifier {clf}:\\n\"\n    f\"{sklearn.metrics.classification_report(y_test, predicted)}\\n\"\n)"
      ]
    },
    {
      "cell_type": "markdown",
      "metadata": {},
      "source": [
        "Below we visualize the first 4 test samples and show their predicted digit value in the title.\n\n"
      ]
    },
    {
      "cell_type": "code",
      "execution_count": null,
      "metadata": {
        "collapsed": false
      },
      "outputs": [],
      "source": [
        "_, axes = plt.subplots(nrows=1, ncols=4, figsize=(10, 3))\nfor ax, image, prediction in zip(axes, X_test, predicted):\n    ax.set_axis_off()\n    image = image.reshape(8, 8)\n    ax.imshow(image, cmap=plt.cm.gray_r, interpolation='nearest')\n    ax.set_title(f'Prediction: {prediction}')"
      ]
    },
    {
      "cell_type": "markdown",
      "metadata": {},
      "source": [
        "We can also plot a confusion matrix of the true digit values and the predicted digit values using the ``ImbalancedEnsembleVisualizer``.\n\n"
      ]
    },
    {
      "cell_type": "code",
      "execution_count": null,
      "metadata": {
        "collapsed": false
      },
      "outputs": [],
      "source": [
        "visualizer = imbens.visualizer.ImbalancedEnsembleVisualizer(\n    eval_datasets={\n        'test': (X_test, y_test),\n    },\n).fit({'SPE': clf})\n\nfig, axes = visualizer.confusion_matrix_heatmap(\n    sub_figsize=(8, 7),\n    false_pred_only=True,\n)"
      ]
    }
  ],
  "metadata": {
    "kernelspec": {
      "display_name": "Python 3",
      "language": "python",
      "name": "python3"
    },
    "language_info": {
      "codemirror_mode": {
        "name": "ipython",
        "version": 3
      },
      "file_extension": ".py",
      "mimetype": "text/x-python",
      "name": "python",
      "nbconvert_exporter": "python",
      "pygments_lexer": "ipython3",
      "version": "3.9.18"
    }
  },
  "nbformat": 4,
  "nbformat_minor": 0
}