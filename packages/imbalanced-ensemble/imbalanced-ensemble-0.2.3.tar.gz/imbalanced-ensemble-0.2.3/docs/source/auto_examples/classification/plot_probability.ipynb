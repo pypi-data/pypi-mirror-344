{
  "cells": [
    {
      "cell_type": "code",
      "execution_count": null,
      "metadata": {
        "collapsed": false
      },
      "outputs": [],
      "source": [
        "%matplotlib inline"
      ]
    },
    {
      "cell_type": "markdown",
      "metadata": {},
      "source": [
        "\n# Plot probabilities with different base classifiers\n\nPlot the classification probability for ensemble models with different base classifiers. \n\nWe use a 3-class imbalanced dataset, and we classify it with a ``SelfPacedEnsembleClassifier`` (ensemble size = 5).\nWe use Decision Tree, Support Vector Machine (rbf kernel), and Gaussian process classifier as the base classifier.\n\nThis example uses:\n\n    - :class:`imbens.ensemble.SelfPacedEnsembleClassifier`\n"
      ]
    },
    {
      "cell_type": "code",
      "execution_count": null,
      "metadata": {
        "collapsed": false
      },
      "outputs": [],
      "source": [
        "# Adapted from sklearn\n# Author: Zhining Liu <zhining.liu@outlook.com>\n#         Alexandre Gramfort <alexandre.gramfort@inria.fr>\n# License: BSD 3 clause"
      ]
    },
    {
      "cell_type": "code",
      "execution_count": null,
      "metadata": {
        "collapsed": false
      },
      "outputs": [],
      "source": [
        "print(__doc__)\n\n# Import imbalanced-ensemble\nimport imbens\n\n# Import utilities\nimport numpy as np\nfrom collections import Counter\nimport sklearn\nfrom imbens.datasets import make_imbalance\nfrom imbens.ensemble.base import sort_dict_by_key\n\nRANDOM_STATE = 42"
      ]
    },
    {
      "cell_type": "markdown",
      "metadata": {},
      "source": [
        "## Preparation\n**Make 3 imbalanced iris classification tasks.**\n\n"
      ]
    },
    {
      "cell_type": "code",
      "execution_count": null,
      "metadata": {
        "collapsed": false
      },
      "outputs": [],
      "source": [
        "iris = sklearn.datasets.load_iris()\nX = iris.data[:, 0:2]  # we only take the first two features for visualization\ny = iris.target\n\nX, y = make_imbalance(\n    X, y, sampling_strategy={0: 50, 1: 30, 2: 10}, random_state=RANDOM_STATE\n)\nprint(\n    'Class distribution of imbalanced iris dataset: \\n%s' % sort_dict_by_key(Counter(y))\n)"
      ]
    },
    {
      "cell_type": "markdown",
      "metadata": {},
      "source": [
        "**Create SPE (ensemble size = 5) with different base classifiers.**\n\n"
      ]
    },
    {
      "cell_type": "code",
      "execution_count": null,
      "metadata": {
        "collapsed": false
      },
      "outputs": [],
      "source": [
        "from sklearn.svm import SVC\nfrom sklearn.tree import DecisionTreeClassifier\nfrom sklearn.gaussian_process import GaussianProcessClassifier\nfrom sklearn.gaussian_process.kernels import RBF\n\nclassifiers = {\n    'SPE-DT': imbens.ensemble.SelfPacedEnsembleClassifier(\n        n_estimators=5,\n        estimator=DecisionTreeClassifier(),\n    ),\n    'SPE-SVM-rbf': imbens.ensemble.SelfPacedEnsembleClassifier(\n        n_estimators=5,\n        estimator=SVC(kernel='rbf', probability=True),\n    ),\n    'SPE-GPC': imbens.ensemble.SelfPacedEnsembleClassifier(\n        n_estimators=5,\n        estimator=GaussianProcessClassifier(1.0 * RBF([1.0, 1.0])),\n    ),\n}\n\nn_classifiers = len(classifiers)"
      ]
    },
    {
      "cell_type": "markdown",
      "metadata": {},
      "source": [
        "## Plot classification probabilities\n\n"
      ]
    },
    {
      "cell_type": "code",
      "execution_count": null,
      "metadata": {
        "collapsed": false
      },
      "outputs": [],
      "source": [
        "import matplotlib.pyplot as plt\n\nn_features = X.shape[1]\n\nplt.figure(figsize=(3 * 2, n_classifiers * 2))\nplt.subplots_adjust(bottom=0.2, top=0.95)\n\nxx = np.linspace(3, 9, 100)\nyy = np.linspace(1, 5, 100).T\nxx, yy = np.meshgrid(xx, yy)\nXfull = np.c_[xx.ravel(), yy.ravel()]\n\nfor index, (name, classifier) in enumerate(classifiers.items()):\n    classifier.fit(X, y)\n\n    y_pred = classifier.predict(X)\n    accuracy = sklearn.metrics.balanced_accuracy_score(y, y_pred)\n    print(\"Balanced Accuracy (train) for %s: %0.1f%% \" % (name, accuracy * 100))\n\n    # View probabilities:\n    probas = classifier.predict_proba(Xfull)\n    n_classes = np.unique(y_pred).size\n    for k in range(n_classes):\n        plt.subplot(n_classifiers, n_classes, index * n_classes + k + 1)\n        plt.title(\"Class %d\" % k)\n        if k == 0:\n            plt.ylabel(name)\n        imshow_handle = plt.imshow(\n            probas[:, k].reshape((100, 100)), extent=(3, 9, 1, 5), origin='lower'\n        )\n        plt.xticks(())\n        plt.yticks(())\n        idx = y_pred == k\n        if idx.any():\n            plt.scatter(X[idx, 0], X[idx, 1], marker='o', c='w', edgecolor='k')\n\nax = plt.axes([0.15, 0.04, 0.7, 0.05])\nplt.title(\"Probability\")\nplt.colorbar(imshow_handle, cax=ax, orientation='horizontal')\nplt.show()"
      ]
    }
  ],
  "metadata": {
    "kernelspec": {
      "display_name": "Python 3",
      "language": "python",
      "name": "python3"
    },
    "language_info": {
      "codemirror_mode": {
        "name": "ipython",
        "version": 3
      },
      "file_extension": ".py",
      "mimetype": "text/x-python",
      "name": "python",
      "nbconvert_exporter": "python",
      "pygments_lexer": "ipython3",
      "version": "3.9.18"
    }
  },
  "nbformat": 4,
  "nbformat_minor": 0
}