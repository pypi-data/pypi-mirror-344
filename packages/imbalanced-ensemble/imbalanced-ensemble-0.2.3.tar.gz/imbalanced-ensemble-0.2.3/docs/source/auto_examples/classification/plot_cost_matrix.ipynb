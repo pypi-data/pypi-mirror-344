{
  "cells": [
    {
      "cell_type": "code",
      "execution_count": null,
      "metadata": {
        "collapsed": false
      },
      "outputs": [],
      "source": [
        "%matplotlib inline"
      ]
    },
    {
      "cell_type": "markdown",
      "metadata": {},
      "source": [
        "\n# Customize cost matrix\n\nThis example demonstrates how to customize the cost matrix of cost-sensitive ensemble methods.\n\nThis example uses:\n\n    - :class:`imbens.ensemble.AdaCostClassifier`\n"
      ]
    },
    {
      "cell_type": "code",
      "execution_count": null,
      "metadata": {
        "collapsed": false
      },
      "outputs": [],
      "source": [
        "# Authors: Zhining Liu <zhining.liu@outlook.com>\n# License: MIT"
      ]
    },
    {
      "cell_type": "code",
      "execution_count": null,
      "metadata": {
        "collapsed": false
      },
      "outputs": [],
      "source": [
        "print(__doc__)\n\n# Import imbalanced-ensemble\nimport imbens\n\n# Import utilities\nimport numpy as np\nimport sklearn\nfrom sklearn.datasets import make_classification\nfrom sklearn.model_selection import train_test_split\nfrom imbens.ensemble.base import sort_dict_by_key\nfrom collections import Counter\n\n# Import plot utilities\nimport matplotlib.pyplot as plt\nimport seaborn as sns\n\nsns.set_context('talk')\n\nRANDOM_STATE = 42\n\ninit_kwargs = {\n    'n_estimators': 5,\n    'random_state': RANDOM_STATE,\n}\n\n# sphinx_gallery_thumbnail_number = -2"
      ]
    },
    {
      "cell_type": "markdown",
      "metadata": {},
      "source": [
        "## Prepare data\nMake a toy 3-class imbalanced classification task.\n\n"
      ]
    },
    {
      "cell_type": "code",
      "execution_count": null,
      "metadata": {
        "collapsed": false
      },
      "outputs": [],
      "source": [
        "# make dataset\nX, y = make_classification(\n    n_classes=3,\n    class_sep=2,\n    weights=[0.1, 0.3, 0.6],\n    n_informative=3,\n    n_redundant=1,\n    flip_y=0,\n    n_features=20,\n    n_clusters_per_class=2,\n    n_samples=2000,\n    random_state=0,\n)\n\n# train valid split\nX_train, X_valid, y_train, y_valid = train_test_split(\n    X, y, test_size=0.5, stratify=y, random_state=RANDOM_STATE\n)\n\n# Print class distribution\nprint('Training dataset distribution    %s' % sort_dict_by_key(Counter(y_train)))\nprint('Validation dataset distribution  %s' % sort_dict_by_key(Counter(y_valid)))"
      ]
    },
    {
      "cell_type": "markdown",
      "metadata": {},
      "source": [
        "Implement some plot utilities\n\n"
      ]
    },
    {
      "cell_type": "code",
      "execution_count": null,
      "metadata": {
        "collapsed": false
      },
      "outputs": [],
      "source": [
        "cost_matrices = {}\n\n\ndef plot_cost_matrix(cost_matrix, title: str, **kwargs):\n    ax = sns.heatmap(data=cost_matrix, **kwargs)\n    ax.set_ylabel(\"Predicted Label\")\n    ax.set_xlabel(\"Ground Truth\")\n    ax.set_title(title)"
      ]
    },
    {
      "cell_type": "markdown",
      "metadata": {},
      "source": [
        "## Default Cost Matrix\nBy default, cost-sensitive ensemble methods will set misclassification cost by inverse class frequency.\n\n"
      ]
    },
    {
      "cell_type": "markdown",
      "metadata": {},
      "source": [
        "**You can access the ``clf.cost_matrix_`` attribute (``clf`` is a fitted cost-sensitive ensemble classifier) to view the cost matrix used for training.**\nThe rows represent the predicted class and columns represent the actual class.\nNote that the order of the classes corresponds to that in the attribute ``clf.classes_``.\n\n"
      ]
    },
    {
      "cell_type": "markdown",
      "metadata": {},
      "source": [
        "Take ``AdaCostClassifier`` as example\n\n"
      ]
    },
    {
      "cell_type": "code",
      "execution_count": null,
      "metadata": {
        "collapsed": false
      },
      "outputs": [],
      "source": [
        "adacost_clf = imbens.ensemble.AdaCostClassifier(**init_kwargs)"
      ]
    },
    {
      "cell_type": "markdown",
      "metadata": {},
      "source": [
        "**Train with the default cost matrix setting**\n\n"
      ]
    },
    {
      "cell_type": "code",
      "execution_count": null,
      "metadata": {
        "collapsed": false
      },
      "outputs": [],
      "source": [
        "adacost_clf.fit(X_train, y_train)\n\nadacost_clf.cost_matrix_"
      ]
    },
    {
      "cell_type": "markdown",
      "metadata": {},
      "source": [
        "**Visualize the default cost matrix**\n\n"
      ]
    },
    {
      "cell_type": "code",
      "execution_count": null,
      "metadata": {
        "collapsed": false
      },
      "outputs": [],
      "source": [
        "title = \"Misclassification Cost Matrix\\n(by inverse class frequency)\"\ncost_matrices[title] = adacost_clf.cost_matrix_\nplot_cost_matrix(adacost_clf.cost_matrix_, title, annot=True, cmap='YlOrRd', vmax=6)"
      ]
    },
    {
      "cell_type": "markdown",
      "metadata": {},
      "source": [
        "## ``log1p-inverse`` Cost Matrix\nYou can set misclassification cost by log inverse class frequency by set ``cost_matrix`` = ``'log1p-inverse'``.\nThis usually leads to a \"softer\" cost matrix, that is, less penalty for misclassification of minority class samples into the majority class.\n\n"
      ]
    },
    {
      "cell_type": "code",
      "execution_count": null,
      "metadata": {
        "collapsed": false
      },
      "outputs": [],
      "source": [
        "adacost_clf.fit(\n    X_train,\n    y_train,\n    cost_matrix='log1p-inverse',  # set cost matrix by log inverse class frequency\n)\n\nadacost_clf.cost_matrix_"
      ]
    },
    {
      "cell_type": "markdown",
      "metadata": {},
      "source": [
        "**Visualize the log1p-inverse cost matrix**\n\n"
      ]
    },
    {
      "cell_type": "code",
      "execution_count": null,
      "metadata": {
        "collapsed": false
      },
      "outputs": [],
      "source": [
        "title = \"Misclassification Cost Matrix\\n(by log inverse class frequency)\"\ncost_matrices[title] = adacost_clf.cost_matrix_\nplot_cost_matrix(adacost_clf.cost_matrix_, title, annot=True, cmap='YlOrRd', vmax=6)"
      ]
    },
    {
      "cell_type": "markdown",
      "metadata": {},
      "source": [
        "## Use Uniform Cost Matrix\nYou can set misclassification cost by log inverse class frequency by set ``cost_matrix`` = ``'uniform'``.\n\n"
      ]
    },
    {
      "cell_type": "code",
      "execution_count": null,
      "metadata": {
        "collapsed": false
      },
      "outputs": [],
      "source": [
        "# Note that this will set all misclassification cost to be equal, i.e., model will not be cost-sensitive.\n\nadacost_clf.fit(\n    X_train,\n    y_train,\n    cost_matrix='uniform',  # set cost matrix to be uniform\n)\n\nadacost_clf.cost_matrix_"
      ]
    },
    {
      "cell_type": "markdown",
      "metadata": {},
      "source": [
        "**Visualize the uniform cost matrix**\n\n"
      ]
    },
    {
      "cell_type": "code",
      "execution_count": null,
      "metadata": {
        "collapsed": false
      },
      "outputs": [],
      "source": [
        "title = \"Uniform Cost Matrix\"\ncost_matrices[title] = adacost_clf.cost_matrix_\nplot_cost_matrix(adacost_clf.cost_matrix_, title, annot=True, cmap='YlOrRd', vmax=6)"
      ]
    },
    {
      "cell_type": "markdown",
      "metadata": {},
      "source": [
        "## Use Your Own Cost Matrix\nYou can also set misclassification cost by explicitly passing your cost matrix to ``cost_matrix``.\n\n"
      ]
    },
    {
      "cell_type": "markdown",
      "metadata": {},
      "source": [
        "Your cost matrix must be a ``numpy.2darray`` of shape (n_classes, n_classes), the rows represent the predicted class and columns represent the actual class.\nThus the value at $i$-th row $j$-th column represents the cost of classifying a sample from class $j$ to class $i$.\n\n"
      ]
    },
    {
      "cell_type": "code",
      "execution_count": null,
      "metadata": {
        "collapsed": false
      },
      "outputs": [],
      "source": [
        "# set your own cost matrix\nmy_cost_matrix = [\n    [1, 1, 1],\n    [2, 1, 1],\n    [5, 2, 1],\n]\n\nadacost_clf.fit(\n    X_train,\n    y_train,\n    cost_matrix=my_cost_matrix,  # use your cost matrix\n)\n\nadacost_clf.cost_matrix_"
      ]
    },
    {
      "cell_type": "markdown",
      "metadata": {},
      "source": [
        "**Visualize the user-define cost matrix**\n\n"
      ]
    },
    {
      "cell_type": "code",
      "execution_count": null,
      "metadata": {
        "collapsed": false
      },
      "outputs": [],
      "source": [
        "title = \"User-define Cost Matrix\"\ncost_matrices[title] = adacost_clf.cost_matrix_\nplot_cost_matrix(adacost_clf.cost_matrix_, title, annot=True, cmap='YlOrRd', vmax=6)"
      ]
    },
    {
      "cell_type": "markdown",
      "metadata": {},
      "source": [
        "## Visualize All Used Cost Matrices\n\n"
      ]
    },
    {
      "cell_type": "code",
      "execution_count": null,
      "metadata": {
        "collapsed": false
      },
      "outputs": [],
      "source": [
        "sns.set_context('notebook')\nfig, axes = plt.subplots(1, 4, figsize=(20, 4))\nfor ax, title in zip(axes, cost_matrices.keys()):\n    plot_cost_matrix(\n        cost_matrices[title], title, annot=True, cmap='YlOrRd', vmax=6, ax=ax\n    )"
      ]
    }
  ],
  "metadata": {
    "kernelspec": {
      "display_name": "Python 3",
      "language": "python",
      "name": "python3"
    },
    "language_info": {
      "codemirror_mode": {
        "name": "ipython",
        "version": 3
      },
      "file_extension": ".py",
      "mimetype": "text/x-python",
      "name": "python",
      "nbconvert_exporter": "python",
      "pygments_lexer": "ipython3",
      "version": "3.9.18"
    }
  },
  "nbformat": 4,
  "nbformat_minor": 0
}