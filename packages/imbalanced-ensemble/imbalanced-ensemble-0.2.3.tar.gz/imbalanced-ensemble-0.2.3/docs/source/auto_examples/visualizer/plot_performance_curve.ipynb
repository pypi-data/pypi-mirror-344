{
  "cells": [
    {
      "cell_type": "code",
      "execution_count": null,
      "metadata": {
        "collapsed": false
      },
      "outputs": [],
      "source": [
        "%matplotlib inline"
      ]
    },
    {
      "cell_type": "markdown",
      "metadata": {},
      "source": [
        "\n# Plot performance curves\n\nThis example illustrates how to use the \n:mod:`imbens.visualizer` module to visualize or \ncompare :mod:`imbens.ensemble` classifier(s).\n\nThis example uses:\n\n    - :class:`imbens.ensemble.SelfPacedEnsembleClassifier`\n    - :class:`imbens.ensemble.EasyEnsembleClassifier`\n    - :class:`imbens.ensemble.BalancedRandomForestClassifier`\n    - :class:`imbens.ensemble.SMOTEBaggingClassifier`\n    - :class:`imbens.visualizer.ImbalancedEnsembleVisualizer`\n"
      ]
    },
    {
      "cell_type": "code",
      "execution_count": null,
      "metadata": {
        "collapsed": false
      },
      "outputs": [],
      "source": [
        "# Authors: Zhining Liu <zhining.liu@outlook.com>\n# License: MIT"
      ]
    },
    {
      "cell_type": "code",
      "execution_count": null,
      "metadata": {
        "collapsed": false
      },
      "outputs": [],
      "source": [
        "print(__doc__)\n\nfrom time import time\n\n# Import imbalanced-ensemble\nimport imbens\n\n# Import utilities from sklearn\nimport sklearn\nfrom sklearn.datasets import make_classification\nfrom sklearn.model_selection import train_test_split\n\nRANDOM_STATE = 42\n\n# sphinx_gallery_thumbnail_number = 4"
      ]
    },
    {
      "cell_type": "markdown",
      "metadata": {},
      "source": [
        "## Prepare data\nMake a toy 3-class imbalanced classification task.\n\n"
      ]
    },
    {
      "cell_type": "code",
      "execution_count": null,
      "metadata": {
        "collapsed": false
      },
      "outputs": [],
      "source": [
        "# make dataset\nX, y = make_classification(\n    n_classes=3,\n    class_sep=2,\n    weights=[0.1, 0.3, 0.6],\n    n_informative=3,\n    n_redundant=1,\n    flip_y=0,\n    n_features=20,\n    n_clusters_per_class=2,\n    n_samples=2000,\n    random_state=0,\n)\n\n# train valid split\nX_train, X_valid, y_train, y_valid = train_test_split(\n    X, y, test_size=0.5, stratify=y, random_state=RANDOM_STATE\n)"
      ]
    },
    {
      "cell_type": "markdown",
      "metadata": {},
      "source": [
        "## Train ensemble classifiers\n4 different ensemble classifiers are used.\n\n"
      ]
    },
    {
      "cell_type": "code",
      "execution_count": null,
      "metadata": {
        "collapsed": false
      },
      "outputs": [],
      "source": [
        "init_kwargs = {'n_estimators': 50, 'random_state': RANDOM_STATE}\nfit_kwargs = {'X': X_train, 'y': y_train}\n\n# imbens.ensemble classifiers\nensemble_dict = {\n    'SPE': imbens.ensemble.SelfPacedEnsembleClassifier(**init_kwargs),\n    'EasyEns': imbens.ensemble.EasyEnsembleClassifier(**init_kwargs),\n    'BalanceForest': imbens.ensemble.BalancedRandomForestClassifier(**init_kwargs),\n    'SMOTEBagging': imbens.ensemble.SMOTEBaggingClassifier(**init_kwargs),\n}\n\n# Train all ensemble classifiers, store the results in fitted_ensembles\nfitted_ensembles = {}\nfor clf_name, clf in ensemble_dict.items():\n    start_time = time()\n    clf.fit(**fit_kwargs)\n    fit_time = time() - start_time\n    fitted_ensembles[clf_name] = clf\n    print('Training {:^30s} | Time used: {:.3f}s'.format(clf.__name__, fit_time))"
      ]
    },
    {
      "cell_type": "markdown",
      "metadata": {},
      "source": [
        "## Fit an ``ImbalancedEnsembleVisualizer``\nThe visualizer fits on a ``dictionary`` like {..., ensemble_name: ensemble_classifier, ...}\nThe keys should be strings corresponding to ensemble names.\nThe values should be fitted ``imbalance_ensemble.ensemble`` or ``sklearn.ensemble`` estimator objects.\n\n"
      ]
    },
    {
      "cell_type": "code",
      "execution_count": null,
      "metadata": {
        "collapsed": false
      },
      "outputs": [],
      "source": [
        "# Initialize visualizer\nvisualizer = imbens.visualizer.ImbalancedEnsembleVisualizer(\n    eval_datasets={\n        'training': (X_train, y_train),\n        'validation': (X_valid, y_valid),\n    },\n    eval_metrics={\n        'acc': (sklearn.metrics.accuracy_score, {}),\n        'balanced_acc': (sklearn.metrics.balanced_accuracy_score, {}),\n        'weighted_f1': (sklearn.metrics.f1_score, {'average': 'weighted'}),\n    },\n)\n\n# Fit visualizer\nvisualizer.fit(fitted_ensembles)"
      ]
    },
    {
      "cell_type": "markdown",
      "metadata": {},
      "source": [
        "## Plot performance curve\n**Performance w.r.t. number of base estimators**\n\n"
      ]
    },
    {
      "cell_type": "code",
      "execution_count": null,
      "metadata": {
        "collapsed": false
      },
      "outputs": [],
      "source": [
        "fig, axes = visualizer.performance_lineplot()"
      ]
    },
    {
      "cell_type": "markdown",
      "metadata": {},
      "source": [
        "## Set x-axis\n(parameter ``n_samples_as_x_axis``: bool)\n\n"
      ]
    },
    {
      "cell_type": "markdown",
      "metadata": {},
      "source": [
        "**Performance w.r.t. number of training samples**\n\n"
      ]
    },
    {
      "cell_type": "code",
      "execution_count": null,
      "metadata": {
        "collapsed": false
      },
      "outputs": [],
      "source": [
        "fig, axes = visualizer.performance_lineplot(\n    n_samples_as_x_axis=True,\n)"
      ]
    },
    {
      "cell_type": "markdown",
      "metadata": {},
      "source": [
        "## Select results for visualization\n(parameter ``on_ensembles``: list of ensemble name, ``on_datasets``: list of dataset name, ``on_metrics``: list of metric name)\n\n"
      ]
    },
    {
      "cell_type": "markdown",
      "metadata": {},
      "source": [
        "**Select: method ('SPE', 'SMOTEBagging'), data ('validation'), metric ('balanced_acc', 'weighted_f1')**\n\n"
      ]
    },
    {
      "cell_type": "code",
      "execution_count": null,
      "metadata": {
        "collapsed": false
      },
      "outputs": [],
      "source": [
        "fig, axes = visualizer.performance_lineplot(\n    on_ensembles=['SPE', 'EasyEns', 'BalanceForest'],\n    on_datasets=['validation'],\n    on_metrics=['balanced_acc', 'weighted_f1'],\n    n_samples_as_x_axis=True,\n)"
      ]
    },
    {
      "cell_type": "markdown",
      "metadata": {},
      "source": [
        "## Customize visual appearance\n(parameter ``sub_figsize``: tuple, ``sup_title``: bool or string, kwargs of ``seaborn.lineplot()``)\n\n"
      ]
    },
    {
      "cell_type": "code",
      "execution_count": null,
      "metadata": {
        "collapsed": false
      },
      "outputs": [],
      "source": [
        "fig, axes = visualizer.performance_lineplot(\n    on_ensembles=['SPE', 'EasyEns', 'BalanceForest'],\n    on_datasets=['training', 'validation'],\n    on_metrics=['balanced_acc', 'weighted_f1'],\n    n_samples_as_x_axis=True,\n    # Customize visual appearance\n    sub_figsize=(3, 4),\n    sup_title='My Suptitle',\n    # arguments pass down to seaborn.lineplot()\n    linewidth=3,\n    markers=True,\n    alpha=0.8,\n)"
      ]
    },
    {
      "cell_type": "markdown",
      "metadata": {},
      "source": [
        "## Group results\n(parameter ``split_by``: list of {'method', 'dataset'})\n\n"
      ]
    },
    {
      "cell_type": "markdown",
      "metadata": {},
      "source": [
        "**Group results by dataset**\n\n"
      ]
    },
    {
      "cell_type": "code",
      "execution_count": null,
      "metadata": {
        "collapsed": false
      },
      "outputs": [],
      "source": [
        "fig, axes = visualizer.performance_lineplot(\n    on_ensembles=['SPE', 'EasyEns', 'BalanceForest'],\n    on_datasets=['training', 'validation'],\n    on_metrics=['balanced_acc', 'weighted_f1'],\n    n_samples_as_x_axis=True,\n    sub_figsize=(3, 2.3),\n    split_by=['dataset'],  # Group results by dataset\n)"
      ]
    },
    {
      "cell_type": "markdown",
      "metadata": {},
      "source": [
        "**Group results by method**\n\n"
      ]
    },
    {
      "cell_type": "code",
      "execution_count": null,
      "metadata": {
        "collapsed": false
      },
      "outputs": [],
      "source": [
        "fig, axes = visualizer.performance_lineplot(\n    on_ensembles=['SPE', 'EasyEns', 'BalanceForest'],\n    on_datasets=['training', 'validation'],\n    on_metrics=['balanced_acc', 'weighted_f1'],\n    n_samples_as_x_axis=True,\n    sub_figsize=(3, 2.3),\n    split_by=['method'],  # Group results by method\n)"
      ]
    }
  ],
  "metadata": {
    "kernelspec": {
      "display_name": "Python 3",
      "language": "python",
      "name": "python3"
    },
    "language_info": {
      "codemirror_mode": {
        "name": "ipython",
        "version": 3
      },
      "file_extension": ".py",
      "mimetype": "text/x-python",
      "name": "python",
      "nbconvert_exporter": "python",
      "pygments_lexer": "ipython3",
      "version": "3.9.18"
    }
  },
  "nbformat": 4,
  "nbformat_minor": 0
}