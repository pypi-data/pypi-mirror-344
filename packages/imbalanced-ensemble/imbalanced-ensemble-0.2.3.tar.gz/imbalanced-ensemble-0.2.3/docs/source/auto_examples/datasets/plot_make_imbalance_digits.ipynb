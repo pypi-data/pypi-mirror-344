{
  "cells": [
    {
      "cell_type": "code",
      "execution_count": null,
      "metadata": {
        "collapsed": false
      },
      "outputs": [],
      "source": [
        "%matplotlib inline"
      ]
    },
    {
      "cell_type": "markdown",
      "metadata": {},
      "source": [
        "\n# Make digits dataset class-imbalanced\n\nAn illustration of the :func:`~imbens.datasets.make_imbalance` \nfunction to create an imbalanced version of the digits dataset.\n"
      ]
    },
    {
      "cell_type": "code",
      "execution_count": null,
      "metadata": {
        "collapsed": false
      },
      "outputs": [],
      "source": [
        "# Authors: Zhining Liu <zhining.liu@outlook.com>\n# License: MIT"
      ]
    },
    {
      "cell_type": "code",
      "execution_count": null,
      "metadata": {
        "collapsed": false
      },
      "outputs": [],
      "source": [
        "print(__doc__)\n\n# Import imbalanced-ensemble\nimport imbens\n\n# Import utilities\nimport sklearn\nfrom imbens.datasets import make_imbalance\nfrom imbens.utils._plot import plot_2Dprojection_and_cardinality, plot_scatter\nimport matplotlib.pyplot as plt\nimport seaborn as sns\n\nRANDOM_STATE = 42\n\n# sphinx_gallery_thumbnail_number = -1"
      ]
    },
    {
      "cell_type": "markdown",
      "metadata": {},
      "source": [
        "## Digits dataset\nThe digits dataset consists of 8x8 pixel images of digits. The images attribute of the dataset stores 8x8 arrays of grayscale values for each image. We will use these arrays to visualize the first 4 images. The target attribute of the dataset stores the digit each image represents and this is included in the title of the 4 plots below.\n\n"
      ]
    },
    {
      "cell_type": "code",
      "execution_count": null,
      "metadata": {
        "collapsed": false
      },
      "outputs": [],
      "source": [
        "digits = sklearn.datasets.load_digits()\n\n# flatten the images\nn_samples = len(digits.images)\nX, y = digits.images.reshape((n_samples, -1)), digits.target\n\n_, axes = plt.subplots(nrows=3, ncols=4, figsize=(10, 9))\nfor ax, image, label in zip(axes.flatten(), digits.images, digits.target):\n    ax.set_axis_off()\n    ax.imshow(image, cmap=plt.cm.gray_r, interpolation='nearest')\n    ax.set_title('Training: %i' % label)"
      ]
    },
    {
      "cell_type": "markdown",
      "metadata": {},
      "source": [
        "**The original digits dataset**\n\n"
      ]
    },
    {
      "cell_type": "code",
      "execution_count": null,
      "metadata": {
        "collapsed": false
      },
      "outputs": [],
      "source": [
        "fig = plot_2Dprojection_and_cardinality(X, y, figsize=(8, 4))"
      ]
    },
    {
      "cell_type": "markdown",
      "metadata": {},
      "source": [
        "**Make class-imbalanced digits dataset**\n\n"
      ]
    },
    {
      "cell_type": "code",
      "execution_count": null,
      "metadata": {
        "collapsed": false
      },
      "outputs": [],
      "source": [
        "imbalance_distr = {\n    0: 178,\n    1: 120,\n    2: 80,\n    3: 60,\n    4: 50,\n    5: 44,\n    6: 40,\n    7: 40,\n    8: 40,\n    9: 40,\n}\n\nX_imb, y_imb = make_imbalance(\n    X, y, sampling_strategy=imbalance_distr, random_state=RANDOM_STATE\n)\n\nfig = plot_2Dprojection_and_cardinality(X_imb, y_imb, figsize=(8, 4))"
      ]
    },
    {
      "cell_type": "markdown",
      "metadata": {},
      "source": [
        "## Use TSNE to compare the original & imbalanced Digits datasets\nWe can observe that it is more difficult to distinguish the tail classes from each other in the imbalanced Digits dataset.\nThese tailed classes are not well represented, thus it is harder for a learning model to learn their patterns.\n\n"
      ]
    },
    {
      "cell_type": "code",
      "execution_count": null,
      "metadata": {
        "collapsed": false
      },
      "outputs": [],
      "source": [
        "sns.set_context('talk')\n\ntsne = sklearn.manifold.TSNE(\n    n_components=2, perplexity=100, n_iter=500, random_state=RANDOM_STATE\n)\n\nfig, (ax1, ax2) = plt.subplots(1, 2, figsize=(12, 6))\n\n# Plot original digits data\nplot_scatter(\n    tsne.fit_transform(X),\n    y,\n    title='Original Digits Data',\n    weights=100,\n    vis_params={'edgecolor': 'black', 'alpha': 0.8},\n    ax=ax1,\n)\nax1.legend(\n    ncol=2,\n    loc=2,\n    columnspacing=0.01,\n    borderaxespad=0.1,\n    handletextpad=0.01,\n    labelspacing=0.01,\n    handlelength=None,\n)\n\n# Plot imbalanced digits data\nplot_scatter(\n    tsne.fit_transform(X_imb),\n    y_imb,\n    title='Imbalanced Digits Data',\n    weights=100,\n    vis_params={'edgecolor': 'black', 'alpha': 0.8},\n    ax=ax2,\n)\nax2.legend(\n    ncol=2,\n    loc=2,\n    columnspacing=0.01,\n    borderaxespad=0.1,\n    handletextpad=0.01,\n    labelspacing=0.01,\n    handlelength=None,\n)\n\nfig.tight_layout()"
      ]
    }
  ],
  "metadata": {
    "kernelspec": {
      "display_name": "Python 3",
      "language": "python",
      "name": "python3"
    },
    "language_info": {
      "codemirror_mode": {
        "name": "ipython",
        "version": 3
      },
      "file_extension": ".py",
      "mimetype": "text/x-python",
      "name": "python",
      "nbconvert_exporter": "python",
      "pygments_lexer": "ipython3",
      "version": "3.9.18"
    }
  },
  "nbformat": 4,
  "nbformat_minor": 0
}