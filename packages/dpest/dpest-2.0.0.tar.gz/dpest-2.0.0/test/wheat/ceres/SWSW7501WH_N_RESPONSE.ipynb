{
 "cells": [
  {
   "cell_type": "markdown",
   "id": "07444e61-2064-4a30-9da9-402a897903af",
   "metadata": {},
   "source": [
    "### 1. Prerequisites for Using DPEST\n",
    "\n",
    "#### 1.1. Launching DSSAT and Setting Up the Experiment\n",
    "\n",
    "##### This example demonstrates how to use DPEST to create the necessary files for calibrating the CERES-Wheat model (DSSAT Version 4.8) using the SWSW7501WH N RESPONSE experiment.\n",
    "\n",
    "1. Launch DSSAT.\n",
    "2. Click “Selector”.\n",
    "3. Expand “Crops” and select “Wheat”.\n",
    "4. In the “Data” panel select the “SWSW7501.WHX” experiment.\n",
    "5. Click “Run” button in the toolbar.\n",
    "6. In the “Simulation” popup window, choose “CERES” as the crop model.\n",
    "7. Click “Run Model” and wait for the simulation to finish.\n",
    "\n",
    "\n",
    "[![](https://markdown-videos-api.jorgenkh.no/youtube/dzKpvJSEXZc?vq)](https://www.youtube.com/embed/dzKpvJSEXZc?vq=hd1080)\n",
    "\n",
    "Click to watch the steps!"
   ]
  },
  {
   "cell_type": "markdown",
   "id": "7b46e25d-4ed6-42b2-ace2-d747b4a8b6b9",
   "metadata": {},
   "source": [
    "#### 1.2 Load the DPEST library or import each module"
   ]
  },
  {
   "cell_type": "code",
   "execution_count": 1,
   "id": "dda8c82f-9600-4519-9577-b683085ec15c",
   "metadata": {
    "scrolled": true
   },
   "outputs": [],
   "source": [
    "#from dpestool.wheat.ceres import cul, eco\n",
    "# from dpestool.wheat import overview, plantgro\n",
    "# from dpestool import pst\n",
    "# from dpestool.wheat.utils import uplantgro\n",
    "\n",
    "import dpest "
   ]
  },
  {
   "cell_type": "markdown",
   "id": "e7639def-6777-4cc2-b3e2-77d9e5b356a6",
   "metadata": {},
   "source": [
    "### 2. Instructions for Using DPEST Functions\n",
    "#### 2.1. Creating CULTIVAR Parameters TPL File"
   ]
  },
  {
   "cell_type": "code",
   "execution_count": 2,
   "id": "e262ed90-0483-4383-8a8e-db8660addf63",
   "metadata": {},
   "outputs": [
    {
     "name": "stdout",
     "output_type": "stream",
     "text": [
      "Template file successfully created at: C:\\Users\\luizv\\OneDrive_Purdue\\OneDrive - purdue.edu\\Thesis\\dpest\\test\\wheat\\ceres\\WHCER048_CUL.TPL\n",
      "\n",
      "Cultivar parameters: {'parameters': {'P1D': '13.12', 'P5': '345.0', 'G1': '30.87', 'G2': '24.72', 'G3': '1.394', 'PHI': '102.3'}, 'minima_parameters': {'P1D': '0', 'P5': '100', 'G1': '10', 'G2': '10', 'G3': '0.5', 'PHI': '30'}, 'maxima_parameters': {'P1D': '200', 'P5': '999', 'G1': '50', 'G2': '80', 'G3': '8.0', 'PHI': '150'}, 'parameters_grouped': {'P': 'P1D, P5', 'G': 'G1, G2, G3', 'PHINT': 'PHI'}}\n"
     ]
    }
   ],
   "source": [
    "# Call the function \n",
    "cultivar_parameters, cultivar_tpl_path = dpest.wheat.ceres.cul(\n",
    "    P = 'P1D, P5', \n",
    "    G = 'G1, G2, G3', \n",
    "    PHINT = 'PHINT',\n",
    "    cultivar = 'MANITOU',\n",
    "    cul_file_path = 'C:/DSSAT48/Genotype/WHCER048.CUL'\n",
    ")\n",
    "\n",
    "# Print The returned tuple\n",
    "print('\\nCultivar parameters:', cultivar_parameters)"
   ]
  },
  {
   "cell_type": "markdown",
   "id": "9f17f423-13c2-4049-b380-509075658337",
   "metadata": {},
   "source": [
    "#### 2.2. Creating ECOTYPE Parameters TPL File"
   ]
  },
  {
   "cell_type": "code",
   "execution_count": 3,
   "id": "8a7f48e9-de95-4388-906d-67933fa89394",
   "metadata": {},
   "outputs": [
    {
     "name": "stdout",
     "output_type": "stream",
     "text": [
      "Template file successfully created at: C:\\Users\\luizv\\OneDrive_Purdue\\OneDrive - purdue.edu\\Thesis\\dpest\\test\\wheat\\ceres\\WHCER048_ECO.TPL\n",
      "\n",
      "Ecotype_parameters: {'parameters': {'P1': '362', 'P2F': '.25', 'VEF': '0.5'}, 'minima_parameters': {'P1': '100', 'P2F': '0', 'VEF': '0.0'}, 'maxima_parameters': {'P1': '500', 'P2F': '.60', 'VEF': '1.0'}, 'parameters_grouped': {'PHEN': 'P1, P2F', 'VERN': 'VEF'}}\n"
     ]
    }
   ],
   "source": [
    "# Call the function \n",
    "ecotype_parameters, ecotype_tpl_path = dpest.wheat.ceres.eco(\n",
    "    PHEN = 'P1, P2FR1',\n",
    "    VERN = 'VEFF',\n",
    "    ecotype = 'CAWH01',\n",
    "    eco_file_path = 'C:/DSSAT48/Genotype/WHCER048.ECO'\n",
    ")\n",
    "\n",
    "# Print The returned tuple\n",
    "print('\\nEcotype_parameters:', ecotype_parameters)"
   ]
  },
  {
   "cell_type": "markdown",
   "id": "a15e8eab-9d7d-42f0-9a1e-8db2c5374dcc",
   "metadata": {},
   "source": [
    "#### 2.3. Creating OVERVIEW Observations INS File"
   ]
  },
  {
   "cell_type": "code",
   "execution_count": 4,
   "id": "94017a9c-38e3-4967-a06c-8552a08764f8",
   "metadata": {},
   "outputs": [
    {
     "name": "stdout",
     "output_type": "stream",
     "text": [
      "OVERVIEW.INS file generated and saved to: C:\\Users\\luizv\\OneDrive_Purdue\\OneDrive - purdue.edu\\Thesis\\dpest\\test\\wheat\\ceres\\OVERVIEW.ins\n",
      "\n",
      "Overview observations:             variable_name  value_measured      group\n",
      "392          Anthesis_DAP          59.000  phenology\n",
      "393          Maturity_DAP          88.000  phenology\n",
      "394  Productwtkgdmhanolos        4883.000      yield\n",
      "395  Productunitweightgdm           0.023      yield\n",
      "396   Product_number_nom2       20769.000      yield\n",
      "397  Productnumbernogroup          24.300      yield\n",
      "398  Productharvestindexr           0.480      yield\n",
      "399  Maximumleafareaindex           3.200        lai\n",
      "401    Finalshootnumberm2         855.000      yield\n",
      "402    Canopytopswtkgdmha       10142.000    biomass\n",
      "403    Vegetativewtkgdmha        5259.000    biomass\n",
      "410    Aboveground_N_kgha         165.800   nitrogen\n",
      "412     Vegetative_N_kgha          33.500   nitrogen\n",
      "413        Product_N_kgha         132.300      yield\n",
      "414  ProductNharvestindex           0.800      yield\n",
      "415            Product_N_           2.700      yield\n",
      "416         Vegetative_N_           0.600   nitrogen\n",
      "\n",
      "First 10 lines:\n",
      "pif ~\n",
      "~164.0 KG N/HA IRRIG~\n",
      "~VARIABLE                             SIMULATED     MEASURED~\n",
      "l3 ~Anthesis (DAP)~ !Anthesis_DAP!\n",
      "l1 ~Maturity (DAP)~ !Maturity_DAP!\n",
      "l1 ~Product wt (kg dm/ha;no loss)~ !Productwtkgdmhanolos!\n",
      "l1 ~Product unit weight (g dm)~ !Productunitweightgdm!\n",
      "l1 ~Product number (no/m2)~ !Product_number_nom2!\n",
      "l1 ~Product number (no/group)~ !Productnumbernogroup!\n",
      "l1 ~Product harvest index (ratio)~ !Productharvestindexr!\n"
     ]
    }
   ],
   "source": [
    "# Call the function\n",
    "overview_observations,  overview_ins_path = dpest.wheat.overview(\n",
    "    treatment = '164.0 KG N/HA IRRIG',\n",
    "    overview_file_path = 'C:/DSSAT48/Wheat/OVERVIEW.OUT'\n",
    ")\n",
    "\n",
    "# Print The returned dataframe\n",
    "print('\\nOverview observations:', overview_observations)\n",
    "\n",
    "# Open the file and display the first 10 lines\n",
    "with open(overview_ins_path, 'r') as file:\n",
    "    lines = file.readlines()\n",
    "    print(f\"\\nFirst 10 lines:\\n{''.join(lines[:10]).strip()}\")"
   ]
  },
  {
   "cell_type": "markdown",
   "id": "e9756cf9-9845-412f-92c5-791ded105257",
   "metadata": {},
   "source": [
    "#### 2.4. Creating PlantGro Observations INS File"
   ]
  },
  {
   "cell_type": "code",
   "execution_count": 5,
   "id": "9e4e2d1c-ec50-47b4-94c4-e1f6ecae0d9f",
   "metadata": {},
   "outputs": [
    {
     "name": "stdout",
     "output_type": "stream",
     "text": [
      "PlantGro.INS file generated and saved to: C:\\Users\\luizv\\OneDrive_Purdue\\OneDrive - purdue.edu\\Thesis\\dpest\\test\\wheat\\ceres\\PlantGro.ins\n",
      "\n",
      "Plantgro observations:\n",
      "    variable_name  value_measured         group\n",
      "0     LAID_75167            0.17           lai\n",
      "1     CWAD_75167           49.00       biomass\n",
      "2     T#AD_75167          164.00  plant_struct\n",
      "3     LAID_75174            0.99           lai\n",
      "4     CWAD_75174          515.00       biomass\n",
      "5     T#AD_75174          707.00  plant_struct\n",
      "6     LAID_75192            3.23           lai\n",
      "7     CWAD_75192         3305.00       biomass\n",
      "8     T#AD_75192         1217.00  plant_struct\n",
      "9     LAID_75204            1.87           lai\n",
      "10    CWAD_75204         6938.00       biomass\n",
      "11    T#AD_75204          855.00  plant_struct\n",
      "12    LAID_75233            0.00           lai\n",
      "13    CWAD_75233        10412.00       biomass\n",
      "14    T#AD_75233          855.00  plant_struct\n",
      "\n",
      "First 10 lines:\n",
      "pif ~\n",
      "~164.0 KG N/HA IRRIG~\n",
      "~YEAR DOY   DAS   DAP TMEAN TKILL  GSTD  L#SD PARID PARUD  AWAD  LAID  SAID  CAID  TWAD SDWAD  RWAD  CWAD  LWAD  SWAD  HWAD  HIAD CHWAD  EWAD RSWAD SNWPD SNWLD SNWSD  RS%D  H#AD  HWUD  T#AD  SLAD  RDPD  PTFD  SWXD WAVRD WUPRD  WFTD  WFPD  WFGD  NFTD  NFPD  NFGD NUPRD  TFPD  TFGD VRNFD DYLFD~\n",
      "l23 w w w w w w w w w w w !LAID_75167! w w w w w !CWAD_75167! w w w w w w w w w w w w w !T#AD_75167!\n",
      "l7 w w w w w w w w w w w !LAID_75174! w w w w w !CWAD_75174! w w w w w w w w w w w w w !T#AD_75174!\n",
      "l18 w w w w w w w w w w w !LAID_75192! w w w w w !CWAD_75192! w w w w w w w w w w w w w !T#AD_75192!\n",
      "l12 w w w w w w w w w w w !LAID_75204! w w w w w !CWAD_75204! w w w w w w w w w w w w w !T#AD_75204!\n",
      "l29 w w w w w w w w w w w !LAID_75233! w w w w w !CWAD_75233! w w w w w w w w w w w w w !T#AD_75233!\n"
     ]
    }
   ],
   "source": [
    "# Call the function\n",
    "plantgro_observations, plantgro_ins_path = dpest.wheat.plantgro(\n",
    "    plantgro_file_path = 'C:/DSSAT48/Wheat/PlantGro.OUT',\n",
    "    treatment = '164.0 KG N/HA IRRIG',\n",
    "    variables = ['LAID', 'CWAD', 'T#AD']\n",
    ")\n",
    "\n",
    "# Print The returned dataframe\n",
    "print('\\nPlantgro observations:\\n', plantgro_observations)\n",
    "\n",
    "# Open the file created and display the first 10 lines\n",
    "with open(plantgro_ins_path, 'r') as file:\n",
    "    lines = file.readlines()\n",
    "    print(f\"\\nFirst 10 lines:\\n{''.join(lines[:10]).strip()}\")"
   ]
  },
  {
   "cell_type": "markdown",
   "id": "096c8871-09e0-4be6-93fd-acba97337af4",
   "metadata": {},
   "source": [
    "#### 2.5. Creating the PST File"
   ]
  },
  {
   "cell_type": "code",
   "execution_count": 6,
   "id": "11c936ba-bdba-4d0f-baac-e9a14ff93772",
   "metadata": {},
   "outputs": [
    {
     "name": "stdout",
     "output_type": "stream",
     "text": [
      "noptmax:1000, npar_adj:9, nnz_obs:32\n",
      "PST file successfully created: C:\\Users\\luizv\\OneDrive_Purdue\\OneDrive - purdue.edu\\Thesis\\dpest\\test\\wheat\\ceres\\PEST_CONTROL.pst\n",
      "\n",
      "\n",
      " pcf\n",
      "* control data\n",
      "             restart          estimation\n",
      "         9        32         5         0         6\n",
      "         2         2              single               point         1         0         0\n",
      "   1.000000E+01  -3.000000E+00   3.000000E-01   1.000000E-02        10\n",
      "   1.000000E+01   1.000000E+01   1.000000E-03\n",
      "   1.000000E-01\n",
      "      1000   1.000000E-02         3         3   1.000000E-02         3\n",
      "         1         1         1\n",
      "* lsqr\n",
      "  1\n",
      "  0.0001  0.0001  28.0  28\n",
      "  0\n",
      "* parameter groups\n",
      "P                      relative              1.0000000000E-02      0.0001 switch                2.0000000000E+00      parabolic             1.0000000000E+00      5.0000000000E-01      smaller              \n",
      "G                      relative              1.0000000000E-02      0.0001 switch                2.0000000000E+00      parabolic             1.0000000000E+00      5.0000000000E-01      smaller              \n",
      "PHINT                  relative              1.0000000000E-02      0.0001 switch                2.0000000000E+00      parabolic             1.0000000000E+00      5.0000000000E-01      smaller              \n",
      "PHEN                   relative              1.0000000000E-02      0.0001 switch                2.0000000000E+00      parabolic             1.0000000000E+00      5.0000000000E-01      smaller              \n",
      "VERN                   relative              1.0000000000E-02      0.0001 switch                2.0000000000E+00      parabolic             1.0000000000E+00      5.0000000000E-01      smaller              \n",
      "* parameter data\n",
      "G1                    none                  relative              3.0870000000E+01      1.0000000000E+01      5.0000000000E+01      G                     1.0000000000E+00      0.0000000000E+00      1          \n",
      "G2                    none                  relative              2.4720000000E+01      1.0000000000E+01      8.0000000000E+01      G                     1.0000000000E+00      0.0000000000E+00      1          \n",
      "G3                    none                  relative              1.3940000000E+00      5.0000000000E-01      8.0000000000E+00      G                     1.0000000000E+00      0.0000000000E+00      1          \n",
      "P1                    none                  relative              3.6200000000E+02      1.0000000000E+02      5.0000000000E+02      PHEN                  1.0000000000E+00      0.0000000000E+00      1          \n",
      "P1D                   none                  relative              1.3120000000E+01      0.0000000000E+00      2.0000000000E+02      P                     1.0000000000E+00      0.0000000000E+00      1          \n",
      "P2F                   none                  relative              2.5000000000E-01      0.0000000000E+00      6.0000000000E-01      PHEN                  1.0000000000E+00      0.0000000000E+00      1          \n",
      "P5                    none                  relative              3.4500000000E+02      1.0000000000E+02      9.9900000000E+02      P                     1.0000000000E+00      0.0000000000E+00      1          \n",
      "PHI                   none                  relative              1.0230000000E+02      3.0000000000E+01      1.5000000000E+02      PHINT                 1.0000000000E+00      0.0000000000E+00      1          \n",
      "VEF                   none                  relative              5.0000000000E-01      0.0000000000E+00      1.0000000000E+00      VERN                  1.0000000000E+00      0.0000000000E+00      1          \n",
      "* observation groups\n",
      "phenology            \n",
      "yield                \n",
      "lai                  \n",
      "biomass              \n",
      "nitrogen             \n",
      "plant_struct         \n",
      "* observation data\n",
      "Anthesis_DAP          5.9000000000E+01      1.0000000000E+00      phenology            \n",
      "Maturity_DAP          8.8000000000E+01      1.0000000000E+00      phenology            \n",
      "Productwtkgdmhanolos  4.8830000000E+03      1.0000000000E+00      yield                \n",
      "Productunitweightgdm  2.3000000000E-02      1.0000000000E+00      yield                \n",
      "Product_number_nom2   2.0769000000E+04      1.0000000000E+00      yield                \n",
      "Productnumbernogroup  2.4300000000E+01      1.0000000000E+00      yield                \n",
      "Productharvestindexr  4.8000000000E-01      1.0000000000E+00      yield                \n",
      "Maximumleafareaindex  3.2000000000E+00      1.0000000000E+00      lai                  \n",
      "Finalshootnumberm2    8.5500000000E+02      1.0000000000E+00      yield                \n",
      "Canopytopswtkgdmha    1.0142000000E+04      1.0000000000E+00      biomass              \n",
      "Vegetativewtkgdmha    5.2590000000E+03      1.0000000000E+00      biomass              \n",
      "Aboveground_N_kgha    1.6580000000E+02      1.0000000000E+00      nitrogen             \n",
      "Vegetative_N_kgha     3.3500000000E+01      1.0000000000E+00      nitrogen             \n",
      "Product_N_kgha        1.3230000000E+02      1.0000000000E+00      yield                \n",
      "ProductNharvestindex  8.0000000000E-01      1.0000000000E+00      yield                \n",
      "Product_N_            2.7000000000E+00      1.0000000000E+00      yield                \n",
      "Vegetative_N_         6.0000000000E-01      1.0000000000E+00      nitrogen             \n",
      "LAID_75167            1.7000000000E-01      1.0000000000E+00      lai                  \n",
      "CWAD_75167            4.9000000000E+01      1.0000000000E+00      biomass              \n",
      "T#AD_75167            1.6400000000E+02      1.0000000000E+00      plant_struct         \n",
      "LAID_75174            9.9000000000E-01      1.0000000000E+00      lai                  \n",
      "CWAD_75174            5.1500000000E+02      1.0000000000E+00      biomass              \n",
      "T#AD_75174            7.0700000000E+02      1.0000000000E+00      plant_struct         \n",
      "LAID_75192            3.2300000000E+00      1.0000000000E+00      lai                  \n",
      "CWAD_75192            3.3050000000E+03      1.0000000000E+00      biomass              \n",
      "T#AD_75192            1.2170000000E+03      1.0000000000E+00      plant_struct         \n",
      "LAID_75204            1.8700000000E+00      1.0000000000E+00      lai                  \n",
      "CWAD_75204            6.9380000000E+03      1.0000000000E+00      biomass              \n",
      "T#AD_75204            8.5500000000E+02      1.0000000000E+00      plant_struct         \n",
      "LAID_75233            0.0000000000E+00      1.0000000000E+00      lai                  \n",
      "CWAD_75233            1.0412000000E+04      1.0000000000E+00      biomass              \n",
      "T#AD_75233            8.5500000000E+02      1.0000000000E+00      plant_struct         \n",
      "* model command line\n",
      "py \"C:\\pest18\\run_dssat.py\"\n",
      "* model input/output\n",
      "\"C:\\Users\\luizv\\OneDrive_Purdue\\OneDrive - purdue.edu\\Thesis\\dpest\\test\\wheat\\ceres\\WHCER048_CUL.TPL\" C://DSSAT48/Genotype/WHCER048.CUL\n",
      "\"C:\\Users\\luizv\\OneDrive_Purdue\\OneDrive - purdue.edu\\Thesis\\dpest\\test\\wheat\\ceres\\WHCER048_ECO.TPL\" C://DSSAT48/Genotype/WHCER048.ECO\n",
      "\"C:\\Users\\luizv\\OneDrive_Purdue\\OneDrive - purdue.edu\\Thesis\\dpest\\test\\wheat\\ceres\\OVERVIEW.ins\" C://DSSAT48/Wheat/OVERVIEW.OUT\n",
      "\"C:\\Users\\luizv\\OneDrive_Purdue\\OneDrive - purdue.edu\\Thesis\\dpest\\test\\wheat\\ceres\\PlantGro.ins\" C://DSSAT48/Wheat/PlantGro.OUT\n",
      "\n"
     ]
    }
   ],
   "source": [
    "# Call the function\n",
    "dpest.pst(\n",
    "    cultivar_parameters = cultivar_parameters,\n",
    "    ecotype_parameters = ecotype_parameters,\n",
    "    dataframe_observations = [overview_observations, plantgro_observations],\n",
    "    model_comand_line = r'py \"C:\\pest18\\run_dssat.py\"',\n",
    "    input_output_file_pairs = [\n",
    "        (cultivar_tpl_path, 'C://DSSAT48/Genotype/WHCER048.CUL'),\n",
    "        (ecotype_tpl_path, 'C://DSSAT48/Genotype/WHCER048.ECO'),\n",
    "        (overview_ins_path , 'C://DSSAT48/Wheat/OVERVIEW.OUT'),\n",
    "        (plantgro_ins_path , 'C://DSSAT48/Wheat/PlantGro.OUT')\n",
    "    ]\n",
    ")\n",
    "\n",
    "# Open the created file and display the content\n",
    "with open('PEST_CONTROL.pst', 'r') as file:\n",
    "    content = file.read()  \n",
    "    print('\\n\\n', content)  "
   ]
  },
  {
   "cell_type": "markdown",
   "id": "895bb558-07f3-4541-8d00-bd0ac0dada73",
   "metadata": {},
   "source": [
    "#### 2.6. Using the uplantgro() function"
   ]
  },
  {
   "cell_type": "code",
   "execution_count": 7,
   "id": "55043ea5-987d-4ba1-b91b-c9d1fb88a434",
   "metadata": {},
   "outputs": [
    {
     "name": "stdout",
     "output_type": "stream",
     "text": [
      "PlantGro.OUT status: No update required.\n"
     ]
    }
   ],
   "source": [
    "# Call the function\n",
    "dpest.wheat.utils.uplantgro(\n",
    "    'C:/DSSAT48/Wheat/PlantGro.OUT', \n",
    "    '164.0 KG N/HA IRRIG', \n",
    "    ['LAID', 'CWAD', 'T#AD'])"
   ]
  },
  {
   "cell_type": "markdown",
   "id": "972bba96-6a27-4499-9a77-5f94aa3251e8",
   "metadata": {},
   "source": [
    "### 3.  Validate the Created PEST Input Files"
   ]
  },
  {
   "cell_type": "code",
   "execution_count": 8,
   "id": "dd6cdd21-5460-4f4b-bbb1-b869ee92750f",
   "metadata": {},
   "outputs": [],
   "source": [
    "import os\n",
    "import subprocess"
   ]
  },
  {
   "cell_type": "markdown",
   "id": "1984250d-fef8-4b72-9d2d-59c872e48a23",
   "metadata": {},
   "source": [
    "#### 3.1. Validate that the files created exist in the directory "
   ]
  },
  {
   "cell_type": "code",
   "execution_count": 9,
   "id": "9c47442f-c123-4db8-8f97-6f6f361c0740",
   "metadata": {},
   "outputs": [
    {
     "name": "stdout",
     "output_type": "stream",
     "text": [
      " Volume in drive C is OS\n",
      " Volume Serial Number is BC56-CF07\n",
      "\n",
      " Directory of C:\\Users\\luizv\\OneDrive_Purdue\\OneDrive - purdue.edu\\Thesis\\dpest\\test\\wheat\\ceres\n",
      "\n",
      "03/22/2025  11:02 PM    <DIR>          .\n",
      "03/21/2025  10:07 PM    <DIR>          ..\n",
      "03/22/2025  11:02 PM    <DIR>          .ipynb_checkpoints\n",
      "03/22/2025  11:02 PM               929 OVERVIEW.ins\n",
      "03/22/2025  11:02 PM             7,100 PEST_CONTROL.pst\n",
      "03/22/2025  11:02 PM               833 PlantGro.ins\n",
      "03/22/2025  11:01 PM            27,857 SWSW7501WH_N_RESPONSE.ipynb\n",
      "03/22/2025  11:02 PM             4,186 WHCER048_CUL.TPL\n",
      "03/22/2025  11:02 PM             5,882 WHCER048_ECO.TPL\n",
      "               6 File(s)         46,787 bytes\n",
      "               3 Dir(s)  40,082,223,104 bytes free\n",
      "\n"
     ]
    }
   ],
   "source": [
    "result = subprocess.run('dir', shell=True, check=True, capture_output=True, text=True)\n",
    "print(result.stdout)"
   ]
  },
  {
   "cell_type": "markdown",
   "id": "ae549310-9dea-41d4-9187-b85a31538ab3",
   "metadata": {},
   "source": [
    "#### 3.2. Validate the WHCER048_CUL.TPL File"
   ]
  },
  {
   "cell_type": "code",
   "execution_count": 10,
   "id": "6f49825c-3da7-463f-80a6-fb2417177f8d",
   "metadata": {},
   "outputs": [
    {
     "name": "stdout",
     "output_type": "stream",
     "text": [
      "\n",
      "TEMPCHEK Version 18.1. Watermark Numerical Computing.\n",
      "\n",
      "Errors in file WHCER048_CUL.TPL ----->\n",
      "No errors encountered.\n",
      "\n",
      "6 parameters identified in file WHCER048_CUL.TPL: these are listed in file \n",
      "  WHCER048_CUL.pmt.\n",
      "\n",
      "\n"
     ]
    }
   ],
   "source": [
    "result = subprocess.run('tempchek.exe WHCER048_CUL.TPL', shell=True, check=True, capture_output=True, text=True)\n",
    "print(result.stdout)"
   ]
  },
  {
   "cell_type": "markdown",
   "id": "7e59738a-da41-486e-8dcf-b487099ebf7e",
   "metadata": {},
   "source": [
    "#### 3.3. Validate the WHCER048_ECO.TPL File"
   ]
  },
  {
   "cell_type": "code",
   "execution_count": 11,
   "id": "5d044d84-b5a4-46e3-a173-37ef9f5594ca",
   "metadata": {},
   "outputs": [
    {
     "name": "stdout",
     "output_type": "stream",
     "text": [
      "\n",
      "TEMPCHEK Version 18.1. Watermark Numerical Computing.\n",
      "\n",
      "Errors in file WHCER048_ECO.TPL ----->\n",
      "No errors encountered.\n",
      "\n",
      "3 parameters identified in file WHCER048_ECO.TPL: these are listed in file \n",
      "  WHCER048_ECO.pmt.\n",
      "\n",
      "\n"
     ]
    }
   ],
   "source": [
    "result = subprocess.run('tempchek.exe WHCER048_ECO.TPL', shell=True, check=True, capture_output=True, text=True)\n",
    "print(result.stdout)"
   ]
  },
  {
   "cell_type": "markdown",
   "id": "1b7e5ea5-7940-4abd-a042-7d9449f2e682",
   "metadata": {},
   "source": [
    "#### 3.4. Validate the Overview Instruction File (.INS)"
   ]
  },
  {
   "cell_type": "code",
   "execution_count": 12,
   "id": "7e63e712-0920-4783-9544-b8966a4d1340",
   "metadata": {},
   "outputs": [
    {
     "name": "stdout",
     "output_type": "stream",
     "text": [
      "\n",
      "INSCHEK Version 18.1. Watermark Numerical Computing.\n",
      "\n",
      "Errors in file OVERVIEW.ins ----->\n",
      "No errors encountered.\n",
      "\n",
      "Reading model output file C://DSSAT48/Wheat/OVERVIEW.OUT ----->\n",
      "No errors encountered.\n",
      "\n",
      "17 observations identified in file OVERVIEW.ins: these are listed in file \n",
      "  OVERVIEW.obf together with their values as read from file \n",
      "  C://DSSAT48/Wheat/OVERVIEW.OUT.\n",
      "\n",
      "\n"
     ]
    }
   ],
   "source": [
    "result = subprocess.run('inschek.exe OVERVIEW.ins C://DSSAT48/Wheat/OVERVIEW.OUT', shell=True, check=True, capture_output=True, text=True)\n",
    "print(result.stdout)"
   ]
  },
  {
   "cell_type": "markdown",
   "id": "20068970-9387-47d7-9399-78ea8d06cf26",
   "metadata": {},
   "source": [
    "#### 3.5. Validate the PlantGro Instruction File (.INS)"
   ]
  },
  {
   "cell_type": "code",
   "execution_count": 13,
   "id": "541901f2-0495-41d9-90ed-d14d4533b366",
   "metadata": {},
   "outputs": [
    {
     "name": "stdout",
     "output_type": "stream",
     "text": [
      "\n",
      "INSCHEK Version 18.1. Watermark Numerical Computing.\n",
      "\n",
      "Errors in file PlantGro.ins ----->\n",
      "No errors encountered.\n",
      "\n",
      "Reading model output file C://DSSAT48/Wheat/PlantGro.OUT ----->\n",
      "No errors encountered.\n",
      "\n",
      "15 observations identified in file PlantGro.ins: these are listed in file \n",
      "  PlantGro.obf together with their values as read from file \n",
      "  C://DSSAT48/Wheat/PlantGro.OUT.\n",
      "\n",
      "\n"
     ]
    }
   ],
   "source": [
    "result = subprocess.run('inschek.exe PlantGro.ins C://DSSAT48/Wheat/PlantGro.OUT', shell=True, check=True, capture_output=True, text=True)\n",
    "print(result.stdout)"
   ]
  },
  {
   "cell_type": "markdown",
   "id": "4c118c7b-80f7-4db5-97ed-ac3e8f576bb3",
   "metadata": {},
   "source": [
    "#### 3.6. Validate the PEST Control File (.PST)"
   ]
  },
  {
   "cell_type": "code",
   "execution_count": 14,
   "id": "edc8ed93-7e2e-4d18-9eb7-5d6ae87a48b7",
   "metadata": {},
   "outputs": [
    {
     "name": "stdout",
     "output_type": "stream",
     "text": [
      "\n",
      "PESTCHEK Version 18.1. Watermark Numerical Computing.\n",
      "\n",
      "Errors ----->\n",
      "No errors encountered.\n",
      "\n",
      "Warnings ----->\n",
      "No warnings.\n",
      "\n"
     ]
    }
   ],
   "source": [
    "result = subprocess.run('pestchek.exe PEST_CONTROL.pst', shell=True, check=True, capture_output=True, text=True)\n",
    "print(result.stdout)"
   ]
  },
  {
   "cell_type": "code",
   "execution_count": null,
   "id": "d970c7a6-6052-4f41-9f1f-def358343f54",
   "metadata": {},
   "outputs": [],
   "source": []
  }
 ],
 "metadata": {
  "kernelspec": {
   "display_name": "Python 3 (ipykernel)",
   "language": "python",
   "name": "python3"
  },
  "language_info": {
   "codemirror_mode": {
    "name": "ipython",
    "version": 3
   },
   "file_extension": ".py",
   "mimetype": "text/x-python",
   "name": "python",
   "nbconvert_exporter": "python",
   "pygments_lexer": "ipython3",
   "version": "3.12.6"
  }
 },
 "nbformat": 4,
 "nbformat_minor": 5
}
