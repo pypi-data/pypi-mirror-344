


import spectHR as cs
# include matplotlib **only** to set the style
import matplotlib.pyplot as plt

%matplotlib widget
plt.style.use('seaborn-v0_8-colorblind')

# Create the Log Output here:
cs.handler.show_logs()






%matplotlib widget
import ipywidgets as widgets
import glob
import spectHR as cs  
from IPython.display import display

# Retrieve lists of available files
xdffiles = glob.glob("*.xdf")  # List all .xdf files
rawfiles = glob.glob("*.txt")  # List all .txt files
harness = glob.glob("*._csv")  # List all .txt files
# Exclude specific files that should not be processed
if "TODO.txt" in rawfiles:
    rawfiles.remove("TODO.txt")

# Create a file selection widget
fileselector = widgets.Select(
    options = xdffiles + rawfiles + harness,  # Available file options
    value = xdffiles[0] if xdffiles else None,  # Default selection (first .xdf file if available)
    description = 'File:',
    disabled = False,
    rows = 10,
)

# Function to preprocess ECG data
def preprocess_data(file_name):
    """
    Load and preprocess ECG data from the selected file.
    Steps:
    1. Load dataset with SpectHRDataset.
    2. Slice ECG time series (from 4s to 1000000s).
    3. Apply border correction.
    4. Apply high-pass filter (cutoff = 1 Hz).
    """
    dataset = cs.SpectHRDataset(file_name, reset=True, flip='auto')
    # dataset.ecg = dataset.ecg.slicetime(80, 8000)
    # dataset = cs.borderData(dataset)
    dataset = cs.filterECGData(dataset, {"filterType": "highpass", "cutoff": 1})
    return dataset

# Output widget to display the application interface
myApp = widgets.Output()

# Dictionary to store preprocessed datasets
data_store = {name: preprocess_data(name) for name in xdffiles + rawfiles + harness}

# Default dataset selection
DataSet = data_store[fileselector.value] if fileselector.value else None

# Event handler for file selection change
def on_file_change(change):
    """
    Handle changes in the file selection widget.
    Steps:
    1. Save the current dataset state.
    2. Update DataSet to the new selection.
    3. If peak data (RTops) is missing, compute peaks.
    4. Refresh and display the HRV analysis app.
    """
    global DataSet
    if change['type'] == 'change' and change['name'] == 'value':
        old_file = change['old']
        new_file = change['new']
        
        # Save the state of the previous dataset
        data_store[old_file] = DataSet
        
        # Load new dataset
        DataSet = data_store[new_file]
        
        # Compute peaks if not already calculated
        if not hasattr(DataSet, 'RTops'):
            DataSet = cs.calcPeaks(DataSet)
        
        # Display the HRV app
        with myApp:
            myApp.clear_output()
            display(cs.HRApp(DataSet))

# Attach event listener to file selection widget
fileselector.observe(on_file_change, names='value')






display(fileselector)
display(myApp)



