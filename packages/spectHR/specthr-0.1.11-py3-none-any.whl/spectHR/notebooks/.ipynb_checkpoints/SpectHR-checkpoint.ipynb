{
 "cells": [
  {
   "cell_type": "markdown",
   "id": "2b15a9ff-54e8-4583-b172-16c029676d4e",
   "metadata": {
    "extensions": {
     "jupyter_dashboards": {
      "activeView": "grid_default",
      "views": {
       "grid_default": {
        "col": null,
        "height": 2,
        "hidden": true,
        "locked": true,
        "row": null,
        "width": 2
       }
      }
     }
    }
   },
   "source": [
    "> **⚠️ CAUTION:**  \n",
    "> <p style=\"color: red;\">This project is work in progress. It can not be used for data analysis yet. Breathing and blood pressure data are totally untested/not yet implemented.</p>\n",
    "\n",
    "This project is mainly the introduction of an library. The idea is that library can be used without knowledge of `python` by using the App.\n",
    "\n",
    "# HRApp: An Interactive Heart Rate Variability (HRV) Analysis Tool\n",
    "\n",
    "## Overview\n",
    "\n",
    "The **HRApp** is an interactive tool designed to assist in the analysis of heart rate variability (HRV) data. It provides a graphical user interface (GUI) within Jupyter Notebooks to explore, preprocess, and visualize HRV data. The app organizes its features into multiple tabs, each focusing on a specific aspect of HRV analysis.\n",
    "\n",
    "## Features\n",
    "\n",
    "1. **PreProcessing Tab**  \n",
    "   - Provides tools to preprocess HRV data, such as cleaning and inspecting inter-beat intervals (IBI).\n",
    "   - Displays a customizable GUI for manipulating the dataset.\n",
    "\n",
    "2. **Poincare Tab**  \n",
    "   - Visualizes HRV data using Poincaré plots, which highlight the relationships between successive IBIs.\n",
    "   - Ideal for assessing nonlinear dynamics in heart rate data.\n",
    "\n",
    "3. **Descriptives Tab**  \n",
    "   - Computes detailed descriptive statistics for IBIs, grouped by epochs.\n",
    "   - Includes metrics such as mean, standard deviation, RMSSD, SDNN, SD1, SD2, and others.\n",
    "   - Integrates power spectral density (PSD) results into the statistics, if available.\n",
    "\n",
    "4. **PSD Tab**  \n",
    "   - Uses Welch's method to compute power spectral density (PSD) for HRV data.\n",
    "   - Groups PSD results by epochs, providing insights into the frequency domain features of HRV.\n",
    "\n",
    "5. **Epochs Tab**  \n",
    "   - Visualizes epochs of HRV data using a Gantt chart.\n",
    "   - Offers a clear representation of time-based data segmentation.\n"
   ]
  },
  {
   "cell_type": "code",
   "execution_count": null,
   "id": "608e45cb-3487-4150-b1b9-801e6a4362a7",
   "metadata": {
    "editable": true,
    "extensions": {
     "jupyter_dashboards": {
      "activeView": "grid_default",
      "views": {
       "grid_default": {
        "col": null,
        "height": 2,
        "hidden": true,
        "locked": true,
        "row": null,
        "width": 2
       }
      }
     }
    },
    "slideshow": {
     "slide_type": ""
    },
    "tags": []
   },
   "outputs": [],
   "source": [
    "import spectHR as cs\n",
    "# include matplotlib **only** to set the style\n",
    "import matplotlib.pyplot as plt\n",
    "\n",
    "%matplotlib widget\n",
    "plt.style.use('seaborn-v0_8-colorblind')\n",
    "\n",
    "# Create the Log Output here:\n",
    "cs.handler.show_logs()"
   ]
  },
  {
   "cell_type": "markdown",
   "id": "77733e08-552c-4fab-869d-6abb37c5380d",
   "metadata": {
    "extensions": {
     "jupyter_dashboards": {
      "activeView": "grid_default",
      "views": {
       "grid_default": {
        "col": null,
        "height": 2,
        "hidden": true,
        "locked": true,
        "row": null,
        "width": 2
       }
      }
     }
    }
   },
   "source": [
    "# Demo\n",
    "\n",
    "## Dataset loading:\n",
    "\n",
    "Data that can be loaded are for now restricted to the [`xdf`](https://github.com/sccn/xdf) type used by [`labstreaminglayer`](https://labstreaminglayer.readthedocs.io/info/intro.html). The data tested are all recorded using the [`labrecorder`](https://github.com/labstreaminglayer/App-LabRecorder/releases), and streamed with the [`polarGUI`](https://github.com/markspan/PolarBand2lsl/releases/tag/v1.0.0) utility that streams data from the Polar H10 Band. Markers should be a seperate stream, with start- and stop markers. In the demo they are streamed through python inline code in [`opensesame`](https://osdoc.cogsci.nl/4.0/download). \n",
    "\n",
    "The call to `borderData` cuts the data from 1 second before the first marker, to one second after the last marker. To do any meaningfull analysis, the call to `calcPeaks` is mandatory: it attaches the DataFrame 'RTops' to hte DataSet. \n",
    "\n",
    "The code below creates a fileselector that shows all the .xdf nd all the .txt files in the current directory (minus TODO.txt). Selecting one will show the dataset as is now is: changes (edits) should be reflected immideately. If you want to continue editing later, this should be automatic. If you want to re-read the data you can opt to delete the pickle file from the cache directort, or change the `reset = False` to true in the preProc function below.\n",
    "\n"
   ]
  },
  {
   "cell_type": "code",
   "execution_count": null,
   "id": "f5cbc7fb-e9eb-49bb-a572-6a48029ccf86",
   "metadata": {
    "extensions": {
     "jupyter_dashboards": {
      "activeView": "grid_default",
      "views": {
       "grid_default": {
        "col": null,
        "height": 2,
        "hidden": true,
        "locked": true,
        "row": null,
        "width": 2
       }
      }
     }
    }
   },
   "outputs": [],
   "source": [
    "import ipywidgets as widgets\n",
    "import glob\n",
    "import spectHR as cs  \n",
    "from IPython.display import display\n",
    "\n",
    "# Retrieve lists of available files\n",
    "xdffiles = glob.glob(\"*.xdf\")  # List all .xdf files\n",
    "rawfiles = glob.glob(\"*.txt\")  # List all .txt files\n",
    "\n",
    "# Exclude specific files that should not be processed\n",
    "if \"TODO.txt\" in rawfiles:\n",
    "    rawfiles.remove(\"TODO.txt\")\n",
    "\n",
    "# Create a file selection widget\n",
    "fileselector = widgets.Select(\n",
    "    options = xdffiles + rawfiles,  # Available file options\n",
    "    value = None, # xdffiles[0] if xdffiles else None,  # Default selection (first .xdf file if available)\n",
    "    description = 'File:',\n",
    "    disabled = False,\n",
    "    rows = 10,\n",
    ")\n",
    "\n",
    "# Function to preprocess ECG data\n",
    "def preprocess_data(file_name):\n",
    "    \"\"\"\n",
    "    Load and preprocess ECG data from the selected file.\n",
    "    Steps:\n",
    "    1. Load dataset with SpectHRDataset.\n",
    "    2. Slice ECG time series (from 4s to 1000000s).\n",
    "    3. Apply border correction.\n",
    "    4. Apply high-pass filter (cutoff = 1 Hz).\n",
    "    \"\"\"\n",
    "    dataset = cs.SpectHRDataset(file_name, reset=False, flip='auto')\n",
    "    dataset.ecg = dataset.ecg.slicetime(4, 1000000)\n",
    "    dataset = cs.borderData(dataset)\n",
    "    dataset = cs.filterECGData(dataset, {\"filterType\": \"highpass\", \"cutoff\": 1})\n",
    "    return dataset\n",
    "\n",
    "# Output widget to display the application interface\n",
    "myApp = widgets.Output()\n",
    "\n",
    "# Dictionary to store preprocessed datasets\n",
    "data_store = {name: preprocess_data(name) for name in xdffiles + rawfiles}\n",
    "\n",
    "# Default dataset selection\n",
    "DataSet = data_store[fileselector.value] if fileselector.value else None\n",
    "\n",
    "# Event handler for file selection change\n",
    "def on_file_change(change):\n",
    "    \"\"\"\n",
    "    Handle changes in the file selection widget.\n",
    "    Steps:\n",
    "    1. Save the current dataset state.\n",
    "    2. Update DataSet to the new selection.\n",
    "    3. If peak data (RTops) is missing, compute peaks.\n",
    "    4. Refresh and display the HRV analysis app.\n",
    "    \"\"\"\n",
    "    global DataSet\n",
    "    if change['type'] == 'change' and change['name'] == 'value':\n",
    "        old_file = change['old']\n",
    "        new_file = change['new']\n",
    "        \n",
    "        # Save the state of the previous dataset\n",
    "        data_store[old_file] = DataSet\n",
    "        \n",
    "        # Load new dataset\n",
    "        DataSet = data_store[new_file]\n",
    "        \n",
    "        # Compute peaks if not already calculated\n",
    "        if not hasattr(DataSet, 'RTops'):\n",
    "            DataSet = cs.calcPeaks(DataSet)\n",
    "        \n",
    "        # Display the HRV app\n",
    "        with myApp:\n",
    "            myApp.clear_output()\n",
    "            display(cs.HRApp(DataSet))\n",
    "\n",
    "# Attach event listener to file selection widget\n",
    "fileselector.observe(on_file_change, names='value')\n"
   ]
  },
  {
   "cell_type": "markdown",
   "id": "7441461c-a360-48c4-b406-85d9b531c75c",
   "metadata": {
    "extensions": {
     "jupyter_dashboards": {
      "activeView": "grid_default",
      "views": {
       "grid_default": {
        "col": null,
        "height": 2,
        "hidden": true,
        "locked": true,
        "row": null,
        "width": 2
       }
      }
     }
    }
   },
   "source": [
    "## Running the App\n",
    "\n",
    "Call the app, with the dataset as input. "
   ]
  },
  {
   "cell_type": "code",
   "execution_count": null,
   "id": "9a424636-5650-4ded-953e-80ec2ddcc111",
   "metadata": {
    "extensions": {
     "jupyter_dashboards": {
      "activeView": "grid_default",
      "views": {
       "grid_default": {
        "col": 0,
        "height": 23,
        "hidden": false,
        "locked": true,
        "row": 0,
        "width": 12
       }
      }
     }
    }
   },
   "outputs": [],
   "source": [
    "display(fileselector)\n",
    "display(myApp)"
   ]
  },
  {
   "cell_type": "code",
   "execution_count": null,
   "id": "dbc01754-27fd-4c3c-a7c2-3fcb53b84b91",
   "metadata": {
    "extensions": {
     "jupyter_dashboards": {
      "activeView": "grid_default",
      "views": {
       "grid_default": {
        "col": null,
        "height": 2,
        "hidden": true,
        "locked": true,
        "row": null,
        "width": 2
       }
      }
     }
    }
   },
   "outputs": [],
   "source": []
  }
 ],
 "metadata": {
  "extensions": {
   "jupyter_dashboards": {
    "activeView": "grid_default",
    "version": 1,
    "views": {
     "grid_default": {
      "cellMargin": 0,
      "defaultCellHeight": 40,
      "maxColumns": 12,
      "name": "spectHR",
      "type": "grid"
     }
    }
   }
  },
  "kernelspec": {
   "display_name": "Python 3 (ipykernel)",
   "language": "python",
   "name": "python3"
  },
  "language_info": {
   "codemirror_mode": {
    "name": "ipython",
    "version": 3
   },
   "file_extension": ".py",
   "mimetype": "text/x-python",
   "name": "python",
   "nbconvert_exporter": "python",
   "pygments_lexer": "ipython3",
   "version": "3.12.3"
  }
 },
 "nbformat": 4,
 "nbformat_minor": 5
}
