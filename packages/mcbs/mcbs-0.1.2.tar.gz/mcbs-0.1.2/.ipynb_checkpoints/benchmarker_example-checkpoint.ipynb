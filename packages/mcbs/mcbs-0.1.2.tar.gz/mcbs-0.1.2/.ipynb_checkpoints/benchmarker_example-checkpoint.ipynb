{
 "cells": [
  {
   "cell_type": "markdown",
   "metadata": {},
   "source": [
    "# Mode Choice Benchmarker Example\n",
    "\n",
    "This notebook demonstrates how to use the Mode Choice Benchmarker to evaluate discrete choice models."
   ]
  },
  {
   "cell_type": "markdown",
   "metadata": {},
   "source": [
    "## Setup\n",
    "\n",
    "First, let's import all necessary libraries"
   ]
  },
  {
   "cell_type": "code",
   "execution_count": 2,
   "metadata": {},
   "outputs": [
    {
     "ename": "ModuleNotFoundError",
     "evalue": "No module named 'biogeme'",
     "output_type": "error",
     "traceback": [
      "\u001b[0;31m---------------------------------------------------------------------------\u001b[0m",
      "\u001b[0;31mModuleNotFoundError\u001b[0m                       Traceback (most recent call last)",
      "Cell \u001b[0;32mIn[2], line 1\u001b[0m\n\u001b[0;32m----> 1\u001b[0m \u001b[38;5;28;01mimport\u001b[39;00m \u001b[38;5;21;01mbiogeme\u001b[39;00m\u001b[38;5;21;01m.\u001b[39;00m\u001b[38;5;21;01mbiogeme\u001b[39;00m \u001b[38;5;28;01mas\u001b[39;00m \u001b[38;5;21;01mbio\u001b[39;00m\n\u001b[1;32m      2\u001b[0m \u001b[38;5;28;01mfrom\u001b[39;00m \u001b[38;5;21;01mbiogeme\u001b[39;00m \u001b[38;5;28;01mimport\u001b[39;00m models\n\u001b[1;32m      3\u001b[0m \u001b[38;5;28;01mfrom\u001b[39;00m \u001b[38;5;21;01mbiogeme\u001b[39;00m\u001b[38;5;21;01m.\u001b[39;00m\u001b[38;5;21;01mexpressions\u001b[39;00m \u001b[38;5;28;01mimport\u001b[39;00m Beta, Variable\n",
      "\u001b[0;31mModuleNotFoundError\u001b[0m: No module named 'biogeme'"
     ]
    }
   ],
   "source": [
    "import biogeme.biogeme as bio\n",
    "from biogeme import models\n",
    "from biogeme.expressions import Beta, Variable\n",
    "from mcbs.utils import BiogemeModelWrapper\n",
    "from mcbs.benchmarker.benchmarker import ModelBenchmarker\n",
    "from mcbs.datasets.dataset_loader import DatasetLoader"
   ]
  },
  {
   "cell_type": "markdown",
   "metadata": {},
   "source": [
    "## Load Data\n",
    "\n",
    "We'll use the Swissmetro dataset as an example"
   ]
  },
  {
   "cell_type": "code",
   "execution_count": null,
   "metadata": {},
   "outputs": [],
   "source": [
    "# Initialize the dataset loader\n",
    "loader = DatasetLoader()\n",
    "\n",
    "# Load the Swissmetro dataset\n",
    "data = loader.load_dataset(\"swissmetro_dataset\")\n",
    "\n",
    "# Display the first few rows of the dataset\n",
    "data.head()"
   ]
  },
  {
   "cell_type": "markdown",
   "metadata": {},
   "source": [
    "## Configure Biogeme Model\n",
    "\n",
    "Now we'll set up our discrete choice model using Biogeme"
   ]
  },
  {
   "cell_type": "code",
   "execution_count": null,
   "metadata": {},
   "outputs": [],
   "source": [
    "# Create Biogeme database\n",
    "database = bio.Database('swissmetro', data)\n",
    "\n",
    "# Define variables\n",
    "CHOICE = Variable('CHOICE')\n",
    "TRAIN_TT = Variable('TRAIN_TT')\n",
    "TRAIN_CO = Variable('TRAIN_CO')\n",
    "SM_TT = Variable('SM_TT')\n",
    "SM_CO = Variable('SM_CO')\n",
    "CAR_TT = Variable('CAR_TT')\n",
    "CAR_CO = Variable('CAR_CO')\n",
    "\n",
    "# Define parameters\n",
    "ASC_TRAIN = Beta('ASC_TRAIN', 0, None, None, 0)\n",
    "ASC_CAR = Beta('ASC_CAR', 0, None, None, 0)\n",
    "ASC_SM = Beta('ASC_SM', 0, None, None, 1)\n",
    "B_TIME = Beta('B_TIME', 0, None, None, 0)\n",
    "B_COST = Beta('B_COST', 0, None, None, 0)\n",
    "\n",
    "# Define utilities\n",
    "V1 = ASC_TRAIN + B_TIME * TRAIN_TT + B_COST * TRAIN_CO  # Train\n",
    "V2 = ASC_SM + B_TIME * SM_TT + B_COST * SM_CO          # Swissmetro\n",
    "V3 = ASC_CAR + B_TIME * CAR_TT + B_COST * CAR_CO      # Car\n",
    "\n",
    "# Associate utilities with alternatives\n",
    "V = {1: V1,\n",
    "     2: V2,\n",
    "     3: V3}\n",
    "\n",
    "# Define availability conditions\n",
    "av = {1: 1,\n",
    "      2: 1,\n",
    "      3: 1}\n",
    "\n",
    "# Create logit model\n",
    "logprob = models.logit(V, av, CHOICE)\n",
    "biogeme = bio.BIOGEME(database, logprob)"
   ]
  },
  {
   "cell_type": "markdown",
   "metadata": {},
   "source": [
    "## Run Benchmarker\n",
    "\n",
    "Now we'll use the benchmarker to evaluate our model"
   ]
  },
  {
   "cell_type": "code",
   "execution_count": null,
   "metadata": {},
   "outputs": [],
   "source": [
    "# Wrap our Biogeme model\n",
    "model = BiogemeModelWrapper(data, biogeme)\n",
    "\n",
    "# Initialize benchmarker\n",
    "benchmarker = ModelBenchmarker()\n",
    "\n",
    "# Run benchmark\n",
    "results = benchmarker.run_benchmark(\n",
    "    data=data,\n",
    "    models=[model],\n",
    "    dataset_name=\"swissmetro\"\n",
    ")"
   ]
  },
  {
   "cell_type": "markdown",
   "metadata": {},
   "source": [
    "## Analyze Results\n",
    "\n",
    "Let's examine the benchmark results"
   ]
  },
  {
   "cell_type": "code",
   "execution_count": null,
   "metadata": {},
   "outputs": [],
   "source": [
    "# Print comparison\n",
    "benchmarker.print_comparison()\n",
    "\n",
    "# Export results to CSV\n",
    "benchmarker.export_results(\"benchmark_results.csv\")"
   ]
  },
  {
   "cell_type": "markdown",
   "metadata": {},
   "source": [
    "## Examine Model Metrics\n",
    "\n",
    "Let's look at some specific metrics from our model"
   ]
  },
  {
   "cell_type": "code",
   "execution_count": null,
   "metadata": {},
   "outputs": [],
   "source": [
    "print(\"Log Likelihood:\", model.final_ll)\n",
    "print(\"Rho Squared:\", model.rho_squared)\n",
    "print(\"\\nMarket Shares:\")\n",
    "print(\"Actual:\", model.actual_shares)\n",
    "print(\"Predicted:\", model.predicted_shares)\n",
    "print(\"\\nChoice Accuracy:\", model.choice_accuracy)\n",
    "print(\"\\nConfusion Matrix:\")\n",
    "print(model.confusion_matrix)"
   ]
  }
 ],
 "metadata": {
  "kernelspec": {
   "display_name": "Python 3 (ipykernel)",
   "language": "python",
   "name": "python3"
  },
  "language_info": {
   "codemirror_mode": {
    "name": "ipython",
    "version": 3
   },
   "file_extension": ".py",
   "mimetype": "text/x-python",
   "name": "python",
   "nbconvert_exporter": "python",
   "pygments_lexer": "ipython3",
   "version": "3.11.2"
  }
 },
 "nbformat": 4,
 "nbformat_minor": 4
}
