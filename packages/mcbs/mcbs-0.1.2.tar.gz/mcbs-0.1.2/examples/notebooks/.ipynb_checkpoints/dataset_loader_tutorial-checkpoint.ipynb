{
 "cells": [
  {
   "cell_type": "markdown",
   "metadata": {},
   "source": [
    "# MCBS Dataset Loader Tutorial\n",
    "\n",
    "This notebook demonstrates the dynamic dataset discovery functionality in MCBS. The library can discover datasets from the remote repository in real-time, even if they were added after the MCBS package was released.\n",
    "\n",
    "## Key Features\n",
    "\n",
    "- **Dynamic Dataset Discovery**: Discover datasets that were added after the package was released\n",
    "- **Automatic Caching**: Datasets are cached locally for faster access\n",
    "- **Metadata Access**: Get detailed information about each dataset\n",
    "- **Simple API**: Load any dataset with just one line of code"
   ]
  },
  {
   "cell_type": "code",
   "execution_count": 2,
   "metadata": {},
   "outputs": [],
   "source": [
    "# Import the necessary functions from mcbs.datasets\n",
    "from mcbs.datasets import fetch_data, list_available_datasets, get_dataset_info\n",
    "import pandas as pd\n",
    "import matplotlib.pyplot as plt\n",
    "import seaborn as sns\n",
    "\n",
    "# Set some display options\n",
    "pd.set_option('display.max_columns', 20)\n",
    "plt.style.use('ggplot')"
   ]
  },
  {
   "cell_type": "markdown",
   "metadata": {},
   "source": [
    "## 1. Discovering Available Datasets\n",
    "\n",
    "First, let's see what datasets are available in the remote repository. This will query the GitHub repository in real-time."
   ]
  },
  {
   "cell_type": "code",
   "execution_count": 3,
   "metadata": {},
   "outputs": [
    {
     "name": "stderr",
     "output_type": "stream",
     "text": [
      "INFO:mcbs.datasets.dataset_loader:Fetching metadata from: https://raw.githubusercontent.com/carlosguirado/mcbs-datasets/main/datasets/metadata.json\n",
      "WARNING:mcbs.datasets.dataset_loader:Error fetching remote metadata: 404 Client Error: Not Found for url: https://raw.githubusercontent.com/carlosguirado/mcbs-datasets/main/datasets/metadata.json. Using local metadata as fallback.\n",
      "INFO:mcbs.datasets.dataset_loader:Querying GitHub API for available datasets: https://api.github.com/repos/carlosguirado/mcbs-datasets/contents/datasets\n",
      "INFO:mcbs.datasets.dataset_loader:Discovered 4 datasets from remote repository\n"
     ]
    },
    {
     "name": "stdout",
     "output_type": "stream",
     "text": [
      "Found 4 available datasets:\n",
      "\n",
      "- chicago_mode_choice_dataset\n",
      "- ltds_dataset\n",
      "- modecanada_dataset\n",
      "- swissmetro_dataset\n"
     ]
    }
   ],
   "source": [
    "# Get real-time list of all available datasets\n",
    "available_datasets = list_available_datasets()\n",
    "print(f\"Found {len(available_datasets)} available datasets:\\n\")\n",
    "\n",
    "# Print the list of available datasets\n",
    "for dataset in available_datasets:\n",
    "    print(f\"- {dataset}\")"
   ]
  },
  {
   "cell_type": "markdown",
   "metadata": {},
   "source": [
    "## 2. Getting Dataset Information\n",
    "\n",
    "Now let's get more detailed information about each dataset."
   ]
  },
  {
   "cell_type": "code",
   "execution_count": 4,
   "metadata": {},
   "outputs": [
    {
     "name": "stderr",
     "output_type": "stream",
     "text": [
      "INFO:mcbs.datasets.dataset_loader:Fetching metadata from: https://raw.githubusercontent.com/carlosguirado/mcbs-datasets/main/datasets/metadata.json\n",
      "WARNING:mcbs.datasets.dataset_loader:Error fetching remote metadata: 404 Client Error: Not Found for url: https://raw.githubusercontent.com/carlosguirado/mcbs-datasets/main/datasets/metadata.json. Using local metadata as fallback.\n",
      "INFO:mcbs.datasets.dataset_loader:Fetching metadata from: https://raw.githubusercontent.com/carlosguirado/mcbs-datasets/main/datasets/metadata.json\n",
      "WARNING:mcbs.datasets.dataset_loader:Error fetching remote metadata: 404 Client Error: Not Found for url: https://raw.githubusercontent.com/carlosguirado/mcbs-datasets/main/datasets/metadata.json. Using local metadata as fallback.\n",
      "INFO:mcbs.datasets.dataset_loader:Querying GitHub API for available datasets: https://api.github.com/repos/carlosguirado/mcbs-datasets/contents/datasets\n",
      "INFO:mcbs.datasets.dataset_loader:Discovered 4 datasets from remote repository\n"
     ]
    },
    {
     "data": {
      "text/html": [
       "<div>\n",
       "<style scoped>\n",
       "    .dataframe tbody tr th:only-of-type {\n",
       "        vertical-align: middle;\n",
       "    }\n",
       "\n",
       "    .dataframe tbody tr th {\n",
       "        vertical-align: top;\n",
       "    }\n",
       "\n",
       "    .dataframe thead th {\n",
       "        text-align: right;\n",
       "    }\n",
       "</style>\n",
       "<table border=\"1\" class=\"dataframe\">\n",
       "  <thead>\n",
       "    <tr style=\"text-align: right;\">\n",
       "      <th></th>\n",
       "      <th>Name</th>\n",
       "      <th>Description</th>\n",
       "      <th>Samples</th>\n",
       "      <th>Features</th>\n",
       "      <th>Target</th>\n",
       "    </tr>\n",
       "  </thead>\n",
       "  <tbody>\n",
       "    <tr>\n",
       "      <th>0</th>\n",
       "      <td>chicago_mode_choice_dataset</td>\n",
       "      <td>N/A</td>\n",
       "      <td>N/A</td>\n",
       "      <td>N/A</td>\n",
       "      <td>N/A</td>\n",
       "    </tr>\n",
       "    <tr>\n",
       "      <th>1</th>\n",
       "      <td>ltds_dataset</td>\n",
       "      <td>London Travel Demand Survey (LTDS)</td>\n",
       "      <td>81086</td>\n",
       "      <td>35</td>\n",
       "      <td>travel_mode</td>\n",
       "    </tr>\n",
       "    <tr>\n",
       "      <th>2</th>\n",
       "      <td>modecanada_dataset</td>\n",
       "      <td>ModeCanada</td>\n",
       "      <td>15520</td>\n",
       "      <td>11</td>\n",
       "      <td>choice</td>\n",
       "    </tr>\n",
       "    <tr>\n",
       "      <th>3</th>\n",
       "      <td>swissmetro_dataset</td>\n",
       "      <td>Swissmetro</td>\n",
       "      <td>10728</td>\n",
       "      <td>27</td>\n",
       "      <td>CHOICE</td>\n",
       "    </tr>\n",
       "  </tbody>\n",
       "</table>\n",
       "</div>"
      ],
      "text/plain": [
       "                          Name                         Description Samples  \\\n",
       "0  chicago_mode_choice_dataset                                 N/A     N/A   \n",
       "1                 ltds_dataset  London Travel Demand Survey (LTDS)   81086   \n",
       "2           modecanada_dataset                          ModeCanada   15520   \n",
       "3           swissmetro_dataset                          Swissmetro   10728   \n",
       "\n",
       "  Features       Target  \n",
       "0      N/A          N/A  \n",
       "1       35  travel_mode  \n",
       "2       11       choice  \n",
       "3       27       CHOICE  "
      ]
     },
     "execution_count": 4,
     "metadata": {},
     "output_type": "execute_result"
    }
   ],
   "source": [
    "# Create a DataFrame to display dataset information\n",
    "dataset_info = []\n",
    "\n",
    "for dataset_name in available_datasets:\n",
    "    try:\n",
    "        info = get_dataset_info(dataset_name)\n",
    "        dataset_info.append({\n",
    "            'Name': dataset_name,\n",
    "            'Description': info.get('description', 'N/A'),\n",
    "            'Samples': info.get('n_samples', 'N/A'),\n",
    "            'Features': info.get('n_features', 'N/A'),\n",
    "            'Target': info.get('target', 'N/A')\n",
    "        })\n",
    "    except Exception as e:\n",
    "        print(f\"Error getting info for {dataset_name}: {str(e)}\")\n",
    "\n",
    "# Display the information as a table\n",
    "pd.DataFrame(dataset_info)"
   ]
  },
  {
   "cell_type": "markdown",
   "metadata": {},
   "source": [
    "## 3. Loading a Dataset\n",
    "\n",
    "Let's load one of the datasets. The `fetch_data` function will:\n",
    "1. Check if the dataset is cached locally\n",
    "2. If not, download it from the remote repository\n",
    "3. Cache it locally for future use\n",
    "4. Return it as a pandas DataFrame"
   ]
  },
  {
   "cell_type": "code",
   "execution_count": 5,
   "metadata": {},
   "outputs": [
    {
     "name": "stderr",
     "output_type": "stream",
     "text": [
      "INFO:mcbs.datasets.dataset_loader:Local cache disabled. Downloading dataset from remote source.\n",
      "INFO:mcbs.datasets.dataset_loader:Downloading dataset from: https://raw.githubusercontent.com/carlosguirado/mcbs-datasets/main/datasets/swissmetro/swissmetro.csv.gz\n"
     ]
    },
    {
     "ename": "ConnectionError",
     "evalue": "Error downloading dataset: 404 Client Error: Not Found for url: https://raw.githubusercontent.com/carlosguirado/mcbs-datasets/main/datasets/swissmetro/swissmetro.csv.gz",
     "output_type": "error",
     "traceback": [
      "\u001b[0;31m---------------------------------------------------------------------------\u001b[0m",
      "\u001b[0;31mHTTPError\u001b[0m                                 Traceback (most recent call last)",
      "File \u001b[0;32m~/Desktop/Jan25_Dump/mode-choice-benchmarking-sandbox/mcbs/datasets/dataset_loader.py:272\u001b[0m, in \u001b[0;36mDatasetLoader._download_dataset\u001b[0;34m(self, dataset_url, filename)\u001b[0m\n\u001b[1;32m    271\u001b[0m response \u001b[38;5;241m=\u001b[39m requests\u001b[38;5;241m.\u001b[39mget(dataset_url)\n\u001b[0;32m--> 272\u001b[0m \u001b[43mresponse\u001b[49m\u001b[38;5;241;43m.\u001b[39;49m\u001b[43mraise_for_status\u001b[49m\u001b[43m(\u001b[49m\u001b[43m)\u001b[49m  \u001b[38;5;66;03m# Raise an exception for HTTP errors\u001b[39;00m\n\u001b[1;32m    274\u001b[0m _, file_extension \u001b[38;5;241m=\u001b[39m os\u001b[38;5;241m.\u001b[39mpath\u001b[38;5;241m.\u001b[39msplitext(filename)\n",
      "File \u001b[0;32m~/Desktop/Jan25_Dump/mode-choice-benchmarking-sandbox/test_env/lib/python3.10/site-packages/requests/models.py:1024\u001b[0m, in \u001b[0;36mResponse.raise_for_status\u001b[0;34m(self)\u001b[0m\n\u001b[1;32m   1023\u001b[0m \u001b[38;5;28;01mif\u001b[39;00m http_error_msg:\n\u001b[0;32m-> 1024\u001b[0m     \u001b[38;5;28;01mraise\u001b[39;00m HTTPError(http_error_msg, response\u001b[38;5;241m=\u001b[39m\u001b[38;5;28mself\u001b[39m)\n",
      "\u001b[0;31mHTTPError\u001b[0m: 404 Client Error: Not Found for url: https://raw.githubusercontent.com/carlosguirado/mcbs-datasets/main/datasets/swissmetro/swissmetro.csv.gz",
      "\nDuring handling of the above exception, another exception occurred:\n",
      "\u001b[0;31mConnectionError\u001b[0m                           Traceback (most recent call last)",
      "Cell \u001b[0;32mIn[5], line 2\u001b[0m\n\u001b[1;32m      1\u001b[0m \u001b[38;5;66;03m# Load the Swissmetro dataset\u001b[39;00m\n\u001b[0;32m----> 2\u001b[0m swissmetro_data \u001b[38;5;241m=\u001b[39m \u001b[43mfetch_data\u001b[49m\u001b[43m(\u001b[49m\u001b[38;5;124;43m'\u001b[39;49m\u001b[38;5;124;43mswissmetro_dataset\u001b[39;49m\u001b[38;5;124;43m'\u001b[39;49m\u001b[43m)\u001b[49m\n\u001b[1;32m      4\u001b[0m \u001b[38;5;66;03m# Display basic information about the dataset\u001b[39;00m\n\u001b[1;32m      5\u001b[0m \u001b[38;5;28mprint\u001b[39m(\u001b[38;5;124mf\u001b[39m\u001b[38;5;124m\"\u001b[39m\u001b[38;5;124mDataset shape: \u001b[39m\u001b[38;5;132;01m{\u001b[39;00mswissmetro_data\u001b[38;5;241m.\u001b[39mshape\u001b[38;5;132;01m}\u001b[39;00m\u001b[38;5;124m\"\u001b[39m)\n",
      "File \u001b[0;32m~/Desktop/Jan25_Dump/mode-choice-benchmarking-sandbox/mcbs/datasets/__init__.py:32\u001b[0m, in \u001b[0;36mfetch_data\u001b[0;34m(dataset_name, return_X_y, local_cache_dir, dropna)\u001b[0m\n\u001b[1;32m      7\u001b[0m \u001b[38;5;250m\u001b[39m\u001b[38;5;124;03m\"\"\"Download a dataset from the MCBS remote repository, optionally store it locally, and return it.\u001b[39;00m\n\u001b[1;32m      8\u001b[0m \u001b[38;5;124;03m\u001b[39;00m\n\u001b[1;32m      9\u001b[0m \u001b[38;5;124;03mThis function retrieves datasets from the remote GitHub repository (https://github.com/carlosguirado/mcbs-datasets)\u001b[39;00m\n\u001b[0;32m   (...)\u001b[0m\n\u001b[1;32m     28\u001b[0m \u001b[38;5;124;03m    If return_X_y is True, returns a tuple (X, y) of features and target.\u001b[39;00m\n\u001b[1;32m     29\u001b[0m \u001b[38;5;124;03m\"\"\"\u001b[39;00m\n\u001b[1;32m     30\u001b[0m loader \u001b[38;5;241m=\u001b[39m DatasetLoader(use_local_cache\u001b[38;5;241m=\u001b[39m(local_cache_dir \u001b[38;5;129;01mis\u001b[39;00m \u001b[38;5;129;01mnot\u001b[39;00m \u001b[38;5;28;01mNone\u001b[39;00m), \n\u001b[1;32m     31\u001b[0m                       local_cache_dir\u001b[38;5;241m=\u001b[39mlocal_cache_dir)\n\u001b[0;32m---> 32\u001b[0m \u001b[38;5;28;01mreturn\u001b[39;00m \u001b[43mloader\u001b[49m\u001b[38;5;241;43m.\u001b[39;49m\u001b[43mfetch_data\u001b[49m\u001b[43m(\u001b[49m\u001b[43mdataset_name\u001b[49m\u001b[43m,\u001b[49m\u001b[43m \u001b[49m\u001b[43mreturn_X_y\u001b[49m\u001b[38;5;241;43m=\u001b[39;49m\u001b[43mreturn_X_y\u001b[49m\u001b[43m,\u001b[49m\u001b[43m \u001b[49m\u001b[43mdropna\u001b[49m\u001b[38;5;241;43m=\u001b[39;49m\u001b[43mdropna\u001b[49m\u001b[43m)\u001b[49m\n",
      "File \u001b[0;32m~/Desktop/Jan25_Dump/mode-choice-benchmarking-sandbox/mcbs/datasets/dataset_loader.py:234\u001b[0m, in \u001b[0;36mDatasetLoader.fetch_data\u001b[0;34m(self, dataset_name, return_X_y, dropna)\u001b[0m\n\u001b[1;32m    232\u001b[0m     logger\u001b[38;5;241m.\u001b[39minfo(\u001b[38;5;124mf\u001b[39m\u001b[38;5;124m\"\u001b[39m\u001b[38;5;124mLocal cache disabled. Downloading dataset from remote source.\u001b[39m\u001b[38;5;124m\"\u001b[39m)\n\u001b[1;32m    233\u001b[0m     dataset_url \u001b[38;5;241m=\u001b[39m \u001b[38;5;28mself\u001b[39m\u001b[38;5;241m.\u001b[39m_get_dataset_url(filename)\n\u001b[0;32m--> 234\u001b[0m     df \u001b[38;5;241m=\u001b[39m \u001b[38;5;28;43mself\u001b[39;49m\u001b[38;5;241;43m.\u001b[39;49m\u001b[43m_download_dataset\u001b[49m\u001b[43m(\u001b[49m\u001b[43mdataset_url\u001b[49m\u001b[43m,\u001b[49m\u001b[43m \u001b[49m\u001b[43mfilename\u001b[49m\u001b[43m)\u001b[49m\n\u001b[1;32m    236\u001b[0m \u001b[38;5;28;01mif\u001b[39;00m dropna:\n\u001b[1;32m    237\u001b[0m     df \u001b[38;5;241m=\u001b[39m df\u001b[38;5;241m.\u001b[39mdropna()\n",
      "File \u001b[0;32m~/Desktop/Jan25_Dump/mode-choice-benchmarking-sandbox/mcbs/datasets/dataset_loader.py:291\u001b[0m, in \u001b[0;36mDatasetLoader._download_dataset\u001b[0;34m(self, dataset_url, filename)\u001b[0m\n\u001b[1;32m    288\u001b[0m         \u001b[38;5;28;01mraise\u001b[39;00m \u001b[38;5;167;01mValueError\u001b[39;00m(\u001b[38;5;124mf\u001b[39m\u001b[38;5;124m\"\u001b[39m\u001b[38;5;124mUnsupported file format: \u001b[39m\u001b[38;5;132;01m{\u001b[39;00mfile_extension\u001b[38;5;132;01m}\u001b[39;00m\u001b[38;5;124m\"\u001b[39m)\n\u001b[1;32m    290\u001b[0m \u001b[38;5;28;01mexcept\u001b[39;00m requests\u001b[38;5;241m.\u001b[39mexceptions\u001b[38;5;241m.\u001b[39mRequestException \u001b[38;5;28;01mas\u001b[39;00m e:\n\u001b[0;32m--> 291\u001b[0m     \u001b[38;5;28;01mraise\u001b[39;00m \u001b[38;5;167;01mConnectionError\u001b[39;00m(\u001b[38;5;124mf\u001b[39m\u001b[38;5;124m\"\u001b[39m\u001b[38;5;124mError downloading dataset: \u001b[39m\u001b[38;5;132;01m{\u001b[39;00m\u001b[38;5;28mstr\u001b[39m(e)\u001b[38;5;132;01m}\u001b[39;00m\u001b[38;5;124m\"\u001b[39m)\n",
      "\u001b[0;31mConnectionError\u001b[0m: Error downloading dataset: 404 Client Error: Not Found for url: https://raw.githubusercontent.com/carlosguirado/mcbs-datasets/main/datasets/swissmetro/swissmetro.csv.gz"
     ]
    }
   ],
   "source": [
    "# Load the Swissmetro dataset\n",
    "swissmetro_data = fetch_data('swissmetro_dataset')\n",
    "\n",
    "# Display basic information about the dataset\n",
    "print(f\"Dataset shape: {swissmetro_data.shape}\")\n",
    "print(f\"\\nColumn names:\")\n",
    "print(\", \".join(swissmetro_data.columns))\n",
    "\n",
    "# Display the first 5 rows\n",
    "swissmetro_data.head()"
   ]
  },
  {
   "cell_type": "markdown",
   "metadata": {},
   "source": [
    "## 4. Basic Data Exploration\n",
    "\n",
    "Now let's do some basic exploration of the loaded dataset."
   ]
  },
  {
   "cell_type": "code",
   "execution_count": 6,
   "metadata": {},
   "outputs": [
    {
     "ename": "NameError",
     "evalue": "name 'swissmetro_data' is not defined",
     "output_type": "error",
     "traceback": [
      "\u001b[0;31m---------------------------------------------------------------------------\u001b[0m",
      "\u001b[0;31mNameError\u001b[0m                                 Traceback (most recent call last)",
      "Cell \u001b[0;32mIn[6], line 2\u001b[0m\n\u001b[1;32m      1\u001b[0m \u001b[38;5;66;03m# Check data types\u001b[39;00m\n\u001b[0;32m----> 2\u001b[0m \u001b[43mswissmetro_data\u001b[49m\u001b[38;5;241m.\u001b[39mdtypes\n",
      "\u001b[0;31mNameError\u001b[0m: name 'swissmetro_data' is not defined"
     ]
    }
   ],
   "source": [
    "# Check data types\n",
    "swissmetro_data.dtypes"
   ]
  },
  {
   "cell_type": "code",
   "execution_count": 7,
   "metadata": {},
   "outputs": [
    {
     "ename": "NameError",
     "evalue": "name 'swissmetro_data' is not defined",
     "output_type": "error",
     "traceback": [
      "\u001b[0;31m---------------------------------------------------------------------------\u001b[0m",
      "\u001b[0;31mNameError\u001b[0m                                 Traceback (most recent call last)",
      "Cell \u001b[0;32mIn[7], line 2\u001b[0m\n\u001b[1;32m      1\u001b[0m \u001b[38;5;66;03m# Summary statistics\u001b[39;00m\n\u001b[0;32m----> 2\u001b[0m \u001b[43mswissmetro_data\u001b[49m\u001b[38;5;241m.\u001b[39mdescribe()\n",
      "\u001b[0;31mNameError\u001b[0m: name 'swissmetro_data' is not defined"
     ]
    }
   ],
   "source": [
    "# Summary statistics\n",
    "swissmetro_data.describe()"
   ]
  },
  {
   "cell_type": "markdown",
   "metadata": {},
   "source": [
    "## 5. Visualizing Mode Choices\n",
    "\n",
    "Let's create a simple visualization of the mode choices in the dataset."
   ]
  },
  {
   "cell_type": "code",
   "execution_count": null,
   "metadata": {},
   "outputs": [],
   "source": [
    "# Check the target variable distribution\n",
    "target_column = get_dataset_info('swissmetro_dataset').get('target', 'CHOICE')\n",
    "\n",
    "# Create a bar plot of the mode choices\n",
    "plt.figure(figsize=(10, 6))\n",
    "mode_counts = swissmetro_data[target_column].value_counts()\n",
    "sns.barplot(x=mode_counts.index, y=mode_counts.values)\n",
    "plt.title('Distribution of Mode Choices in Swissmetro Dataset')\n",
    "plt.xlabel('Mode Choice')\n",
    "plt.ylabel('Count')\n",
    "plt.xticks(rotation=0)\n",
    "plt.show()\n",
    "\n",
    "# Display the percentage of each mode\n",
    "mode_percentages = (mode_counts / mode_counts.sum() * 100).round(2)\n",
    "mode_df = pd.DataFrame({\n",
    "    'Count': mode_counts,\n",
    "    'Percentage': mode_percentages\n",
    "})\n",
    "mode_df"
   ]
  },
  {
   "cell_type": "markdown",
   "metadata": {},
   "source": [
    "## 6. Loading a Different Dataset\n",
    "\n",
    "Let's load another dataset to demonstrate how easy it is to switch between datasets."
   ]
  },
  {
   "cell_type": "code",
   "execution_count": null,
   "metadata": {},
   "outputs": [],
   "source": [
    "# Load the LTDS dataset\n",
    "ltds_data = fetch_data('ltds_dataset')\n",
    "\n",
    "# Display basic information\n",
    "print(f\"Dataset shape: {ltds_data.shape}\")\n",
    "print(f\"\\nColumn names:\")\n",
    "print(\", \".join(ltds_data.columns))\n",
    "\n",
    "# Display the first 5 rows\n",
    "ltds_data.head()"
   ]
  },
  {
   "cell_type": "markdown",
   "metadata": {},
   "source": [
    "## 7. Checking Dataset Cache\n",
    "\n",
    "By default, datasets are cached in the `~/.mcbs/datasets` directory. Let's check the cache to see which datasets have been downloaded."
   ]
  },
  {
   "cell_type": "code",
   "execution_count": 9,
   "metadata": {},
   "outputs": [
    {
     "name": "stdout",
     "output_type": "stream",
     "text": [
      "Cached datasets in /Users/carlosguirado/.mcbs/datasets:\n",
      "- swissmetro\n"
     ]
    }
   ],
   "source": [
    "import os\n",
    "from pathlib import Path\n",
    "\n",
    "# Get the default cache directory\n",
    "cache_dir = os.path.join(str(Path.home()), '.mcbs', 'datasets')\n",
    "\n",
    "# List cached datasets\n",
    "if os.path.exists(cache_dir):\n",
    "    print(f\"Cached datasets in {cache_dir}:\")\n",
    "    for root, dirs, files in os.walk(cache_dir):\n",
    "        for directory in dirs:\n",
    "            if directory not in ['__pycache__']:\n",
    "                print(f\"- {directory}\")\n",
    "else:\n",
    "    print(f\"Cache directory {cache_dir} does not exist yet.\")"
   ]
  },
  {
   "cell_type": "markdown",
   "metadata": {},
   "source": [
    "## 8. How Does the Dynamic Discovery Work?\n",
    "\n",
    "The dataset discovery works by:\n",
    "\n",
    "1. First checking local metadata for known datasets\n",
    "2. Fetching remote metadata from the GitHub repository\n",
    "3. Using the GitHub API to discover dataset directories in the repository\n",
    "\n",
    "This means MCBS can discover datasets that were added after the package was released!"
   ]
  },
  {
   "cell_type": "markdown",
   "metadata": {},
   "source": [
    "## Conclusion\n",
    "\n",
    "The MCBS dataset loader provides a simple and powerful way to access transportation mode choice datasets. Key benefits:\n",
    "\n",
    "- **One-line data loading**: `data = fetch_data('dataset_name')`\n",
    "- **Dynamic discovery**: Always finds the latest datasets\n",
    "- **Automatic caching**: Fast access to previously used datasets\n",
    "- **Consistent interface**: All datasets follow the same format\n",
    "\n",
    "This makes it easy to benchmark models across multiple datasets without having to worry about data preprocessing or storage."
   ]
  }
 ],
 "metadata": {
  "kernelspec": {
   "display_name": "test_env",
   "language": "python",
   "name": "python3"
  },
  "language_info": {
   "codemirror_mode": {
    "name": "ipython",
    "version": 3
   },
   "file_extension": ".py",
   "mimetype": "text/x-python",
   "name": "python",
   "nbconvert_exporter": "python",
   "pygments_lexer": "ipython3",
   "version": "3.10.15"
  }
 },
 "nbformat": 4,
 "nbformat_minor": 4
}
