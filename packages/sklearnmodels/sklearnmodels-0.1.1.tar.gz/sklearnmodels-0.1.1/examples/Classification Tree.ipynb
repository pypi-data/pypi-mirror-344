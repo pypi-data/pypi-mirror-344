{
 "cells": [
  {
   "cell_type": "markdown",
   "metadata": {},
   "source": [
    "# Classification Tree Tutorial  \n",
    "In this notebook, we'll train and evaluate a ClassificationTree model on a sample dataset\n",
    "\n",
    "We'll start by loading a dataset; in this case, the infamous golf dataset to predict if a given day has the adequate climate to play golf."
   ]
  },
  {
   "cell_type": "code",
   "execution_count": null,
   "metadata": {},
   "outputs": [
    {
     "name": "stdout",
     "output_type": "stream",
     "text": [
      "The autoreload extension is already loaded. To reload it, use:\n",
      "  %reload_ext autoreload\n",
      "    Ambiente  Temperatura  Humedad Viento\n",
      "0    soleado           85       85     NO\n",
      "1    soleado           80       90     SI\n",
      "2    nublado           83       86     NO\n",
      "3   lluvioso           70       96     NO\n",
      "4   lluvioso           68       80     NO\n",
      "5   lluvioso           65       70     SI\n",
      "6    nublado           64       65     SI\n",
      "7    soleado           72       95     NO\n",
      "8    soleado           69       70     NO\n",
      "9   lluvioso           75       80     NO\n",
      "10   soleado           75       70     SI\n",
      "11   nublado           72       90     SI\n",
      "12   nublado           81       75     NO\n",
      "13  lluvioso           71       91     SI\n",
      "(14, 1)\n",
      "['No' 'Si']\n"
     ]
    }
   ],
   "source": [
    "%load_ext autoreload \n",
    "%autoreload 2\n",
    "\n",
    "import numpy as np\n",
    "import pandas as pd\n",
    "from sklearn.preprocessing import LabelEncoder\n",
    "import sklearn.datasets\n",
    "\n",
    "def read_classification_dataset(url:str):\n",
    "    df = pd.read_csv(url)\n",
    "    x = df.iloc[:,:-1]\n",
    "    le = LabelEncoder().fit(df.iloc[:,-1])\n",
    "    y = le.transform(df.iloc[:,-1])\n",
    "    y = y.reshape(len(y),1)\n",
    "    return x,y,le.classes_\n",
    "\n",
    "dataset_name=\"golf_classification\"\n",
    "url = \"https://raw.githubusercontent.com/facundoq/facundoq.github.io/refs/heads/master/datasets/classification/golf_classification_numeric.csv\"\n",
    "x,y,class_names = read_classification_dataset(url)\n",
    "\n",
    "print(x)\n",
    "print(y.shape)\n",
    "print(class_names)"
   ]
  },
  {
   "cell_type": "markdown",
   "metadata": {},
   "source": [
    "# Model definition\n",
    "To define our model, we must first create a `TreeTrainer` object. This object will actually take care of the training process for the `Tree` when we call `predict`. The `TreeTrainer` requires some configuration: a `GlobalError` object that can evaluate columns on each split, and a `PruneCriteria` to know then to stop growing the tree.\n",
    "\n",
    "In this case, we are using the `MixedGlobalError`, with different column splitters for nominal and numeric attributes. In the case of the numeric columns, the `DiscretizingNumericColumnSplitter` with the `OptimizingDiscretizationStrategy` will look for the best binary discretization of each numeric attribute on each split.\n",
    "\n",
    "Additionally, the `MixedGlobalError` uses an `EntropyMetric` error to evaluate the predictions of the tree; this can be replaced with a `GiniIndex` or any other custom error metric."
   ]
  },
  {
   "cell_type": "code",
   "execution_count": null,
   "metadata": {},
   "outputs": [],
   "source": [
    "from sklearnmodels import tree\n",
    "\n",
    "def get_model(classes:int):\n",
    "    numeric_discretization_strategy = tree.OptimizingDiscretizationStrategy(max_evals=30)\n",
    "    column_errors = {\n",
    "        \"number\":tree.DiscretizingNumericColumnSplitter(numeric_discretization_strategy),\n",
    "        \"object\":tree.NominalColumnSplitter(),\n",
    "        \"bool\":tree.NominalColumnSplitter()\n",
    "    }\n",
    "    global_error = tree.MixedGlobalError(column_errors,tree.EntropyMetric(classes))\n",
    "    prune_criteria = tree.PruneCriteria(max_height=5,min_samples_leaf=2,min_error_improvement=0.01)\n",
    "    trainer = tree.BaseTreeTrainer(global_error,prune_criteria)\n",
    "    model = tree.SKLearnClassificationTree(trainer)\n",
    "    return model\n"
   ]
  },
  {
   "cell_type": "markdown",
   "metadata": {},
   "source": [
    "# Training and evaluation\n",
    "\n",
    "To make this short, we'll both train and evaluate on the train set using the typical `fit` and `predict` methods. This is no different than with any other `scikit-learn` models."
   ]
  },
  {
   "cell_type": "code",
   "execution_count": 14,
   "metadata": {},
   "outputs": [
    {
     "name": "stdout",
     "output_type": "stream",
     "text": [
      "Dataset golf_classification_nominal              accuracy: 71.43%\n"
     ]
    }
   ],
   "source": [
    "from sklearn.metrics import accuracy_score\n",
    "\n",
    "model = get_model(len(class_names))\n",
    "\n",
    "model.fit(x,y)\n",
    "y_pred = model.predict(x)\n",
    "print(f\"Dataset {dataset_name:40} accuracy: {accuracy_score(y,y_pred)*100:.2f}%\")\n"
   ]
  },
  {
   "cell_type": "markdown",
   "metadata": {},
   "source": [
    "# Visualization\n",
    "Finally, we'll want to visualize our trained tree. We have to choices: a plain text pretty printing of the tree (`Tree.pretty_print()`), or a full blown `graphviz` graph (`tree.export_dot(...)`).\n",
    "\n",
    "In both cases, well have to grab the `tree` property from our `model`, that holds the actual tree."
   ]
  },
  {
   "cell_type": "code",
   "execution_count": 15,
   "metadata": {},
   "outputs": [
    {
     "name": "stdout",
     "output_type": "stream",
     "text": [
      "root\n",
      "|   🪵Ambiente=soleado => \n",
      "|   |   🪵Humedad > 70 => 🍁([1. 0.],n=3)\n",
      "|   🪵Ambiente=nublado => 🍁([0. 1.],n=4)\n",
      "|   🪵Ambiente=lluvioso => \n",
      "|   |   🪵Viento=NO => 🍁([0. 1.],n=3)\n"
     ]
    }
   ],
   "source": [
    "print(model.tree.pretty_print())"
   ]
  },
  {
   "cell_type": "code",
   "execution_count": 16,
   "metadata": {},
   "outputs": [
    {
     "data": {
      "image/svg+xml": [
       "<?xml version=\"1.0\" encoding=\"UTF-8\" standalone=\"no\"?>\n",
       "<!DOCTYPE svg PUBLIC \"-//W3C//DTD SVG 1.1//EN\"\n",
       " \"http://www.w3.org/Graphics/SVG/1.1/DTD/svg11.dtd\">\n",
       "<!-- Generated by graphviz version 2.43.0 (0)\n",
       " -->\n",
       "<!-- Title: Tree Pages: 1 -->\n",
       "<svg width=\"1213pt\" height=\"416pt\"\n",
       " viewBox=\"0.00 0.00 1213.00 416.42\" xmlns=\"http://www.w3.org/2000/svg\" xmlns:xlink=\"http://www.w3.org/1999/xlink\">\n",
       "<g id=\"graph0\" class=\"graph\" transform=\"scale(1 1) rotate(0) translate(18 398.42)\">\n",
       "<title>Tree</title>\n",
       "<polygon fill=\"white\" stroke=\"transparent\" points=\"-18,18 -18,-398.42 1195,-398.42 1195,18 -18,18\"/>\n",
       "<!-- 0 -->\n",
       "<g id=\"node1\" class=\"node\">\n",
       "<title>0</title>\n",
       "<polygon fill=\"white\" stroke=\"transparent\" points=\"1177,-380.42 0,-380.42 0,-344.42 1177,-344.42 1177,-380.42\"/>\n",
       "<text text-anchor=\"middle\" x=\"588.5\" y=\"-358.72\" font-family=\"Helvetica,sans-Serif\" font-size=\"14.00\">TreeTrainer(Error(EntropyMetric(classes=2)),Prune(min_error_improvement=0.01, min_samples_leaf=3, min_samples_split=1, max_height=5, error_tolerance=1e&#45;16))</text>\n",
       "</g>\n",
       "<!-- 1 -->\n",
       "<g id=\"node2\" class=\"node\">\n",
       "<title>1</title>\n",
       "<polygon fill=\"#cc3d3d\" stroke=\"black\" points=\"666,-307.42 511,-307.42 511,-243.42 666,-243.42 666,-307.42\"/>\n",
       "<text text-anchor=\"start\" x=\"547.5\" y=\"-293.22\" font-family=\"Helvetica,sans-Serif\" font-weight=\"bold\" font-size=\"14.00\"> Class=Si </text>\n",
       "<text text-anchor=\"start\" x=\"624.5\" y=\"-293.22\" font-family=\"Helvetica,sans-Serif\" font-size=\"14.00\"> </text>\n",
       "<text text-anchor=\"start\" x=\"519\" y=\"-279.22\" font-family=\"Helvetica,sans-Serif\" font-size=\"14.00\"> error: 0.940, n=14 </text>\n",
       "<text text-anchor=\"start\" x=\"533.5\" y=\"-265.22\" font-family=\"Helvetica,sans-Serif\" font-size=\"14.00\"> p: (0.36, 0.64) </text>\n",
       "<text text-anchor=\"start\" x=\"550.5\" y=\"-251.22\" font-family=\"Helvetica,sans-Serif\" font-weight=\"bold\" font-size=\"14.00\">Ambiente</text>\n",
       "</g>\n",
       "<!-- 0&#45;&gt;1 -->\n",
       "<!-- 2 -->\n",
       "<g id=\"node3\" class=\"node\">\n",
       "<title>2</title>\n",
       "<polygon fill=\"#64e544\" stroke=\"black\" points=\"413.5,-189.07 267.5,-189.07 267.5,-125.07 413.5,-125.07 413.5,-189.07\"/>\n",
       "<text text-anchor=\"start\" x=\"295.5\" y=\"-174.87\" font-family=\"Helvetica,sans-Serif\" font-weight=\"bold\" font-size=\"14.00\"> Class=No </text>\n",
       "<text text-anchor=\"start\" x=\"380.5\" y=\"-174.87\" font-family=\"Helvetica,sans-Serif\" font-size=\"14.00\"> </text>\n",
       "<text text-anchor=\"start\" x=\"275.5\" y=\"-160.87\" font-family=\"Helvetica,sans-Serif\" font-size=\"14.00\"> error: 0.971, n=5 </text>\n",
       "<text text-anchor=\"start\" x=\"285.5\" y=\"-146.87\" font-family=\"Helvetica,sans-Serif\" font-size=\"14.00\"> p: (0.60, 0.40) </text>\n",
       "<text text-anchor=\"start\" x=\"302.5\" y=\"-132.87\" font-family=\"Helvetica,sans-Serif\" font-weight=\"bold\" font-size=\"14.00\">Humedad</text>\n",
       "</g>\n",
       "<!-- 1&#45;&gt;2 -->\n",
       "<g id=\"edge2\" class=\"edge\">\n",
       "<title>1:s&#45;&gt;2:n</title>\n",
       "<path fill=\"none\" stroke=\"black\" d=\"M588.5,-243.42C588.5,-243.42 396.93,-202.21 350.53,-192.22\"/>\n",
       "<polygon fill=\"black\" stroke=\"black\" points=\"351.01,-188.75 340.5,-190.07 349.54,-195.59 351.01,-188.75\"/>\n",
       "<text text-anchor=\"middle\" x=\"528.5\" y=\"-214.22\" font-family=\"Helvetica,sans-Serif\" font-size=\"14.00\">soleado</text>\n",
       "</g>\n",
       "<!-- 4 -->\n",
       "<g id=\"node5\" class=\"node\">\n",
       "<title>4</title>\n",
       "<ellipse fill=\"#64e544\" stroke=\"black\" cx=\"588.5\" cy=\"-157.07\" rx=\"103.48\" ry=\"35.21\"/>\n",
       "<text text-anchor=\"start\" x=\"547.5\" y=\"-167.87\" font-family=\"Helvetica,sans-Serif\" font-weight=\"bold\" font-size=\"14.00\"> Class=Si </text>\n",
       "<text text-anchor=\"start\" x=\"624.5\" y=\"-167.87\" font-family=\"Helvetica,sans-Serif\" font-size=\"14.00\"> </text>\n",
       "<text text-anchor=\"start\" x=\"523.5\" y=\"-153.87\" font-family=\"Helvetica,sans-Serif\" font-size=\"14.00\"> error: 0.000, n=4 </text>\n",
       "<text text-anchor=\"start\" x=\"533.5\" y=\"-139.87\" font-family=\"Helvetica,sans-Serif\" font-size=\"14.00\"> p: (0.00, 1.00) </text>\n",
       "</g>\n",
       "<!-- 1&#45;&gt;4 -->\n",
       "<g id=\"edge4\" class=\"edge\">\n",
       "<title>1:s&#45;&gt;4:n</title>\n",
       "<path fill=\"none\" stroke=\"black\" d=\"M588.5,-243.42C588.5,-243.42 588.5,-217.64 588.5,-202.74\"/>\n",
       "<polygon fill=\"black\" stroke=\"black\" points=\"592,-202.42 588.5,-192.42 585,-202.42 592,-202.42\"/>\n",
       "<text text-anchor=\"middle\" x=\"617\" y=\"-214.22\" font-family=\"Helvetica,sans-Serif\" font-size=\"14.00\">nublado</text>\n",
       "</g>\n",
       "<!-- 5 -->\n",
       "<g id=\"node6\" class=\"node\">\n",
       "<title>5</title>\n",
       "<polygon fill=\"#64e544\" stroke=\"black\" points=\"909.5,-189.07 763.5,-189.07 763.5,-125.07 909.5,-125.07 909.5,-189.07\"/>\n",
       "<text text-anchor=\"start\" x=\"795.5\" y=\"-174.87\" font-family=\"Helvetica,sans-Serif\" font-weight=\"bold\" font-size=\"14.00\"> Class=Si </text>\n",
       "<text text-anchor=\"start\" x=\"872.5\" y=\"-174.87\" font-family=\"Helvetica,sans-Serif\" font-size=\"14.00\"> </text>\n",
       "<text text-anchor=\"start\" x=\"771.5\" y=\"-160.87\" font-family=\"Helvetica,sans-Serif\" font-size=\"14.00\"> error: 0.971, n=5 </text>\n",
       "<text text-anchor=\"start\" x=\"781.5\" y=\"-146.87\" font-family=\"Helvetica,sans-Serif\" font-size=\"14.00\"> p: (0.40, 0.60) </text>\n",
       "<text text-anchor=\"start\" x=\"810.5\" y=\"-132.87\" font-family=\"Helvetica,sans-Serif\" font-weight=\"bold\" font-size=\"14.00\">Viento</text>\n",
       "</g>\n",
       "<!-- 1&#45;&gt;5 -->\n",
       "<g id=\"edge5\" class=\"edge\">\n",
       "<title>1:s&#45;&gt;5:n</title>\n",
       "<path fill=\"none\" stroke=\"black\" d=\"M588.5,-243.42C588.5,-243.42 780.07,-202.21 826.47,-192.22\"/>\n",
       "<polygon fill=\"black\" stroke=\"black\" points=\"827.46,-195.59 836.5,-190.07 825.99,-188.75 827.46,-195.59\"/>\n",
       "<text text-anchor=\"middle\" x=\"761\" y=\"-214.22\" font-family=\"Helvetica,sans-Serif\" font-size=\"14.00\">lluvioso</text>\n",
       "</g>\n",
       "<!-- 3 -->\n",
       "<g id=\"node4\" class=\"node\">\n",
       "<title>3</title>\n",
       "<ellipse fill=\"#3d76cc\" stroke=\"black\" cx=\"340.5\" cy=\"-35.36\" rx=\"103.48\" ry=\"35.21\"/>\n",
       "<text text-anchor=\"start\" x=\"295.5\" y=\"-46.16\" font-family=\"Helvetica,sans-Serif\" font-weight=\"bold\" font-size=\"14.00\"> Class=No </text>\n",
       "<text text-anchor=\"start\" x=\"380.5\" y=\"-46.16\" font-family=\"Helvetica,sans-Serif\" font-size=\"14.00\"> </text>\n",
       "<text text-anchor=\"start\" x=\"275.5\" y=\"-32.16\" font-family=\"Helvetica,sans-Serif\" font-size=\"14.00\"> error: 0.000, n=3 </text>\n",
       "<text text-anchor=\"start\" x=\"285.5\" y=\"-18.16\" font-family=\"Helvetica,sans-Serif\" font-size=\"14.00\"> p: (1.00, 0.00) </text>\n",
       "</g>\n",
       "<!-- 2&#45;&gt;3 -->\n",
       "<g id=\"edge3\" class=\"edge\">\n",
       "<title>2:s&#45;&gt;3:n</title>\n",
       "<path fill=\"none\" stroke=\"black\" d=\"M340.5,-124.07C340.5,-124.07 340.5,-96.5 340.5,-81\"/>\n",
       "<polygon fill=\"black\" stroke=\"black\" points=\"344,-80.71 340.5,-70.71 337,-80.71 344,-80.71\"/>\n",
       "<text text-anchor=\"middle\" x=\"358\" y=\"-92.51\" font-family=\"Helvetica,sans-Serif\" font-size=\"14.00\">&gt; 70</text>\n",
       "</g>\n",
       "<!-- 6 -->\n",
       "<g id=\"node7\" class=\"node\">\n",
       "<title>6</title>\n",
       "<ellipse fill=\"#3d76cc\" stroke=\"black\" cx=\"836.5\" cy=\"-35.36\" rx=\"103.48\" ry=\"35.21\"/>\n",
       "<text text-anchor=\"start\" x=\"795.5\" y=\"-46.16\" font-family=\"Helvetica,sans-Serif\" font-weight=\"bold\" font-size=\"14.00\"> Class=Si </text>\n",
       "<text text-anchor=\"start\" x=\"872.5\" y=\"-46.16\" font-family=\"Helvetica,sans-Serif\" font-size=\"14.00\"> </text>\n",
       "<text text-anchor=\"start\" x=\"771.5\" y=\"-32.16\" font-family=\"Helvetica,sans-Serif\" font-size=\"14.00\"> error: 0.000, n=3 </text>\n",
       "<text text-anchor=\"start\" x=\"781.5\" y=\"-18.16\" font-family=\"Helvetica,sans-Serif\" font-size=\"14.00\"> p: (0.00, 1.00) </text>\n",
       "</g>\n",
       "<!-- 5&#45;&gt;6 -->\n",
       "<g id=\"edge6\" class=\"edge\">\n",
       "<title>5:s&#45;&gt;6:n</title>\n",
       "<path fill=\"none\" stroke=\"black\" d=\"M836.5,-124.07C836.5,-124.07 836.5,-96.5 836.5,-81\"/>\n",
       "<polygon fill=\"black\" stroke=\"black\" points=\"840,-80.71 836.5,-70.71 833,-80.71 840,-80.71\"/>\n",
       "<text text-anchor=\"middle\" x=\"847.5\" y=\"-92.51\" font-family=\"Helvetica,sans-Serif\" font-size=\"14.00\">NO</text>\n",
       "</g>\n",
       "</g>\n",
       "</svg>\n"
      ],
      "text/plain": [
       "<graphviz.sources.Source at 0x73638d6e8ce0>"
      ]
     },
     "execution_count": 16,
     "metadata": {},
     "output_type": "execute_result"
    }
   ],
   "source": [
    "import graphviz \n",
    "dot_graph = tree.export_dot(model.tree,title=f\"{model.trainer}\",class_names=class_names)\n",
    "graphviz.Source(dot_graph)\n"
   ]
  },
  {
   "cell_type": "markdown",
   "metadata": {},
   "source": []
  }
 ],
 "metadata": {
  "kernelspec": {
   "display_name": ".venv",
   "language": "python",
   "name": "python3"
  },
  "language_info": {
   "codemirror_mode": {
    "name": "ipython",
    "version": 3
   },
   "file_extension": ".py",
   "mimetype": "text/x-python",
   "name": "python",
   "nbconvert_exporter": "python",
   "pygments_lexer": "ipython3",
   "version": "3.12.3"
  }
 },
 "nbformat": 4,
 "nbformat_minor": 2
}
