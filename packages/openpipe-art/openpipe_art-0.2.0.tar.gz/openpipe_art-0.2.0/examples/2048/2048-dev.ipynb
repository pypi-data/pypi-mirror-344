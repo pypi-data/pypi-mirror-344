{
 "cells": [
  {
   "cell_type": "code",
   "execution_count": 1,
   "metadata": {},
   "outputs": [
    {
     "name": "stdout",
     "output_type": "stream",
     "text": [
      "Requirement already satisfied: numpy<2.0.0 in /root/miniconda3/lib/python3.10/site-packages (1.26.4)\n",
      "\u001b[33mWARNING: Running pip as the 'root' user can result in broken permissions and conflicting behaviour with the system package manager. It is recommended to use a virtual environment instead: https://pip.pypa.io/warnings/venv\u001b[0m\u001b[33m\n",
      "\u001b[0m"
     ]
    }
   ],
   "source": [
    "!pip install \"numpy<2.0.0\""
   ]
  },
  {
   "cell_type": "code",
   "execution_count": 2,
   "metadata": {},
   "outputs": [
    {
     "name": "stdout",
     "output_type": "stream",
     "text": [
      "Numpy version is 1.*.*, you're good to go!\n"
     ]
    }
   ],
   "source": [
    "# make sure we're using numpy 1.*.*\n",
    "import numpy as np\n",
    "\n",
    "if (np.__version__).startswith(\"1.\"):\n",
    "    print(\"Numpy version is 1.*.*, you're good to go!\")\n",
    "else:\n",
    "    raise ValueError(\"Please restart your runtime using the above instructions!\")"
   ]
  },
  {
   "cell_type": "code",
   "execution_count": 3,
   "metadata": {},
   "outputs": [],
   "source": [
    "import os\n",
    "\n",
    "\n",
    "# Optional\n",
    "WANDB_API_KEY = \"\"\n",
    "if WANDB_API_KEY:\n",
    "    os.environ[\"WANDB_API_KEY\"] = WANDB_API_KEY\n",
    "\n",
    "# Optional\n",
    "OPENPIPE_API_KEY = \"\"\n",
    "if OPENPIPE_API_KEY:\n",
    "    os.environ[\"OPENPIPE_API_KEY\"] = OPENPIPE_API_KEY"
   ]
  },
  {
   "cell_type": "code",
   "execution_count": 4,
   "metadata": {},
   "outputs": [],
   "source": [
    "%%capture\n",
    "!uv pip install openpipe-art openpipe --prerelease allow --no-cache-dir"
   ]
  },
  {
   "cell_type": "code",
   "execution_count": 5,
   "metadata": {},
   "outputs": [],
   "source": [
    "from dotenv import load_dotenv\n",
    "import random\n",
    "from typing import TypedDict\n",
    "from typing import Literal\n",
    "import string\n",
    "import xml.etree.ElementTree as ET\n",
    "\n",
    "load_dotenv()\n",
    "\n",
    "WINNING_VALUE = 256\n",
    "\n",
    "\n",
    "# Class that keeps track of state for a single game of 2048\n",
    "class TwentyFortyEightGame(TypedDict):\n",
    "    id: str\n",
    "    board: list[list[int | None]]\n",
    "\n",
    "\n",
    "# Randomly populates a cell on the board with a 2 or 4\n",
    "def populate_random_cell(game: TwentyFortyEightGame) -> None:\n",
    "    all_clear_coordinates = [\n",
    "        (i, j)\n",
    "        for i in range(len(game[\"board\"]))\n",
    "        for j in range(len(game[\"board\"][i]))\n",
    "        if game[\"board\"][i][j] is None\n",
    "    ]\n",
    "    random_clear_coordinates = random.choice(all_clear_coordinates)\n",
    "    # 90% chance to populate a 2, 10% chance to populate a 4\n",
    "    game[\"board\"][random_clear_coordinates[0]][random_clear_coordinates[1]] = (\n",
    "        2 if random.random() < 0.9 else 4\n",
    "    )\n",
    "\n",
    "\n",
    "# Generates a new game of 2048\n",
    "def generate_game(board_length: int = 4) -> TwentyFortyEightGame:\n",
    "    # random 6 character string\n",
    "    id = \"\".join(random.choices(string.ascii_letters + string.digits, k=6))\n",
    "    game = {\n",
    "        \"id\": id,\n",
    "        \"board\": [[None for _ in range(board_length)] for _ in range(board_length)],\n",
    "    }\n",
    "\n",
    "    # populate two random cells\n",
    "    populate_random_cell(game)\n",
    "    populate_random_cell(game)\n",
    "\n",
    "    return game\n",
    "\n",
    "\n",
    "# Renders the board in a human-readable format\n",
    "def render_board(game: TwentyFortyEightGame) -> str:\n",
    "    board = game[\"board\"]\n",
    "    # print something like this:\n",
    "    # _    | 2    | _    | 4\n",
    "    # 4    | 8    | 2    | 16\n",
    "    # 16   | 32   | 64   | 128\n",
    "    # _    | 2    | 2    | 4\n",
    "    # where _ is an empty cell\n",
    "\n",
    "    max_cell_width = max(\n",
    "        [len(str(cell)) for row in board for cell in row if cell is not None]\n",
    "    )\n",
    "\n",
    "    board_str = \"\"\n",
    "    for row in board:\n",
    "        # pad the cells with spaces to make them the same width\n",
    "        board_str += \"|\".join(\n",
    "            [\n",
    "                str(cell).rjust(max_cell_width)\n",
    "                if cell is not None\n",
    "                else \"_\".rjust(max_cell_width)\n",
    "                for cell in row\n",
    "            ]\n",
    "        )\n",
    "        board_str += \"\\n\"\n",
    "    return board_str\n",
    "\n",
    "\n",
    "# condense, privileging matches at the start of the sequence\n",
    "# sequences should be passed starting with cells that are the furthest in the direction in which the board is being condensed\n",
    "def condense_sequence(sequence: list[int | None]) -> list[int | None]:\n",
    "    condensed_sequence = []\n",
    "\n",
    "    gapless_sequence = [cell for cell in sequence if cell is not None]\n",
    "\n",
    "    i = 0\n",
    "    while i < len(gapless_sequence):\n",
    "        if (\n",
    "            i + 1 < len(gapless_sequence)\n",
    "            and gapless_sequence[i] == gapless_sequence[i + 1]\n",
    "        ):\n",
    "            condensed_sequence.append(gapless_sequence[i] * 2)\n",
    "            i += 2\n",
    "        else:\n",
    "            condensed_sequence.append(gapless_sequence[i])\n",
    "            i += 1\n",
    "\n",
    "    # pad the sequence with None at the end\n",
    "    return condensed_sequence + [None] * (4 - len(condensed_sequence))\n",
    "\n",
    "\n",
    "# Condenses the board in a given direction\n",
    "def condense_board(\n",
    "    game: TwentyFortyEightGame, direction: Literal[\"left\", \"right\", \"up\", \"down\"]\n",
    ") -> None:\n",
    "    if direction == \"left\":\n",
    "        for row in game[\"board\"]:\n",
    "            condensed_row = condense_sequence(row)\n",
    "            for i in range(len(row)):\n",
    "                row[i] = condensed_row[i]\n",
    "\n",
    "    if direction == \"right\":\n",
    "        for row in game[\"board\"]:\n",
    "            reversed_row = row[::-1]\n",
    "            # reverse the row before and after condensing\n",
    "            condensed_row = condense_sequence(reversed_row)[::-1]\n",
    "            for i in range(len(row)):\n",
    "                row[i] = condensed_row[i]\n",
    "\n",
    "    if direction == \"up\":\n",
    "        for col_index in range(len(game[\"board\"][0])):\n",
    "            column = [row[col_index] for row in game[\"board\"]]\n",
    "\n",
    "            condensed_column = condense_sequence(column)\n",
    "            for row_index in range(len(column)):\n",
    "                game[\"board\"][row_index][col_index] = condensed_column[row_index]\n",
    "\n",
    "    if direction == \"down\":\n",
    "        for col_index in range(len(game[\"board\"][0])):\n",
    "            column = [row[col_index] for row in game[\"board\"]]\n",
    "            reversed_column = column[::-1]\n",
    "            condensed_column = condense_sequence(reversed_column)[::-1]\n",
    "            for row_index in range(len(column)):\n",
    "                game[\"board\"][row_index][col_index] = condensed_column[row_index]\n",
    "\n",
    "\n",
    "# Applies an agent move to the game board\n",
    "def apply_agent_move(game: TwentyFortyEightGame, move_xml: str) -> None:\n",
    "    direction = None\n",
    "    # parse the move\n",
    "    try:\n",
    "        root = ET.fromstring(move_xml)\n",
    "        direction = root.text\n",
    "    except Exception as e:\n",
    "        raise ValueError(\"Invalid xml\")\n",
    "\n",
    "    if direction not in [\"left\", \"right\", \"up\", \"down\"]:\n",
    "        raise ValueError(\"Invalid direction\")\n",
    "\n",
    "    condense_board(game, direction)\n",
    "\n",
    "    populate_random_cell(game)\n",
    "\n",
    "\n",
    "# Returns the maximum cell value on the board\n",
    "def max_cell_value(game: TwentyFortyEightGame) -> int:\n",
    "    return max([cell for row in game[\"board\"] for cell in row if cell is not None])\n",
    "\n",
    "\n",
    "# Returns True if the game is finished\n",
    "def check_game_finished(game: TwentyFortyEightGame) -> bool:\n",
    "    if max_cell_value(game) >= WINNING_VALUE:\n",
    "        return True\n",
    "\n",
    "    # check if any cell is empty\n",
    "    if any(cell is None for row in game[\"board\"] for cell in row):\n",
    "        return False\n",
    "\n",
    "    return True\n",
    "\n",
    "\n",
    "# Returns the sum of all the cell values on the board\n",
    "def total_board_value(game: TwentyFortyEightGame) -> int:\n",
    "    return sum([cell for row in game[\"board\"] for cell in row if cell is not None])\n"
   ]
  },
  {
   "cell_type": "code",
   "execution_count": 6,
   "metadata": {},
   "outputs": [
    {
     "name": "stderr",
     "output_type": "stream",
     "text": [
      "/root/sky_workdir/src/art/local/state.py:5: UserWarning: WARNING: Unsloth should be imported before trl, transformers, peft to ensure all optimizations are applied. Your code may run slower or encounter memory issues without these optimizations.\n",
      "\n",
      "Please restructure your imports with 'import unsloth' at the top of your file.\n",
      "  import unsloth  # type: ignore\n"
     ]
    },
    {
     "name": "stdout",
     "output_type": "stream",
     "text": [
      "🦥 Unsloth: Will patch your computer to enable 2x faster free finetuning.\n",
      "Unsloth: Failed to patch Gemma3ForConditionalGeneration.\n",
      "🦥 Unsloth Zoo will now patch everything to make training faster!\n",
      "INFO 04-18 19:16:50 __init__.py:207] Automatically detected platform cuda.\n",
      "==((====))==  Unsloth 2025.3.19: Fast Qwen2 patching. Transformers: 4.51.1. vLLM: 0.7.3.\n",
      "   \\\\   /|    NVIDIA H100 PCIe. Num GPUs = 1. Max memory: 79.097 GB. Platform: Linux.\n",
      "O^O/ \\_/ \\    Torch: 2.5.1+cu124. CUDA: 9.0. CUDA Toolkit: 12.4. Triton: 3.1.0\n",
      "\\        /    Bfloat16 = TRUE. FA [Xformers = 0.0.29.post1. FA2 = False]\n",
      " \"-____-\"     Free license: http://github.com/unslothai/unsloth\n",
      "Unsloth: Fast downloading is enabled - ignore downloading bars which are red colored!\n",
      "Unsloth: vLLM loading unsloth/qwen2.5-3b-instruct-unsloth-bnb-4bit with actual GPU utilization = 78.47%\n",
      "Unsloth: Your GPU has CUDA compute capability 9.0 with VRAM = 79.1 GB.\n",
      "Unsloth: Using conservativeness = 1.0. Chunked prefill tokens = 32768. Num Sequences = 368.\n",
      "Unsloth: vLLM's KV Cache can use up to 59.84 GB. Also swap space = 6 GB.\n",
      "INFO 04-18 19:17:00 config.py:549] This model supports multiple tasks: {'embed', 'generate', 'classify', 'score', 'reward'}. Defaulting to 'generate'.\n",
      "Unsloth: vLLM Bitsandbytes config using kwargs = {'load_in_8bit': False, 'load_in_4bit': True, 'bnb_4bit_compute_dtype': 'bfloat16', 'bnb_4bit_quant_storage': 'uint8', 'bnb_4bit_quant_type': 'nf4', 'bnb_4bit_use_double_quant': True, 'llm_int8_enable_fp32_cpu_offload': False, 'llm_int8_has_fp16_weight': False, 'llm_int8_skip_modules': ['lm_head', 'multi_modal_projector', 'merger', 'modality_projection', 'model.layers.2.mlp', 'model.layers.3.mlp', 'model.layers.30.mlp'], 'llm_int8_threshold': 6.0}\n",
      "INFO 04-18 19:17:00 llm_engine.py:234] Initializing a V0 LLM engine (v0.7.3) with config: model='unsloth/qwen2.5-3b-instruct-unsloth-bnb-4bit', speculative_config=None, tokenizer='unsloth/qwen2.5-3b-instruct-unsloth-bnb-4bit', skip_tokenizer_init=False, tokenizer_mode=auto, revision=None, override_neuron_config=None, tokenizer_revision=None, trust_remote_code=False, dtype=torch.bfloat16, max_seq_len=32768, download_dir=None, load_format=bitsandbytes, tensor_parallel_size=1, pipeline_parallel_size=1, disable_custom_all_reduce=False, quantization=bitsandbytes, enforce_eager=False, kv_cache_dtype=auto,  device_config=cuda:0, decoding_config=DecodingConfig(guided_decoding_backend='xgrammar'), observability_config=ObservabilityConfig(otlp_traces_endpoint=None, collect_model_forward_time=False, collect_model_execute_time=False), seed=0, served_model_name=unsloth/qwen2.5-3b-instruct-unsloth-bnb-4bit, num_scheduler_steps=16, multi_step_stream_outputs=True, enable_prefix_caching=True, chunked_prefill_enabled=False, use_async_output_proc=True, disable_mm_preprocessor_cache=False, mm_processor_kwargs=None, pooler_config=None, compilation_config={\"level\":0,\"splitting_ops\":[],\"compile_sizes\":[],\"cudagraph_capture_sizes\":[368,360,352,344,336,328,320,312,304,296,288,280,272,264,256,248,240,232,224,216,208,200,192,184,176,168,160,152,144,136,128,120,112,104,96,88,80,72,64,56,48,40,32,24,16,8,4,2,1],\"max_capture_size\":368}, use_cached_outputs=False, \n",
      "INFO 04-18 19:17:01 cuda.py:229] Using Flash Attention backend.\n",
      "WARNING 04-18 19:17:01 registry.py:335] `mm_limits` has already been set for model=unsloth/qwen2.5-3b-instruct-unsloth-bnb-4bit, and will be overwritten by the new values.\n",
      "INFO 04-18 19:17:01 model_runner.py:1110] Starting to load model unsloth/qwen2.5-3b-instruct-unsloth-bnb-4bit...\n",
      "INFO 04-18 19:17:01 loader.py:1089] Loading weights with BitsAndBytes quantization.  May take a while ...\n",
      "INFO 04-18 19:17:01 weight_utils.py:254] Using model weights format ['*.safetensors']\n"
     ]
    },
    {
     "data": {
      "application/vnd.jupyter.widget-view+json": {
       "model_id": "e19102965d85414191b6e76924ec317e",
       "version_major": 2,
       "version_minor": 0
      },
      "text/plain": [
       "Loading safetensors checkpoint shards:   0% Completed | 0/1 [00:00<?, ?it/s]\n"
      ]
     },
     "metadata": {},
     "output_type": "display_data"
    },
    {
     "data": {
      "application/vnd.jupyter.widget-view+json": {
       "model_id": "181a109366cb4b73908b72a71805a929",
       "version_major": 2,
       "version_minor": 0
      },
      "text/plain": [
       "Loading safetensors checkpoint shards:   0% Completed | 0/1 [00:00<?, ?it/s]\n"
      ]
     },
     "metadata": {},
     "output_type": "display_data"
    },
    {
     "name": "stdout",
     "output_type": "stream",
     "text": [
      "INFO 04-18 19:17:03 model_runner.py:1115] Loading model weights took 2.2265 GB\n",
      "INFO 04-18 19:17:03 punica_selector.py:18] Using PunicaWrapperGPU.\n",
      "INFO 04-18 19:17:06 worker.py:267] Memory profiling takes 2.57 seconds\n",
      "INFO 04-18 19:17:06 worker.py:267] the current vLLM instance can use total_gpu_memory (79.10GiB) x gpu_memory_utilization (0.78) = 62.06GiB\n",
      "INFO 04-18 19:17:06 worker.py:267] model weights take 2.23GiB; non_torch_memory takes 0.14GiB; PyTorch activation peak memory takes 2.71GiB; the rest of the memory reserved for KV Cache is 56.98GiB.\n",
      "INFO 04-18 19:17:07 executor_base.py:111] # cuda blocks: 103733, # CPU blocks: 10922\n",
      "INFO 04-18 19:17:07 executor_base.py:116] Maximum concurrency for 32768 tokens per request: 50.65x\n",
      "INFO 04-18 19:17:15 model_runner.py:1434] Capturing cudagraphs for decoding. This may lead to unexpected consequences if the model is not static. To run the model in eager mode, set 'enforce_eager=True' or use '--enforce-eager' in the CLI. If out-of-memory error occurs during cudagraph capture, consider decreasing `gpu_memory_utilization` or switching to eager mode. You can also reduce the `max_num_seqs` as needed to decrease memory usage.\n"
     ]
    },
    {
     "name": "stderr",
     "output_type": "stream",
     "text": [
      "Capturing CUDA graph shapes: 100%|██████████| 49/49 [00:44<00:00,  1.10it/s]"
     ]
    },
    {
     "name": "stdout",
     "output_type": "stream",
     "text": [
      "INFO 04-18 19:17:59 model_runner.py:1562] Graph capturing finished in 45 secs, took 1.30 GiB\n",
      "INFO 04-18 19:17:59 llm_engine.py:436] init engine (profile, create kv cache, warmup model) took 55.94 seconds\n"
     ]
    },
    {
     "name": "stderr",
     "output_type": "stream",
     "text": [
      "\n",
      "Unsloth 2025.3.19 patched 36 layers with 36 QKV layers, 36 O layers and 36 MLP layers.\n",
      "Unsloth: Already have LoRA adapters! We shall skip this step.\n"
     ]
    }
   ],
   "source": [
    "import art\n",
    "from art.local import LocalAPI\n",
    "from dotenv import load_dotenv\n",
    "from openpipe.client import AsyncOpenPipe\n",
    "import random\n",
    "from pydantic import BaseModel\n",
    "\n",
    "\n",
    "load_dotenv()\n",
    "\n",
    "random.seed(42)\n",
    "\n",
    "# Initialize the server\n",
    "api = LocalAPI(\n",
    "    # Normally we don't want to run the server in-process, but for the output\n",
    "    # to show up properly on Google Colab we'll enable this.\n",
    "    in_process=True\n",
    ")\n",
    "\n",
    "\n",
    "class CustomConfig(BaseModel):\n",
    "    litellm_model_name: str | None = None\n",
    "\n",
    "\n",
    "# Declare the model\n",
    "model = art.TrainableModel(\n",
    "    name=\"012\",\n",
    "    project=\"2048-dev\",\n",
    "    base_model=\"Qwen/Qwen2.5-3B-Instruct\",\n",
    "    # To run on a T4, we need to override some config defaults.\n",
    "    _internal_config=art.dev.InternalModelConfig(\n",
    "        init_args=art.dev.InitArgs(\n",
    "            max_seq_length=8192,\n",
    "        ),\n",
    "        engine_args=art.dev.EngineArgs(\n",
    "            enforce_eager=True,\n",
    "            gpu_memory_utilization=0.8,\n",
    "            num_scheduler_steps=1,\n",
    "        ),\n",
    "    ),\n",
    ")\n",
    "await model.register(api)\n",
    "\n",
    "gpt_4o_mini = art.Model(\n",
    "    name=\"gpt-4o-mini\",\n",
    "    project=\"2048-dev\",\n",
    "    config=CustomConfig(\n",
    "        litellm_model_name=\"openai/gpt-4o-mini\",\n",
    "    ),\n",
    ")\n",
    "await gpt_4o_mini.register(api)\n",
    "\n",
    "gpt_4o = art.Model(\n",
    "    name=\"gpt-4o\",\n",
    "    project=\"2048-dev\",\n",
    "    config=CustomConfig(\n",
    "        litellm_model_name=\"openai/gpt-4o\",\n",
    "    ),\n",
    ")\n",
    "await gpt_4o.register(api)\n",
    "\n",
    "\n",
    "# Optional logging client\n",
    "op_client = AsyncOpenPipe()"
   ]
  },
  {
   "cell_type": "code",
   "execution_count": 7,
   "metadata": {},
   "outputs": [],
   "source": [
    "import art\n",
    "\n",
    "import openai\n",
    "import time\n",
    "import math\n",
    "import requests\n",
    "from litellm import acompletion\n",
    "\n",
    "from art.utils.litellm import convert_litellm_choice_to_openai\n",
    "\n",
    "\n",
    "@art.retry(exceptions=(openai.LengthFinishReasonError, requests.ReadTimeout))\n",
    "async def rollout(\n",
    "    model: art.Model, step: int = 0, is_validation: bool = False\n",
    ") -> art.Trajectory:\n",
    "    game = generate_game()\n",
    "\n",
    "    move_number = 0\n",
    "\n",
    "    trajectory = art.Trajectory(\n",
    "        messages_and_choices=[\n",
    "            {\n",
    "                \"role\": \"system\",\n",
    "                \"content\": \"You are an excellent 2048 player. Always choose the move most likely to lead to combine cells to eventually reach the number 2048. Optional moves are 'left', 'right', 'up', 'down'. Return your move as an XML object with a single property 'move', like so: <move>left</move>\",\n",
    "            }\n",
    "        ],\n",
    "        reward=0,\n",
    "    )\n",
    "\n",
    "    while True:\n",
    "        trajectory.messages_and_choices.append(\n",
    "            {\"role\": \"user\", \"content\": render_board(game)}\n",
    "        )\n",
    "\n",
    "        requested_at = int(time.time() * 1000)\n",
    "        messages = trajectory.messages\n",
    "\n",
    "        try:\n",
    "            model_id = (\n",
    "                model.config.litellm_model_name\n",
    "                if isinstance(model.config, CustomConfig)\n",
    "                else f\"hosted_vllm/{model.name}\"\n",
    "            )\n",
    "            chat_completion = await acompletion(\n",
    "                base_url=model.inference_base_url,\n",
    "                api_key=model.inference_api_key,\n",
    "                model=model_id,\n",
    "                messages=messages,\n",
    "                max_completion_tokens=128,\n",
    "            )\n",
    "            last_completion = chat_completion\n",
    "        except openai.LengthFinishReasonError as e:\n",
    "            raise e\n",
    "        except Exception as e:\n",
    "            print(\"caught exception generating chat completion\", e)\n",
    "            raise e\n",
    "\n",
    "        try:\n",
    "            if op_client.api_key:\n",
    "                await op_client.report(\n",
    "                    requested_at=requested_at,\n",
    "                    received_at=int(time.time() * 1000),\n",
    "                    req_payload={\n",
    "                        \"model\": model.name,\n",
    "                        \"messages\": messages,\n",
    "                        \"metadata\": {\n",
    "                            \"game_id\": game[\"id\"],\n",
    "                            \"notebook-id\": \"2048\",\n",
    "                            \"step\": str(step),\n",
    "                            \"validation\": str(is_validation),\n",
    "                            \"move_number\": str(move_number),\n",
    "                        },\n",
    "                    },\n",
    "                    resp_payload=chat_completion,\n",
    "                    status_code=200,\n",
    "                )\n",
    "        except Exception as e:\n",
    "            print(f\"Error reporting to OpenPipe: {e}\")\n",
    "\n",
    "        choice = convert_litellm_choice_to_openai(chat_completion.choices[0])\n",
    "        content = choice.message.content\n",
    "        assert isinstance(content, str)\n",
    "        trajectory.messages_and_choices.append(choice)\n",
    "\n",
    "        try:\n",
    "            apply_agent_move(game, content)\n",
    "            move_number += 1\n",
    "        except ValueError:\n",
    "            # logarithmically scale negative reward between -1 for 0 valid preceding moves and 0 for 1000 valid preceding moves\n",
    "            trajectory.reward = -1 + (math.log(move_number + 1) / math.log(1000))\n",
    "            break\n",
    "\n",
    "        if check_game_finished(game):\n",
    "            max_value = max_cell_value(game)\n",
    "            board_value = total_board_value(game)\n",
    "            trajectory.metrics[\"max_value\"] = max_value\n",
    "            trajectory.metrics[\"board_value\"] = board_value\n",
    "\n",
    "            if max_value < WINNING_VALUE:\n",
    "                # scale max value logarithmically between 0 for 2 and 1 for WINNING_VALUE\n",
    "                max_value_reward = (math.log(max_value, 2) - 1) / (\n",
    "                    math.log(WINNING_VALUE, 2) - 1\n",
    "                )\n",
    "                # scale board value logarithmically between 0 for 2 * 16 and 1 for WINNING_VALUE * 16\n",
    "                board_value_reward = (math.log(board_value, 2) - 1) / (\n",
    "                    math.log(WINNING_VALUE * 16, 2) - 1\n",
    "                )\n",
    "                # combine the two rewards, with max value having a higher weight\n",
    "                trajectory.reward = max_value_reward + (board_value_reward * 0.2)\n",
    "            else:\n",
    "                # double reward if the agent wins\n",
    "                trajectory.reward = 2\n",
    "                # add random number between 0 and .001\n",
    "                trajectory.reward += random.random() * 0.001\n",
    "            break\n",
    "\n",
    "    try:\n",
    "        if op_client.api_key:\n",
    "            await op_client.update_log_metadata(\n",
    "                filters=[\n",
    "                    {\n",
    "                        \"field\": \"completionId\",\n",
    "                        \"equals\": last_completion.id,\n",
    "                    }\n",
    "                ],\n",
    "                metadata={\n",
    "                    \"reward\": str(trajectory.reward),\n",
    "                    \"reward_assigned\": \"true\",\n",
    "                },\n",
    "            )\n",
    "    except Exception as e:\n",
    "        print(f\"Error updating log metadata: {e}\")\n",
    "\n",
    "    return trajectory"
   ]
  },
  {
   "cell_type": "code",
   "execution_count": null,
   "metadata": {},
   "outputs": [
    {
     "data": {
      "application/vnd.jupyter.widget-view+json": {
       "model_id": "122e0fd1a4444e3d9bcf841d7b8c62cc",
       "version_major": 2,
       "version_minor": 0
      },
      "text/plain": [
       "gather:   0%|          | 0/4 [00:00<?, ?it/s]"
      ]
     },
     "metadata": {},
     "output_type": "display_data"
    },
    {
     "name": "stdout",
     "output_type": "stream",
     "text": [
      "\n",
      "\u001b[1;31mGive Feedback / Get Help: https://github.com/BerriAI/litellm/issues/new\u001b[0m\n",
      "LiteLLM.Info: If you need to debug this error, use `litellm._turn_on_debug()'.\n",
      "\n",
      "caught exception generating chat completion litellm.APIConnectionError: audio\n",
      "Traceback (most recent call last):\n",
      "  File \"/root/sky_workdir/.venv/lib/python3.10/site-packages/litellm/main.py\", line 977, in completion\n",
      "    model_response = ModelResponse()\n",
      "  File \"/root/sky_workdir/.venv/lib/python3.10/site-packages/litellm/types/utils.py\", line 1104, in __init__\n",
      "    choices = [Choices()]\n",
      "  File \"/root/sky_workdir/.venv/lib/python3.10/site-packages/litellm/types/utils.py\", line 735, in __init__\n",
      "    self.message = Message()\n",
      "  File \"/root/sky_workdir/.venv/lib/python3.10/site-packages/litellm/types/utils.py\", line 599, in __init__\n",
      "    del self.audio\n",
      "  File \"/root/sky_workdir/.venv/lib/python3.10/site-packages/pydantic/main.py\", line 1082, in __delattr__\n",
      "    object.__delattr__(self, item)\n",
      "AttributeError: audio\n",
      "\n"
     ]
    },
    {
     "name": "stderr",
     "output_type": "stream",
     "text": [
      "\u001b[34m\u001b[1mwandb\u001b[0m: Using wandb-core as the SDK backend.  Please refer to https://wandb.me/wandb-core for more information.\n"
     ]
    },
    {
     "name": "stdout",
     "output_type": "stream",
     "text": [
      "No \"val/reward\" metric found in history\n"
     ]
    },
    {
     "name": "stderr",
     "output_type": "stream",
     "text": [
      "\u001b[34m\u001b[1mwandb\u001b[0m: Currently logged in as: \u001b[33mopenpipe\u001b[0m (\u001b[33mopenpipe-team\u001b[0m) to \u001b[32mhttps://api.wandb.ai\u001b[0m. Use \u001b[1m`wandb login --relogin`\u001b[0m to force relogin\n"
     ]
    },
    {
     "data": {
      "text/html": [
       "Tracking run with wandb version 0.19.9"
      ],
      "text/plain": [
       "<IPython.core.display.HTML object>"
      ]
     },
     "metadata": {},
     "output_type": "display_data"
    },
    {
     "data": {
      "text/html": [
       "Run data is saved locally in <code>/root/sky_workdir/examples/2048/wandb/run-20250418_191859-012</code>"
      ],
      "text/plain": [
       "<IPython.core.display.HTML object>"
      ]
     },
     "metadata": {},
     "output_type": "display_data"
    },
    {
     "data": {
      "text/html": [
       "Resuming run <strong><a href='https://wandb.ai/openpipe-team/2048-dev/runs/012' target=\"_blank\">012</a></strong> to <a href='https://wandb.ai/openpipe-team/2048-dev' target=\"_blank\">Weights & Biases</a> (<a href='https://wandb.me/developer-guide' target=\"_blank\">docs</a>)<br>"
      ],
      "text/plain": [
       "<IPython.core.display.HTML object>"
      ]
     },
     "metadata": {},
     "output_type": "display_data"
    },
    {
     "data": {
      "text/html": [
       " View project at <a href='https://wandb.ai/openpipe-team/2048-dev' target=\"_blank\">https://wandb.ai/openpipe-team/2048-dev</a>"
      ],
      "text/plain": [
       "<IPython.core.display.HTML object>"
      ]
     },
     "metadata": {},
     "output_type": "display_data"
    },
    {
     "data": {
      "text/html": [
       " View run at <a href='https://wandb.ai/openpipe-team/2048-dev/runs/012' target=\"_blank\">https://wandb.ai/openpipe-team/2048-dev/runs/012</a>"
      ],
      "text/plain": [
       "<IPython.core.display.HTML object>"
      ]
     },
     "metadata": {},
     "output_type": "display_data"
    },
    {
     "name": "stdout",
     "output_type": "stream",
     "text": [
      "Packed 3 trajectories into 2 sequences of length 6144\n"
     ]
    },
    {
     "data": {
      "application/vnd.jupyter.widget-view+json": {
       "model_id": "19de1a22eab3483786b716ae18f9dd65",
       "version_major": 2,
       "version_minor": 0
      },
      "text/plain": [
       "train:   0%|          | 0/2 [00:00<?, ?it/s]"
      ]
     },
     "metadata": {},
     "output_type": "display_data"
    },
    {
     "name": "stderr",
     "output_type": "stream",
     "text": [
      "==((====))==  Unsloth - 2x faster free finetuning | Num GPUs used = 1\n",
      "   \\\\   /|    Num examples = 10,000,000 | Num Epochs = 3 | Total steps = 30,000,000\n",
      "O^O/ \\_/ \\    Batch size per device = 2 | Gradient accumulation steps = 1\n",
      "\\        /    Data Parallel GPUs = 1 | Total batch size (2 x 1 x 1) = 2\n",
      " \"-____-\"     Trainable parameters = 14,966,784/3,000,000,000 (0.50% trained)\n"
     ]
    },
    {
     "name": "stdout",
     "output_type": "stream",
     "text": [
      "Unsloth: Will smartly offload gradients to save VRAM!\n"
     ]
    },
    {
     "data": {
      "application/vnd.jupyter.widget-view+json": {
       "model_id": "4ee784fc1c394fec9eaf19552915654c",
       "version_major": 2,
       "version_minor": 0
      },
      "text/plain": [
       "gather:   0%|          | 0/4 [00:00<?, ?it/s]"
      ]
     },
     "metadata": {},
     "output_type": "display_data"
    },
    {
     "name": "stdout",
     "output_type": "stream",
     "text": [
      "No \"val/reward\" metric found in history\n",
      "Deleted checkpoint ./.art/2048-dev/models/012/0016\n",
      "Packed 4 trajectories into 3 sequences of length 10240\n"
     ]
    },
    {
     "data": {
      "application/vnd.jupyter.widget-view+json": {
       "model_id": "4e535906717d404fac85a1e923f207d3",
       "version_major": 2,
       "version_minor": 0
      },
      "text/plain": [
       "train:   0%|          | 0/3 [00:00<?, ?it/s]"
      ]
     },
     "metadata": {},
     "output_type": "display_data"
    },
    {
     "data": {
      "application/vnd.jupyter.widget-view+json": {
       "model_id": "aaf79d9ca82348f2b27f08209cf87b96",
       "version_major": 2,
       "version_minor": 0
      },
      "text/plain": [
       "gather:   0%|          | 0/4 [00:00<?, ?it/s]"
      ]
     },
     "metadata": {},
     "output_type": "display_data"
    },
    {
     "name": "stdout",
     "output_type": "stream",
     "text": [
      "No \"val/reward\" metric found in history\n",
      "Deleted checkpoint ./.art/2048-dev/models/012/0017\n",
      "Packed 4 trajectories into 3 sequences of length 8192\n"
     ]
    },
    {
     "data": {
      "application/vnd.jupyter.widget-view+json": {
       "model_id": "f556b99e57a9435f85370c56325bcf73",
       "version_major": 2,
       "version_minor": 0
      },
      "text/plain": [
       "train:   0%|          | 0/3 [00:00<?, ?it/s]"
      ]
     },
     "metadata": {},
     "output_type": "display_data"
    },
    {
     "data": {
      "application/vnd.jupyter.widget-view+json": {
       "model_id": "ea93b13d24164048911d05a0d1a5f9f3",
       "version_major": 2,
       "version_minor": 0
      },
      "text/plain": [
       "gather:   0%|          | 0/4 [00:00<?, ?it/s]"
      ]
     },
     "metadata": {},
     "output_type": "display_data"
    },
    {
     "name": "stdout",
     "output_type": "stream",
     "text": [
      "No \"val/reward\" metric found in history\n",
      "Deleted checkpoint ./.art/2048-dev/models/012/0018\n",
      "Packed 4 trajectories into 4 sequences of length 10240\n"
     ]
    },
    {
     "data": {
      "application/vnd.jupyter.widget-view+json": {
       "model_id": "bb4fcfcf77984f1ba7046f97bdfad74e",
       "version_major": 2,
       "version_minor": 0
      },
      "text/plain": [
       "train:   0%|          | 0/4 [00:00<?, ?it/s]"
      ]
     },
     "metadata": {},
     "output_type": "display_data"
    },
    {
     "data": {
      "application/vnd.jupyter.widget-view+json": {
       "model_id": "1c96fe9dfcc744c983c02b1063a9475d",
       "version_major": 2,
       "version_minor": 0
      },
      "text/plain": [
       "gather:   0%|          | 0/4 [00:00<?, ?it/s]"
      ]
     },
     "metadata": {},
     "output_type": "display_data"
    },
    {
     "name": "stdout",
     "output_type": "stream",
     "text": [
      "No \"val/reward\" metric found in history\n",
      "Deleted checkpoint ./.art/2048-dev/models/012/0019\n",
      "Packed 4 trajectories into 3 sequences of length 10240\n"
     ]
    },
    {
     "data": {
      "application/vnd.jupyter.widget-view+json": {
       "model_id": "486ea47639d04e4e882b958e9c78b6ea",
       "version_major": 2,
       "version_minor": 0
      },
      "text/plain": [
       "train:   0%|          | 0/3 [00:00<?, ?it/s]"
      ]
     },
     "metadata": {},
     "output_type": "display_data"
    },
    {
     "data": {
      "application/vnd.jupyter.widget-view+json": {
       "model_id": "b9656a4e85434a818da4ef30a4a43478",
       "version_major": 2,
       "version_minor": 0
      },
      "text/plain": [
       "gather:   0%|          | 0/4 [00:00<?, ?it/s]"
      ]
     },
     "metadata": {},
     "output_type": "display_data"
    },
    {
     "name": "stdout",
     "output_type": "stream",
     "text": [
      "No \"val/reward\" metric found in history\n",
      "Deleted checkpoint ./.art/2048-dev/models/012/0020\n",
      "Packed 4 trajectories into 3 sequences of length 10240\n"
     ]
    },
    {
     "data": {
      "application/vnd.jupyter.widget-view+json": {
       "model_id": "ae5b412bcafc4d3baad65c4f2f301f46",
       "version_major": 2,
       "version_minor": 0
      },
      "text/plain": [
       "train:   0%|          | 0/3 [00:00<?, ?it/s]"
      ]
     },
     "metadata": {},
     "output_type": "display_data"
    },
    {
     "data": {
      "application/vnd.jupyter.widget-view+json": {
       "model_id": "b007f14347604b2c8e4c8eff157d7aa3",
       "version_major": 2,
       "version_minor": 0
      },
      "text/plain": [
       "gather:   0%|          | 0/4 [00:00<?, ?it/s]"
      ]
     },
     "metadata": {},
     "output_type": "display_data"
    },
    {
     "name": "stdout",
     "output_type": "stream",
     "text": [
      "No \"val/reward\" metric found in history\n",
      "Deleted checkpoint ./.art/2048-dev/models/012/0021\n",
      "Packed 4 trajectories into 4 sequences of length 6144\n"
     ]
    },
    {
     "data": {
      "application/vnd.jupyter.widget-view+json": {
       "model_id": "8fafe8e35ddc4085934d4b23a231f103",
       "version_major": 2,
       "version_minor": 0
      },
      "text/plain": [
       "train:   0%|          | 0/4 [00:00<?, ?it/s]"
      ]
     },
     "metadata": {},
     "output_type": "display_data"
    },
    {
     "data": {
      "application/vnd.jupyter.widget-view+json": {
       "model_id": "26076a6371f04e15a2d7f9f8a196354e",
       "version_major": 2,
       "version_minor": 0
      },
      "text/plain": [
       "gather:   0%|          | 0/4 [00:00<?, ?it/s]"
      ]
     },
     "metadata": {},
     "output_type": "display_data"
    },
    {
     "name": "stdout",
     "output_type": "stream",
     "text": [
      "No \"val/reward\" metric found in history\n",
      "Deleted checkpoint ./.art/2048-dev/models/012/0022\n",
      "Packed 4 trajectories into 3 sequences of length 10240\n"
     ]
    },
    {
     "data": {
      "application/vnd.jupyter.widget-view+json": {
       "model_id": "d376217bb9ed4e67ab12ad916e43431b",
       "version_major": 2,
       "version_minor": 0
      },
      "text/plain": [
       "train:   0%|          | 0/3 [00:00<?, ?it/s]"
      ]
     },
     "metadata": {},
     "output_type": "display_data"
    },
    {
     "data": {
      "application/vnd.jupyter.widget-view+json": {
       "model_id": "411a650a94ce404d86f97b48f6632dbe",
       "version_major": 2,
       "version_minor": 0
      },
      "text/plain": [
       "gather:   0%|          | 0/4 [00:00<?, ?it/s]"
      ]
     },
     "metadata": {},
     "output_type": "display_data"
    },
    {
     "name": "stdout",
     "output_type": "stream",
     "text": [
      "No \"val/reward\" metric found in history\n",
      "Deleted checkpoint ./.art/2048-dev/models/012/0023\n",
      "Packed 4 trajectories into 4 sequences of length 12288\n"
     ]
    },
    {
     "data": {
      "application/vnd.jupyter.widget-view+json": {
       "model_id": "293f5363810f412eb3a05f60a04a3bc8",
       "version_major": 2,
       "version_minor": 0
      },
      "text/plain": [
       "train:   0%|          | 0/4 [00:00<?, ?it/s]"
      ]
     },
     "metadata": {},
     "output_type": "display_data"
    },
    {
     "data": {
      "application/vnd.jupyter.widget-view+json": {
       "model_id": "788ca4adf78041689ddfae0c99f75e6c",
       "version_major": 2,
       "version_minor": 0
      },
      "text/plain": [
       "gather:   0%|          | 0/4 [00:00<?, ?it/s]"
      ]
     },
     "metadata": {},
     "output_type": "display_data"
    },
    {
     "name": "stdout",
     "output_type": "stream",
     "text": [
      "No \"val/reward\" metric found in history\n",
      "Deleted checkpoint ./.art/2048-dev/models/012/0024\n",
      "Packed 4 trajectories into 4 sequences of length 10240\n"
     ]
    },
    {
     "data": {
      "application/vnd.jupyter.widget-view+json": {
       "model_id": "31af51fb0def4b36b26482419e90ff51",
       "version_major": 2,
       "version_minor": 0
      },
      "text/plain": [
       "train:   0%|          | 0/4 [00:00<?, ?it/s]"
      ]
     },
     "metadata": {},
     "output_type": "display_data"
    },
    {
     "data": {
      "application/vnd.jupyter.widget-view+json": {
       "model_id": "ee6538ed1a314ced8e341807c955e5f2",
       "version_major": 2,
       "version_minor": 0
      },
      "text/plain": [
       "gather:   0%|          | 0/4 [00:00<?, ?it/s]"
      ]
     },
     "metadata": {},
     "output_type": "display_data"
    },
    {
     "name": "stdout",
     "output_type": "stream",
     "text": [
      "No \"val/reward\" metric found in history\n",
      "Deleted checkpoint ./.art/2048-dev/models/012/0025\n",
      "Packed 4 trajectories into 4 sequences of length 10240\n"
     ]
    },
    {
     "data": {
      "application/vnd.jupyter.widget-view+json": {
       "model_id": "362c827af6a1404dba16017b4cd0781f",
       "version_major": 2,
       "version_minor": 0
      },
      "text/plain": [
       "train:   0%|          | 0/4 [00:00<?, ?it/s]"
      ]
     },
     "metadata": {},
     "output_type": "display_data"
    },
    {
     "data": {
      "application/vnd.jupyter.widget-view+json": {
       "model_id": "be99967c751c49609053ac7fd619611b",
       "version_major": 2,
       "version_minor": 0
      },
      "text/plain": [
       "gather:   0%|          | 0/4 [00:00<?, ?it/s]"
      ]
     },
     "metadata": {},
     "output_type": "display_data"
    },
    {
     "name": "stdout",
     "output_type": "stream",
     "text": [
      "No \"val/reward\" metric found in history\n",
      "Deleted checkpoint ./.art/2048-dev/models/012/0026\n",
      "Packed 4 trajectories into 3 sequences of length 10240\n"
     ]
    },
    {
     "data": {
      "application/vnd.jupyter.widget-view+json": {
       "model_id": "39be621d7ec346ccb7f98b1e57249f9a",
       "version_major": 2,
       "version_minor": 0
      },
      "text/plain": [
       "train:   0%|          | 0/3 [00:00<?, ?it/s]"
      ]
     },
     "metadata": {},
     "output_type": "display_data"
    },
    {
     "data": {
      "application/vnd.jupyter.widget-view+json": {
       "model_id": "cf2f9be9b2554b41aac286c1e647164e",
       "version_major": 2,
       "version_minor": 0
      },
      "text/plain": [
       "gather:   0%|          | 0/4 [00:00<?, ?it/s]"
      ]
     },
     "metadata": {},
     "output_type": "display_data"
    },
    {
     "name": "stdout",
     "output_type": "stream",
     "text": [
      "No \"val/reward\" metric found in history\n",
      "Deleted checkpoint ./.art/2048-dev/models/012/0027\n",
      "Packed 4 trajectories into 4 sequences of length 10240\n"
     ]
    },
    {
     "data": {
      "application/vnd.jupyter.widget-view+json": {
       "model_id": "b3ea2663255348258fd08ee25ee5a1a1",
       "version_major": 2,
       "version_minor": 0
      },
      "text/plain": [
       "train:   0%|          | 0/4 [00:00<?, ?it/s]"
      ]
     },
     "metadata": {},
     "output_type": "display_data"
    },
    {
     "data": {
      "application/vnd.jupyter.widget-view+json": {
       "model_id": "709ad64e6a444dac813c2f607f695540",
       "version_major": 2,
       "version_minor": 0
      },
      "text/plain": [
       "gather:   0%|          | 0/4 [00:00<?, ?it/s]"
      ]
     },
     "metadata": {},
     "output_type": "display_data"
    },
    {
     "name": "stdout",
     "output_type": "stream",
     "text": [
      "No \"val/reward\" metric found in history\n",
      "Deleted checkpoint ./.art/2048-dev/models/012/0028\n",
      "Packed 4 trajectories into 4 sequences of length 10240\n"
     ]
    },
    {
     "data": {
      "application/vnd.jupyter.widget-view+json": {
       "model_id": "505c909ba5bb4b249b37de2a34566af6",
       "version_major": 2,
       "version_minor": 0
      },
      "text/plain": [
       "train:   0%|          | 0/4 [00:00<?, ?it/s]"
      ]
     },
     "metadata": {},
     "output_type": "display_data"
    },
    {
     "data": {
      "application/vnd.jupyter.widget-view+json": {
       "model_id": "4c86b5aadc6945b7946aa003a84c9eec",
       "version_major": 2,
       "version_minor": 0
      },
      "text/plain": [
       "gather:   0%|          | 0/4 [00:00<?, ?it/s]"
      ]
     },
     "metadata": {},
     "output_type": "display_data"
    },
    {
     "name": "stdout",
     "output_type": "stream",
     "text": [
      "No \"val/reward\" metric found in history\n",
      "Deleted checkpoint ./.art/2048-dev/models/012/0029\n",
      "Packed 4 trajectories into 3 sequences of length 10240\n"
     ]
    },
    {
     "data": {
      "application/vnd.jupyter.widget-view+json": {
       "model_id": "b8cf78f7ab1c4405a10cc3b959beb620",
       "version_major": 2,
       "version_minor": 0
      },
      "text/plain": [
       "train:   0%|          | 0/3 [00:00<?, ?it/s]"
      ]
     },
     "metadata": {},
     "output_type": "display_data"
    },
    {
     "data": {
      "application/vnd.jupyter.widget-view+json": {
       "model_id": "efa4ea8fa2b54303a27f4dca66024b31",
       "version_major": 2,
       "version_minor": 0
      },
      "text/plain": [
       "gather:   0%|          | 0/4 [00:00<?, ?it/s]"
      ]
     },
     "metadata": {},
     "output_type": "display_data"
    },
    {
     "name": "stdout",
     "output_type": "stream",
     "text": [
      "No \"val/reward\" metric found in history\n",
      "Deleted checkpoint ./.art/2048-dev/models/012/0030\n",
      "Packed 4 trajectories into 4 sequences of length 10240\n"
     ]
    },
    {
     "data": {
      "application/vnd.jupyter.widget-view+json": {
       "model_id": "4ad810065a7f408c9697659c3229636f",
       "version_major": 2,
       "version_minor": 0
      },
      "text/plain": [
       "train:   0%|          | 0/4 [00:00<?, ?it/s]"
      ]
     },
     "metadata": {},
     "output_type": "display_data"
    },
    {
     "data": {
      "application/vnd.jupyter.widget-view+json": {
       "model_id": "f6bdd2ef0f5246dab04e6b31dabd92b6",
       "version_major": 2,
       "version_minor": 0
      },
      "text/plain": [
       "gather:   0%|          | 0/4 [00:00<?, ?it/s]"
      ]
     },
     "metadata": {},
     "output_type": "display_data"
    }
   ],
   "source": [
    "openai_client = model.openai_client()\n",
    "for i in range(await model.get_step(), 50):\n",
    "    train_groups = await art.gather_trajectory_groups(\n",
    "        (\n",
    "            art.TrajectoryGroup(\n",
    "                rollout(model, i, is_validation=False) for _ in range(4)\n",
    "            )\n",
    "            for _ in range(1)\n",
    "        ),\n",
    "        pbar_desc=\"gather\",\n",
    "        max_exceptions=1,\n",
    "    )\n",
    "    await model.delete_checkpoints()\n",
    "    await model.train(\n",
    "        train_groups,\n",
    "        config=art.TrainConfig(learning_rate=3e-5),\n",
    "        # Lowering the logprob_calculation_chunk_size is a memory saving measure\n",
    "        # to allow longer sequences (up to 4096 tokens) to be processed on a T4.\n",
    "        _config={\"logprob_calculation_chunk_size\": 8},\n",
    "    )"
   ]
  },
  {
   "cell_type": "code",
   "execution_count": null,
   "metadata": {},
   "outputs": [],
   "source": [
    "import asyncio\n",
    "\n",
    "\n",
    "async def log_comparison_model(comparison_model: art.Model):\n",
    "    trajectories = await art.gather_trajectory_groups(\n",
    "        (\n",
    "            art.TrajectoryGroup(\n",
    "                rollout(comparison_model, 0, is_validation=True) for _ in range(12)\n",
    "            )\n",
    "            for _ in range(1)\n",
    "        ),\n",
    "        pbar_desc=f\"gather {comparison_model.name}\",\n",
    "        max_exceptions=1,\n",
    "    )\n",
    "\n",
    "    await comparison_model.log(\n",
    "        trajectories,\n",
    "        split=\"val\",\n",
    "    )\n",
    "\n",
    "\n",
    "promises = []\n",
    "\n",
    "for comparison_model in [gpt_4o_mini, gpt_4o]:\n",
    "    promises.append(log_comparison_model(comparison_model))\n",
    "\n",
    "await asyncio.gather(*promises)\n"
   ]
  },
  {
   "cell_type": "code",
   "execution_count": 11,
   "metadata": {},
   "outputs": [
    {
     "name": "stdout",
     "output_type": "stream",
     "text": [
      "|    | Model       | Split   |   Step |     reward |   max_value |   board_value |\n",
      "|---:|:------------|:--------|-------:|-----------:|------------:|--------------:|\n",
      "|  0 | 009         | train   |   0000 |  0.773351  |     88.6154 |       185.538 |\n",
      "|  1 | 009         | train   |   0002 | -0.0199348 |     64      |       162     |\n",
      "|  2 | 009         | train   |   0003 |  0.500415  |    128      |       202     |\n",
      "|  3 | gpt-4o-mini | val     |   0000 |  0.973925  |     50.9091 |       128.909 |\n",
      "|  4 | gpt-4o      | val     |   0000 |  1.29582   |     82.6667 |       207.333 |\n"
     ]
    }
   ],
   "source": [
    "from art.utils.benchmarking.generate_comparison_table import generate_comparison_table\n",
    "from art.utils.benchmarking.types import BenchmarkedModelKey\n",
    "\n",
    "table = generate_comparison_table(\n",
    "    project=\"2048-dev\",\n",
    "    benchmark_keys=[\n",
    "        BenchmarkedModelKey(\"009\", \"train\", [0, -2, -1]),\n",
    "        BenchmarkedModelKey(\"gpt-4o-mini\", \"val\"),\n",
    "        BenchmarkedModelKey(\"gpt-4o\", \"val\"),\n",
    "    ],\n",
    "    metrics=[\"reward\", \"max_value\", \"board_value\"],\n",
    ")\n",
    "\n",
    "print(table.to_markdown())"
   ]
  },
  {
   "cell_type": "code",
   "execution_count": 12,
   "metadata": {},
   "outputs": [
    {
     "data": {
      "text/html": [
       "\n",
       "    <div style='display: grid; grid-template-columns: repeat(2, 1fr); gap: 10px;'>\n",
       "    <img src='./.art/2048-dev/benchmarks/2025-04-17_22-06-13_reward_line_graph.png' style='max-width: 100%; height: auto;'><img src='./.art/2048-dev/benchmarks/2025-04-17_22-06-13_max_value_line_graph.png' style='max-width: 100%; height: auto;'><img src='./.art/2048-dev/benchmarks/2025-04-17_22-06-13_board_value_line_graph.png' style='max-width: 100%; height: auto;'></div>"
      ],
      "text/plain": [
       "<IPython.core.display.HTML object>"
      ]
     },
     "metadata": {},
     "output_type": "display_data"
    }
   ],
   "source": [
    "from art.utils.benchmarking.generate_line_graphs import generate_line_graphs\n",
    "from art.utils.benchmarking.display_image_grid import display_image_grid\n",
    "from art.utils.benchmarking.types import BenchmarkedModelKey\n",
    "\n",
    "graph_image_paths = generate_line_graphs(\n",
    "    project=\"2048-dev\",\n",
    "    line_graph_keys=[\n",
    "        BenchmarkedModelKey(\"009\", \"train\"),\n",
    "        BenchmarkedModelKey(\"010\", \"train\"),\n",
    "        BenchmarkedModelKey(\"011\", \"train\"),\n",
    "    ],\n",
    "    comparison_keys=[\n",
    "        BenchmarkedModelKey(\"gpt-4o-mini\", \"val\"),\n",
    "        BenchmarkedModelKey(\"gpt-4o\", \"val\"),\n",
    "    ],\n",
    "    metrics=[\"reward\", \"max_value\", \"board_value\"],\n",
    ")\n",
    "\n",
    "display_image_grid(graph_image_paths)"
   ]
  }
 ],
 "metadata": {
  "kernelspec": {
   "display_name": ".venv",
   "language": "python",
   "name": "python3"
  },
  "language_info": {
   "codemirror_mode": {
    "name": "ipython",
    "version": 3
   },
   "file_extension": ".py",
   "mimetype": "text/x-python",
   "name": "python",
   "nbconvert_exporter": "python",
   "pygments_lexer": "ipython3",
   "version": "3.10.13"
  }
 },
 "nbformat": 4,
 "nbformat_minor": 2
}
