{
 "cells": [
  {
   "cell_type": "markdown",
   "id": "6b192e2a-14e9-4707-b1c1-e8f5aa32a919",
   "metadata": {},
   "source": [
    "### __Import Required Libraries__"
   ]
  },
  {
   "cell_type": "code",
   "execution_count": null,
   "id": "95be04fa-500c-4308-9784-b07bb42d5232",
   "metadata": {},
   "outputs": [],
   "source": [
    "import pandas as pd\n",
    "import matplotlib.pyplot as plt"
   ]
  },
  {
   "cell_type": "markdown",
   "id": "e5ff8a35-769d-4eda-b5f3-d3c9ba7a2dce",
   "metadata": {},
   "source": [
    "##### __1. Importing the dataset__"
   ]
  },
  {
   "cell_type": "code",
   "execution_count": null,
   "id": "69caa184-219d-4b01-8a30-1ea9ba61dcff",
   "metadata": {},
   "outputs": [],
   "source": [
    "df = pd.read_csv('data/raw_sales.csv', index_col = 'datesold')\n",
    "print(df.shape)"
   ]
  },
  {
   "cell_type": "markdown",
   "id": "f8273eed-a0e9-4d52-a183-350a7393a290",
   "metadata": {},
   "source": [
    "##### __2. Display the first few rows to peek at the data, the last few rows__"
   ]
  },
  {
   "cell_type": "code",
   "execution_count": null,
   "id": "490892d7-df7d-4c0f-9f8a-63883ce7432f",
   "metadata": {},
   "outputs": [],
   "source": [
    "df.head()"
   ]
  },
  {
   "cell_type": "code",
   "execution_count": null,
   "id": "24ae00c8-949b-4047-80ed-4f0631992c3f",
   "metadata": {},
   "outputs": [],
   "source": [
    "df.tail()"
   ]
  },
  {
   "cell_type": "markdown",
   "id": "9c24bbd0-75f0-4eb6-863d-7960337bcb77",
   "metadata": {},
   "source": [
    "##### __3. Print the summary statistics__"
   ]
  },
  {
   "cell_type": "code",
   "execution_count": null,
   "id": "bf0037dd-41b5-4c55-ae5c-8dfa5cb11f90",
   "metadata": {},
   "outputs": [],
   "source": [
    "df.describe().T"
   ]
  },
  {
   "cell_type": "markdown",
   "id": "fb7299b8-90fe-4dae-93a1-496129bc928a",
   "metadata": {},
   "source": [
    "##### __4. Filter data for a specific year__"
   ]
  },
  {
   "cell_type": "code",
   "execution_count": null,
   "id": "6a533c7b-6786-4789-9a18-0f19125de32d",
   "metadata": {},
   "outputs": [],
   "source": [
    "df.index = pd.to_datetime(df.index)\n",
    "df['price'][df.index.year == 2007].mean()"
   ]
  },
  {
   "cell_type": "markdown",
   "id": "111029b6-fcc9-4f5e-a9d8-833ae27c039e",
   "metadata": {},
   "source": [
    "##### __5. Plot the average price per year__"
   ]
  },
  {
   "cell_type": "code",
   "execution_count": null,
   "id": "71212203-c3e5-49ca-aa07-bbc12a2e0de6",
   "metadata": {},
   "outputs": [],
   "source": [
    "group = df['price'].groupby(df.index.year).mean()\n",
    "plt.plot(group.index, group.values, color = 'r', label = 'Average_Price/Yr')\n",
    "plt.title('Average Price Year Wise')\n",
    "plt.legend()\n",
    "plt.show()"
   ]
  },
  {
   "cell_type": "markdown",
   "id": "0405f26e-b564-48a2-9fb5-6d89311a363e",
   "metadata": {},
   "source": [
    "##### __6. Count of properties sold per year__"
   ]
  },
  {
   "cell_type": "code",
   "execution_count": null,
   "id": "7e1cb0fb-f494-49b1-adbc-89824b7e3855",
   "metadata": {},
   "outputs": [],
   "source": [
    "group = df.groupby(df.index.year).count()\n",
    "plt.bar(group.index, group.values[:, 0], color = 'g', label = 'Property_Sold/Yr')\n",
    "plt.title('Property\\'s Sold Year Wise')\n",
    "plt.legend()\n",
    "plt.show()"
   ]
  },
  {
   "cell_type": "markdown",
   "id": "d9b4c518-05ec-41ba-956d-e145efc958fd",
   "metadata": {},
   "source": [
    "##### __7. Query for a specific date range (e.g., Jan 2010 to Dec 2015)__"
   ]
  },
  {
   "cell_type": "code",
   "execution_count": null,
   "id": "17f1f390-9e5b-4bc1-882a-88d0331e3a12",
   "metadata": {},
   "outputs": [],
   "source": [
    "df2 = df[(df.index > '1/1/2010') & (df.index <= '31/12/2015')]\n",
    "df2"
   ]
  },
  {
   "cell_type": "markdown",
   "id": "28c84984-a5f0-4c46-963f-5c6e3336aed9",
   "metadata": {},
   "source": [
    "##### __8. Calculate the mean price month-wise (use Groupby)__"
   ]
  },
  {
   "cell_type": "code",
   "execution_count": null,
   "id": "db344276-03ab-4fb5-bb62-5dbc0fc11852",
   "metadata": {},
   "outputs": [],
   "source": [
    "df2['price'].groupby(df2.index.month).mean()"
   ]
  },
  {
   "cell_type": "markdown",
   "id": "3f1afa45-d234-4f01-bf63-ea2a5a73f708",
   "metadata": {},
   "source": [
    "##### __9. Perform a histogram plot__"
   ]
  },
  {
   "cell_type": "code",
   "execution_count": null,
   "id": "f0d19cd6-8800-4b7b-b827-6c8fb43d72d9",
   "metadata": {},
   "outputs": [],
   "source": [
    "plt.plot(df['price'])\n",
    "plt.title('Price Distribution Time-Series')\n",
    "plt.show()"
   ]
  },
  {
   "cell_type": "markdown",
   "id": "b33230fa-a886-4639-926a-cb60f0398745",
   "metadata": {},
   "source": [
    "##### __10. Print the property price > 5Lakhs__"
   ]
  },
  {
   "cell_type": "code",
   "execution_count": null,
   "id": "42695276-9e68-4e56-90a6-02a10e78ed14",
   "metadata": {},
   "outputs": [],
   "source": [
    "df[df['price'] > 500000]"
   ]
  }
 ],
 "metadata": {
  "kernelspec": {
   "display_name": "Python 3 (ipykernel)",
   "language": "python",
   "name": "python3"
  },
  "language_info": {
   "codemirror_mode": {
    "name": "ipython",
    "version": 3
   },
   "file_extension": ".py",
   "mimetype": "text/x-python",
   "name": "python",
   "nbconvert_exporter": "python",
   "pygments_lexer": "ipython3",
   "version": "3.12.4"
  }
 },
 "nbformat": 4,
 "nbformat_minor": 5
}
