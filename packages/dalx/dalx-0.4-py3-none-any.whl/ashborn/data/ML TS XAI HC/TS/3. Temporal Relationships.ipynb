{
 "cells": [
  {
   "cell_type": "code",
   "execution_count": null,
   "id": "8fba5290-f2d4-4a0e-8ee6-54eea00d0684",
   "metadata": {},
   "outputs": [],
   "source": [
    "import numpy as np\n",
    "import pandas as pd\n",
    "import matplotlib.pyplot as plt\n",
    "import seaborn as sns"
   ]
  },
  {
   "cell_type": "code",
   "execution_count": null,
   "id": "2d6192e1-b823-40b9-bb03-0fcc1bc0ab07",
   "metadata": {},
   "outputs": [],
   "source": [
    "np.random.seed(42)\n",
    "dates = pd.date_range(start='2024-01-01',end='2024-04-09',freq='D')\n",
    "values = np.random.normal(loc=78,scale=16,size=len(dates)) #loc-Mean of Distribution, scale-Standard Deviation"
   ]
  },
  {
   "cell_type": "code",
   "execution_count": null,
   "id": "db65f62d-4477-4f0f-bc49-852a55f4003a",
   "metadata": {},
   "outputs": [],
   "source": [
    "df = pd.DataFrame(index=dates,data=values,columns=['Temperature'])\n",
    "df.head()"
   ]
  },
  {
   "cell_type": "code",
   "execution_count": null,
   "id": "a0a6c6ab-e310-465c-93d4-4c0cd4f4be7c",
   "metadata": {},
   "outputs": [],
   "source": [
    "df.isnull().sum()"
   ]
  },
  {
   "cell_type": "code",
   "execution_count": null,
   "id": "ddb04850-cfc2-4b3a-b52c-e6adca900e9d",
   "metadata": {},
   "outputs": [],
   "source": [
    "df.describe().T"
   ]
  },
  {
   "cell_type": "code",
   "execution_count": null,
   "id": "c25aee71-9dcd-478a-b3df-2423395b948c",
   "metadata": {},
   "outputs": [],
   "source": [
    "df.plot(kind='hist',bins=20,figsize=(8,4))\n",
    "plt.show()"
   ]
  },
  {
   "cell_type": "code",
   "execution_count": null,
   "id": "5b14dc33-237b-4e11-886b-4294ded57d6c",
   "metadata": {},
   "outputs": [],
   "source": [
    "df.plot(kind='kde',figsize=(8,4))\n",
    "plt.show()"
   ]
  },
  {
   "cell_type": "code",
   "execution_count": null,
   "id": "50b9c442-24ba-4afd-a41d-4449957ab056",
   "metadata": {},
   "outputs": [],
   "source": [
    "df.plot(kind='box',figsize=(4,4))\n",
    "plt.show()"
   ]
  },
  {
   "cell_type": "code",
   "execution_count": null,
   "id": "8b9f0eaa-7d81-4e43-a12f-22da8992390a",
   "metadata": {},
   "outputs": [],
   "source": [
    "df.plot(kind='line',figsize=(8,4))\n",
    "plt.show()"
   ]
  },
  {
   "cell_type": "code",
   "execution_count": null,
   "id": "ae4b74a2-ad44-4624-bd87-98f6feef4f17",
   "metadata": {},
   "outputs": [],
   "source": [
    "plt.figure(figsize=(8,4))\n",
    "plt.scatter(x=df.index,y=df['Temperature'])\n",
    "plt.xticks(rotation=45)\n",
    "plt.show()"
   ]
  },
  {
   "cell_type": "code",
   "execution_count": null,
   "id": "b3e047ce-c749-44e7-b250-9749649e3c1c",
   "metadata": {},
   "outputs": [],
   "source": [
    "plt.figure(figsize=(8,4))\n",
    "pd.plotting.autocorrelation_plot(df['Temperature'])\n",
    "plt.show()"
   ]
  },
  {
   "cell_type": "code",
   "execution_count": null,
   "id": "dac6bf07-c177-46cc-9206-043b77abc8d3",
   "metadata": {},
   "outputs": [],
   "source": [
    "df.corr()"
   ]
  },
  {
   "cell_type": "code",
   "execution_count": null,
   "id": "25daff75-977a-49ab-b642-f7d74dc481fb",
   "metadata": {},
   "outputs": [],
   "source": [
    "plt.figure(figsize=(3,3))\n",
    "sns.heatmap(df)\n",
    "plt.show()"
   ]
  }
 ],
 "metadata": {
  "kernelspec": {
   "display_name": "Python 3 (ipykernel)",
   "language": "python",
   "name": "python3"
  },
  "language_info": {
   "codemirror_mode": {
    "name": "ipython",
    "version": 3
   },
   "file_extension": ".py",
   "mimetype": "text/x-python",
   "name": "python",
   "nbconvert_exporter": "python",
   "pygments_lexer": "ipython3",
   "version": "3.12.4"
  }
 },
 "nbformat": 4,
 "nbformat_minor": 5
}
