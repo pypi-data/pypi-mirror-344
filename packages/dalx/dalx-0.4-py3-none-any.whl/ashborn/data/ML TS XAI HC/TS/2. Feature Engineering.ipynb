{
 "cells": [
  {
   "cell_type": "code",
   "execution_count": null,
   "id": "ac978750-0ac5-4371-a0fb-a54f8503fc64",
   "metadata": {},
   "outputs": [],
   "source": [
    "import numpy as np\n",
    "import pandas as pd\n",
    "import matplotlib.pyplot as plt"
   ]
  },
  {
   "cell_type": "code",
   "execution_count": null,
   "id": "1bc21b2b-ccd4-4ed9-888b-b022bd800d26",
   "metadata": {},
   "outputs": [],
   "source": [
    "np.random.seed(42)\n",
    "values = np.random.randn(100)\n",
    "values[:10]"
   ]
  },
  {
   "cell_type": "code",
   "execution_count": null,
   "id": "b23f68f1-98f8-4d36-8fc8-d92eb82240ae",
   "metadata": {},
   "outputs": [],
   "source": [
    "dates = pd.date_range(start='2023-01-01',end='2023-04-10',freq='D')\n",
    "dates[:10]"
   ]
  },
  {
   "cell_type": "code",
   "execution_count": null,
   "id": "7c763c06-37fc-4070-b8ee-2241563a6ea4",
   "metadata": {},
   "outputs": [],
   "source": [
    "df = pd.DataFrame(values,index=dates,columns=['value'])\n",
    "df.head()"
   ]
  },
  {
   "cell_type": "code",
   "execution_count": null,
   "id": "3a3555e2-1925-4a94-85a2-5ca3909a4c72",
   "metadata": {},
   "outputs": [],
   "source": [
    "df['value'].plot(kind='hist',bins=20,title='value')\n",
    "plt.show()"
   ]
  },
  {
   "cell_type": "code",
   "execution_count": null,
   "id": "d6188560-d5ed-4093-b3b0-7da64bfa99b1",
   "metadata": {},
   "outputs": [],
   "source": [
    "df['value'].plot(kind='hist',bins=20,title='value')\n",
    "plt.show()"
   ]
  },
  {
   "cell_type": "code",
   "execution_count": null,
   "id": "42b76b42-0f4e-4f90-904e-ef286fa92464",
   "metadata": {},
   "outputs": [],
   "source": [
    "df['value'].plot(kind='line',figsize=(8,4),title='value')\n",
    "plt.show()"
   ]
  },
  {
   "cell_type": "code",
   "execution_count": null,
   "id": "e1975c05-f04e-445f-8ddb-30ea29f3e231",
   "metadata": {},
   "outputs": [],
   "source": [
    "plt.figure(figsize=(10,6))\n",
    "plt.plot(df['value'])\n",
    "plt.xlabel('Date')\n",
    "plt.ylabel('value')\n",
    "plt.title('Synthetic time series Dataset')\n",
    "plt.show()"
   ]
  },
  {
   "cell_type": "code",
   "execution_count": null,
   "id": "6c46e388-cba3-43ca-b5ef-b5dfd55d4418",
   "metadata": {},
   "outputs": [],
   "source": [
    "df['year'] = df.index.year\n",
    "df['month'] = df.index.month\n",
    "df['day'] = df.index.day\n",
    "df['weekday'] = df.index.weekday\n",
    "df.head()"
   ]
  },
  {
   "cell_type": "code",
   "execution_count": null,
   "id": "a09ab128-c1a1-40da-aa23-23862def187f",
   "metadata": {},
   "outputs": [],
   "source": [
    "df['lag_1']=df['value'].shift(1)\n",
    "df.head()"
   ]
  },
  {
   "cell_type": "code",
   "execution_count": null,
   "id": "30c06285-7362-48e2-80cb-89302f8a29e0",
   "metadata": {},
   "outputs": [],
   "source": [
    "df['lag_2']=df['value'].shift(2)\n",
    "df.head()"
   ]
  },
  {
   "cell_type": "code",
   "execution_count": null,
   "id": "9734d51b-898b-4c6b-a1cd-a30a5cdab71b",
   "metadata": {},
   "outputs": [],
   "source": [
    "df['rollling_mean_5'] = df['value'].rolling(5).mean()\n",
    "df['rollling_std_5'] = df['value'].rolling(5).std()\n",
    "df['rollling_min_5'] = df['value'].rolling(5).min()\n",
    "df['rollling_max_5'] = df['value'].rolling(5).max()\n",
    "df.head()"
   ]
  },
  {
   "cell_type": "code",
   "execution_count": null,
   "id": "44564c15-d51e-4dd8-bed9-0d5d3e340fac",
   "metadata": {},
   "outputs": [],
   "source": [
    "df['expanding_mean_5'] = df['value'].expanding(5).mean()\n",
    "df['expanding_std_5'] = df['value'].expanding(5).std()\n",
    "df['expanding_min_5'] = df['value'].expanding(5).min()\n",
    "df['expanding_max_5'] = df['value'].expanding(5).max()\n",
    "df.head()"
   ]
  }
 ],
 "metadata": {
  "kernelspec": {
   "display_name": "Python 3 (ipykernel)",
   "language": "python",
   "name": "python3"
  },
  "language_info": {
   "codemirror_mode": {
    "name": "ipython",
    "version": 3
   },
   "file_extension": ".py",
   "mimetype": "text/x-python",
   "name": "python",
   "nbconvert_exporter": "python",
   "pygments_lexer": "ipython3",
   "version": "3.12.4"
  }
 },
 "nbformat": 4,
 "nbformat_minor": 5
}
