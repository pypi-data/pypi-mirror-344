{
 "cells": [
  {
   "cell_type": "code",
   "execution_count": null,
   "id": "6bb9403b-263b-48e3-a516-a436a771ab3d",
   "metadata": {},
   "outputs": [],
   "source": [
    "import pandas as pd\n",
    "import numpy as np\n",
    "import matplotlib.pyplot as plt\n",
    "import seaborn as sns\n",
    "import random"
   ]
  },
  {
   "cell_type": "code",
   "execution_count": null,
   "id": "e62e553d-9abb-4f4a-bf47-48df2618e1ba",
   "metadata": {},
   "outputs": [],
   "source": [
    "np.random.seed(42)\n",
    "dates=pd.date_range('2024-01-01','2024-12-31',freq='ME')\n",
    "data=pd.DataFrame(data=[random.randint(0,1000) for i in range(len(dates))], index=dates,columns=['Values'])\n",
    "data.head()"
   ]
  },
  {
   "cell_type": "code",
   "execution_count": null,
   "id": "00fc7ac6-e20b-4203-8e76-02fb6d7cc435",
   "metadata": {},
   "outputs": [],
   "source": [
    "data.plot(kind='line')\n",
    "plt.show()"
   ]
  },
  {
   "cell_type": "markdown",
   "id": "90d4394d-e513-49d1-9f0c-17540946e676",
   "metadata": {},
   "source": [
    "**Up Sampling and Interpolation**"
   ]
  },
  {
   "cell_type": "code",
   "execution_count": null,
   "id": "a5b59623-5abc-4f47-86de-f5992dd95d4b",
   "metadata": {},
   "outputs": [],
   "source": [
    "upsample=data.resample('h')\n",
    "interpolated=upsample.interpolate(method='linear')\n",
    "interpolated"
   ]
  },
  {
   "cell_type": "code",
   "execution_count": null,
   "id": "b5fd4bf6-b5fd-4144-8efa-3d42d52abc72",
   "metadata": {},
   "outputs": [],
   "source": [
    "interpolated.plot(kind='line')"
   ]
  },
  {
   "cell_type": "code",
   "execution_count": null,
   "id": "fd729d40-2b9f-4cfa-8fcb-8ab950d5051a",
   "metadata": {},
   "outputs": [],
   "source": [
    "upsample=data.resample('h')\n",
    "interpolated=upsample.interpolate(method='spline',order=3)\n",
    "interpolated"
   ]
  },
  {
   "cell_type": "code",
   "execution_count": null,
   "id": "453062ab-4042-4bcd-a465-ecc4375e9cbf",
   "metadata": {},
   "outputs": [],
   "source": [
    "interpolated.plot(kind='line')\n",
    "plt.show()"
   ]
  },
  {
   "cell_type": "markdown",
   "id": "6f6e70bf-15c7-4dfb-b9b1-3deae9a4226e",
   "metadata": {},
   "source": [
    "**Down Sampling and Interpolation**"
   ]
  },
  {
   "cell_type": "code",
   "execution_count": null,
   "id": "bd57a941-82c1-40c8-911c-6cca58ea549b",
   "metadata": {},
   "outputs": [],
   "source": [
    "downsample=interpolated.resample('QE')\n",
    "interpolated=downsample.mean()\n",
    "interpolated"
   ]
  },
  {
   "cell_type": "code",
   "execution_count": null,
   "id": "f3427633-7ca0-4377-98d1-95099c064159",
   "metadata": {},
   "outputs": [],
   "source": [
    "interpolated.plot(kind='line')"
   ]
  }
 ],
 "metadata": {
  "kernelspec": {
   "display_name": "Python 3 (ipykernel)",
   "language": "python",
   "name": "python3"
  },
  "language_info": {
   "codemirror_mode": {
    "name": "ipython",
    "version": 3
   },
   "file_extension": ".py",
   "mimetype": "text/x-python",
   "name": "python",
   "nbconvert_exporter": "python",
   "pygments_lexer": "ipython3",
   "version": "3.12.4"
  }
 },
 "nbformat": 4,
 "nbformat_minor": 5
}
