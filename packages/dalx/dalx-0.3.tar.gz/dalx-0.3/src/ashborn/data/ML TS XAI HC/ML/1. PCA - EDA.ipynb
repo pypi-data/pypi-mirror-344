{
 "cells": [
  {
   "cell_type": "markdown",
   "id": "8c414eda",
   "metadata": {},
   "source": [
    "##### __Machine learnings Laboratory First Lab Basic EDA and Principle components analysis__"
   ]
  },
  {
   "cell_type": "code",
   "execution_count": null,
   "id": "1919dce4",
   "metadata": {},
   "outputs": [],
   "source": [
    "import pandas as pd\n",
    "import numpy as np\n",
    "import matplotlib.pyplot as plt\n",
    "from sklearn.preprocessing import StandardScaler\n",
    "from sklearn.decomposition import PCA\n",
    "import warnings\n",
    "warnings.filterwarnings('ignore')"
   ]
  },
  {
   "cell_type": "code",
   "execution_count": null,
   "id": "459c19c9",
   "metadata": {},
   "outputs": [],
   "source": [
    "df = pd.read_table('data/balance-scale.txt', delimiter = ',', names = ['class name', 'left-weight', 'left-distance', 'right-weight', 'right-distance'])\n",
    "#df = pd.read_csv('data/balance-scale.csv')\n",
    "df.head()"
   ]
  },
  {
   "cell_type": "code",
   "execution_count": null,
   "id": "4a1f3399",
   "metadata": {},
   "outputs": [],
   "source": [
    "print(\"Shape\\t Size\")\n",
    "print(df.shape, df.size)\n",
    "df.dtypes"
   ]
  },
  {
   "cell_type": "code",
   "execution_count": null,
   "id": "ceb17e01",
   "metadata": {},
   "outputs": [],
   "source": [
    "df.describe()"
   ]
  },
  {
   "cell_type": "code",
   "execution_count": null,
   "id": "c3950e04",
   "metadata": {},
   "outputs": [],
   "source": [
    "df.info()"
   ]
  },
  {
   "cell_type": "code",
   "execution_count": null,
   "id": "e242d2e1",
   "metadata": {},
   "outputs": [],
   "source": [
    "plt.hist(df['class name'], color = 'green', label = 'Frequency Distribution')\n",
    "plt.legend()\n",
    "plt.title(\"Class Wise Count  ['L', 'B', 'R']\")\n",
    "plt.show()"
   ]
  },
  {
   "cell_type": "code",
   "execution_count": null,
   "id": "37654636",
   "metadata": {},
   "outputs": [],
   "source": [
    "fig, axs = plt.subplots(2,2)\n",
    "axs[0][0].hist(df['left-weight'], color = 'orange', label = 'Left-Weight')\n",
    "axs[0][1].hist(df['left-distance'], color = 'red', label = 'Lefft-distance')\n",
    "axs[1][0].hist(df['right-weight'], color = 'green',label = 'right-weight')\n",
    "axs[1][1].hist(df['right-distance'], color = 'indigo', label = 'right-distance')\n",
    "fig.legend(loc = 'upper left')\n",
    "fig.suptitle(\"Histogram For Features\")"
   ]
  },
  {
   "cell_type": "markdown",
   "id": "3b033918",
   "metadata": {},
   "source": [
    "##### __PCA__"
   ]
  },
  {
   "cell_type": "code",
   "execution_count": null,
   "id": "b9d4bb7e",
   "metadata": {},
   "outputs": [],
   "source": [
    "feature = ['left-weight','left-distance','right-weight','right-distance']\n",
    "x = df.loc[:, feature]\n",
    "y = df.loc[:, 'class name']"
   ]
  },
  {
   "cell_type": "code",
   "execution_count": null,
   "id": "de2b55cc",
   "metadata": {},
   "outputs": [],
   "source": [
    "x = StandardScaler().fit_transform(x)\n",
    "pca = PCA(n_components = 2)\n",
    "pct = pca.fit_transform(x)"
   ]
  },
  {
   "cell_type": "code",
   "execution_count": null,
   "id": "06bf0d31",
   "metadata": {},
   "outputs": [],
   "source": [
    "principal_df = pd.DataFrame(pct,columns=['pc1','pc2'])\n",
    "print(\"principal-df:\\n\",principal_df)"
   ]
  },
  {
   "cell_type": "code",
   "execution_count": null,
   "id": "7dab85de",
   "metadata": {},
   "outputs": [],
   "source": [
    "finaldf= pd.concat([principal_df,df[['class name']]],axis=1)\n",
    "print(\"finaldf:\\n\",finaldf)"
   ]
  },
  {
   "cell_type": "code",
   "execution_count": null,
   "id": "026ab3b1",
   "metadata": {},
   "outputs": [],
   "source": [
    "finaldf.head()"
   ]
  },
  {
   "cell_type": "code",
   "execution_count": null,
   "id": "53d0455b",
   "metadata": {},
   "outputs": [],
   "source": [
    "fig = plt.figure(figsize = (8, 8))\n",
    "ax = fig.add_subplot(1, 1, 1)\n",
    "ax.set_xlabel('Principal Component 1', fontsize = 15)\n",
    "ax.set_ylabel('Principal Component 2', fontsize = 15)\n",
    "ax.set_title('2 component PCA', fontsize = 20)\n",
    "targets = ['L','B','R']\n",
    "colors = ['r', 'g','b']\n",
    "for target, color in zip(targets, colors):\n",
    "    indicesToKeep = finaldf['class name'] == target\n",
    "    ax.scatter(finaldf.loc[indicesToKeep, 'pc1'], finaldf.loc[indicesToKeep, 'pc2'], c = color, s = 50)\n",
    "ax.legend(targets)\n",
    "ax.grid()"
   ]
  }
 ],
 "metadata": {
  "kernelspec": {
   "display_name": "Python 3 (ipykernel)",
   "language": "python",
   "name": "python3"
  },
  "language_info": {
   "codemirror_mode": {
    "name": "ipython",
    "version": 3
   },
   "file_extension": ".py",
   "mimetype": "text/x-python",
   "name": "python",
   "nbconvert_exporter": "python",
   "pygments_lexer": "ipython3",
   "version": "3.12.4"
  }
 },
 "nbformat": 4,
 "nbformat_minor": 5
}
