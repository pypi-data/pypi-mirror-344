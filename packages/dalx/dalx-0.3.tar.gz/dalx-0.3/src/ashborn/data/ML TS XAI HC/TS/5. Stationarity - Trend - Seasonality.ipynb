{
 "cells": [
  {
   "cell_type": "code",
   "execution_count": null,
   "id": "f01bfd82-b491-4e4c-ab74-0eb7709b20b1",
   "metadata": {},
   "outputs": [],
   "source": [
    "import pandas as pd\n",
    "import numpy as np\n",
    "import matplotlib.pyplot as plt\n",
    "from statsmodels.tsa.stattools import kpss\n",
    "from statsmodels.tsa.seasonal import seasonal_decompose\n",
    "import warnings\n",
    "warnings.filterwarnings(\"ignore\")"
   ]
  },
  {
   "cell_type": "code",
   "execution_count": null,
   "id": "04a57fe7-20ae-4202-b5fd-7d4f60161871",
   "metadata": {},
   "outputs": [],
   "source": [
    "df = pd.read_csv(\"data/daily-total-female-births.csv\", parse_dates = ['Date'], index_col='Date')\n",
    "print(f\"Shape: {df.shape}\")\n",
    "df.head()"
   ]
  },
  {
   "cell_type": "code",
   "execution_count": null,
   "id": "8ae68a42-dc21-4fdc-a69d-3c28ae65f146",
   "metadata": {},
   "outputs": [],
   "source": [
    "df.plot()\n",
    "plt.show()"
   ]
  },
  {
   "cell_type": "code",
   "execution_count": null,
   "id": "99bc55d6-f608-4ab3-84f0-f0b9b6e39aa8",
   "metadata": {},
   "outputs": [],
   "source": [
    "x = np.linspace(0, 12, num=200)\n",
    "seasonality = 1.2 * np.sin(2 * np.pi * x / 4)\n",
    "\n",
    "plt.figure(figsize=(10,6))\n",
    "plt.plot(x, seasonality, label = \"Seasonal Component\", color = \"g\")\n",
    "plt.xlabel(\"Time\")\n",
    "plt.ylabel(\"Value\")\n",
    "plt.title(\"Seasonal Signal\")\n",
    "plt.legend()\n",
    "plt.show()"
   ]
  },
  {
   "cell_type": "code",
   "execution_count": null,
   "id": "ea5377ec-67f4-4fc3-b20b-7792b937eb72",
   "metadata": {},
   "outputs": [],
   "source": [
    "df2 = pd.read_csv(\"daily-min-temperatures.csv\", parse_dates = ['Date'], index_col='Date')\n",
    "df2.head()"
   ]
  },
  {
   "cell_type": "code",
   "execution_count": null,
   "id": "a0d10a57-006c-4a59-b7c7-ff0c63bb6e99",
   "metadata": {},
   "outputs": [],
   "source": [
    "df2.plot(title = \"Daily Minimun Temperature\", figsize = (14, 8), legend = None)\n",
    "plt.xlabel(\"Date\")\n",
    "plt.ylabel(\"Temperature in °C\")\n",
    "plt.show()"
   ]
  },
  {
   "cell_type": "code",
   "execution_count": null,
   "id": "1c99e75f-5e45-4485-b54c-3b848fd428ca",
   "metadata": {},
   "outputs": [],
   "source": [
    "def kpss_test(series):\n",
    "    statistic, p_value, n_lags, critical_values = kpss(series)\n",
    "    print(f\"KPSS Statistic: {statistic:.4f}\")\n",
    "    print(f\"p-value: {p_value:.4f}\")\n",
    "    print(f\"Number of Lags: {n_lags}\")\n",
    "    print(\"Critical Values:\")\n",
    "    print(\"\\n\".join([f\"{key} : {value:.4f}\" for key, value in critical_values.items()]))\n",
    "    print(f\"Result: The Series is {'not' if p_value < 0.05 else ''} Stationary\")"
   ]
  },
  {
   "cell_type": "code",
   "execution_count": null,
   "id": "67290889-aaf5-464c-8748-7f2e3f797d0c",
   "metadata": {},
   "outputs": [],
   "source": [
    "kpss_test(df)"
   ]
  },
  {
   "cell_type": "code",
   "execution_count": null,
   "id": "421d972b-3f8a-4c54-884b-4b270bf2adfb",
   "metadata": {},
   "outputs": [],
   "source": [
    "kpss_test(df2)"
   ]
  },
  {
   "cell_type": "code",
   "execution_count": null,
   "id": "dd286b94-3867-4045-b3ff-0b5693b0feab",
   "metadata": {},
   "outputs": [],
   "source": [
    "decomposition = seasonal_decompose(df2['Temp'], model = 'additive', period = 365)\n",
    "\n",
    "trend = decomposition.trend\n",
    "seasonal = decomposition.seasonal\n",
    "residual = decomposition.resid\n",
    "\n",
    "plt.figure(figsize = (14,8))\n",
    "plt.subplot(411)\n",
    "plt.plot(df2['Temp'], label = \"Original\", color =\"g\")\n",
    "plt.legend(loc = \"upper left\")\n",
    "plt.subplot(412)\n",
    "plt.plot(trend, label=\"Trend\", color =\"r\")\n",
    "plt.legend(loc=\"upper left\")\n",
    "plt.subplot(413)\n",
    "plt.plot(seasonal, label = \"Seasonal\", color =\"y\")\n",
    "plt.legend(loc = \"upper left\")\n",
    "plt.subplot(414)\n",
    "plt.plot(residual, label=\"Residual\", color =\"lightblue\")\n",
    "plt.legend(loc=\"upper left\")\n",
    "plt.show()"
   ]
  }
 ],
 "metadata": {
  "kernelspec": {
   "display_name": "Python 3 (ipykernel)",
   "language": "python",
   "name": "python3"
  },
  "language_info": {
   "codemirror_mode": {
    "name": "ipython",
    "version": 3
   },
   "file_extension": ".py",
   "mimetype": "text/x-python",
   "name": "python",
   "nbconvert_exporter": "python",
   "pygments_lexer": "ipython3",
   "version": "3.12.4"
  }
 },
 "nbformat": 4,
 "nbformat_minor": 5
}
