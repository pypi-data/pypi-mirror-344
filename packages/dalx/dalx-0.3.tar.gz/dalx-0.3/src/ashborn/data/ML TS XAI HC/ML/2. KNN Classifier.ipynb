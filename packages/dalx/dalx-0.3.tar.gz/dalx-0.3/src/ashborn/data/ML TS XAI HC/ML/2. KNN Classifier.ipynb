{
 "cells": [
  {
   "cell_type": "markdown",
   "id": "def24f4a",
   "metadata": {},
   "source": [
    "##### __Balance Scale Dataset__"
   ]
  },
  {
   "cell_type": "code",
   "execution_count": null,
   "id": "b4a8b5dc",
   "metadata": {},
   "outputs": [],
   "source": [
    "from sklearn.neighbors import KNeighborsClassifier\n",
    "from sklearn.datasets import load_iris\n",
    "from sklearn.model_selection import train_test_split\n",
    "from sklearn import metrics\n",
    "from sklearn.preprocessing import StandardScaler\n",
    "import sklearn\n",
    "import pandas as pd\n",
    "import numpy as np"
   ]
  },
  {
   "cell_type": "code",
   "execution_count": null,
   "id": "1c308767",
   "metadata": {},
   "outputs": [],
   "source": [
    "df = pd.read_csv('data/balance-scale.txt', delimiter = ',', names=['class name','left-weight','left-distance','right-weight','right-distance'])\n",
    "#df = pd.read_csv('data/balance-scale.csv')\n",
    "df.head()"
   ]
  },
  {
   "cell_type": "code",
   "execution_count": null,
   "id": "23d0288e",
   "metadata": {},
   "outputs": [],
   "source": [
    "feature = ['left-weight','left-distance','right-weight','right-distance']\n",
    "x = df.loc[:,feature]\n",
    "y = df.loc[:,'class name']\n",
    "x = StandardScaler().fit_transform(x)\n",
    "X_train, X_test, y_train, y_test = train_test_split(x, y, test_size=0.4,\n",
    "random_state = 4)\n",
    "print (X_train.shape)\n",
    "print (X_test.shape)\n",
    "knn = KNeighborsClassifier(n_neighbors = 15)\n",
    "knn.fit(X_train, y_train)                  "
   ]
  },
  {
   "cell_type": "code",
   "execution_count": null,
   "id": "366c003d",
   "metadata": {},
   "outputs": [],
   "source": [
    "y_pred = knn.predict(X_test)\n",
    "print (metrics.accuracy_score(y_test, y_pred))"
   ]
  },
  {
   "cell_type": "markdown",
   "id": "6702687e",
   "metadata": {},
   "source": [
    "##### __class for [1,1,1,1] = R (predicted)__"
   ]
  },
  {
   "cell_type": "code",
   "execution_count": null,
   "id": "22e96c2a",
   "metadata": {},
   "outputs": [],
   "source": [
    "y_pred = knn.predict(np.array([1,1,1,1]).reshape(1, -1))[0]\n",
    "print(\"Class Predicted:\", y_pred)"
   ]
  },
  {
   "cell_type": "markdown",
   "id": "13d70944",
   "metadata": {},
   "source": [
    "##### __Iris Dataset__"
   ]
  },
  {
   "cell_type": "code",
   "execution_count": null,
   "id": "3192e255",
   "metadata": {},
   "outputs": [],
   "source": [
    "def to_category(val):\n",
    "    match val:\n",
    "        case 0: return \"setosa\"\n",
    "        case 1: return \"versicolor\"\n",
    "        case 2: return \"virginica\"\n",
    "iris = load_iris()\n",
    "df2 = pd.DataFrame(data=iris.data, columns=iris.feature_names)\n",
    "df2['class'] = iris.target\n",
    "df2['class'] = df2['class'].apply(to_category)\n",
    "print(df2.shape)\n",
    "df2.head()"
   ]
  },
  {
   "cell_type": "code",
   "execution_count": null,
   "id": "4115986d",
   "metadata": {
    "scrolled": true
   },
   "outputs": [],
   "source": [
    "feature = ['sepal length (cm)','sepal width (cm)','petal length (cm)','petal width (cm)']\n",
    "x = df2.loc[:,feature]\n",
    "y = df2.loc[:,'class']\n",
    "x = StandardScaler().fit_transform(x)\n",
    "X_train, X_test, y_train, y_test = train_test_split(x, y, test_size=0.4,\n",
    "random_state = 4)\n",
    "print (X_train.shape)\n",
    "print (X_test.shape)\n",
    "knn = KNeighborsClassifier(n_neighbors = 15)\n",
    "knn.fit(X_train, y_train)                  "
   ]
  },
  {
   "cell_type": "code",
   "execution_count": null,
   "id": "8252b0f1",
   "metadata": {},
   "outputs": [],
   "source": [
    "y_pred = knn.predict(X_test)\n",
    "print (metrics.accuracy_score(y_test, y_pred))"
   ]
  },
  {
   "cell_type": "markdown",
   "id": "06559281",
   "metadata": {},
   "source": [
    "##### __class for [5.2,3.5,1.1,0.2] = virginica (predicted)__"
   ]
  },
  {
   "cell_type": "code",
   "execution_count": null,
   "id": "085896ef",
   "metadata": {},
   "outputs": [],
   "source": [
    "y_pred = knn.predict(np.array([5.2, 3.5, 1.1, 0.2]).reshape(1, -1))[0]\n",
    "print(\"Class Predicted:\", y_pred)"
   ]
  },
  {
   "cell_type": "markdown",
   "id": "cdd56944",
   "metadata": {},
   "source": [
    "##### __Iris Dataset Visualization__"
   ]
  },
  {
   "cell_type": "code",
   "execution_count": null,
   "id": "a549df51",
   "metadata": {},
   "outputs": [],
   "source": [
    "from sklearn.svm import SVC\n",
    "import numpy as np\n",
    "import matplotlib.pyplot as plt\n",
    "from sklearn import svm, datasets\n",
    "\n",
    "iris = load_iris()\n",
    "X = iris.data[:, :2]\n",
    "y = iris.target\n",
    "\n",
    "def make_meshgrid(x, y, h=.02):\n",
    "    x_min, x_max = x.min() - 1, x.max() + 1\n",
    "    y_min, y_max = y.min() - 1, y.max() + 1\n",
    "    xx, yy = np.meshgrid(np.arange(x_min, x_max, h), np.arange(y_min, y_max, h))\n",
    "    return xx, yy\n",
    "\n",
    "def plot_contours(ax, clf, xx, yy, **params):\n",
    "    Z = clf.predict(np.c_[xx.ravel(), yy.ravel()])\n",
    "    Z = Z.reshape(xx.shape)\n",
    "    out = ax.contourf(xx, yy, Z, **params)\n",
    "    return out\n",
    "\n",
    "model = svm.SVC(kernel='linear')\n",
    "clf = model.fit(X, y)\n",
    "\n",
    "fig, ax = plt.subplots()\n",
    "# title for the plots\n",
    "title = ('Decision surface of linear SVC ')\n",
    "# Set-up grid for plotting.\n",
    "X0, X1 = X[:, 0], X[:, 1]\n",
    "xx, yy = make_meshgrid(X0, X1)\n",
    "\n",
    "plot_contours(ax, clf, xx, yy, cmap=plt.cm.coolwarm, alpha=0.8)\n",
    "ax.scatter(X0, X1, c=y, cmap=plt.cm.coolwarm, s=20, edgecolors='k')\n",
    "ax.set_ylabel('y label here')\n",
    "ax.set_xlabel('x label here')\n",
    "ax.set_xticks(())\n",
    "ax.set_yticks(())\n",
    "ax.set_title(title)\n",
    "#ax.legend()\n",
    "plt.show()"
   ]
  },
  {
   "cell_type": "code",
   "execution_count": null,
   "id": "01719650",
   "metadata": {},
   "outputs": [],
   "source": [
    "from sklearn.svm import SVC\n",
    "import numpy as np\n",
    "import matplotlib.pyplot as plt\n",
    "from sklearn import svm, datasets\n",
    "from mpl_toolkits.mplot3d import Axes3D\n",
    "\n",
    "iris = datasets.load_iris()\n",
    "X = iris.data[:, :3]  # we only take the first three features.\n",
    "Y = iris.target\n",
    "\n",
    "#make it binary classification problem\n",
    "X = X[np.logical_or(Y==0,Y==1)]\n",
    "Y = Y[np.logical_or(Y==0,Y==1)]\n",
    "\n",
    "model = svm.SVC(kernel='linear')\n",
    "clf = model.fit(X, Y)\n",
    "\n",
    "# The equation of the separating plane is given by all x so that np.dot(svc.coef_[0], x) + b = 0.\n",
    "# Solve for w3 (z)\n",
    "z = lambda x,y: (-clf.intercept_[0]-clf.coef_[0][0]*x -clf.coef_[0][1]*y) / clf.coef_[0][2]\n",
    "\n",
    "tmp = np.linspace(-5,5,30)\n",
    "x,y = np.meshgrid(tmp,tmp)\n",
    "\n",
    "fig = plt.figure()\n",
    "ax  = fig.add_subplot(111, projection='3d')\n",
    "ax.plot3D(X[Y==0,0], X[Y==0,1], X[Y==0,2],'ob')\n",
    "ax.plot3D(X[Y==1,0], X[Y==1,1], X[Y==1,2],'sr')\n",
    "ax.plot_surface(x, y, z(x,y))\n",
    "ax.view_init(30, 60)\n",
    "plt.show()"
   ]
  }
 ],
 "metadata": {
  "kernelspec": {
   "display_name": "Python 3 (ipykernel)",
   "language": "python",
   "name": "python3"
  },
  "language_info": {
   "codemirror_mode": {
    "name": "ipython",
    "version": 3
   },
   "file_extension": ".py",
   "mimetype": "text/x-python",
   "name": "python",
   "nbconvert_exporter": "python",
   "pygments_lexer": "ipython3",
   "version": "3.12.4"
  }
 },
 "nbformat": 4,
 "nbformat_minor": 5
}
