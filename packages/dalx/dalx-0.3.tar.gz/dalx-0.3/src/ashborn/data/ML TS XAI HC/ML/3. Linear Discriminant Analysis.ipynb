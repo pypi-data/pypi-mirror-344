{
 "cells": [
  {
   "cell_type": "code",
   "execution_count": null,
   "id": "96ac04a5-6577-4da4-8454-3b10535351f8",
   "metadata": {},
   "outputs": [],
   "source": [
    "import matplotlib.pyplot as plt\n",
    "from sklearn import datasets\n",
    "from sklearn.discriminant_analysis import LinearDiscriminantAnalysis as LDA\n",
    "import pandas as pd\n",
    "import matplotlib.pyplot as plt\n",
    "from sklearn.preprocessing import StandardScaler"
   ]
  },
  {
   "cell_type": "code",
   "execution_count": null,
   "id": "b1ffa4dc-488f-4238-877b-5cbd6fb48e4e",
   "metadata": {},
   "outputs": [],
   "source": [
    "df = pd.read_table('data/balance-scale.txt', delimiter = \",\", names=['class name','left-weight','left-distance','right-weight','right-distance'])\n",
    "#df = pd.read_csv('data/balance-scale.csv')\n",
    "df.head()"
   ]
  },
  {
   "cell_type": "markdown",
   "id": "ac328950-540f-4a27-b9d4-0880058064f5",
   "metadata": {},
   "source": [
    "##### __LDA__"
   ]
  },
  {
   "cell_type": "code",
   "execution_count": null,
   "id": "7a947959-791f-4ffe-95f0-e300d97cf179",
   "metadata": {},
   "outputs": [],
   "source": [
    "feature = ['left-weight','left-distance','right-weight','right-distance']\n",
    "x = df.loc[:,feature]\n",
    "y = df.loc[:,'class name']\n",
    "lda = LDA(n_components=2)\n",
    "lda_X = lda.fit(x,y).transform(x)\n",
    "plt.scatter(lda_X[y == 'L', 0], lda_X[y == 'L', 1], s =50, c = 'orange',\n",
    "label = 'L')\n",
    "plt.scatter(lda_X[y == 'B', 0], lda_X[y == 'B', 1], s =50, c = 'blue',\n",
    "label = 'B')\n",
    "\n",
    "16\n",
    "plt.scatter(lda_X[y == 'R', 0], lda_X[y == 'R', 1], s =50, c = 'green',\n",
    "label = 'R')\n",
    "plt.title('LDA plot for cmc DataSet')"
   ]
  }
 ],
 "metadata": {
  "kernelspec": {
   "display_name": "Python 3 (ipykernel)",
   "language": "python",
   "name": "python3"
  },
  "language_info": {
   "codemirror_mode": {
    "name": "ipython",
    "version": 3
   },
   "file_extension": ".py",
   "mimetype": "text/x-python",
   "name": "python",
   "nbconvert_exporter": "python",
   "pygments_lexer": "ipython3",
   "version": "3.12.4"
  }
 },
 "nbformat": 4,
 "nbformat_minor": 5
}
