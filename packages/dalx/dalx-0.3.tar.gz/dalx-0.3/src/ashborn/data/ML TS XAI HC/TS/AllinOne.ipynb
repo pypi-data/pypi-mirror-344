{
 "cells": [
  {
   "cell_type": "markdown",
   "metadata": {
    "id": "YPUOzkLyRB8u"
   },
   "source": [
    "# ***Pre Steps***"
   ]
  },
  {
   "cell_type": "code",
   "execution_count": null,
   "metadata": {
    "executionInfo": {
     "elapsed": 18,
     "status": "ok",
     "timestamp": 1740357338286,
     "user": {
      "displayName": "Jaison A",
      "userId": "07006398627763032071"
     },
     "user_tz": -330
    },
    "id": "NPvIf3ZFLvuV"
   },
   "outputs": [],
   "source": [
    "import pandas as pd\n",
    "import matplotlib.pyplot as plt\n",
    "import seaborn as sns\n",
    "import datetime\n",
    "import numpy as np\n",
    "import warnings\n",
    "warnings.filterwarnings('ignore')"
   ]
  },
  {
   "cell_type": "markdown",
   "metadata": {
    "id": "gO-DdNvcL804"
   },
   "source": [
    "# ***EX_1***"
   ]
  },
  {
   "cell_type": "markdown",
   "metadata": {
    "id": "JtZeYI8jWgB7"
   },
   "source": [
    "## ***Random Data.***"
   ]
  },
  {
   "cell_type": "code",
   "execution_count": null,
   "metadata": {
    "colab": {
     "base_uri": "https://localhost:8080/"
    },
    "executionInfo": {
     "elapsed": 721,
     "status": "ok",
     "timestamp": 1740357650710,
     "user": {
      "displayName": "Jaison A",
      "userId": "07006398627763032071"
     },
     "user_tz": -330
    },
    "id": "bmxATAzRXDCs",
    "outputId": "c8875b55-01a6-4d36-a47a-dd0cbe6bc107"
   },
   "outputs": [],
   "source": [
    "np.random.seed(42)\n",
    "values=np.random.randn(100)\n",
    "values"
   ]
  },
  {
   "cell_type": "code",
   "execution_count": null,
   "metadata": {
    "executionInfo": {
     "elapsed": 3,
     "status": "ok",
     "timestamp": 1740357652355,
     "user": {
      "displayName": "Jaison A",
      "userId": "07006398627763032071"
     },
     "user_tz": -330
    },
    "id": "ooK9lOgAXrL0"
   },
   "outputs": [],
   "source": [
    "dates=pd.date_range('2010-01-01',periods=len(values),freq='D')"
   ]
  },
  {
   "cell_type": "code",
   "execution_count": null,
   "metadata": {
    "colab": {
     "base_uri": "https://localhost:8080/",
     "height": 423
    },
    "executionInfo": {
     "elapsed": 9,
     "status": "ok",
     "timestamp": 1740357654295,
     "user": {
      "displayName": "Jaison A",
      "userId": "07006398627763032071"
     },
     "user_tz": -330
    },
    "id": "1XH7EXGpXjpb",
    "outputId": "223b4a24-2bf7-4419-9773-d0fd7ae462d4"
   },
   "outputs": [],
   "source": [
    "data1=pd.DataFrame(values,index=dates,columns=[\"Values\"])\n",
    "data1"
   ]
  },
  {
   "cell_type": "markdown",
   "metadata": {
    "id": "Zl9W7OxjWqqO"
   },
   "source": [
    "## ***Dataset Data***"
   ]
  },
  {
   "cell_type": "code",
   "execution_count": null,
   "metadata": {
    "colab": {
     "base_uri": "https://localhost:8080/",
     "height": 432
    },
    "executionInfo": {
     "elapsed": 944,
     "status": "ok",
     "timestamp": 1740357339223,
     "user": {
      "displayName": "Jaison A",
      "userId": "07006398627763032071"
     },
     "user_tz": -330
    },
    "id": "sG8VvdN7MFK3",
    "outputId": "37d4cf03-b3d5-46e0-de82-8e23e56b4188"
   },
   "outputs": [],
   "source": [
    "data1=pd.read_csv(\"data/raw_sales.csv\")\n",
    "display(\"First Five Rows :\",data1.head())\n",
    "display(\"Last Five Rows :\",data1.tail())"
   ]
  },
  {
   "cell_type": "code",
   "execution_count": null,
   "metadata": {
    "colab": {
     "base_uri": "https://localhost:8080/",
     "height": 319
    },
    "executionInfo": {
     "elapsed": 25,
     "status": "ok",
     "timestamp": 1740357339224,
     "user": {
      "displayName": "Jaison A",
      "userId": "07006398627763032071"
     },
     "user_tz": -330
    },
    "id": "y_u5ogPWcnpe",
    "outputId": "5cb89815-9b6a-4518-8ab6-42f8ad1bef17"
   },
   "outputs": [],
   "source": [
    "#summary Statistics\n",
    "display(\"Summary Statistics :\",data1.describe())"
   ]
  },
  {
   "cell_type": "code",
   "execution_count": null,
   "metadata": {
    "colab": {
     "base_uri": "https://localhost:8080/",
     "height": 423
    },
    "executionInfo": {
     "elapsed": 21,
     "status": "ok",
     "timestamp": 1740357339224,
     "user": {
      "displayName": "Jaison A",
      "userId": "07006398627763032071"
     },
     "user_tz": -330
    },
    "id": "ctnAohCcdHoE",
    "outputId": "8ffd34e9-6709-473e-c17c-d2d5e753889a"
   },
   "outputs": [],
   "source": [
    "#Filter data for a specific year\n",
    "data1[\"datesold\"]=pd.to_datetime(data1['datesold'])\n",
    "'''\n",
    "query_year=int(input(\"Enter year : \"))\n",
    "'''\n",
    "query_year=2015\n",
    "display(data1[data1[\"datesold\"].dt.year==query_year])"
   ]
  },
  {
   "cell_type": "code",
   "execution_count": null,
   "metadata": {
    "colab": {
     "base_uri": "https://localhost:8080/",
     "height": 912
    },
    "executionInfo": {
     "elapsed": 1305,
     "status": "ok",
     "timestamp": 1740357340510,
     "user": {
      "displayName": "Jaison A",
      "userId": "07006398627763032071"
     },
     "user_tz": -330
    },
    "id": "jqUZ1GRjeRMn",
    "outputId": "42f9205b-2abf-4e49-c05c-598c968f6133"
   },
   "outputs": [],
   "source": [
    "# Plot the average price per year\n",
    "avg_price_per_year=data1.groupby(data1[\"datesold\"].dt.year)[\"price\"].mean().reset_index(name=\"Average Price\")\n",
    "display(avg_price_per_year)\n",
    "plt.plot(avg_price_per_year[\"datesold\"],avg_price_per_year[\"Average Price\"])\n",
    "plt.title(\"Average Price per Year\")\n",
    "plt.xlabel(\"Year\")\n",
    "plt.ylabel(\"Average Price\")\n",
    "plt.show()"
   ]
  },
  {
   "cell_type": "code",
   "execution_count": null,
   "metadata": {
    "colab": {
     "base_uri": "https://localhost:8080/",
     "height": 912
    },
    "executionInfo": {
     "elapsed": 30,
     "status": "ok",
     "timestamp": 1740357340510,
     "user": {
      "displayName": "Jaison A",
      "userId": "07006398627763032071"
     },
     "user_tz": -330
    },
    "id": "jr1y2lnXfJxB",
    "outputId": "e10a53c9-7e85-468f-bf56-0e2b7c86b769"
   },
   "outputs": [],
   "source": [
    "#Count of properties sold per year\n",
    "property_count_per_year=data1.groupby(data1[\"datesold\"].dt.year).size().reset_index(name=\"Properties_sold\")\n",
    "property_count_per_year.rename(columns={\"datesold\":\"Year\"},inplace=True)\n",
    "display(property_count_per_year)\n",
    "plt.plot(property_count_per_year[\"Year\"],property_count_per_year[\"Properties_sold\"])\n",
    "plt.title(\"Properties Sold per Year\")\n",
    "plt.xlabel(\"Year\")\n",
    "plt.ylabel(\"Properties Sold\")\n",
    "plt.show()"
   ]
  },
  {
   "cell_type": "code",
   "execution_count": null,
   "metadata": {
    "colab": {
     "base_uri": "https://localhost:8080/",
     "height": 423
    },
    "executionInfo": {
     "elapsed": 25,
     "status": "ok",
     "timestamp": 1740357340511,
     "user": {
      "displayName": "Jaison A",
      "userId": "07006398627763032071"
     },
     "user_tz": -330
    },
    "id": "YkziajZ2jC2J",
    "outputId": "09b7cbd9-27c8-4b35-94c6-dc094029f638"
   },
   "outputs": [],
   "source": [
    "#Query for a specific date range (e.g., Jan 2010 to Dec 2015)\n",
    "'''\n",
    "start_date=input(\"Enter date in format yyyy-mm-dd : \").split(\"-\")\n",
    "start_date=datetime.datetime(int(start_date[0]),int(start_date[1]),int(start_date[2]))\n",
    "end_date=input(\"Enter date in format yyyy-mm-dd : \").split(\"-\")\n",
    "end_date=datetime.datetime(int(end_date[0]),int(end_date[1]),int(end_date[2]))\n",
    "'''\n",
    "start_date=datetime.datetime(2010,5,1)\n",
    "end_date=datetime.datetime(2015,1,1)\n",
    "display(data1[(data1[\"datesold\"]>=start_date) & (data1[\"datesold\"]<=end_date)])"
   ]
  },
  {
   "cell_type": "code",
   "execution_count": null,
   "metadata": {
    "colab": {
     "base_uri": "https://localhost:8080/",
     "height": 880
    },
    "executionInfo": {
     "elapsed": 24,
     "status": "ok",
     "timestamp": 1740357340511,
     "user": {
      "displayName": "Jaison A",
      "userId": "07006398627763032071"
     },
     "user_tz": -330
    },
    "id": "NJ_5sVMFoTyX",
    "outputId": "d6ea639a-d5d1-4fce-e3f3-b5c87372c8e3"
   },
   "outputs": [],
   "source": [
    "#Calculate the mean price month-wise (use Groupby)\n",
    "mean_price_by_month=data1.groupby(data1[\"datesold\"].dt.month)[\"price\"].mean().reset_index(name=\"Average per by month\")\n",
    "mean_price_by_month.rename(columns={\"datesold\":\"Month\"},inplace=True)\n",
    "display(mean_price_by_month)\n",
    "plt.plot(mean_price_by_month[\"Month\"],mean_price_by_month[\"Average per by month\"])\n",
    "plt.title(\"Average Price per Month\")\n",
    "plt.xlabel(\"Month\")\n",
    "plt.ylabel(\"Average Price\")\n",
    "plt.show()"
   ]
  },
  {
   "cell_type": "code",
   "execution_count": null,
   "metadata": {
    "colab": {
     "base_uri": "https://localhost:8080/",
     "height": 472
    },
    "executionInfo": {
     "elapsed": 22,
     "status": "ok",
     "timestamp": 1740357340511,
     "user": {
      "displayName": "Jaison A",
      "userId": "07006398627763032071"
     },
     "user_tz": -330
    },
    "id": "KIz-sKstpBUu",
    "outputId": "90f7fa37-b4a9-42ea-b62b-25addc60f25d"
   },
   "outputs": [],
   "source": [
    "#Perform a histogram plot\n",
    "plt.hist(data1[\"price\"],bins=20)\n",
    "plt.title(\"Histogram of price\")\n",
    "plt.xlabel(\"price\")\n",
    "plt.ylabel(\"Frequency\")\n",
    "plt.show()"
   ]
  },
  {
   "cell_type": "code",
   "execution_count": null,
   "metadata": {
    "colab": {
     "base_uri": "https://localhost:8080/",
     "height": 423
    },
    "executionInfo": {
     "elapsed": 21,
     "status": "ok",
     "timestamp": 1740357340512,
     "user": {
      "displayName": "Jaison A",
      "userId": "07006398627763032071"
     },
     "user_tz": -330
    },
    "id": "qmZKeyMTpgJ2",
    "outputId": "6ad5b16b-71a8-451f-d86c-4a0b4246a37c"
   },
   "outputs": [],
   "source": [
    "#Print the property price > 5Lakhs\n",
    "display(data1[(data1[\"price\"]>500000)])"
   ]
  },
  {
   "cell_type": "markdown",
   "metadata": {
    "id": "0TR58cjVMVhP"
   },
   "source": [
    "# ***EX_2***"
   ]
  },
  {
   "cell_type": "code",
   "execution_count": null,
   "metadata": {
    "executionInfo": {
     "elapsed": 19,
     "status": "ok",
     "timestamp": 1740357340512,
     "user": {
      "displayName": "Jaison A",
      "userId": "07006398627763032071"
     },
     "user_tz": -330
    },
    "id": "HAvpD5xIjklW"
   },
   "outputs": [],
   "source": [
    "from sklearn.preprocessing import StandardScaler"
   ]
  },
  {
   "cell_type": "code",
   "execution_count": null,
   "metadata": {
    "colab": {
     "base_uri": "https://localhost:8080/",
     "height": 206
    },
    "executionInfo": {
     "elapsed": 1252,
     "status": "ok",
     "timestamp": 1740357341745,
     "user": {
      "displayName": "Jaison A",
      "userId": "07006398627763032071"
     },
     "user_tz": -330
    },
    "id": "KIJ4N5nXMYFg",
    "outputId": "74c59d4c-1a16-4a0d-ad2e-aeb205f7ea57"
   },
   "outputs": [],
   "source": [
    "data2=pd.read_csv(\"data/shampoo_sales.csv\")\n",
    "display(data2.head())"
   ]
  },
  {
   "cell_type": "code",
   "execution_count": null,
   "metadata": {
    "colab": {
     "base_uri": "https://localhost:8080/",
     "height": 1000
    },
    "executionInfo": {
     "elapsed": 36,
     "status": "ok",
     "timestamp": 1740357341745,
     "user": {
      "displayName": "Jaison A",
      "userId": "07006398627763032071"
     },
     "user_tz": -330
    },
    "id": "YvazR8g_qbGK",
    "outputId": "b565bdd1-1ab5-4a7a-a418-50025151bb23"
   },
   "outputs": [],
   "source": [
    "#Perform basic Exploratory Data Analysis.\n",
    "\n",
    "data2.info()\n",
    "display(\"Summary Statistics : \",data2.describe())\n",
    "display(\"No of Missing Values :\",data2.isnull().sum().reset_index(name=\" No of Missing Values\"))\n",
    "data2=data2.dropna()#removing missing data if they exist.\n",
    "print(f\"\\n\\nNo of Duplicates in Dataset : {data2.duplicated().sum()}\\n\\n\")\n",
    "data2=data2.drop_duplicates()#removing duplicates if available.\n",
    "display(\"First Five Rows : \",data2.head())\n",
    "display(\"Last Five Rows : \",data2.tail())"
   ]
  },
  {
   "cell_type": "code",
   "execution_count": null,
   "metadata": {
    "colab": {
     "base_uri": "https://localhost:8080/",
     "height": 395
    },
    "executionInfo": {
     "elapsed": 30,
     "status": "ok",
     "timestamp": 1740357341745,
     "user": {
      "displayName": "Jaison A",
      "userId": "07006398627763032071"
     },
     "user_tz": -330
    },
    "id": "QYLYOwa8tooX",
    "outputId": "966c3194-2ecd-47d6-86d7-6d29684ea7ad"
   },
   "outputs": [],
   "source": [
    "#Perform date and lag based features\n",
    "data2[\"Date\"] = pd.to_datetime(data2[\"Month\"],format=\"%m-%y\")\n",
    "data2[\"Month\"]=data2[\"Date\"].dt.month\n",
    "data2[\"Year\"]=data2[\"Date\"].dt.year\n",
    "display(data2.head())\n",
    "display(data2.tail())"
   ]
  },
  {
   "cell_type": "code",
   "execution_count": null,
   "metadata": {
    "colab": {
     "base_uri": "https://localhost:8080/",
     "height": 472
    },
    "executionInfo": {
     "elapsed": 29,
     "status": "ok",
     "timestamp": 1740357341745,
     "user": {
      "displayName": "Jaison A",
      "userId": "07006398627763032071"
     },
     "user_tz": -330
    },
    "id": "kaWQjZ6VfrOd",
    "outputId": "21149ad5-56b5-4990-f108-d0fe513b776f"
   },
   "outputs": [],
   "source": [
    "data2[\"Sales\"].plot(kind=\"hist\",bins=20,title=\"Histogram of Sales\")\n",
    "ax=plt.gca()\n",
    "ax.spines[\"top\"].set_visible(False)\n",
    "ax.spines[\"bottom\"].set_visible(False)\n",
    "ax.spines[\"right\"].set_visible(False)\n",
    "ax.spines[\"left\"].set_visible(False)\n",
    "plt.xlabel(\"Sales\")\n",
    "plt.show()"
   ]
  },
  {
   "cell_type": "code",
   "execution_count": null,
   "metadata": {
    "colab": {
     "base_uri": "https://localhost:8080/",
     "height": 472
    },
    "executionInfo": {
     "elapsed": 28,
     "status": "ok",
     "timestamp": 1740357341745,
     "user": {
      "displayName": "Jaison A",
      "userId": "07006398627763032071"
     },
     "user_tz": -330
    },
    "id": "nxYJOGkgg23k",
    "outputId": "ae525b9d-79c8-4fe0-9d12-fd8e340a31c5"
   },
   "outputs": [],
   "source": [
    "data2[\"Sales\"].plot(kind='line',title=\"sales\")\n",
    "plt.xlabel(\"Sales\")\n",
    "plt.ylabel(\"Values\")\n",
    "plt.show()"
   ]
  },
  {
   "cell_type": "code",
   "execution_count": null,
   "metadata": {
    "colab": {
     "base_uri": "https://localhost:8080/",
     "height": 206
    },
    "executionInfo": {
     "elapsed": 27,
     "status": "ok",
     "timestamp": 1740357341745,
     "user": {
      "displayName": "Jaison A",
      "userId": "07006398627763032071"
     },
     "user_tz": -330
    },
    "id": "VvybP7rThGkE",
    "outputId": "882f1f08-c8c0-4109-c615-8be2235fe6a0"
   },
   "outputs": [],
   "source": [
    "#lag.\n",
    "data2['lag_1']=data2[\"Sales\"].shift(1)\n",
    "data2[\"lag_2\"]=data2['Sales'].shift(3)\n",
    "display(data2.head())"
   ]
  },
  {
   "cell_type": "code",
   "execution_count": null,
   "metadata": {
    "colab": {
     "base_uri": "https://localhost:8080/",
     "height": 363
    },
    "executionInfo": {
     "elapsed": 26,
     "status": "ok",
     "timestamp": 1740357341745,
     "user": {
      "displayName": "Jaison A",
      "userId": "07006398627763032071"
     },
     "user_tz": -330
    },
    "id": "SIfG_XeuhoZV",
    "outputId": "c2920be0-7ef6-4ce7-ec72-4cbdd69cf11e"
   },
   "outputs": [],
   "source": [
    "#rolling.\n",
    "data2[\"rolling_mean_5\"]=data2['Sales'].rolling(5).mean()\n",
    "data2[\"rolling_min_5\"]=data2['Sales'].rolling(5).min()\n",
    "data2[\"rolling_max_5\"]=data2['Sales'].rolling(5).max()\n",
    "data2[\"rolling_std_5\"]=data2['Sales'].rolling(5).std()\n",
    "display(data2.head(10))"
   ]
  },
  {
   "cell_type": "code",
   "execution_count": null,
   "metadata": {
    "colab": {
     "base_uri": "https://localhost:8080/",
     "height": 363
    },
    "executionInfo": {
     "elapsed": 25,
     "status": "ok",
     "timestamp": 1740357341745,
     "user": {
      "displayName": "Jaison A",
      "userId": "07006398627763032071"
     },
     "user_tz": -330
    },
    "id": "6Ov02b5KiKap",
    "outputId": "66e756d4-1945-43ce-cfb6-484cca73c91d"
   },
   "outputs": [],
   "source": [
    "data2[\"expanding_mean\"]=data2['Sales'].expanding().mean()\n",
    "data2['expanding_min']=data2['Sales'].expanding().min()\n",
    "data2['expanding_max']=data2['Sales'].expanding().max()\n",
    "data2['expanding_std']=data2['Sales'].expanding().std()\n",
    "display(data2.head(10))"
   ]
  },
  {
   "cell_type": "code",
   "execution_count": null,
   "metadata": {
    "colab": {
     "base_uri": "https://localhost:8080/",
     "height": 206
    },
    "executionInfo": {
     "elapsed": 25,
     "status": "ok",
     "timestamp": 1740357341746,
     "user": {
      "displayName": "Jaison A",
      "userId": "07006398627763032071"
     },
     "user_tz": -330
    },
    "id": "GKyc9bAejTy4",
    "outputId": "4a686717-21ec-4375-ecfc-0fcc6f56fb11"
   },
   "outputs": [],
   "source": [
    "#drop missing values.\n",
    "data2.dropna(inplace=True)\n",
    "display(data2.head())"
   ]
  },
  {
   "cell_type": "code",
   "execution_count": null,
   "metadata": {
    "colab": {
     "base_uri": "https://localhost:8080/",
     "height": 747
    },
    "executionInfo": {
     "elapsed": 1649,
     "status": "ok",
     "timestamp": 1740357343371,
     "user": {
      "displayName": "Jaison A",
      "userId": "07006398627763032071"
     },
     "user_tz": -330
    },
    "id": "IacjMiWsjraC",
    "outputId": "395c187a-c9d7-42dc-ace0-2979b69e853a"
   },
   "outputs": [],
   "source": [
    "#correlation matrix for feature extraction.\n",
    "from sklearn.preprocessing import StandardScaler\n",
    "Scaler=StandardScaler()\n",
    "data_numeric=data2.select_dtypes(include=['number'])\n",
    "Scaled_data=pd.DataFrame(Scaler.fit_transform(data_numeric),columns=data_numeric.columns,index=data_numeric.index)\n",
    "display(Scaled_data.head())\n",
    "\n",
    "sns.heatmap(Scaled_data.corr(),annot=True,cmap='coolwarm')\n",
    "plt.title(\"Correlation Matrix\")\n",
    "plt.show()"
   ]
  },
  {
   "cell_type": "markdown",
   "metadata": {
    "id": "f0DbzcliMrBt"
   },
   "source": [
    "# ***EX_3***"
   ]
  },
  {
   "cell_type": "code",
   "execution_count": null,
   "metadata": {
    "executionInfo": {
     "elapsed": 413,
     "status": "ok",
     "timestamp": 1740358664164,
     "user": {
      "displayName": "Jaison A",
      "userId": "07006398627763032071"
     },
     "user_tz": -330
    },
    "id": "hMDhfYk9A31m"
   },
   "outputs": [],
   "source": [
    "from statsmodels.graphics.tsaplots import plot_acf,plot_pacf\n",
    "from statsmodels.tsa.arima.model import ARIMA"
   ]
  },
  {
   "cell_type": "code",
   "execution_count": null,
   "metadata": {
    "colab": {
     "base_uri": "https://localhost:8080/",
     "height": 206
    },
    "executionInfo": {
     "elapsed": 541,
     "status": "ok",
     "timestamp": 1740358667234,
     "user": {
      "displayName": "Jaison A",
      "userId": "07006398627763032071"
     },
     "user_tz": -330
    },
    "id": "nauKmIq0MteK",
    "outputId": "0fe43e74-5e28-4808-e91f-7976f1d51849"
   },
   "outputs": [],
   "source": [
    "data3=pd.read_csv(\"data/daily-min-temperatures.csv\")\n",
    "display(data3.head())"
   ]
  },
  {
   "cell_type": "code",
   "execution_count": null,
   "metadata": {
    "colab": {
     "base_uri": "https://localhost:8080/",
     "height": 887
    },
    "executionInfo": {
     "elapsed": 14562,
     "status": "ok",
     "timestamp": 1740358683849,
     "user": {
      "displayName": "Jaison A",
      "userId": "07006398627763032071"
     },
     "user_tz": -330
    },
    "id": "kXmZiDB099gy",
    "outputId": "bec3f37d-2627-48c0-d871-6988158a7097"
   },
   "outputs": [],
   "source": [
    "#Find how time series values differs over[S1]  time by analyzing the key aspects of temporal relationships such as trends, seasonality,lags and cycles.\n",
    "data3[\"Temp\"].plot(title=\"Daily Temperature\")\n",
    "plt.show()\n",
    "\n",
    "plt.scatter(data3[\"Date\"],data3[\"Temp\"])\n",
    "plt.title(\"Daily Temperature\")\n",
    "plt.show()"
   ]
  },
  {
   "cell_type": "code",
   "execution_count": null,
   "metadata": {
    "colab": {
     "base_uri": "https://localhost:8080/",
     "height": 887
    },
    "executionInfo": {
     "elapsed": 621,
     "status": "ok",
     "timestamp": 1740358689668,
     "user": {
      "displayName": "Jaison A",
      "userId": "07006398627763032071"
     },
     "user_tz": -330
    },
    "id": "vLpi08RqBBEq",
    "outputId": "93ff1514-7e91-472d-e921-93b480c80c17"
   },
   "outputs": [],
   "source": [
    "plot_acf(data3[\"Temp\"],lags=50)\n",
    "plt.show()\n",
    "\n",
    "plot_pacf(data3[\"Temp\"],lags=50)\n",
    "plt.show()"
   ]
  },
  {
   "cell_type": "code",
   "execution_count": null,
   "metadata": {
    "colab": {
     "base_uri": "https://localhost:8080/",
     "height": 1000
    },
    "executionInfo": {
     "elapsed": 4781,
     "status": "ok",
     "timestamp": 1740358792570,
     "user": {
      "displayName": "Jaison A",
      "userId": "07006398627763032071"
     },
     "user_tz": -330
    },
    "id": "H1QHq0q5Drfz",
    "outputId": "2a337a2f-6936-4bf0-9249-f0ec900b6cf8"
   },
   "outputs": [],
   "source": [
    "ar_model=ARIMA(data3[\"Temp\"],order=(2,0,0))\n",
    "ar_fit=ar_model.fit()\n",
    "display('AR Model : ',ar_fit.summary())\n",
    "\n",
    "ma_model=ARIMA(data3[\"Temp\"],order=(0,0,2))\n",
    "ma_fit=ma_model.fit()\n",
    "display('MA Model : ',ma_fit.summary())\n",
    "\n",
    "arma_model=ARIMA(data3[\"Temp\"],order=(2,0,2))\n",
    "arma_fit=arma_model.fit()\n",
    "display('ARMA Model : ',arma_fit.summary())"
   ]
  },
  {
   "cell_type": "code",
   "execution_count": null,
   "metadata": {
    "colab": {
     "base_uri": "https://localhost:8080/",
     "height": 1000
    },
    "executionInfo": {
     "elapsed": 1277,
     "status": "ok",
     "timestamp": 1740357363185,
     "user": {
      "displayName": "Jaison A",
      "userId": "07006398627763032071"
     },
     "user_tz": -330
    },
    "id": "CwhhRS3gFSut",
    "outputId": "0359f268-5204-4fe3-8520-b5b06f0b3418"
   },
   "outputs": [],
   "source": [
    "#Histogram.\n",
    "data3[\"Temp\"].plot(kind=\"hist\",bins=20,title=\"Histogram of Temperature\",edgecolor=\"black\")\n",
    "plt.xlabel(\"Temperature\")\n",
    "plt.show()\n",
    "\n",
    "#Density plot.\n",
    "sns.kdeplot(data3[\"Temp\"],fill=True)\n",
    "plt.title(\"Density PLot of Temperature\")\n",
    "plt.show()\n",
    "\n",
    "#box and wisker plot.\n",
    "sns.boxplot(data3[\"Temp\"])\n",
    "plt.title(\"Box and Whisker Plot of Temperature\")\n",
    "plt.show()\n",
    "\n",
    "#heatmap\n",
    "data3[\"Lagged_1\"]=data3[\"Temp\"].shift(1)\n",
    "data3[\"Lagged_3\"]=data3[\"Temp\"].shift(3)\n",
    "data3[\"Rolling_mean_3\"]=data3[\"Temp\"].rolling(3).mean()\n",
    "sns.heatmap(data3.select_dtypes(include=['number']).corr(), annot=True, cmap='coolwarm', linewidths=0.5)\n",
    "plt.show()"
   ]
  },
  {
   "cell_type": "markdown",
   "metadata": {
    "id": "1MC9ktJs-WRz"
   },
   "source": [
    "***Extra***"
   ]
  },
  {
   "cell_type": "code",
   "execution_count": null,
   "metadata": {
    "colab": {
     "base_uri": "https://localhost:8080/",
     "height": 1000
    },
    "executionInfo": {
     "elapsed": 1564,
     "status": "ok",
     "timestamp": 1740357364737,
     "user": {
      "displayName": "Jaison A",
      "userId": "07006398627763032071"
     },
     "user_tz": -330
    },
    "id": "Arh5e0emCHdU",
    "outputId": "db0a0b2e-1b5e-48f0-ffe3-3de8f82b9bb9"
   },
   "outputs": [],
   "source": [
    "from statsmodels.tsa.seasonal import seasonal_decompose\n",
    "\n",
    "data_decomposed=seasonal_decompose(data3[\"Temp\"],model=\"additive\",period=365)\n",
    "\n",
    "trend=data_decomposed.trend\n",
    "seasonal=data_decomposed.seasonal\n",
    "residual=data_decomposed.resid\n",
    "\n",
    "plt.plot(data3[\"Temp\"])\n",
    "plt.title('Original')\n",
    "plt.show()\n",
    "plt.plot(trend)\n",
    "plt.title(\"Trend\")\n",
    "plt.show()\n",
    "plt.plot(seasonal)\n",
    "plt.title(\"Seasonal\")\n",
    "plt.show()\n",
    "plt.plot(residual)\n",
    "plt.title(\"Residual\")\n",
    "plt.show()"
   ]
  },
  {
   "cell_type": "markdown",
   "metadata": {
    "id": "14Hg06M_NoUq"
   },
   "source": [
    "# ***EX_4***"
   ]
  },
  {
   "cell_type": "code",
   "execution_count": null,
   "metadata": {
    "colab": {
     "base_uri": "https://localhost:8080/",
     "height": 650
    },
    "executionInfo": {
     "elapsed": 29,
     "status": "ok",
     "timestamp": 1740357364738,
     "user": {
      "displayName": "Jaison A",
      "userId": "07006398627763032071"
     },
     "user_tz": -330
    },
    "id": "rJBVHicDNrHy",
    "outputId": "9d97b557-512c-4d02-dd58-dac1e56c318d"
   },
   "outputs": [],
   "source": [
    "data4=pd.read_csv(\"data/shampoo_sales.csv\")\n",
    "display(data4.head())\n",
    "\n",
    "\n",
    "data4[\"Date\"]=pd.to_datetime(data4[\"Month\"],format=\"%m-%y\")\n",
    "data4=data4.drop(\"Month\",axis=1)\n",
    "display(data4.head())\n",
    "\n",
    "data=pd.Series(data4[\"Sales\"].values,index=data4[\"Date\"])\n",
    "display(data.head())"
   ]
  },
  {
   "cell_type": "code",
   "execution_count": null,
   "metadata": {
    "colab": {
     "base_uri": "https://localhost:8080/",
     "height": 1000
    },
    "executionInfo": {
     "elapsed": 26,
     "status": "ok",
     "timestamp": 1740357364739,
     "user": {
      "displayName": "Jaison A",
      "userId": "07006398627763032071"
     },
     "user_tz": -330
    },
    "id": "Wv9S5nMGLMYa",
    "outputId": "377c6156-1fcd-47e9-c271-bcc5627242ee"
   },
   "outputs": [],
   "source": [
    "#upsampling.\n",
    "\n",
    "up_1=data.resample(\"h\").mean()\n",
    "up_2=data.resample(\"1min\").min()\n",
    "up_3=data.resample('5min').sum()\n",
    "up_4=data.resample('h').asfreq()\n",
    "display(up_1,up_1.describe(),\"No of missing Values : \",up_1.isnull().sum())\n",
    "display(up_2,up_2.describe(),\"No of missing Values : \",up_2.isnull().sum())\n",
    "display(up_3,up_3.describe(),\"No of missing Values : \",up_3.isnull().sum())\n",
    "display(up_4,up_4.describe(),\"No of missing Values : \",up_4.isnull().sum())"
   ]
  },
  {
   "cell_type": "code",
   "execution_count": null,
   "metadata": {
    "colab": {
     "base_uri": "https://localhost:8080/",
     "height": 1000
    },
    "executionInfo": {
     "elapsed": 22,
     "status": "ok",
     "timestamp": 1740357364739,
     "user": {
      "displayName": "Jaison A",
      "userId": "07006398627763032071"
     },
     "user_tz": -330
    },
    "id": "QrqkQYJgOOLk",
    "outputId": "4f411d06-0040-4d0b-95ea-ffd495e5b3cc"
   },
   "outputs": [],
   "source": [
    "#Downsampling from upsampled data.\n",
    "\n",
    "down_1=up_1.resample(\"D\").mean()\n",
    "down_2=up_2.resample(\"10min\").min()\n",
    "down_3=up_3.resample(\"h\").sum()\n",
    "down_4=up_4.resample(\"D\").asfreq()\n",
    "\n",
    "display(down_1,down_1.describe(),\"No of missing Values : \",down_1.isnull().sum())\n",
    "display(down_2,down_2.describe(),\"No of missing Values : \",down_2.isnull().sum())\n",
    "display(down_3,down_3.describe(),\"No of missing Values : \",down_3.isnull().sum())\n",
    "display(down_4,down_4.describe(),\"No of missing Values : \",down_4.isnull().sum())"
   ]
  },
  {
   "cell_type": "code",
   "execution_count": null,
   "metadata": {
    "colab": {
     "base_uri": "https://localhost:8080/",
     "height": 1000
    },
    "executionInfo": {
     "elapsed": 1537,
     "status": "ok",
     "timestamp": 1740357366258,
     "user": {
      "displayName": "Jaison A",
      "userId": "07006398627763032071"
     },
     "user_tz": -330
    },
    "id": "OsLKMVgyPuvK",
    "outputId": "69ef9500-35e8-4d97-ce49-16dea0b08114"
   },
   "outputs": [],
   "source": [
    "#Interpolation .\n",
    "\n",
    "d1=data.resample(\"D\")\n",
    "interpolated_1=d1.interpolate(method=\"linear\")\n",
    "display(interpolated_1.head())\n",
    "display(interpolated_1.tail())\n",
    "interpolated_1.plot(kind=\"line\",title=\"Linear Interpolation\")\n",
    "plt.show()\n",
    "\n",
    "interpolated_2=d1.interpolate(method=\"spline\",order=2)\n",
    "display(interpolated_2.head())\n",
    "display(interpolated_2.tail())\n",
    "interpolated_2.plot(title=\"Spline Interpolation\")\n",
    "plt.show()"
   ]
  },
  {
   "cell_type": "markdown",
   "metadata": {
    "id": "vxHGmAiyOVCq"
   },
   "source": [
    "# ***EX_5***"
   ]
  },
  {
   "cell_type": "code",
   "execution_count": null,
   "metadata": {
    "executionInfo": {
     "elapsed": 21,
     "status": "ok",
     "timestamp": 1740357366258,
     "user": {
      "displayName": "Jaison A",
      "userId": "07006398627763032071"
     },
     "user_tz": -330
    },
    "id": "lQn-Xu89RRdF"
   },
   "outputs": [],
   "source": [
    "from statsmodels.tsa.stattools import kpss,adfuller\n",
    "from statsmodels.tsa.seasonal import seasonal_decompose"
   ]
  },
  {
   "cell_type": "code",
   "execution_count": null,
   "metadata": {
    "colab": {
     "base_uri": "https://localhost:8080/",
     "height": 206
    },
    "executionInfo": {
     "elapsed": 21,
     "status": "ok",
     "timestamp": 1740357366259,
     "user": {
      "displayName": "Jaison A",
      "userId": "07006398627763032071"
     },
     "user_tz": -330
    },
    "id": "DMi3fCA9OXBl",
    "outputId": "dd2b4195-0e15-459d-9126-3225045538b4"
   },
   "outputs": [],
   "source": [
    "data5=pd.read_csv(\"data/daily-total-female-births.csv\")\n",
    "display(data5.head())"
   ]
  },
  {
   "cell_type": "code",
   "execution_count": null,
   "metadata": {
    "colab": {
     "base_uri": "https://localhost:8080/"
    },
    "executionInfo": {
     "elapsed": 19,
     "status": "ok",
     "timestamp": 1740357366259,
     "user": {
      "displayName": "Jaison A",
      "userId": "07006398627763032071"
     },
     "user_tz": -330
    },
    "id": "WJUYt-XgRhsL",
    "outputId": "a8b40d2b-2b0e-42e6-c6c0-713c1c641bbd"
   },
   "outputs": [],
   "source": [
    "import warnings\n",
    "warnings.filterwarnings('ignore')\n",
    "\n",
    "class stationary_test():\n",
    "    def adf_test(self,data):\n",
    "      print(\"\\nAdfuller : \\n\")\n",
    "      statistic,p_value,n_lags,n_obs,critical_values,m_info=adfuller(data)\n",
    "      print(f\"Statistic : {statistic}\")\n",
    "      print(f\"P_value : {p_value}\")\n",
    "      print(f\"n_lags : {n_lags}\")\n",
    "      print(f\"n_obs : {n_obs}\")\n",
    "      print(f\"max_info : {m_info}\")\n",
    "      print(\"Critical Values : \")\n",
    "      for key,value in critical_values.items():\n",
    "        print(f\"  {key} : {value}\")\n",
    "      print(f\"Result : The data is {'not' if p_value<0.05 else ''} Stationary.\")\n",
    "\n",
    "    def kpss_test(self,data):\n",
    "      print(\"\\nKPSS : \\n\")\n",
    "      statistic,p_value,n_lags,critical_values=kpss(data)\n",
    "      print(f\"Statistic : {statistic}\")\n",
    "      print(f\"P_value : {p_value}\")\n",
    "      print(f\"n_lags : {n_lags}\")\n",
    "      print(\"Critical Values : \")\n",
    "      for key,value in critical_values.items():\n",
    "        print(f\"  {key} : {value}\")\n",
    "      print(f\"Result : The data is {'not' if p_value<0.05 else ''} Stationary.\")\n",
    "\n",
    "stationary_test().adf_test(data5[\"Births\"])\n",
    "stationary_test().kpss_test(data5[\"Births\"])"
   ]
  },
  {
   "cell_type": "code",
   "execution_count": null,
   "metadata": {
    "colab": {
     "base_uri": "https://localhost:8080/",
     "height": 487
    },
    "executionInfo": {
     "elapsed": 12,
     "status": "ok",
     "timestamp": 1740357366259,
     "user": {
      "displayName": "Jaison A",
      "userId": "07006398627763032071"
     },
     "user_tz": -330
    },
    "id": "8MHXNENCX_v3",
    "outputId": "55f46ef1-9ecc-436d-9cd3-162192296c58"
   },
   "outputs": [],
   "source": [
    "def decompose_data(data):\n",
    "    decomposed_data=seasonal_decompose(data[\"Births\"],model=\"additive\",period=7)\n",
    "\n",
    "    seasonal=decomposed_data.seasonal\n",
    "    trend=decomposed_data.trend\n",
    "    residual=decomposed_data.resid\n",
    "\n",
    "    plt.subplot(411)\n",
    "    plt.plot(data[\"Births\"],label=\"Births\")\n",
    "    plt.title(\"Original\")\n",
    "    plt.legend(loc=\"best\")\n",
    "    plt.subplot(412)\n",
    "    plt.plot(trend,label=\"Births\")\n",
    "    plt.title(\"Trend\")\n",
    "    plt.legend(loc=\"best\")\n",
    "    plt.subplot(413)\n",
    "    plt.plot(seasonal,label=\"Births\")\n",
    "    plt.title(\"Seasonal\")\n",
    "    plt.legend(loc=\"best\")\n",
    "    plt.subplot(414)\n",
    "    plt.plot(residual,label=\"Births\")\n",
    "    plt.title(\"Residual\")\n",
    "    plt.legend(loc=\"best\")\n",
    "    plt.tight_layout()\n",
    "    plt.show()\n",
    "\n",
    "decompose_data(data5)"
   ]
  },
  {
   "cell_type": "markdown",
   "metadata": {},
   "source": [
    "# ***EX_6***"
   ]
  },
  {
   "cell_type": "code",
   "execution_count": null,
   "metadata": {},
   "outputs": [],
   "source": [
    "import pandas as pd\n",
    "import numpy as np\n",
    "import matplotlib.pyplot as plt\n",
    "from statsmodels.graphics.tsaplots import plot_acf, plot_pacf"
   ]
  },
  {
   "cell_type": "code",
   "execution_count": null,
   "metadata": {},
   "outputs": [],
   "source": [
    "df = pd.read_csv('data/daily-min-temperatures.csv')\n",
    "print(df.shape)\n",
    "df.head()"
   ]
  },
  {
   "cell_type": "code",
   "execution_count": null,
   "metadata": {},
   "outputs": [],
   "source": [
    "df.plot(title = \"daily Minimum Temperature\" ,figsize = (14, 8), legend = None, color = 'green')\n",
    "plt.xlabel('Date')\n",
    "plt.ylabel('Temperature (°C)')\n",
    "plt.show()"
   ]
  },
  {
   "cell_type": "code",
   "execution_count": null,
   "metadata": {},
   "outputs": [],
   "source": [
    "fig, axs = plt.subplots(2, 1, figsize = (10,8))\n",
    "plot_acf(df['Temp'], lags = 30, ax = axs[0], title = 'Autocorrelation (ACF)', color = 'green')\n",
    "plot_pacf(df['Temp'], lags = 30, ax = axs[1], title = 'Partial Autocorrelation (PACF)', color = 'red')\n",
    "plt.tight_layout()\n",
    "plt.show()"
   ]
  }
 ],
 "metadata": {
  "colab": {
   "authorship_tag": "ABX9TyMO2Ar4ng0qzuL76Kn//c5c",
   "mount_file_id": "1-TZgygrVA6lCZOtzkiJAcAIWo5aLCj-x",
   "provenance": []
  },
  "kernelspec": {
   "display_name": "Python 3 (ipykernel)",
   "language": "python",
   "name": "python3"
  },
  "language_info": {
   "codemirror_mode": {
    "name": "ipython",
    "version": 3
   },
   "file_extension": ".py",
   "mimetype": "text/x-python",
   "name": "python",
   "nbconvert_exporter": "python",
   "pygments_lexer": "ipython3",
   "version": "3.12.4"
  }
 },
 "nbformat": 4,
 "nbformat_minor": 4
}
