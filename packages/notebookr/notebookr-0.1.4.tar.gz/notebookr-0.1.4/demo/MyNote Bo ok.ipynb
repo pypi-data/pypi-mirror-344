{
 "cells": [
  {
   "cell_type": "markdown",
   "metadata": {},
   "source": [
    "ipsem lorem"
   ]
  },
  {
   "cell_type": "code",
   "execution_count": null,
   "metadata": {},
   "outputs": [],
   "source": [
    "import numpy as np\n",
    "import pandas as pd\n",
    "from matplotlib import pyplot as plt\n",
    "import seaborn as sns\n",
    "from math import pi\n",
    "\n",
    "def area_of_circle(radius):\n",
    "    return pi * radius ** 2\n",
    "\n",
    "area_of_circle(10)\n",
    "\n"
   ]
  },
  {
   "cell_type": "code",
   "execution_count": null,
   "metadata": {},
   "outputs": [],
   "source": [
    "# more imports\n",
    "\n",
    "import requests\n",
    "import scipy.stats as stats\n",
    "from sklearn.model_selection import train_test_split # Deeper module\n",
    "import networkx\n",
    "import my_custom_package # Underscores\n",
    "\n",
    "\n",
    "#MORE IMPORTS\n",
    "\n",
    "from . import local_module # Might currently produce empty string\n",
    "from ..parent_package import utility # Might currently produce empty string"
   ]
  },
  {
   "cell_type": "code",
   "execution_count": null,
   "metadata": {},
   "outputs": [],
   "source": [
    "print(\"hello world\")"
   ]
  }
 ],
 "metadata": {
  "language_info": {
   "name": "python"
  }
 },
 "nbformat": 4,
 "nbformat_minor": 2
}
