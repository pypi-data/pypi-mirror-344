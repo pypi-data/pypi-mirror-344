{
 "cells": [
  {
   "metadata": {},
   "cell_type": "markdown",
   "source": [
    "# TORCphysics Example 3.: Gene Circuit Custom Models and Parameterization\n",
    "\n",
    "## Overview\n",
    "This notebook revisits the system composed of two genes from Example 1, but we demonstrate how to modify model parameterization and define new models for custom binding, effect and unbinding of enzymes. We then analyse each system with analysis procedures shown in Example_2, by running multiple simulations and calculating averages and stds.\n",
    "\n",
    "\n",
    "## Gene Circuit Structure\n",
    "We have a system composed by two genes in a tandem orientation in the form of:\n",
    "X________-------left------>________------right------>________X\n",
    "\n",
    "where X's indicate the surrounding barriers and -----> a gene pointing to the right.\n",
    "We refer to the genes as 'left' and 'right'.\n",
    "\n",
    "## Scenarios\n",
    "\n",
    "### 3.1. Realistic Model (Accelerated): Multi-Stage Supercoiling-Dependent Transcription with Continuous Topoisomerase activity, and one enzyme is added to the environment that binds at the middle of genes, respond and relaxes supercoils.\n",
    "- Binding, effect and unbinding models are created for the new custom enzyme.\n",
    "- A new enzyme is added to the environment with this behaviour along with its corresponding binding site.\n",
    "\n"
   ],
   "id": "fbf929f0a6fb5e28"
  },
  {
   "metadata": {
    "ExecuteTime": {
     "end_time": "2025-04-29T13:26:11.950914Z",
     "start_time": "2025-04-29T13:26:11.945369Z"
    }
   },
   "cell_type": "code",
   "source": [
    "# Load modules\n",
    "# ------------------------------------------------------------------------------------------------------------------------\n",
    "from TORCphysics import Circuit, Site, Environment, utils\n",
    "from TORCphysics import binding_model as bm\n",
    "from TORCphysics import effect_model as em\n",
    "from TORCphysics import unbinding_model as ubm\n",
    "from TORCphysics import analysis as an\n",
    "import numpy as np\n",
    "import matplotlib.pyplot as plt\n",
    "import pandas as pd"
   ],
   "id": "7af13351e49ce5b1",
   "outputs": [],
   "execution_count": 21
  },
  {
   "metadata": {},
   "cell_type": "markdown",
   "source": [
    "# BINDING MODEL\n",
    "\n",
    "To define binding models, we need to use the binding module (bm).\n",
    "\n",
    "Our new enzyme will bind with a given rate if the superhelical density is above a certain threshold. This means that binding can occur if superhelical <= binding_threshold (with binding_threshold=-0.04 as default)."
   ],
   "id": "d7ed91d70965b644"
  },
  {
   "metadata": {
    "ExecuteTime": {
     "end_time": "2025-04-29T11:45:31.311486Z",
     "start_time": "2025-04-29T11:45:31.306859Z"
    }
   },
   "cell_type": "code",
   "source": [
    "# Let's understand how binding model works\n",
    "help(bm.BindingModel)"
   ],
   "id": "58b6c08b47bd698e",
   "outputs": [
    {
     "name": "stdout",
     "output_type": "stream",
     "text": [
      "Help on class BindingModel in module TORCphysics.src.binding_model:\n",
      "\n",
      "class BindingModel(abc.ABC)\n",
      " |  BindingModel(filename=None, interacts=False, **oparams)\n",
      " |  \n",
      " |  The BindingModel abstract class used for defining binding models (subclasses).\n",
      " |  If you need a new model, define it below.\n",
      " |  See how some of the models are defined from this class, so you can make your own and implement it.\n",
      " |  \n",
      " |  Attributes\n",
      " |  ----------\n",
      " |  filename : str, optional\n",
      " |      Path to the site csv file that parametrises the binding model.\n",
      " |  interacts : bool, optional\n",
      " |     Parameter that indicates if the site/environmental interacts with other bound enzymes. It could be the case\n",
      " |     that the bound enzymem may increase the rate of the binding environmental.\n",
      " |  oparams : dict, optional\n",
      " |      A dictionary containing the parameters used for the binding model.\n",
      " |  \n",
      " |  Method resolution order:\n",
      " |      BindingModel\n",
      " |      abc.ABC\n",
      " |      builtins.object\n",
      " |  \n",
      " |  Methods defined here:\n",
      " |  \n",
      " |  __init__(self, filename=None, interacts=False, **oparams)\n",
      " |      The constructor of BindingModel.\n",
      " |      \n",
      " |      Parameters\n",
      " |      ----------\n",
      " |      filename : str, optional\n",
      " |          Path to the site csv file that parametrises the binding model.\n",
      " |      interacts : bool, optional\n",
      " |          Parameter that indicates if the site/environmental interacts with other bound enzymes. It could be the case\n",
      " |          that the bound enzymem may increase the rate of the binding environmental.\n",
      " |      oparams : dict, optional\n",
      " |          A dictionary containing the parameters used for the binding model.\n",
      " |  \n",
      " |  binding_probability(self) -> float\n",
      " |      Abstract method for calculating the probability of binding.\n",
      " |      This is an essential function for BindingModels as they must be able to calculate the probability of binding of\n",
      " |      a given enzyme.\n",
      " |      \n",
      " |      Returns\n",
      " |      ----------\n",
      " |      probability : float\n",
      " |          It should return a probability (number), which indicates the probability of binding at the given timestep.\n",
      " |          Other functions/protocols should then interpret and implement this number.\n",
      " |  \n",
      " |  rate_modulation(self) -> float\n",
      " |      # TODO: Document this abstract method\n",
      " |  \n",
      " |  ----------------------------------------------------------------------\n",
      " |  Data descriptors defined here:\n",
      " |  \n",
      " |  __dict__\n",
      " |      dictionary for instance variables (if defined)\n",
      " |  \n",
      " |  __weakref__\n",
      " |      list of weak references to the object (if defined)\n",
      " |  \n",
      " |  ----------------------------------------------------------------------\n",
      " |  Data and other attributes defined here:\n",
      " |  \n",
      " |  __abstractmethods__ = frozenset({'binding_probability', 'rate_modulati...\n",
      "\n"
     ]
    }
   ],
   "execution_count": 8
  },
  {
   "metadata": {
    "ExecuteTime": {
     "end_time": "2025-04-29T13:30:45.278061Z",
     "start_time": "2025-04-29T13:30:45.272689Z"
    }
   },
   "cell_type": "code",
   "source": [
    "# Let's define our new enzyme's binding model: CustomEnzymeBinding\n",
    "class CustomEnzymeBinding(bm.BindingModel):\n",
    "\n",
    "    # oparams is a dictionary with parameterisation that you can pass to the model\n",
    "    def __init__(self, filename=None, **oparams):\n",
    "\n",
    "        super().__init__(filename, **oparams)  # Call the base class constructor\n",
    "\n",
    "        if not oparams:\n",
    "            if filename is None:  # If no params are being given\n",
    "                self.k_on = 0.03  # Rate at which enzyme binds\n",
    "                self.binding_threshold = -0.04  # Threshold at which the enzyme will bind\n",
    "            else: # If a file with parameterisation is being given.\n",
    "                mydata = pd.read_csv(filename)\n",
    "                if 'k_on' in mydata.columns:\n",
    "                    self.k_on = mydata['k_on'][0]\n",
    "                else:\n",
    "                    raise ValueError('Error, k_on parameter missing in csv file for CustomEnzymeBinding')\n",
    "                if 'binding_threshold' in mydata.columns:\n",
    "                    self.binding_threshold = mydata['binding_threshold'][0]\n",
    "                else:\n",
    "                    raise ValueError('Error, binding_threshold parameter missing in csv file for CustomEnzymeBinding')\n",
    "        else:  # If parametersation is being given.\n",
    "            self.k_on = oparams['k_on']\n",
    "            self.binding_threshold = oparams['binding_threshold']\n",
    "\n",
    "        self.oparams = {'k_on': self.k_on, 'binding_threshold': self.binding_threshold}  # Just in case\n",
    "\n",
    "    # This function calculates the binding probability\n",
    "    def binding_probability(self, environmental, superhelical, dt):\n",
    "        # utils is a module that contains useful functions!\n",
    "        # utils.Poisson_process returns the probability according rate = k_on * concentration\n",
    "        # and time step dt.\n",
    "        if superhelical <= self.binding_threshold:\n",
    "            return utils.Poisson_process(self.k_on * environmental.concentration, dt)\n",
    "        else:\n",
    "            return 0.0\n",
    "\n",
    "    # Lastly, we need this function that tells the model how the rate is modulated as function of supercoiling.\n",
    "    def rate_modulation(self, superhelical) -> float:\n",
    "        if superhelical <= self.binding_threshold:\n",
    "            return self.k_on\n",
    "        else:\n",
    "            return 0.0\n",
    "\n"
   ],
   "id": "67cbe01253ba93e7",
   "outputs": [],
   "execution_count": 27
  },
  {
   "metadata": {},
   "cell_type": "markdown",
   "source": [
    "# EFFECT MODEL\n",
    "\n",
    "We do something similar but now with the effect model. For this, we use the effect model module em and Effect class: em.EffectModel\n",
    "\n",
    "The custom enzyme will introduce positive supercoils at a certain rate k_cat on both sides (left and right).\n"
   ],
   "id": "2c7b04fe3bf5c38b"
  },
  {
   "metadata": {
    "ExecuteTime": {
     "end_time": "2025-04-29T13:05:53.335937Z",
     "start_time": "2025-04-29T13:05:53.331866Z"
    }
   },
   "cell_type": "code",
   "source": [
    "# Let's understand how effect model works\n",
    "help(em.EffectModel)"
   ],
   "id": "9a7c924b956d07d3",
   "outputs": [
    {
     "name": "stdout",
     "output_type": "stream",
     "text": [
      "Help on class UnBindingModel in module TORCphysics.src.unbinding_model:\n",
      "\n",
      "class UnBindingModel(abc.ABC)\n",
      " |  UnBindingModel(filename=None, **oparams)\n",
      " |  \n",
      " |  The UnBindingModel abstract class used for defining unbinding models (subclasses).\n",
      " |  If you need a new model, define it below.\n",
      " |  See how some of the models are defined from this class, so you can make your own and implement it.\n",
      " |  \n",
      " |  Attributes\n",
      " |  ----------\n",
      " |  filename : str, optional\n",
      " |      Path to the site csv file that parametrises the unbinding model.\n",
      " |  oparams : dict, optional\n",
      " |      A dictionary containing the parameters used for the unbinding model.\n",
      " |  \n",
      " |  Method resolution order:\n",
      " |      UnBindingModel\n",
      " |      abc.ABC\n",
      " |      builtins.object\n",
      " |  \n",
      " |  Methods defined here:\n",
      " |  \n",
      " |  __init__(self, filename=None, **oparams)\n",
      " |      The constructor of UnBindingModel class.\n",
      " |      \n",
      " |      Parameters\n",
      " |      ----------\n",
      " |      filename : str, optional\n",
      " |          Path to the site csv file that parametrises the unbinding model.\n",
      " |      oparams : dict, optional\n",
      " |          A dictionary containing the parameters used for the unbinding model.\n",
      " |  \n",
      " |  unbinding_probability(self) -> float\n",
      " |      Abstract method for calculating the probability of unbinding.\n",
      " |      This is an essential function for UnBindingModels as they must be able to calculate the probability of\n",
      " |      unbinding for a given enzyme.\n",
      " |      \n",
      " |      Returns\n",
      " |      ----------\n",
      " |      probability : float\n",
      " |          It should return a probability (number), which indicates the probability of unbinding at the given timestep.\n",
      " |          Other functions/protocols should then interpret and implement this number.\n",
      " |  \n",
      " |  ----------------------------------------------------------------------\n",
      " |  Data descriptors defined here:\n",
      " |  \n",
      " |  __dict__\n",
      " |      dictionary for instance variables (if defined)\n",
      " |  \n",
      " |  __weakref__\n",
      " |      list of weak references to the object (if defined)\n",
      " |  \n",
      " |  ----------------------------------------------------------------------\n",
      " |  Data and other attributes defined here:\n",
      " |  \n",
      " |  __abstractmethods__ = frozenset({'unbinding_probability'})\n",
      "\n"
     ]
    }
   ],
   "execution_count": 14
  },
  {
   "metadata": {
    "ExecuteTime": {
     "end_time": "2025-04-29T13:10:56.954381Z",
     "start_time": "2025-04-29T13:10:56.949590Z"
    }
   },
   "cell_type": "code",
   "source": [
    "# We need to initialize the class, then define the calculate_effect() function!\n",
    "# Let's define our new enzyme's effect model\n",
    "class CustomEnzymeEffect(em.EffectModel):\n",
    "\n",
    "    def __init__(self, filename=None, **oparams):\n",
    "\n",
    "        super().__init__(filename, **oparams)  # Call the base class constructor\n",
    "\n",
    "        if not oparams:\n",
    "            if filename is None:\n",
    "                self.k_cat = 0.001  # Rate at which supercoils are added (supercoils/second)\n",
    "            else:\n",
    "                mydata = pd.read_csv(filename)\n",
    "                if 'k_cat' in mydata.columns:\n",
    "                    self.k_cat = mydata['k_cat'][0]\n",
    "                else:\n",
    "                    raise ValueError('Error, k_cat parameter missing in csv file for CustomEnzymeEffect')\n",
    "        else:\n",
    "            self.k_cat = oparams['k_cat']\n",
    "\n",
    "        self.oparams = {'k_cat': self.k_cat}  # Just in case\n",
    "\n",
    "    # This function calculates the local effect.\n",
    "    # The model workflow always passes 4 inputs: index = current enzyme index in z_list, current enzyme z, list of enzymes z_list,\n",
    "    # and time-step dt.\n",
    "    # Effects are quantified through the effect object em.Effect()\n",
    "    # Effects are accounted through the change in position (position), twist on the left (twist_left) and twist on the right (twist_right)\n",
    "    # respect our custom enzyme z.\n",
    "    def calculate_effect(self, index, z, z_list, dt):\n",
    "        position = 0.0   # Since the custom enzyme does not move, position=0.0\n",
    "        twist_left = self.k_cat * dt\n",
    "        twist_right = self.k_cat * dt\n",
    "        return em.Effect(index=index, position=position, twist_left=twist_left, twist_right=twist_right)\n",
    "\n"
   ],
   "id": "7b7cbdb9373ded59",
   "outputs": [],
   "execution_count": 15
  },
  {
   "metadata": {},
   "cell_type": "markdown",
   "source": [
    "# UNBINDING MODEL\n",
    "\n",
    "Similarly, we use the unbinding model (ubm) with class ubm.UnBindingModel() to define the unbinding model for our custom enzyme.\n",
    "Similarly to the binding, this enzyme will immidiately unbind if the local superhelical density is above certain unbinding_threshold.\n",
    "This means unbinding if superhelical >= unbinding_threshold (with unbinding_threshold =0.0 as default)."
   ],
   "id": "8580ee2457db555a"
  },
  {
   "metadata": {
    "ExecuteTime": {
     "end_time": "2025-04-29T13:13:10.716324Z",
     "start_time": "2025-04-29T13:13:10.712031Z"
    }
   },
   "cell_type": "code",
   "source": [
    "# Let's understand how unbinding model works\n",
    "help(ubm.UnBindingModel)"
   ],
   "id": "5ed8fd8075dfe2ac",
   "outputs": [
    {
     "name": "stdout",
     "output_type": "stream",
     "text": [
      "Help on class UnBindingModel in module TORCphysics.src.unbinding_model:\n",
      "\n",
      "class UnBindingModel(abc.ABC)\n",
      " |  UnBindingModel(filename=None, **oparams)\n",
      " |  \n",
      " |  The UnBindingModel abstract class used for defining unbinding models (subclasses).\n",
      " |  If you need a new model, define it below.\n",
      " |  See how some of the models are defined from this class, so you can make your own and implement it.\n",
      " |  \n",
      " |  Attributes\n",
      " |  ----------\n",
      " |  filename : str, optional\n",
      " |      Path to the site csv file that parametrises the unbinding model.\n",
      " |  oparams : dict, optional\n",
      " |      A dictionary containing the parameters used for the unbinding model.\n",
      " |  \n",
      " |  Method resolution order:\n",
      " |      UnBindingModel\n",
      " |      abc.ABC\n",
      " |      builtins.object\n",
      " |  \n",
      " |  Methods defined here:\n",
      " |  \n",
      " |  __init__(self, filename=None, **oparams)\n",
      " |      The constructor of UnBindingModel class.\n",
      " |      \n",
      " |      Parameters\n",
      " |      ----------\n",
      " |      filename : str, optional\n",
      " |          Path to the site csv file that parametrises the unbinding model.\n",
      " |      oparams : dict, optional\n",
      " |          A dictionary containing the parameters used for the unbinding model.\n",
      " |  \n",
      " |  unbinding_probability(self) -> float\n",
      " |      Abstract method for calculating the probability of unbinding.\n",
      " |      This is an essential function for UnBindingModels as they must be able to calculate the probability of\n",
      " |      unbinding for a given enzyme.\n",
      " |      \n",
      " |      Returns\n",
      " |      ----------\n",
      " |      probability : float\n",
      " |          It should return a probability (number), which indicates the probability of unbinding at the given timestep.\n",
      " |          Other functions/protocols should then interpret and implement this number.\n",
      " |  \n",
      " |  ----------------------------------------------------------------------\n",
      " |  Data descriptors defined here:\n",
      " |  \n",
      " |  __dict__\n",
      " |      dictionary for instance variables (if defined)\n",
      " |  \n",
      " |  __weakref__\n",
      " |      list of weak references to the object (if defined)\n",
      " |  \n",
      " |  ----------------------------------------------------------------------\n",
      " |  Data and other attributes defined here:\n",
      " |  \n",
      " |  __abstractmethods__ = frozenset({'unbinding_probability'})\n",
      "\n"
     ]
    }
   ],
   "execution_count": 17
  },
  {
   "metadata": {
    "ExecuteTime": {
     "end_time": "2025-04-29T13:20:29.754863Z",
     "start_time": "2025-04-29T13:20:29.750369Z"
    }
   },
   "cell_type": "code",
   "source": [
    "# We need to initialize the class, then define the unbinding_probability() function!\n",
    "# Let's define our new enzyme's unbinding model\n",
    "class CustomEnzymeUnBinding(ubm.UnBindingModel):\n",
    "\n",
    "    def __init__(self, filename=None, **oparams):\n",
    "\n",
    "        super().__init__(filename, **oparams)  # Call the base class constructor\n",
    "\n",
    "        if not oparams:\n",
    "            if filename is None:\n",
    "                self.unbinding_threshold = 0.0  # Superhelical level at which the enzyme would unbind.\n",
    "            else:\n",
    "                mydata = pd.read_csv(filename)\n",
    "                if 'unbinding_threshold' in mydata.columns:\n",
    "                    self.unbinding_threshold = mydata['unbinding_threshold'][0]\n",
    "                else:\n",
    "                    raise ValueError('Error, unbinding_threshold parameter missing in csv file for CustomEnzymeUnBinding')\n",
    "        else:\n",
    "            self.unbinding_threshold = oparams['unbinding_threshold']\n",
    "\n",
    "        self.oparams = {'unbinding_threshold': self.unbinding_threshold}  # Just in case\n",
    "\n",
    "    # This function calculates the unbinding probability.\n",
    "    # Its inputs are the current enzyme and the time step dt.\n",
    "    # It returns the unbinding probability; 1 means unbinding and 0.0 will not unbind\n",
    "    def unbinding_probability(self, enzyme, dt):\n",
    "        if enzyme.superhelical >= self.unbinding_threshold:\n",
    "            return 1.0\n",
    "        else:\n",
    "            return 0.0\n"
   ],
   "id": "647493c99f394d59",
   "outputs": [],
   "execution_count": 18
  },
  {
   "metadata": {},
   "cell_type": "markdown",
   "source": [
    "# EXPERIMENT 3.1\n",
    "\n",
    "We can now run a simulation of the two gene system with the custom enzyme and its binding site at the middle of the two genes."
   ],
   "id": "c0841558dec35e47"
  },
  {
   "metadata": {},
   "cell_type": "code",
   "outputs": [],
   "execution_count": 3,
   "source": [
    "# Simulation Conditions\n",
    "# ------------------------------------------------------------------------------------------------------------------------\n",
    "#Let's use sites_3.csv and environment_4.csv to produce multiple light and fast simulations.\n",
    "# Using these inputs, will run the system with multistage supercoiling-dependent transcription initiation\n",
    "# (closed -> open complex -> elongation) and  RNAP elongation (stalling included) with the continuum effect of topoisomerases acting\n",
    "# on all topological domains.\n",
    "# Simulation conditions\n",
    "circuit_filename = 'circuit.csv'\n",
    "sites_filename = 'sites_3.csv'  # This one contains transcription initiation modulated by supercoiling\n",
    "enzymes_filename = None  # This input is optional, no enzymes_file means that nothing is bound\n",
    "environment_filename = 'environment_4.csv'  # This one contains uniform RNAPs and topoisomerases acting continously\n",
    "output_prefix = 'output2'\n",
    "frames = 3600\n",
    "series = True\n",
    "continuation = False\n",
    "dt = 1\n",
    "\n",
    "n_sims = 20 # We will run n_sims simulations for this example.\n",
    "\n",
    "gene_names = ['left', 'right']\n",
    "\n",
    "colors = {'left': 'yellow', 'right': 'blue', 'circuit': 'black'}  # circuit refers to global quantities, e.g. global supercoiling\n",
    "\n"
   ],
   "id": "7b3695508e7b0a51"
  },
  {
   "metadata": {
    "ExecuteTime": {
     "end_time": "2025-04-29T13:31:07.661082Z",
     "start_time": "2025-04-29T13:31:07.651627Z"
    }
   },
   "cell_type": "code",
   "source": [
    "# Initialize circuit with the initial conditions\n",
    "my_circuit = Circuit(circuit_filename, sites_filename, enzymes_filename, environment_filename,\n",
    "                     output_prefix, frames, series, continuation, dt)"
   ],
   "id": "67cc5bcb0f00aaf5",
   "outputs": [],
   "execution_count": 29
  },
  {
   "metadata": {
    "ExecuteTime": {
     "end_time": "2025-04-29T13:31:09.211121Z",
     "start_time": "2025-04-29T13:31:09.207705Z"
    }
   },
   "cell_type": "code",
   "source": [
    "# We now need to define a binding site for our new enzyme:\n",
    "custom_site = Site(site_type='custom_site', name='custom_site_1', start=2500, end=0, k_on=0.03, binding_model=CustomEnzymeBinding())\n",
    "my_circuit.site_list.append(custom_site)\n"
   ],
   "id": "5be146a33f98ece7",
   "outputs": [],
   "execution_count": 30
  },
  {
   "metadata": {
    "ExecuteTime": {
     "end_time": "2025-04-29T13:35:01.592082Z",
     "start_time": "2025-04-29T13:35:01.587747Z"
    }
   },
   "cell_type": "code",
   "source": [
    "# Define new environment custom enzyme which can bind its corresponding binding site.\n",
    "custom_enzyme = Environment(e_type='custom_enzyme', name='custom_enzyme_1', site_list=my_circuit.site_list, concentration=1.0, size=20,\n",
    "                                effective_size=10, site_type='custom_site',\n",
    "                            effect_model=CustomEnzymeEffect(),\n",
    "                            unbinding_model=CustomEnzymeUnBinding())\n",
    "my_circuit.environmental_list.append(custom_enzyme)"
   ],
   "id": "871f6a0bcfabd762",
   "outputs": [],
   "execution_count": 31
  },
  {
   "metadata": {
    "ExecuteTime": {
     "end_time": "2025-04-29T13:38:01.619817Z",
     "start_time": "2025-04-29T13:38:01.423931Z"
    }
   },
   "cell_type": "code",
   "source": [
    "# Update lists and twist/supercoiling in the circuit components\n",
    "my_circuit.sort_lists()\n",
    "my_circuit.update_global_twist()\n",
    "my_circuit.update_global_superhelical()\n",
    "my_circuit.run()\n"
   ],
   "id": "cf02962e26cd1564",
   "outputs": [
    {
     "ename": "ValueError",
     "evalue": "Could not recognise effect model CustomEnzymeEffect",
     "output_type": "error",
     "traceback": [
      "\u001B[0;31m---------------------------------------------------------------------------\u001B[0m",
      "\u001B[0;31mValueError\u001B[0m                                Traceback (most recent call last)",
      "Cell \u001B[0;32mIn[33], line 5\u001B[0m\n\u001B[1;32m      3\u001B[0m my_circuit\u001B[38;5;241m.\u001B[39mupdate_global_twist()\n\u001B[1;32m      4\u001B[0m my_circuit\u001B[38;5;241m.\u001B[39mupdate_global_superhelical()\n\u001B[0;32m----> 5\u001B[0m \u001B[43mmy_circuit\u001B[49m\u001B[38;5;241;43m.\u001B[39;49m\u001B[43mrun\u001B[49m\u001B[43m(\u001B[49m\u001B[43m)\u001B[49m\n",
      "File \u001B[0;32m~/Documents/My_codes/TORCphysics/src/circuit.py:138\u001B[0m, in \u001B[0;36mCircuit.run\u001B[0;34m(self)\u001B[0m\n\u001B[1;32m    133\u001B[0m     \u001B[38;5;28mself\u001B[39m\u001B[38;5;241m.\u001B[39mappend_sites_to_dict_step1()\n\u001B[1;32m    135\u001B[0m \u001B[38;5;66;03m# BINDING\u001B[39;00m\n\u001B[1;32m    136\u001B[0m \u001B[38;5;66;03m# --------------------------------------------------------------\u001B[39;00m\n\u001B[1;32m    137\u001B[0m \u001B[38;5;66;03m# Apply binding model and get list of new enzymes\u001B[39;00m\n\u001B[0;32m--> 138\u001B[0m new_enzyme_list \u001B[38;5;241m=\u001B[39m \u001B[43mmw\u001B[49m\u001B[38;5;241;43m.\u001B[39;49m\u001B[43mbinding_workflow\u001B[49m\u001B[43m(\u001B[49m\u001B[38;5;28;43mself\u001B[39;49m\u001B[38;5;241;43m.\u001B[39;49m\u001B[43menzyme_list\u001B[49m\u001B[43m,\u001B[49m\u001B[43m \u001B[49m\u001B[38;5;28;43mself\u001B[39;49m\u001B[38;5;241;43m.\u001B[39;49m\u001B[43menvironmental_list\u001B[49m\u001B[43m,\u001B[49m\u001B[43m \u001B[49m\u001B[38;5;28;43mself\u001B[39;49m\u001B[38;5;241;43m.\u001B[39;49m\u001B[43mdt\u001B[49m\u001B[43m,\u001B[49m\u001B[43m \u001B[49m\u001B[38;5;28;43mself\u001B[39;49m\u001B[38;5;241;43m.\u001B[39;49m\u001B[43mrng\u001B[49m\u001B[43m)\u001B[49m\n\u001B[1;32m    139\u001B[0m \u001B[38;5;66;03m# These new enzymes are lacking twist and superhelical, we need to fix them and actually add them\u001B[39;00m\n\u001B[1;32m    140\u001B[0m \u001B[38;5;66;03m# to the enzyme_list\u001B[39;00m\n\u001B[1;32m    141\u001B[0m \u001B[38;5;66;03m# But before, add the binding events to the log  (it's easier to do it first)\u001B[39;00m\n\u001B[1;32m    142\u001B[0m \u001B[38;5;66;03m#            self.add_binding_events_to_log(new_enzyme_list)\u001B[39;00m\n\u001B[1;32m    143\u001B[0m \u001B[38;5;28mself\u001B[39m\u001B[38;5;241m.\u001B[39madd_new_enzymes(new_enzyme_list)  \u001B[38;5;66;03m# It also calculates fixes the twists and updates supercoiling\u001B[39;00m\n",
      "File \u001B[0;32m~/Documents/My_codes/TORCphysics/src/models_workflow.py:127\u001B[0m, in \u001B[0;36mbinding_workflow\u001B[0;34m(enzyme_list, environmental_list, dt, rng)\u001B[0m\n\u001B[1;32m    121\u001B[0m             position \u001B[38;5;241m=\u001B[39m utils\u001B[38;5;241m.\u001B[39mget_enzyme_to_bind_position(site\u001B[38;5;241m=\u001B[39msite, environmental\u001B[38;5;241m=\u001B[39menvironment)\n\u001B[1;32m    123\u001B[0m             \u001B[38;5;66;03m# TODO : Check that enzyme has correct models! This do it in a Test! It works for the moment, but\u001B[39;00m\n\u001B[1;32m    124\u001B[0m             \u001B[38;5;66;03m#  it'll be wise to include it in the testing\u001B[39;00m\n\u001B[1;32m    125\u001B[0m             \u001B[38;5;66;03m# Create enzyme, and note that it is missing twist and the superhelical density.\u001B[39;00m\n\u001B[1;32m    126\u001B[0m             \u001B[38;5;66;03m# Those will be added in the circuit module\u001B[39;00m\n\u001B[0;32m--> 127\u001B[0m             enzyme \u001B[38;5;241m=\u001B[39m \u001B[43mEnzyme\u001B[49m\u001B[43m(\u001B[49m\u001B[43me_type\u001B[49m\u001B[38;5;241;43m=\u001B[39;49m\u001B[43menvironment\u001B[49m\u001B[38;5;241;43m.\u001B[39;49m\u001B[43menzyme_type\u001B[49m\u001B[43m,\u001B[49m\u001B[43m \u001B[49m\u001B[43mname\u001B[49m\u001B[38;5;241;43m=\u001B[39;49m\u001B[43menvironment\u001B[49m\u001B[38;5;241;43m.\u001B[39;49m\u001B[43mname\u001B[49m\u001B[43m,\u001B[49m\u001B[43m \u001B[49m\u001B[43msite\u001B[49m\u001B[38;5;241;43m=\u001B[39;49m\u001B[43msite\u001B[49m\u001B[43m,\u001B[49m\u001B[43m \u001B[49m\u001B[43mposition\u001B[49m\u001B[38;5;241;43m=\u001B[39;49m\u001B[43mposition\u001B[49m\u001B[43m,\u001B[49m\n\u001B[1;32m    128\u001B[0m \u001B[43m                            \u001B[49m\u001B[43msize\u001B[49m\u001B[38;5;241;43m=\u001B[39;49m\u001B[43menvironment\u001B[49m\u001B[38;5;241;43m.\u001B[39;49m\u001B[43msize\u001B[49m\u001B[43m,\u001B[49m\u001B[43m \u001B[49m\u001B[43meffective_size\u001B[49m\u001B[38;5;241;43m=\u001B[39;49m\u001B[43menvironment\u001B[49m\u001B[38;5;241;43m.\u001B[39;49m\u001B[43meffective_size\u001B[49m\u001B[43m,\u001B[49m\u001B[43m \u001B[49m\u001B[43mtwist\u001B[49m\u001B[38;5;241;43m=\u001B[39;49m\u001B[38;5;241;43m0.0\u001B[39;49m\u001B[43m,\u001B[49m\n\u001B[1;32m    129\u001B[0m \u001B[43m                            \u001B[49m\u001B[43msuperhelical\u001B[49m\u001B[38;5;241;43m=\u001B[39;49m\u001B[38;5;241;43m0.0\u001B[39;49m\u001B[43m,\u001B[49m\n\u001B[1;32m    130\u001B[0m \u001B[43m                            \u001B[49m\u001B[43meffect_model_name\u001B[49m\u001B[38;5;241;43m=\u001B[39;49m\u001B[43menvironment\u001B[49m\u001B[38;5;241;43m.\u001B[39;49m\u001B[43meffect_model_name\u001B[49m\u001B[43m,\u001B[49m\n\u001B[1;32m    131\u001B[0m \u001B[43m                            \u001B[49m\u001B[43meffect_model_oparams\u001B[49m\u001B[38;5;241;43m=\u001B[39;49m\u001B[43menvironment\u001B[49m\u001B[38;5;241;43m.\u001B[39;49m\u001B[43meffect_model_oparams\u001B[49m\u001B[43m,\u001B[49m\n\u001B[1;32m    132\u001B[0m \u001B[43m                            \u001B[49m\u001B[38;5;66;43;03m# effect_model=environment.effect_model,\u001B[39;49;00m\n\u001B[1;32m    133\u001B[0m \u001B[43m                            \u001B[49m\u001B[43munbinding_model\u001B[49m\u001B[38;5;241;43m=\u001B[39;49m\u001B[43menvironment\u001B[49m\u001B[38;5;241;43m.\u001B[39;49m\u001B[43munbinding_model\u001B[49m\u001B[43m)\u001B[49m\n\u001B[1;32m    134\u001B[0m             new_enzymes\u001B[38;5;241m.\u001B[39mappend(enzyme)\n\u001B[1;32m    136\u001B[0m \u001B[38;5;66;03m# TODO: check_binding_conflicts() needs testing\u001B[39;00m\n",
      "File \u001B[0;32m~/Documents/My_codes/TORCphysics/src/enzyme.py:145\u001B[0m, in \u001B[0;36mEnzyme.__init__\u001B[0;34m(self, e_type, name, site, position, size, effective_size, twist, superhelical, effect_model_name, effect_oparams_file, effect_model, effect_model_oparams, unbinding_model_name, unbinding_oparams_file, unbinding_model, unbinding_model_oparams)\u001B[0m\n\u001B[1;32m    142\u001B[0m \u001B[38;5;28mself\u001B[39m\u001B[38;5;241m.\u001B[39mdirection \u001B[38;5;241m=\u001B[39m \u001B[38;5;28mself\u001B[39m\u001B[38;5;241m.\u001B[39msite\u001B[38;5;241m.\u001B[39mget_direction()\n\u001B[1;32m    144\u001B[0m \u001B[38;5;66;03m# Loads the binding, effect and unbinding models if given.\u001B[39;00m\n\u001B[0;32m--> 145\u001B[0m \u001B[38;5;28;43mself\u001B[39;49m\u001B[38;5;241;43m.\u001B[39;49m\u001B[43mget_models\u001B[49m\u001B[43m(\u001B[49m\u001B[43m)\u001B[49m\n",
      "File \u001B[0;32m~/Documents/My_codes/TORCphysics/src/enzyme.py:216\u001B[0m, in \u001B[0;36mEnzyme.get_models\u001B[0;34m(self)\u001B[0m\n\u001B[1;32m    211\u001B[0m \u001B[38;5;250m\u001B[39m\u001B[38;5;124;03m\"\"\" Loads the Enzyme's effect and unbinding models (if given).\u001B[39;00m\n\u001B[1;32m    212\u001B[0m \u001B[38;5;124;03m\"\"\"\u001B[39;00m\n\u001B[1;32m    214\u001B[0m \u001B[38;5;66;03m# Effect Model\u001B[39;00m\n\u001B[1;32m    215\u001B[0m \u001B[38;5;28mself\u001B[39m\u001B[38;5;241m.\u001B[39meffect_model, \u001B[38;5;28mself\u001B[39m\u001B[38;5;241m.\u001B[39meffect_model_name, \u001B[38;5;28mself\u001B[39m\u001B[38;5;241m.\u001B[39meffect_oparams_file, \u001B[38;5;28mself\u001B[39m\u001B[38;5;241m.\u001B[39meffect_model_oparams \u001B[38;5;241m=\u001B[39m (\n\u001B[0;32m--> 216\u001B[0m     \u001B[43mem\u001B[49m\u001B[38;5;241;43m.\u001B[39;49m\u001B[43mget_effect_model\u001B[49m\u001B[43m(\u001B[49m\u001B[38;5;28;43mself\u001B[39;49m\u001B[38;5;241;43m.\u001B[39;49m\u001B[43mname\u001B[49m\u001B[43m,\u001B[49m\u001B[43m \u001B[49m\u001B[38;5;28;43mself\u001B[39;49m\u001B[38;5;241;43m.\u001B[39;49m\u001B[43meffect_model\u001B[49m\u001B[43m,\u001B[49m\u001B[43m \u001B[49m\u001B[38;5;28;43mself\u001B[39;49m\u001B[38;5;241;43m.\u001B[39;49m\u001B[43meffect_model_name\u001B[49m\u001B[43m,\u001B[49m\n\u001B[1;32m    217\u001B[0m \u001B[43m                        \u001B[49m\u001B[38;5;28;43mself\u001B[39;49m\u001B[38;5;241;43m.\u001B[39;49m\u001B[43meffect_oparams_file\u001B[49m\u001B[43m,\u001B[49m\u001B[43m \u001B[49m\u001B[38;5;28;43mself\u001B[39;49m\u001B[38;5;241;43m.\u001B[39;49m\u001B[43meffect_model_oparams\u001B[49m\u001B[43m)\u001B[49m)\n\u001B[1;32m    219\u001B[0m \u001B[38;5;66;03m# Unbinding Model\u001B[39;00m\n\u001B[1;32m    220\u001B[0m \u001B[38;5;28mself\u001B[39m\u001B[38;5;241m.\u001B[39munbinding_model, \u001B[38;5;28mself\u001B[39m\u001B[38;5;241m.\u001B[39munbinding_model_name, \u001B[38;5;28mself\u001B[39m\u001B[38;5;241m.\u001B[39munbinding_oparams_file, \u001B[38;5;28mself\u001B[39m\u001B[38;5;241m.\u001B[39munbinding_model_oparams \u001B[38;5;241m=\u001B[39m (\n\u001B[1;32m    221\u001B[0m     ubm\u001B[38;5;241m.\u001B[39mget_unbinding_model(\u001B[38;5;28mself\u001B[39m\u001B[38;5;241m.\u001B[39mname, \u001B[38;5;28mself\u001B[39m\u001B[38;5;241m.\u001B[39munbinding_model, \u001B[38;5;28mself\u001B[39m\u001B[38;5;241m.\u001B[39munbinding_model_name,\n\u001B[1;32m    222\u001B[0m                             \u001B[38;5;28mself\u001B[39m\u001B[38;5;241m.\u001B[39munbinding_oparams_file, \u001B[38;5;28mself\u001B[39m\u001B[38;5;241m.\u001B[39munbinding_model_oparams))\n",
      "File \u001B[0;32m~/Documents/My_codes/TORCphysics/src/effect_model.py:1674\u001B[0m, in \u001B[0;36mget_effect_model\u001B[0;34m(name, e_model, model_name, oparams_file, oparams)\u001B[0m\n\u001B[1;32m   1665\u001B[0m \u001B[38;5;66;03m# Model indicated by name\u001B[39;00m\n\u001B[1;32m   1666\u001B[0m \u001B[38;5;28;01melse\u001B[39;00m:\n\u001B[1;32m   1667\u001B[0m     \u001B[38;5;66;03m# Loads effect model.\u001B[39;00m\n\u001B[0;32m   (...)\u001B[0m\n\u001B[1;32m   1671\u001B[0m \n\u001B[1;32m   1672\u001B[0m     \u001B[38;5;66;03m# A dictionary of parameters is given so that's priority\u001B[39;00m\n\u001B[1;32m   1673\u001B[0m     \u001B[38;5;28;01mif\u001B[39;00m \u001B[38;5;28misinstance\u001B[39m(oparams, \u001B[38;5;28mdict\u001B[39m):\n\u001B[0;32m-> 1674\u001B[0m         e_model \u001B[38;5;241m=\u001B[39m \u001B[43massign_effect_model\u001B[49m\u001B[43m(\u001B[49m\u001B[43mmodel_name\u001B[49m\u001B[43m,\u001B[49m\u001B[43m \u001B[49m\u001B[38;5;241;43m*\u001B[39;49m\u001B[38;5;241;43m*\u001B[39;49m\u001B[43moparams\u001B[49m\u001B[43m)\u001B[49m\n\u001B[1;32m   1675\u001B[0m     \u001B[38;5;66;03m# No dictionary was given\u001B[39;00m\n\u001B[1;32m   1676\u001B[0m     \u001B[38;5;28;01melse\u001B[39;00m:\n\u001B[1;32m   1677\u001B[0m         \u001B[38;5;66;03m# If no oparams_file is given, then DEFAULT values are used.\u001B[39;00m\n\u001B[1;32m   1678\u001B[0m         \u001B[38;5;28;01mif\u001B[39;00m oparams_file \u001B[38;5;129;01mis\u001B[39;00m \u001B[38;5;28;01mNone\u001B[39;00m:\n",
      "File \u001B[0;32m~/Documents/My_codes/TORCphysics/src/effect_model.py:1760\u001B[0m, in \u001B[0;36massign_effect_model\u001B[0;34m(model_name, oparams_file, **oparams)\u001B[0m\n\u001B[1;32m   1758\u001B[0m     my_model \u001B[38;5;241m=\u001B[39m LacIPoissonBridging(filename\u001B[38;5;241m=\u001B[39moparams_file, \u001B[38;5;241m*\u001B[39m\u001B[38;5;241m*\u001B[39moparams)\n\u001B[1;32m   1759\u001B[0m \u001B[38;5;28;01melse\u001B[39;00m:\n\u001B[0;32m-> 1760\u001B[0m     \u001B[38;5;28;01mraise\u001B[39;00m \u001B[38;5;167;01mValueError\u001B[39;00m(\u001B[38;5;124m'\u001B[39m\u001B[38;5;124mCould not recognise effect model \u001B[39m\u001B[38;5;124m'\u001B[39m \u001B[38;5;241m+\u001B[39m model_name)\n\u001B[1;32m   1761\u001B[0m \u001B[38;5;28;01mreturn\u001B[39;00m my_model\n",
      "\u001B[0;31mValueError\u001B[0m: Could not recognise effect model CustomEnzymeEffect"
     ]
    }
   ],
   "execution_count": 33
  },
  {
   "metadata": {},
   "cell_type": "code",
   "outputs": [],
   "execution_count": null,
   "source": "",
   "id": "5c6908ccd5bda634"
  }
 ],
 "metadata": {
  "kernelspec": {
   "display_name": "Python 3",
   "language": "python",
   "name": "python3"
  },
  "language_info": {
   "codemirror_mode": {
    "name": "ipython",
    "version": 2
   },
   "file_extension": ".py",
   "mimetype": "text/x-python",
   "name": "python",
   "nbconvert_exporter": "python",
   "pygments_lexer": "ipython2",
   "version": "2.7.6"
  }
 },
 "nbformat": 4,
 "nbformat_minor": 5
}
