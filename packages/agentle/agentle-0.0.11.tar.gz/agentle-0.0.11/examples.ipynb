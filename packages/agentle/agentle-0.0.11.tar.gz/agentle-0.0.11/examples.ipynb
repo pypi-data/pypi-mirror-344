{
 "cells": [
  {
   "cell_type": "markdown",
   "metadata": {},
   "source": [
    "# Structured Responses"
   ]
  },
  {
   "cell_type": "code",
   "execution_count": null,
   "metadata": {},
   "outputs": [],
   "source": [
    "from agentle.generations.models.message_parts.text import TextPart\n",
    "from agentle.generations.providers.google.google_generation_provider import (\n",
    "    GenerationConfig,\n",
    "    GoogleGenerationProvider,\n",
    "    UserMessage,\n",
    ")\n",
    "from dotenv import load_dotenv\n",
    "\n",
    "from pydantic import BaseModel\n",
    "\n",
    "load_dotenv()\n",
    "\n",
    "\n",
    "class DangerousDogsResponse(BaseModel):\n",
    "    dangerous_dogs: list[str]\n",
    "\n",
    "\n",
    "provider = GoogleGenerationProvider(\n",
    "    use_vertex_ai=False,\n",
    ")\n",
    "\n",
    "generation = provider.create_generation(\n",
    "    model=\"gemini-1.5-flash\",\n",
    "    messages=[\n",
    "        UserMessage(\n",
    "            parts=[\n",
    "                TextPart(text=\"Hello, how are you?\"),\n",
    "                TextPart(text=\"What are the most dangerous dogs in the world?\"),\n",
    "            ]\n",
    "        )\n",
    "    ],\n",
    "    generation_config=GenerationConfig(timeout=10),\n",
    ")\n",
    "\n",
    "print(generation.parsed)"
   ]
  },
  {
   "cell_type": "code",
   "execution_count": null,
   "metadata": {},
   "outputs": [],
   "source": [
    "from agentle.generations.providers.google.google_generation_provider import (\n",
    "    GoogleGenerationProvider,\n",
    ")\n",
    "from agentle.agents.agent import Agent\n",
    "\n",
    "def get_weather(location: str) -> str:\n",
    "    return \"The weather in \" + location + \" is sunny.\"\n",
    "\n",
    "weather_agent = Agent(\n",
    "    generation_provider=GoogleGenerationProvider(),\n",
    "    model=\"gemini-2.0-flash\",\n",
    "    instructions=\"You are a weather agent that can answer questions about the weather.\",\n",
    "    tools=[get_weather],\n",
    ")\n",
    "\n",
    "output = weather_agent.run(\"Hello. What is the weather in Tokyo?\")"
   ]
  },
  {
   "cell_type": "code",
   "execution_count": null,
   "metadata": {},
   "outputs": [],
   "source": [
    "from agentle.generations.providers.google.google_generation_provider import (\n",
    "    GoogleGenerationProvider,\n",
    ")\n",
    "from agentle.agents.agent import Agent\n",
    "\n",
    "def get_weather(location: str) -> str:\n",
    "    return \"The weather in \" + location + \" is sunny.\"\n",
    "\n",
    "weather_agent = Agent(\n",
    "    generation_provider=GoogleGenerationProvider(),\n",
    "    model=\"gemini-2.0-flash\",\n",
    "    instructions=\"You are a weather agent that can answer questions about the weather.\",\n",
    "    tools=[get_weather],\n",
    ")\n",
    "\n",
    "output = weather_agent.run(\"Hello. What is the weather in Tokyo?\")"
   ]
  },
  {
   "cell_type": "code",
   "execution_count": null,
   "metadata": {},
   "outputs": [],
   "source": [
    "from agentle.generations.providers.google.google_generation_provider import (\n",
    "    GoogleGenerationProvider,\n",
    ")\n",
    "from agentle.agents.agent import Agent\n",
    "\n",
    "def get_weather(location: str) -> str:\n",
    "    return \"The weather in \" + location + \" is sunny.\"\n",
    "\n",
    "weather_agent = Agent(\n",
    "    generation_provider=GoogleGenerationProvider(),\n",
    "    model=\"gemini-2.0-flash\",\n",
    "    instructions=\"You are a weather agent that can answer questions about the weather.\",\n",
    "    tools=[get_weather],\n",
    ")\n",
    "\n",
    "output = weather_agent.run(\"Hello. What is the weather in Tokyo?\")"
   ]
  },
  {
   "cell_type": "code",
   "execution_count": null,
   "metadata": {},
   "outputs": [],
   "source": [
    "from agentle.generations.providers.google.google_generation_provider import (\n",
    "    GoogleGenerationProvider,\n",
    ")\n",
    "from agentle.agents.agent import Agent\n",
    "\n",
    "def get_weather(location: str) -> str:\n",
    "    return \"The weather in \" + location + \" is sunny.\"\n",
    "\n",
    "weather_agent = Agent(\n",
    "    generation_provider=GoogleGenerationProvider(),\n",
    "    model=\"gemini-2.0-flash\",\n",
    "    instructions=\"You are a weather agent that can answer questions about the weather.\",\n",
    "    tools=[get_weather],\n",
    ")\n",
    "\n",
    "output = weather_agent.run(\"Hello. What is the weather in Tokyo?\")"
   ]
  },
  {
   "cell_type": "code",
   "execution_count": null,
   "metadata": {},
   "outputs": [],
   "source": [
    "from agentle.generations.providers.google.google_generation_provider import (\n",
    "    GoogleGenerationProvider,\n",
    ")\n",
    "from agentle.agents.agent import Agent\n",
    "\n",
    "def get_weather(location: str) -> str:\n",
    "    return \"The weather in \" + location + \" is sunny.\"\n",
    "\n",
    "weather_agent = Agent(\n",
    "    generation_provider=GoogleGenerationProvider(),\n",
    "    model=\"gemini-2.0-flash\",\n",
    "    instructions=\"You are a weather agent that can answer questions about the weather.\",\n",
    "    tools=[get_weather],\n",
    ")\n",
    "\n",
    "output = weather_agent.run(\"Hello. What is the weather in Tokyo?\")"
   ]
  },
  {
   "cell_type": "code",
   "execution_count": null,
   "metadata": {},
   "outputs": [],
   "source": [
    "from agentle.generations.providers.google.google_generation_provider import (\n",
    "    GoogleGenerationProvider,\n",
    ")\n",
    "from agentle.agents.agent import Agent\n",
    "\n",
    "def get_weather(location: str) -> str:\n",
    "    return \"The weather in \" + location + \" is sunny.\"\n",
    "\n",
    "weather_agent = Agent(\n",
    "    generation_provider=GoogleGenerationProvider(),\n",
    "    model=\"gemini-2.0-flash\",\n",
    "    instructions=\"You are a weather agent that can answer questions about the weather.\",\n",
    "    tools=[get_weather],\n",
    ")\n",
    "\n",
    "output = weather_agent.run(\"Hello. What is the weather in Tokyo?\")"
   ]
  },
  {
   "cell_type": "code",
   "execution_count": null,
   "metadata": {},
   "outputs": [],
   "source": [
    "from agentle.generations.providers.google.google_generation_provider import (\n",
    "    GoogleGenerationProvider,\n",
    ")\n",
    "from agentle.agents.agent import Agent\n",
    "\n",
    "def get_weather(location: str) -> str:\n",
    "    return \"The weather in \" + location + \" is sunny.\"\n",
    "\n",
    "weather_agent = Agent(\n",
    "    generation_provider=GoogleGenerationProvider(),\n",
    "    model=\"gemini-2.0-flash\",\n",
    "    instructions=\"You are a weather agent that can answer questions about the weather.\",\n",
    "    tools=[get_weather],\n",
    ")\n",
    "\n",
    "output = weather_agent.run(\"Hello. What is the weather in Tokyo?\")"
   ]
  },
  {
   "cell_type": "code",
   "execution_count": null,
   "metadata": {},
   "outputs": [
    {
     "name": "stderr",
     "output_type": "stream",
     "text": [
      "Message is empty. Skipping append.\n",
      "`automatic_function_calling.disable` is set to `True`. And `automatic_function_calling.maximum_remote_calls` is a positive number 10. Disabling automatic function calling. If you want to enable automatic function calling, please set `automatic_function_calling.disable` to `False` or leave it unset, and set `automatic_function_calling.maximum_remote_calls` to a positive integer or leave `automatic_function_calling.maximum_remote_calls` unset.\n"
     ]
    },
    {
     "ename": "TypeError",
     "evalue": "unhashable type: 'dict'",
     "output_type": "error",
     "traceback": [
      "\u001b[31m---------------------------------------------------------------------------\u001b[39m",
      "\u001b[31mTypeError\u001b[39m                                 Traceback (most recent call last)",
      "\u001b[36mCell\u001b[39m\u001b[36m \u001b[39m\u001b[32mIn[10]\u001b[39m\u001b[32m, line 11\u001b[39m\n\u001b[32m      2\u001b[39m     \u001b[38;5;28;01mreturn\u001b[39;00m \u001b[33m\"\u001b[39m\u001b[33mThe weather in \u001b[39m\u001b[33m\"\u001b[39m + location + \u001b[33m\"\u001b[39m\u001b[33m is sunny.\u001b[39m\u001b[33m\"\u001b[39m\n\u001b[32m      4\u001b[39m weather_agent = Agent(\n\u001b[32m      5\u001b[39m     generation_provider=GoogleGenerationProvider(),\n\u001b[32m      6\u001b[39m     model=\u001b[33m\"\u001b[39m\u001b[33mgemini-2.0-flash\u001b[39m\u001b[33m\"\u001b[39m,\n\u001b[32m      7\u001b[39m     instructions=\u001b[33m\"\u001b[39m\u001b[33mYou are a weather agent that can answer questions about the weather.\u001b[39m\u001b[33m\"\u001b[39m,\n\u001b[32m      8\u001b[39m     tools=[get_weather],\n\u001b[32m      9\u001b[39m )\n\u001b[32m---> \u001b[39m\u001b[32m11\u001b[39m output = \u001b[43mweather_agent\u001b[49m\u001b[43m.\u001b[49m\u001b[43mrun\u001b[49m\u001b[43m(\u001b[49m\u001b[33;43m\"\u001b[39;49m\u001b[33;43mHello. What is the weather in Tokyo?\u001b[39;49m\u001b[33;43m\"\u001b[39;49m\u001b[43m)\u001b[49m\n",
      "\u001b[36mFile \u001b[39m\u001b[32m~/Documents/Dev/Public/agentle/agentle/agents/agent.py:215\u001b[39m, in \u001b[36mAgent.run\u001b[39m\u001b[34m(self, input, timeout)\u001b[39m\n\u001b[32m    210\u001b[39m \u001b[38;5;28;01mdef\u001b[39;00m\u001b[38;5;250m \u001b[39m\u001b[34mrun\u001b[39m(\n\u001b[32m    211\u001b[39m     \u001b[38;5;28mself\u001b[39m,\n\u001b[32m    212\u001b[39m     \u001b[38;5;28minput\u001b[39m: AgentInput,\n\u001b[32m    213\u001b[39m     timeout: \u001b[38;5;28mfloat\u001b[39m | \u001b[38;5;28;01mNone\u001b[39;00m = \u001b[38;5;28;01mNone\u001b[39;00m,\n\u001b[32m    214\u001b[39m ) -> AgentRunOutput[T_Schema]:\n\u001b[32m--> \u001b[39m\u001b[32m215\u001b[39m     \u001b[38;5;28;01mreturn\u001b[39;00m \u001b[43mrun_sync\u001b[49m\u001b[43m(\u001b[49m\u001b[38;5;28;43mself\u001b[39;49m\u001b[43m.\u001b[49m\u001b[43mrun_async\u001b[49m\u001b[43m,\u001b[49m\u001b[43m \u001b[49m\u001b[43mtimeout\u001b[49m\u001b[43m=\u001b[49m\u001b[43mtimeout\u001b[49m\u001b[43m,\u001b[49m\u001b[43m \u001b[49m\u001b[38;5;28;43minput\u001b[39;49m\u001b[43m=\u001b[49m\u001b[38;5;28;43minput\u001b[39;49m\u001b[43m)\u001b[49m\n",
      "\u001b[36mFile \u001b[39m\u001b[32m~/Documents/Dev/Public/agentle/.venv/lib/python3.13/site-packages/rsb/coroutines/run_sync.py:54\u001b[39m, in \u001b[36mrun_sync\u001b[39m\u001b[34m(func, timeout, *args, **kwargs)\u001b[39m\n\u001b[32m     52\u001b[39m         \u001b[38;5;28;01mwith\u001b[39;00m ThreadPoolExecutor() \u001b[38;5;28;01mas\u001b[39;00m pool:\n\u001b[32m     53\u001b[39m             future = pool.submit(run_in_new_loop)\n\u001b[32m---> \u001b[39m\u001b[32m54\u001b[39m             \u001b[38;5;28;01mreturn\u001b[39;00m \u001b[43mfuture\u001b[49m\u001b[43m.\u001b[49m\u001b[43mresult\u001b[49m\u001b[43m(\u001b[49m\u001b[43mtimeout\u001b[49m\u001b[43m)\u001b[49m\n\u001b[32m     55\u001b[39m \u001b[38;5;28;01melse\u001b[39;00m:\n\u001b[32m     56\u001b[39m     \u001b[38;5;28;01mreturn\u001b[39;00m asyncio.run_coroutine_threadsafe(_async_wrapper(), loop).result(timeout)\n",
      "\u001b[36mFile \u001b[39m\u001b[32m~/.local/share/uv/python/cpython-3.13.1-macos-aarch64-none/lib/python3.13/concurrent/futures/_base.py:456\u001b[39m, in \u001b[36mFuture.result\u001b[39m\u001b[34m(self, timeout)\u001b[39m\n\u001b[32m    454\u001b[39m     \u001b[38;5;28;01mraise\u001b[39;00m CancelledError()\n\u001b[32m    455\u001b[39m \u001b[38;5;28;01melif\u001b[39;00m \u001b[38;5;28mself\u001b[39m._state == FINISHED:\n\u001b[32m--> \u001b[39m\u001b[32m456\u001b[39m     \u001b[38;5;28;01mreturn\u001b[39;00m \u001b[38;5;28;43mself\u001b[39;49m\u001b[43m.\u001b[49m\u001b[43m__get_result\u001b[49m\u001b[43m(\u001b[49m\u001b[43m)\u001b[49m\n\u001b[32m    457\u001b[39m \u001b[38;5;28;01melse\u001b[39;00m:\n\u001b[32m    458\u001b[39m     \u001b[38;5;28;01mraise\u001b[39;00m \u001b[38;5;167;01mTimeoutError\u001b[39;00m()\n",
      "\u001b[36mFile \u001b[39m\u001b[32m~/.local/share/uv/python/cpython-3.13.1-macos-aarch64-none/lib/python3.13/concurrent/futures/_base.py:401\u001b[39m, in \u001b[36mFuture.__get_result\u001b[39m\u001b[34m(self)\u001b[39m\n\u001b[32m    399\u001b[39m \u001b[38;5;28;01mif\u001b[39;00m \u001b[38;5;28mself\u001b[39m._exception:\n\u001b[32m    400\u001b[39m     \u001b[38;5;28;01mtry\u001b[39;00m:\n\u001b[32m--> \u001b[39m\u001b[32m401\u001b[39m         \u001b[38;5;28;01mraise\u001b[39;00m \u001b[38;5;28mself\u001b[39m._exception\n\u001b[32m    402\u001b[39m     \u001b[38;5;28;01mfinally\u001b[39;00m:\n\u001b[32m    403\u001b[39m         \u001b[38;5;66;03m# Break a reference cycle with the exception in self._exception\u001b[39;00m\n\u001b[32m    404\u001b[39m         \u001b[38;5;28mself\u001b[39m = \u001b[38;5;28;01mNone\u001b[39;00m\n",
      "\u001b[36mFile \u001b[39m\u001b[32m~/.local/share/uv/python/cpython-3.13.1-macos-aarch64-none/lib/python3.13/concurrent/futures/thread.py:59\u001b[39m, in \u001b[36m_WorkItem.run\u001b[39m\u001b[34m(self)\u001b[39m\n\u001b[32m     56\u001b[39m     \u001b[38;5;28;01mreturn\u001b[39;00m\n\u001b[32m     58\u001b[39m \u001b[38;5;28;01mtry\u001b[39;00m:\n\u001b[32m---> \u001b[39m\u001b[32m59\u001b[39m     result = \u001b[38;5;28;43mself\u001b[39;49m\u001b[43m.\u001b[49m\u001b[43mfn\u001b[49m\u001b[43m(\u001b[49m\u001b[43m*\u001b[49m\u001b[38;5;28;43mself\u001b[39;49m\u001b[43m.\u001b[49m\u001b[43margs\u001b[49m\u001b[43m,\u001b[49m\u001b[43m \u001b[49m\u001b[43m*\u001b[49m\u001b[43m*\u001b[49m\u001b[38;5;28;43mself\u001b[39;49m\u001b[43m.\u001b[49m\u001b[43mkwargs\u001b[49m\u001b[43m)\u001b[49m\n\u001b[32m     60\u001b[39m \u001b[38;5;28;01mexcept\u001b[39;00m \u001b[38;5;167;01mBaseException\u001b[39;00m \u001b[38;5;28;01mas\u001b[39;00m exc:\n\u001b[32m     61\u001b[39m     \u001b[38;5;28mself\u001b[39m.future.set_exception(exc)\n",
      "\u001b[36mFile \u001b[39m\u001b[32m~/Documents/Dev/Public/agentle/.venv/lib/python3.13/site-packages/rsb/coroutines/run_sync.py:48\u001b[39m, in \u001b[36mrun_sync.<locals>.run_in_new_loop\u001b[39m\u001b[34m()\u001b[39m\n\u001b[32m     46\u001b[39m asyncio.set_event_loop(new_loop)\n\u001b[32m     47\u001b[39m \u001b[38;5;28;01mtry\u001b[39;00m:\n\u001b[32m---> \u001b[39m\u001b[32m48\u001b[39m     \u001b[38;5;28;01mreturn\u001b[39;00m \u001b[43mnew_loop\u001b[49m\u001b[43m.\u001b[49m\u001b[43mrun_until_complete\u001b[49m\u001b[43m(\u001b[49m\u001b[43m_async_wrapper\u001b[49m\u001b[43m(\u001b[49m\u001b[43m)\u001b[49m\u001b[43m)\u001b[49m\n\u001b[32m     49\u001b[39m \u001b[38;5;28;01mfinally\u001b[39;00m:\n\u001b[32m     50\u001b[39m     new_loop.close()\n",
      "\u001b[36mFile \u001b[39m\u001b[32m~/.local/share/uv/python/cpython-3.13.1-macos-aarch64-none/lib/python3.13/asyncio/base_events.py:720\u001b[39m, in \u001b[36mBaseEventLoop.run_until_complete\u001b[39m\u001b[34m(self, future)\u001b[39m\n\u001b[32m    717\u001b[39m \u001b[38;5;28;01mif\u001b[39;00m \u001b[38;5;129;01mnot\u001b[39;00m future.done():\n\u001b[32m    718\u001b[39m     \u001b[38;5;28;01mraise\u001b[39;00m \u001b[38;5;167;01mRuntimeError\u001b[39;00m(\u001b[33m'\u001b[39m\u001b[33mEvent loop stopped before Future completed.\u001b[39m\u001b[33m'\u001b[39m)\n\u001b[32m--> \u001b[39m\u001b[32m720\u001b[39m \u001b[38;5;28;01mreturn\u001b[39;00m \u001b[43mfuture\u001b[49m\u001b[43m.\u001b[49m\u001b[43mresult\u001b[49m\u001b[43m(\u001b[49m\u001b[43m)\u001b[49m\n",
      "\u001b[36mFile \u001b[39m\u001b[32m~/Documents/Dev/Public/agentle/.venv/lib/python3.13/site-packages/rsb/coroutines/run_sync.py:32\u001b[39m, in \u001b[36mrun_sync.<locals>._async_wrapper\u001b[39m\u001b[34m()\u001b[39m\n\u001b[32m     31\u001b[39m \u001b[38;5;28;01masync\u001b[39;00m \u001b[38;5;28;01mdef\u001b[39;00m\u001b[38;5;250m \u001b[39m\u001b[34m_async_wrapper\u001b[39m() -> _T:\n\u001b[32m---> \u001b[39m\u001b[32m32\u001b[39m     \u001b[38;5;28;01mreturn\u001b[39;00m \u001b[38;5;28;01mawait\u001b[39;00m func(*args, **kwargs)\n",
      "\u001b[36mFile \u001b[39m\u001b[32m~/Documents/Dev/Public/agentle/agentle/agents/agent.py:344\u001b[39m, in \u001b[36mAgent.run_async\u001b[39m\u001b[34m(self, input)\u001b[39m\n\u001b[32m    341\u001b[39m     \u001b[38;5;66;03m# Agent called one tool. We must call the tool and update the state.\u001b[39;00m\n\u001b[32m    343\u001b[39m     \u001b[38;5;28;01mfor\u001b[39;00m tool_execution_suggestion \u001b[38;5;129;01min\u001b[39;00m tool_call_generation.tool_calls:\n\u001b[32m--> \u001b[39m\u001b[32m344\u001b[39m         \u001b[43mcalled_tools\u001b[49m\u001b[43m[\u001b[49m\u001b[43mtool_execution_suggestion\u001b[49m\u001b[43m]\u001b[49m = available_tools[\n\u001b[32m    345\u001b[39m             tool_execution_suggestion.tool_name\n\u001b[32m    346\u001b[39m         ].call(**tool_execution_suggestion.args)\n\u001b[32m    348\u001b[39m     state.update(\n\u001b[32m    349\u001b[39m         last_response=tool_call_generation.text,\n\u001b[32m    350\u001b[39m         called_tools=called_tools,\n\u001b[32m   (...)\u001b[39m\u001b[32m    353\u001b[39m         token_usage=tool_call_generation.usage,\n\u001b[32m    354\u001b[39m     )\n\u001b[32m    356\u001b[39m \u001b[38;5;28;01mraise\u001b[39;00m MaxToolCallsExceededError(\n\u001b[32m    357\u001b[39m     \u001b[33mf\u001b[39m\u001b[33m\"\u001b[39m\u001b[33mMax tool calls exceeded after \u001b[39m\u001b[38;5;132;01m{\u001b[39;00m\u001b[38;5;28mself\u001b[39m.config.maxIterations\u001b[38;5;132;01m}\u001b[39;00m\u001b[33m iterations\u001b[39m\u001b[33m\"\u001b[39m\n\u001b[32m    358\u001b[39m )\n",
      "\u001b[36mFile \u001b[39m\u001b[32m~/Documents/Dev/Public/agentle/.venv/lib/python3.13/site-packages/pydantic/_internal/_model_construction.py:520\u001b[39m, in \u001b[36mmake_hash_func.<locals>.hash_func\u001b[39m\u001b[34m(self)\u001b[39m\n\u001b[32m    518\u001b[39m \u001b[38;5;28;01mdef\u001b[39;00m\u001b[38;5;250m \u001b[39m\u001b[34mhash_func\u001b[39m(\u001b[38;5;28mself\u001b[39m: Any) -> \u001b[38;5;28mint\u001b[39m:\n\u001b[32m    519\u001b[39m     \u001b[38;5;28;01mtry\u001b[39;00m:\n\u001b[32m--> \u001b[39m\u001b[32m520\u001b[39m         \u001b[38;5;28;01mreturn\u001b[39;00m \u001b[38;5;28;43mhash\u001b[39;49m\u001b[43m(\u001b[49m\u001b[43mgetter\u001b[49m\u001b[43m(\u001b[49m\u001b[38;5;28;43mself\u001b[39;49m\u001b[43m.\u001b[49m\u001b[34;43m__dict__\u001b[39;49m\u001b[43m)\u001b[49m\u001b[43m)\u001b[49m\n\u001b[32m    521\u001b[39m     \u001b[38;5;28;01mexcept\u001b[39;00m \u001b[38;5;167;01mKeyError\u001b[39;00m:\n\u001b[32m    522\u001b[39m         \u001b[38;5;66;03m# In rare cases (such as when using the deprecated copy method), the __dict__ may not contain\u001b[39;00m\n\u001b[32m    523\u001b[39m         \u001b[38;5;66;03m# all model fields, which is how we can get here.\u001b[39;00m\n\u001b[32m    524\u001b[39m         \u001b[38;5;66;03m# getter(self.__dict__) is much faster than any 'safe' method that accounts for missing keys,\u001b[39;00m\n\u001b[32m    525\u001b[39m         \u001b[38;5;66;03m# and wrapping it in a `try` doesn't slow things down much in the common case.\u001b[39;00m\n\u001b[32m    526\u001b[39m         \u001b[38;5;28;01mreturn\u001b[39;00m \u001b[38;5;28mhash\u001b[39m(getter(SafeGetItemProxy(\u001b[38;5;28mself\u001b[39m.\u001b[34m__dict__\u001b[39m)))\n",
      "\u001b[31mTypeError\u001b[39m: unhashable type: 'dict'"
     ]
    }
   ],
   "source": []
  }
 ],
 "metadata": {
  "kernelspec": {
   "display_name": ".venv",
   "language": "python",
   "name": "python3"
  },
  "language_info": {
   "codemirror_mode": {
    "name": "ipython",
    "version": 3
   },
   "file_extension": ".py",
   "mimetype": "text/x-python",
   "name": "python",
   "nbconvert_exporter": "python",
   "pygments_lexer": "ipython3",
   "version": "3.13.1"
  }
 },
 "nbformat": 4,
 "nbformat_minor": 2
}
