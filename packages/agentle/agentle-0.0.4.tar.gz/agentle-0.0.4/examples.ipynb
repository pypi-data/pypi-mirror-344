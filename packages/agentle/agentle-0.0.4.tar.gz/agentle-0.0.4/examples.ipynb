{
 "cells": [
  {
   "cell_type": "markdown",
   "metadata": {},
   "source": [
    "# Structured Responses"
   ]
  },
  {
   "cell_type": "code",
   "execution_count": 1,
   "metadata": {},
   "outputs": [
    {
     "name": "stdout",
     "output_type": "stream",
     "text": [
      "Generation[TypeVar](elapsed_time=datetime.timedelta(seconds=1, microseconds=682560), id=UUID('47197e3a-9f4f-431d-82fb-b95bf373393e'), object='chat.generation', created=datetime.datetime(2025, 4, 18, 16, 55, 21, 578605), model='gemini-1.5-flash', choices=[Choice[TypeVar](index=0, message=GeneratedAssistantMessage[TypeVar](parts=[TextPart(text='{\"dangerous_dogs\": [\"Pit Bull Terrier\", \"Rottweiler\", \"German Shepherd\", \"Husky\", \"Doberman Pinscher\"]}', type='text')], parsed=DangerousDogsResponse(dangerous_dogs=['Pit Bull Terrier', 'Rottweiler', 'German Shepherd', 'Husky', 'Doberman Pinscher']), role='assistant'))], usage=Usage(prompt_tokens=30, completion_tokens=29))\n"
     ]
    }
   ],
   "source": [
    "\n",
    "from agentle.generations.models.message_parts.text import TextPart\n",
    "from agentle.generations.providers.google.google_generation_provider import (\n",
    "    GenerationConfig,\n",
    "    GoogleGenerationProvider,\n",
    "    UserMessage,\n",
    ")\n",
    "from dotenv import load_dotenv\n",
    "\n",
    "from pydantic import BaseModel\n",
    "\n",
    "load_dotenv()\n",
    "\n",
    "\n",
    "class DangerousDogsResponse(BaseModel):\n",
    "    dangerous_dogs: list[str]\n",
    "\n",
    "\n",
    "provider = GoogleGenerationProvider(\n",
    "    use_vertex_ai=False,\n",
    ")\n",
    "\n",
    "generation = provider.create_generation(\n",
    "    model=\"gemini-1.5-flash\",\n",
    "    messages=[\n",
    "        UserMessage(\n",
    "            parts=[\n",
    "                TextPart(text=\"Hello, how are you?\"),\n",
    "                TextPart(text=\"What are the most dangerous dogs in the world?\"),\n",
    "            ]\n",
    "        )\n",
    "    ],\n",
    "    generation_config=GenerationConfig(timeout=10),\n",
    ")\n",
    "\n",
    "print(generation.parsed)\n"
   ]
  },
  {
   "cell_type": "code",
   "execution_count": null,
   "metadata": {},
   "outputs": [],
   "source": [
    "from agentle.generations.providers.google.google_generation_provider import (\n",
    "    GoogleGenerationProvider,\n",
    ")\n",
    "from agentle.agents.agent import Agent\n",
    "\n",
    "epmuras = Agent(\n",
    "    name=\"Judge\",\n",
    "    generation_provider=GoogleGenerationProvider(),\n",
    "    model=\"gemini-1.5-flash\"\n",
    ")\n",
    "\n",
    "output = epmuras.run(\"Hello. I want to talk to sales.\")\n"
   ]
  }
 ],
 "metadata": {
  "kernelspec": {
   "display_name": ".venv",
   "language": "python",
   "name": "python3"
  },
  "language_info": {
   "codemirror_mode": {
    "name": "ipython",
    "version": 3
   },
   "file_extension": ".py",
   "mimetype": "text/x-python",
   "name": "python",
   "nbconvert_exporter": "python",
   "pygments_lexer": "ipython3",
   "version": "3.13.1"
  }
 },
 "nbformat": 4,
 "nbformat_minor": 2
}
