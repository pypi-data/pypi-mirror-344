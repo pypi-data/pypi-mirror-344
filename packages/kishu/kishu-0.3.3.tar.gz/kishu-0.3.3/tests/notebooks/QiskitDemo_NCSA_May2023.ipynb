{
 "cells": [
  {
   "cell_type": "markdown",
   "id": "e40b7e32-f545-4701-9070-4e9a593b7d22",
   "metadata": {},
   "source": [
    "This demonstration was presented to the NCSA QC interest group on 5/22/2023 by Bruno Abreu.\n",
    "\n",
    "If you have questions, please write to babreu@illinois.edu\n",
    "\n",
    "The content is strongly based on IBM Quantum's Qiskit Intro courses:\n",
    "- https://learn.qiskit.org/course/introduction/why-quantum-computing\n",
    "- https://learn.qiskit.org/course/machine-learning/introduction"
   ]
  },
  {
   "cell_type": "markdown",
   "id": "6ce6b356-1d44-424a-9b1d-1ce4b7d1d332",
   "metadata": {
    "tags": []
   },
   "source": [
    "# Environment setup"
   ]
  },
  {
   "cell_type": "markdown",
   "id": "4d33dfa1-309a-480f-ab02-abed2de8a14e",
   "metadata": {},
   "source": [
    "`qiskit` is straightforward to install using `pip`. For more information, please visit their documentation: https://qiskit.org/documentation/getting_started.html"
   ]
  },
  {
   "cell_type": "code",
   "execution_count": null,
   "id": "9aa80190-ba06-4571-ae20-fb1d347a6983",
   "metadata": {},
   "outputs": [],
   "source": [
    "import qiskit.tools.jupyter"
   ]
  },
  {
   "cell_type": "markdown",
   "id": "1095985d-30ff-4192-9c10-ee53594a4642",
   "metadata": {
    "tags": []
   },
   "source": [
    "# Building quantum circuits"
   ]
  },
  {
   "cell_type": "markdown",
   "id": "cab953c6-6405-4814-abaf-204d42f2c11a",
   "metadata": {},
   "source": [
    "`qiskit` is a platform for quantum programming using the circuit-based model. The programmer defines *qubits*, the quantum counterparts of bits, and perform gate operations on them to achieve a desired outcome. We will use the `QuantumCircuit` class: https://qiskit.org/documentation/stubs/qiskit.circuit.QuantumCircuit.html"
   ]
  },
  {
   "cell_type": "markdown",
   "id": "4f878b27-74fe-4d42-8bb6-296808c960c6",
   "metadata": {
    "tags": []
   },
   "source": [
    "## Defining and visualizing a quantum circuit"
   ]
  },
  {
   "cell_type": "markdown",
   "id": "c1598a75-111a-4ac3-a2a0-a0eab5606dde",
   "metadata": {},
   "source": [
    "By default, qubits are initialized in the $\\lvert 0 \\rangle$ state."
   ]
  },
  {
   "cell_type": "code",
   "execution_count": null,
   "id": "a095bcc4-f970-4bb3-a1bc-34d6d9aef0be",
   "metadata": {
    "tags": []
   },
   "outputs": [],
   "source": [
    "from qiskit import QuantumCircuit"
   ]
  },
  {
   "cell_type": "code",
   "execution_count": null,
   "id": "429479dc-a288-44be-b2f8-c28dfc05837c",
   "metadata": {
    "tags": []
   },
   "outputs": [],
   "source": [
    "qc = QuantumCircuit(3,3) # defines a quantum circuit with 3 quantum registers and 3 classical registers (to store measurements)"
   ]
  },
  {
   "cell_type": "code",
   "execution_count": null,
   "id": "ca71262f-0e0d-476a-a5e3-4ab0ac628283",
   "metadata": {
    "tags": []
   },
   "outputs": [],
   "source": [
    "qc.draw('mpl')"
   ]
  },
  {
   "cell_type": "markdown",
   "id": "d2b11eb8-0a69-4ea3-8d77-feaba5377188",
   "metadata": {
    "tags": []
   },
   "source": [
    "## Applying gates"
   ]
  },
  {
   "cell_type": "markdown",
   "id": "37f804f5-a63d-4137-9c51-d7b65f78cdc6",
   "metadata": {},
   "source": [
    "Gates are operations that can be applied on single or multiple qubits. Typically, these operations create superposition and entanglement between quantum states and qubits, and are expressed through unitary transformations. A list of possible gates is available here: https://qiskit.org/documentation/tutorials/circuits/3_summary_of_quantum_operations.html#\n",
    "\n",
    "\n",
    "Below, we apply a few gates to the the circuit 3-qubit `qc` defined on the previous section."
   ]
  },
  {
   "cell_type": "code",
   "execution_count": null,
   "id": "fa395150-39ce-4595-85a7-b60c7f20171d",
   "metadata": {
    "tags": []
   },
   "outputs": [],
   "source": [
    "qc.h(0) # apply a Hadamard gate on qubit 0\n",
    "qc.cx(2,1) # apply a CNOT gate with control and target qubits 2 and 1, respectively\n",
    "qc.ry(0.785, 0) # apply a 45 degrees rotation around the Y-axis for qubit 0\n",
    "qc.ccx(0,1,2) # apply a Toffoli gate on all three-qubits, with the last one being the target\n",
    "qc.x(0) # apply a Pauli X gate on qubit 0\n",
    "qc.y(1) # apply a Pauli Y gate on qubit 1\n",
    "qc.z(2) # apply a Pauli Z gate in qubit 2"
   ]
  },
  {
   "cell_type": "code",
   "execution_count": null,
   "id": "910e9913-aa4a-449b-8e79-15c050f83406",
   "metadata": {
    "tags": []
   },
   "outputs": [],
   "source": [
    "qc.draw('mpl')"
   ]
  },
  {
   "cell_type": "markdown",
   "id": "f5b1e426-ae11-4798-8b38-c9cb28f711ee",
   "metadata": {
    "tags": []
   },
   "source": [
    "## Measuring circuit outcomes"
   ]
  },
  {
   "cell_type": "markdown",
   "id": "650a7653-0725-4cc4-85a0-3450813a4bd1",
   "metadata": {},
   "source": [
    "After superposition and entaglement are created, we are typically interested in measuring the state of one or multiple qubits, and assigning the outcome to the corresponding *classical* bit. With `qiskit`, measurements are always on the $Z$-basis ($\\lvert 0 \\rangle$ and $\\lvert 1 \\rangle$, the eigenstates of the Pauli Z matrix)."
   ]
  },
  {
   "cell_type": "code",
   "execution_count": null,
   "id": "82a08741-b8b3-4c5c-b19f-f656e61df6ff",
   "metadata": {
    "tags": []
   },
   "outputs": [],
   "source": [
    "qc.measure([0,1,2], [0,1,2]) # measure qubits 0, 1, and 2, and assign outcome to classical bits 0, 1, and 2"
   ]
  },
  {
   "cell_type": "code",
   "execution_count": null,
   "id": "9d9b8af8-0409-4931-8721-78f258f6dfd0",
   "metadata": {
    "tags": []
   },
   "outputs": [],
   "source": [
    "qc.draw('mpl')"
   ]
  },
  {
   "cell_type": "markdown",
   "id": "a2182ad1-5549-4fc8-a65f-a25fbc89e1fe",
   "metadata": {
    "tags": []
   },
   "source": [
    "## Visualizing qubits states"
   ]
  },
  {
   "cell_type": "markdown",
   "id": "601633be-81a2-4d6c-93ff-c42c41225a3e",
   "metadata": {},
   "source": [
    "When using unitary transformations, it is possible to keep track of the quantum state of each qubit by simply performing the product of each gate and applying it to the initial state of the qubit. This can be done with the `Statevector` class: https://qiskit.org/documentation/stubs/qiskit.quantum_info.Statevector.html"
   ]
  },
  {
   "cell_type": "code",
   "execution_count": null,
   "id": "6b5b1c13-d14b-4ef4-b005-787cb9b5cd73",
   "metadata": {
    "tags": []
   },
   "outputs": [],
   "source": [
    "from qiskit.quantum_info import Statevector"
   ]
  },
  {
   "cell_type": "code",
   "execution_count": null,
   "id": "89989376-5ac4-48da-af5a-db89ddc368fd",
   "metadata": {
    "tags": []
   },
   "outputs": [],
   "source": [
    "qc_simple = QuantumCircuit(2)\n",
    "qc_simple.h(0) # create a superposition on qubit 0\n",
    "qc_simple.ry(0.785, 1) # rotate qubit 1 around the y-axis\n",
    "qc_simple.draw('mpl')"
   ]
  },
  {
   "cell_type": "code",
   "execution_count": null,
   "id": "b5fa4f97-01fa-41d4-be01-4e124445565b",
   "metadata": {
    "tags": []
   },
   "outputs": [],
   "source": [
    "ket_simple = Statevector(qc_simple) # calculate the vector state associated to this circuit"
   ]
  },
  {
   "cell_type": "code",
   "execution_count": null,
   "id": "9711eb87-2160-4abe-865a-0e0869855ece",
   "metadata": {
    "tags": []
   },
   "outputs": [],
   "source": [
    "ket_simple.draw('bloch') # plot the states on Bloch spheres"
   ]
  },
  {
   "cell_type": "code",
   "execution_count": null,
   "id": "154b10b8-e286-4d37-af36-5e0790864704",
   "metadata": {
    "tags": []
   },
   "outputs": [],
   "source": [
    "qc_ent = QuantumCircuit(2) # circuit with two qubits\n",
    "qc_ent.h(0) # superposition in the first qubit\n",
    "qc_ent.cx(0,1) # CNOT with the first and second, creating a Bell state\n",
    "qc_ent.draw('mpl')"
   ]
  },
  {
   "cell_type": "code",
   "execution_count": null,
   "id": "cf67aff0-815d-4d22-8517-0dcd5a07b106",
   "metadata": {
    "tags": []
   },
   "outputs": [],
   "source": [
    "ket = Statevector(qc_ent)"
   ]
  },
  {
   "cell_type": "code",
   "execution_count": null,
   "id": "4952b3fc-3eb3-422c-8cff-35185b44b76b",
   "metadata": {
    "tags": []
   },
   "outputs": [],
   "source": [
    "ket.draw('latex') # print the latex quantum state"
   ]
  },
  {
   "cell_type": "code",
   "execution_count": null,
   "id": "2662fdad-5b11-4eab-b5ac-a991c831651d",
   "metadata": {
    "tags": []
   },
   "outputs": [],
   "source": [
    "ket.draw('qsphere') # draw the Qsphere representation: https://qiskit.org/documentation/stubs/qiskit.visualization.plot_state_qsphere.html"
   ]
  },
  {
   "cell_type": "markdown",
   "id": "d5a6196c-a9bb-44df-92d1-38eb37ee5d90",
   "metadata": {
    "tags": []
   },
   "source": [
    "# Pre-built circuits"
   ]
  },
  {
   "cell_type": "markdown",
   "id": "2e7cad75-ed00-4a54-bc08-fd0a0045bf06",
   "metadata": {},
   "source": [
    "Of course, in designing quantum applications from bottom up using the circuit-based model, patterns emerge, and certain circuit slices are always appearing. Some of these are implemented in `qiskit.circuit.library`: https://qiskit.org/documentation/apidoc/circuit_library.html\n",
    "\n",
    "For instance, in the context of Quantum Machine Learning, the second-order Pauli-Z evolution circuit (`ZZFeatureMap`) is often used to encode classical data into quantum states: https://qiskit.org/documentation/stubs/qiskit.circuit.library.ZZFeatureMap.html#qiskit.circuit.library.ZZFeatureMap\n",
    "\n",
    "This is also an example of a *parametrized* circuit."
   ]
  },
  {
   "cell_type": "code",
   "execution_count": null,
   "id": "57a986e7-6168-460d-87e7-7a9c5b8c6d87",
   "metadata": {
    "tags": []
   },
   "outputs": [],
   "source": [
    "from qiskit.circuit.library import ZZFeatureMap"
   ]
  },
  {
   "cell_type": "code",
   "execution_count": null,
   "id": "a1c96226-94b2-41d1-9276-e91e10272ba6",
   "metadata": {
    "tags": []
   },
   "outputs": [],
   "source": [
    "qc_zz = ZZFeatureMap(3, reps=1)  # circuit to encode a dataset with 3 features"
   ]
  },
  {
   "cell_type": "code",
   "execution_count": null,
   "id": "a729be1f-1c4a-4124-ba81-ecb8ee63300f",
   "metadata": {
    "tags": []
   },
   "outputs": [],
   "source": [
    "qc_zz.draw('mpl')"
   ]
  },
  {
   "cell_type": "code",
   "execution_count": null,
   "id": "e9ca6558-8c16-4111-9cc5-30c5bec0d852",
   "metadata": {
    "tags": []
   },
   "outputs": [],
   "source": [
    "qc_zz.decompose().draw('mpl')"
   ]
  },
  {
   "cell_type": "markdown",
   "id": "1ee85235-61e2-4d82-85e4-36f70848f9f5",
   "metadata": {},
   "source": [
    "# Simulating circuits"
   ]
  },
  {
   "cell_type": "markdown",
   "id": "9a46103d-b55b-4324-a717-dafcf5f6e001",
   "metadata": {},
   "source": [
    "After a circuit is built, the programmer wants to measure the outcome several times to understand the probability distribution associated to them. `qiskit` implements a simulator in its `Aer` module: https://qiskit.org/documentation/tutorials/simulators/1_aer_provider.html\n",
    "\n",
    "`Aer` allows the programmer to choose between several simulation methods, such as density matrix, matrix product states, and others, to account for things such as noisy gate operations (non-unitary transformations)."
   ]
  },
  {
   "cell_type": "code",
   "execution_count": null,
   "id": "6deff264-2f57-433a-ac1d-abbf26328ab3",
   "metadata": {
    "tags": []
   },
   "outputs": [],
   "source": [
    "from qiskit import Aer\n",
    "from qiskit.visualization import plot_histogram"
   ]
  },
  {
   "cell_type": "code",
   "execution_count": null,
   "id": "8de66c13-f0ac-4b89-9b3b-1004a5b9b788",
   "metadata": {
    "tags": []
   },
   "outputs": [],
   "source": [
    "sim = Aer.get_backend('aer_simulator')  # set up the backend as the Aer simulator (it could be a real quantum computer as well!)"
   ]
  },
  {
   "cell_type": "code",
   "execution_count": null,
   "id": "234d0b65-8cac-42dc-a0a3-d6d137f5f9a9",
   "metadata": {
    "tags": []
   },
   "outputs": [],
   "source": [
    "qc = QuantumCircuit(3, 3)  # 3 qubits with 3 classical bits\n",
    "qc.ry(1.911, 1)\n",
    "qc.cx(1, 0)\n",
    "qc.ry(0.785, 0)\n",
    "qc.cx(1, 0)\n",
    "qc.ry(2.356, 0)\n",
    "qc.ccx(0, 1, 2)\n",
    "qc.measure([0,1,2], [0,1,2])\n",
    "qc.draw('mpl')"
   ]
  },
  {
   "cell_type": "code",
   "execution_count": null,
   "id": "fa183021-0c77-466b-a239-a5250673533f",
   "metadata": {
    "tags": []
   },
   "outputs": [],
   "source": [
    "job = sim.run(qc) # dispatch the circuit to the quantum simulator"
   ]
  },
  {
   "cell_type": "code",
   "execution_count": null,
   "id": "94b6038a-9ceb-40dd-b224-4431d5fa1206",
   "metadata": {
    "tags": []
   },
   "outputs": [],
   "source": [
    "job.result() #  visualize metadata"
   ]
  },
  {
   "cell_type": "markdown",
   "id": "433df5a4-3b2d-436a-9104-b680f817a09a",
   "metadata": {},
   "source": [
    "## Analyzing and visualizing simulation results"
   ]
  },
  {
   "cell_type": "markdown",
   "id": "4909bb8e-cb55-41c2-8a09-1c13e252651f",
   "metadata": {},
   "source": [
    "After running the simulations, we can get the exact counts or plot them in a histogram. The `result()` method returns an object that offers several of these features: https://qiskit.org/documentation/stubs/qiskit.result.Result.html"
   ]
  },
  {
   "cell_type": "code",
   "execution_count": null,
   "id": "abfa3470-c2b2-4b18-9326-9b27b77be152",
   "metadata": {
    "tags": []
   },
   "outputs": [],
   "source": [
    "result = job.result()"
   ]
  },
  {
   "cell_type": "code",
   "execution_count": null,
   "id": "38416f29-1733-4801-ae4c-f5cb83de5eba",
   "metadata": {
    "tags": []
   },
   "outputs": [],
   "source": [
    "result.get_counts()"
   ]
  },
  {
   "cell_type": "code",
   "execution_count": null,
   "id": "49eb4515-0b32-4403-9c3d-465149e62346",
   "metadata": {},
   "outputs": [],
   "source": [
    "plot_histogram(result.get_counts())"
   ]
  },
  {
   "cell_type": "markdown",
   "id": "20525763-8921-488c-b729-05daf955dc10",
   "metadata": {},
   "source": [
    "## Controling simulation shots"
   ]
  },
  {
   "cell_type": "markdown",
   "id": "032b134d-3d58-4108-948e-293d7e07e5f8",
   "metadata": {},
   "source": [
    "It is possible to adjust several options and features for the selected backend simulator. Of particular interest is the total number of shots (how many times the circuit is prepared and measured), as well as whether or not to record each outcome:"
   ]
  },
  {
   "cell_type": "code",
   "execution_count": null,
   "id": "4d6669b6-1aea-43c2-82f5-85eb4d94d697",
   "metadata": {},
   "outputs": [],
   "source": [
    "job_mem = sim.run(qc, shots=25, memory=True)"
   ]
  },
  {
   "cell_type": "code",
   "execution_count": null,
   "id": "4cff059c-f097-4309-a153-60de395d98f7",
   "metadata": {},
   "outputs": [],
   "source": [
    "result_mem = job_mem.result()"
   ]
  },
  {
   "cell_type": "code",
   "execution_count": null,
   "id": "f20784ce-cefc-42f4-b2db-5b27166886f9",
   "metadata": {},
   "outputs": [],
   "source": [
    "mem = result_mem.get_memory(qc)"
   ]
  },
  {
   "cell_type": "code",
   "execution_count": null,
   "id": "884739cf-d1b1-4bb0-b30e-cab379a47aed",
   "metadata": {},
   "outputs": [],
   "source": [
    "print(mem)"
   ]
  },
  {
   "cell_type": "markdown",
   "id": "c3196d4d-afc2-4c8a-b571-630623428b02",
   "metadata": {},
   "source": [
    "The default number of shots for the Aer simulator is 1024, which is often not enough for non-trivial circuits."
   ]
  },
  {
   "cell_type": "code",
   "execution_count": null,
   "id": "1aeed15d-d4d2-4221-9e34-e1f75e6902da",
   "metadata": {},
   "outputs": [],
   "source": [
    "job_big = sim.run(qc, shots=1024*1024)\n",
    "result_big = job_big.result()\n",
    "plot_histogram(result_big.get_counts())"
   ]
  },
  {
   "cell_type": "markdown",
   "id": "de251d60-6998-4c45-97f2-7bee3e6365c5",
   "metadata": {},
   "source": [
    "# Application examples"
   ]
  },
  {
   "cell_type": "markdown",
   "id": "5ea34c6b-6957-4e88-8934-2fa26847ab44",
   "metadata": {},
   "source": [
    "## Quantum communication"
   ]
  },
  {
   "cell_type": "markdown",
   "id": "a8effeb9-b3f3-4b37-846c-bcfa7a37ace8",
   "metadata": {},
   "source": [
    "One important application of quantum computing is that, given very special conditions that establish intrinsic quantum correlations, it is possible to transmit information via qubits more concisely than it would be via classical bits. This is commonly referred to as *superdense coding*. Suppose we want to communicate a two-bits message ($00$, $01$, $01$, or $11$) from Alice to Bob."
   ]
  },
  {
   "cell_type": "code",
   "execution_count": null,
   "id": "e2c36c3e-074a-4688-8db0-2142ab80a802",
   "metadata": {},
   "outputs": [],
   "source": [
    "sim = Aer.get_backend('aer_simulator')"
   ]
  },
  {
   "attachments": {},
   "cell_type": "markdown",
   "id": "456ea259-9714-45be-a225-69af09b0397d",
   "metadata": {},
   "source": [
    "### Manipulating two qubits\n",
    "\n",
    "As we know now, `qiskit` initializes qubits in the $\\lvert 0 \\rangle$ state. Making use of the Pauli-X gate, we can flip the qubit state between $\\lvert 0 \\rangle$ and $\\lvert 1 \\rangle$ to encode the message using two-qubits, pass these two-qubits to Bob, who can then make a measurement and decode the message."
   ]
  },
  {
   "cell_type": "markdown",
   "id": "054730c0-9d17-4c4f-aa2a-838dbc60b112",
   "metadata": {},
   "source": [
    "#### Transmit 00"
   ]
  },
  {
   "cell_type": "code",
   "execution_count": null,
   "id": "36397767-54e5-44f1-943e-b8f607df1fb2",
   "metadata": {},
   "outputs": [],
   "source": [
    "# transmit \"00\" message\n",
    "qc_alice = QuantumCircuit(2) # qubits 0 and 1 are already in the 0 state\n",
    "qc_alice.barrier()\n",
    "\n",
    "qc_bob = QuantumCircuit(2,2)\n",
    "qc_bob.measure([0,1], [0,1])"
   ]
  },
  {
   "cell_type": "code",
   "execution_count": null,
   "id": "856f0f51-e7ea-4ebf-aa30-ea1b3e7c643e",
   "metadata": {},
   "outputs": [],
   "source": [
    "qc_alice.draw('mpl')"
   ]
  },
  {
   "cell_type": "code",
   "execution_count": null,
   "id": "88ded8a4-0664-4d53-b329-5f50b6db69af",
   "metadata": {
    "scrolled": true
   },
   "outputs": [],
   "source": [
    "qc_bob.draw('mpl')"
   ]
  },
  {
   "cell_type": "code",
   "execution_count": null,
   "id": "f3ce9203-3761-4db4-8b9e-7dde06c309d8",
   "metadata": {},
   "outputs": [],
   "source": [
    "complete_qc = qc_alice.compose(qc_bob)\n",
    "complete_qc.draw('mpl')"
   ]
  },
  {
   "cell_type": "code",
   "execution_count": null,
   "id": "13b9804b-a78a-441c-9c8a-f6837db743ec",
   "metadata": {},
   "outputs": [],
   "source": [
    "complete_qc = qc_alice.compose(qc_bob)\n",
    "job = sim.run(complete_qc)\n",
    "job.result().get_counts()"
   ]
  },
  {
   "cell_type": "markdown",
   "id": "880dd2b7-68d3-4bed-ac6a-a6263cf887c4",
   "metadata": {},
   "source": [
    "#### Transmit 01"
   ]
  },
  {
   "cell_type": "code",
   "execution_count": null,
   "id": "b16ca481-ce98-4654-ba78-dcccf9f005cb",
   "metadata": {},
   "outputs": [],
   "source": [
    "# transmit \"01\" message\n",
    "qc_alice = QuantumCircuit(2) # qubits 0 and 1 are already in the 0 state\n",
    "qc_alice.x(0) # flip state of qubit 0\n",
    "qc_alice.barrier()\n",
    "\n",
    "qc_bob = QuantumCircuit(2,2)\n",
    "qc_bob.measure([0,1], [0,1])"
   ]
  },
  {
   "cell_type": "code",
   "execution_count": null,
   "id": "6f78f877-6ea7-44af-a638-3a9b1ac3e42d",
   "metadata": {},
   "outputs": [],
   "source": [
    "complete_qc = qc_alice.compose(qc_bob)"
   ]
  },
  {
   "cell_type": "code",
   "execution_count": null,
   "id": "f69667c5-522e-4084-9f95-21949d22debe",
   "metadata": {},
   "outputs": [],
   "source": [
    "complete_qc.draw('mpl')"
   ]
  },
  {
   "cell_type": "code",
   "execution_count": null,
   "id": "c39e6186-40cc-47ce-bdfd-a5d81381bd5e",
   "metadata": {},
   "outputs": [],
   "source": [
    "job = sim.run(complete_qc)\n",
    "job.result().get_counts()"
   ]
  },
  {
   "cell_type": "markdown",
   "id": "fc99d18c-4a56-442d-b12b-8fcc1463846a",
   "metadata": {},
   "source": [
    "#### Transmit 10"
   ]
  },
  {
   "cell_type": "code",
   "execution_count": null,
   "id": "8b0883d0-aaa0-401c-be9e-4c44ae150d84",
   "metadata": {},
   "outputs": [],
   "source": [
    "# transmit \"01\" message\n",
    "qc_alice = QuantumCircuit(2) # qubits 0 and 1 are already in the 0 state\n",
    "qc_alice.x(1) # flip state of qubit 1\n",
    "qc_alice.barrier()\n",
    "\n",
    "qc_bob = QuantumCircuit(2,2)\n",
    "qc_bob.measure([0,1], [0,1])"
   ]
  },
  {
   "cell_type": "code",
   "execution_count": null,
   "id": "67f0f842-a529-4bd5-a036-8835c544b777",
   "metadata": {},
   "outputs": [],
   "source": [
    "complete_qc = qc_alice.compose(qc_bob)\n",
    "complete_qc.draw('mpl')"
   ]
  },
  {
   "cell_type": "code",
   "execution_count": null,
   "id": "489fd3ab-3bea-460c-aee5-dea7e99b5cdb",
   "metadata": {},
   "outputs": [],
   "source": [
    "job = sim.run(complete_qc)\n",
    "job.result().get_counts()"
   ]
  },
  {
   "cell_type": "markdown",
   "id": "0257a9fc-1da0-4d95-bee8-986f48bc9fd0",
   "metadata": {},
   "source": [
    "#### Transmmit 11"
   ]
  },
  {
   "cell_type": "code",
   "execution_count": null,
   "id": "67f5afb8-1e45-4f1c-9ad0-84cc1925c256",
   "metadata": {},
   "outputs": [],
   "source": [
    "# transmit \"01\" message\n",
    "qc_alice = QuantumCircuit(2) # qubits 0 and 1 are already in the 0 state\n",
    "qc_alice.x(0) # flip stateo f qubit 0\n",
    "qc_alice.x(1) # flip state of qubit 1\n",
    "qc_alice.barrier()\n",
    "\n",
    "qc_bob = QuantumCircuit(2,2)\n",
    "qc_bob.measure([0,1], [0,1])"
   ]
  },
  {
   "cell_type": "code",
   "execution_count": null,
   "id": "fc06d697-09b0-456a-b439-1bf77cc002c6",
   "metadata": {},
   "outputs": [],
   "source": [
    "complete_qc = qc_alice.compose(qc_bob)\n",
    "complete_qc.draw('mpl')"
   ]
  },
  {
   "cell_type": "code",
   "execution_count": null,
   "id": "83901627-919e-4123-83b6-720a11f34530",
   "metadata": {},
   "outputs": [],
   "source": [
    "job = sim.run(complete_qc)\n",
    "job.result().get_counts()"
   ]
  },
  {
   "cell_type": "markdown",
   "id": "959235b7-063e-4f03-ab96-aa4807a2d109",
   "metadata": {},
   "source": [
    "### Manipulating a single qubit\n",
    "\n",
    "Although the communication is working, it is possible to make it more dense. We can use entanglement in a way that allows for Alice to encode a two-bit message by manipulating and sending to Bob a single qubit. To create the entanglement, we use a third character, Charlie."
   ]
  },
  {
   "cell_type": "code",
   "execution_count": null,
   "id": "4cc8e365-1feb-4645-87a3-693b2c80e398",
   "metadata": {},
   "outputs": [],
   "source": [
    "qc_charlie = QuantumCircuit(2)\n",
    "qc_charlie.h(1)  # superpose\n",
    "qc_charlie.cx(1,0) # create Bell pair\n",
    "qc_charlie.barrier()\n",
    "qc_charlie.draw('mpl')"
   ]
  },
  {
   "cell_type": "markdown",
   "id": "6b865616-6e6f-483d-9216-28c4abe8750c",
   "metadata": {},
   "source": [
    "Charlie then sends one of these entangled qubit to Alice, and one to Bob. Alice performs some operation on that qubit to encode the two-bit message, and when Bob receives it, Bob disentangles the qubits to decode the message. Since we are dealing with unitary gates, operations are reversible, so Bob needs to, before measuring the states of the two qubits, perform the same operations that Charlie used to prepare the entanglement, in reverse order:"
   ]
  },
  {
   "cell_type": "code",
   "execution_count": null,
   "id": "99917d87-4a83-4f88-87da-fbfdef3efa61",
   "metadata": {},
   "outputs": [],
   "source": [
    "qc_bob = QuantumCircuit(2,2)\n",
    "qc_bob.cx(1,0)  # cnot\n",
    "qc_bob.h(1)  # hadamard\n",
    "qc_bob.measure([0,1], [0,1])\n",
    "qc_bob.draw('mpl')"
   ]
  },
  {
   "cell_type": "markdown",
   "id": "d1fe3a19-7830-49d9-86b2-066877d7d099",
   "metadata": {},
   "source": [
    "#### Transmit 00"
   ]
  },
  {
   "cell_type": "code",
   "execution_count": null,
   "id": "c6733923-5a52-4b99-9ddb-77ea12e87e59",
   "metadata": {
    "scrolled": true
   },
   "outputs": [],
   "source": [
    "qc_alice = QuantumCircuit(2)\n",
    "qc_alice.barrier()\n",
    "\n",
    "complete_qc = qc_charlie.compose(qc_alice.compose(qc_bob))\n",
    "complete_qc.draw('mpl')"
   ]
  },
  {
   "cell_type": "code",
   "execution_count": null,
   "id": "874a0790-0cfe-4184-a74e-72a0f024b81d",
   "metadata": {
    "scrolled": true
   },
   "outputs": [],
   "source": [
    "job = sim.run(complete_qc)\n",
    "job.result().get_counts()"
   ]
  },
  {
   "cell_type": "markdown",
   "id": "51b03eb4-7158-4626-963e-e17358904e9c",
   "metadata": {},
   "source": [
    "#### Transmit 01\n",
    "\n",
    "The qubits that Charlie prepares are in the Bell state:\n",
    "\n",
    "$\\lvert \\psi \\rangle = \\frac{1}{\\sqrt{2}}\\left(\\lvert 00 \\rangle + \\lvert 11 \\rangle  \\right)$.\n",
    "\n",
    "Given these delicate quantum correlations, Alice can then encode a two-bit message by performing operations in just one of them."
   ]
  },
  {
   "cell_type": "code",
   "execution_count": null,
   "id": "f6ce280b-42af-4859-a83f-540fdeea12ec",
   "metadata": {},
   "outputs": [],
   "source": [
    "qc_alice = QuantumCircuit(2)\n",
    "qc_alice.x(1)\n",
    "qc_alice.barrier()\n",
    "\n",
    "complete_qc = qc_charlie.compose(qc_alice.compose(qc_bob))\n",
    "complete_qc.draw('mpl')"
   ]
  },
  {
   "cell_type": "code",
   "execution_count": null,
   "id": "67e544c6-20e2-4169-aeeb-9dd21dfa4b8d",
   "metadata": {},
   "outputs": [],
   "source": [
    "job = sim.run(complete_qc)\n",
    "job.result().get_counts()"
   ]
  },
  {
   "cell_type": "markdown",
   "id": "0938862f-0e13-48d1-a151-60fc6a7be0d3",
   "metadata": {},
   "source": [
    "#### Transmit 10"
   ]
  },
  {
   "cell_type": "code",
   "execution_count": null,
   "id": "cc37504b-a4dc-4e74-a4de-a3d55ca983dd",
   "metadata": {},
   "outputs": [],
   "source": [
    "qc_alice = QuantumCircuit(2)\n",
    "qc_alice.z(1)\n",
    "qc_alice.barrier()\n",
    "\n",
    "complete_qc = qc_charlie.compose(qc_alice.compose(qc_bob))\n",
    "complete_qc.draw('mpl')"
   ]
  },
  {
   "cell_type": "code",
   "execution_count": null,
   "id": "315d58cd-2e0d-4b64-bddf-3454a95adc08",
   "metadata": {},
   "outputs": [],
   "source": [
    "job = sim.run(complete_qc)\n",
    "job.result().get_counts()"
   ]
  },
  {
   "cell_type": "markdown",
   "id": "376d2772-03cb-421a-8a95-e78f4e8fb487",
   "metadata": {},
   "source": [
    "#### Transmit 11"
   ]
  },
  {
   "cell_type": "code",
   "execution_count": null,
   "id": "83c919fd-47bd-4730-9611-f3878a77b0df",
   "metadata": {},
   "outputs": [],
   "source": [
    "qc_alice = QuantumCircuit(2)\n",
    "qc_alice.x(1)\n",
    "qc_alice.z(1)\n",
    "qc_alice.barrier()\n",
    "\n",
    "complete_qc = qc_charlie.compose(qc_alice.compose(qc_bob))\n",
    "complete_qc.draw('mpl')"
   ]
  },
  {
   "cell_type": "code",
   "execution_count": null,
   "id": "53a5ebf8-3131-493a-b4fb-e410f26a6867",
   "metadata": {},
   "outputs": [],
   "source": [
    "job = sim.run(complete_qc)\n",
    "job.result().get_counts()"
   ]
  },
  {
   "cell_type": "markdown",
   "id": "5185c007-a17b-4e1f-be07-6007e96d68da",
   "metadata": {},
   "source": [
    "## Quantum machine learning"
   ]
  },
  {
   "cell_type": "markdown",
   "id": "7ca8692c-7501-41da-81b2-ce968960feed",
   "metadata": {},
   "source": [
    "### Parametrized circuits\n",
    "\n",
    "So far we have worked with quantum circuits composed of qubits and specific gates that perform operations over qubits. The first layer of abstraction to this model encompasses the use of parametric gates, where the unitary transformation corresponding to the gate is parametrized via one or more parameters. More information about these circuits can be found here: https://qiskit.org/documentation/tutorials/circuits_advanced/01_advanced_circuits.html#Parameterized-circuits\n",
    "\n",
    "Below is a simple example of such a circuit:"
   ]
  },
  {
   "cell_type": "code",
   "execution_count": null,
   "id": "5863a42c-b512-41cf-abfe-b10427ff217d",
   "metadata": {},
   "outputs": [],
   "source": [
    "from qiskit.circuit import ParameterVector\n",
    "import numpy as np"
   ]
  },
  {
   "cell_type": "code",
   "execution_count": null,
   "id": "299038b7-47c5-40b9-847d-2b50600d65b5",
   "metadata": {},
   "outputs": [],
   "source": [
    "theta_list = ParameterVector('t', length=2)\n",
    "qc = QuantumCircuit(2,2)\n",
    "qc.ry(theta_list[0], 1)   # parametrize a Y-rotation gate with the first parameter\n",
    "qc.rx(theta_list[1], 0) # parametrize a X-rotation gate with the second parameter\n",
    "qc.cx(0,1)\n",
    "qc.measure([0,1], [0,1])\n",
    "qc.draw('mpl')"
   ]
  },
  {
   "cell_type": "markdown",
   "id": "75600f7f-489c-4c4a-aeaa-8a273e6ccf9b",
   "metadata": {},
   "source": [
    "We can then study the parametrized circuit's output as we traverse the parameter map using simulations:"
   ]
  },
  {
   "cell_type": "code",
   "execution_count": null,
   "id": "7be99545-1f7a-4bae-bd4b-5edaa45ef39d",
   "metadata": {},
   "outputs": [],
   "source": [
    "x = np.linspace(0, np.pi/2, 5)"
   ]
  },
  {
   "cell_type": "code",
   "execution_count": null,
   "id": "d1c5b995-5c0c-422a-ae59-809125269042",
   "metadata": {},
   "outputs": [],
   "source": [
    "sim = Aer.get_backend('aer_simulator')"
   ]
  },
  {
   "cell_type": "code",
   "execution_count": null,
   "id": "ebe09c3e-9a1b-4c82-a726-1d5e9159d0f7",
   "metadata": {},
   "outputs": [],
   "source": [
    "# assign a set of parameters to the circuit\n",
    "qc_assigned = qc.assign_parameters([x[2], x[3]])\n",
    "qc_assigned.draw('mpl')"
   ]
  },
  {
   "cell_type": "code",
   "execution_count": null,
   "id": "a853dd93-006a-4d30-8ca4-c1296f98fb5d",
   "metadata": {},
   "outputs": [],
   "source": [
    "for t0 in x:\n",
    "    for t1 in x:\n",
    "        qc_assigned = qc.assign_parameters([t0,t1])\n",
    "        job = sim.run(qc_assigned)\n",
    "        print(t0, t1, job.result().get_counts())"
   ]
  },
  {
   "cell_type": "markdown",
   "id": "56709bb9-c39d-4965-a78b-9e09f1c3989f",
   "metadata": {},
   "source": [
    "### Variational algorithm"
   ]
  },
  {
   "cell_type": "markdown",
   "id": "a1afdd5a-7d3b-4fe7-b120-e38842dc0675",
   "metadata": {},
   "source": [
    "Using a parametrized circuit $U(\\theta)$, we prepare a state $\\lvert \\psi(\\theta) \\rangle = U(\\theta)\\lvert 0 \\rangle$ and measure some expectation value using a quantum computer. A pre-defined cost function $C(\\theta)$ determines how good $\\theta$ is for the problem."
   ]
  },
  {
   "attachments": {},
   "cell_type": "markdown",
   "id": "59ed177f-87aa-485b-8a33-54b5e90dfd2c",
   "metadata": {},
   "source": [
    "![vqa1.png](./figs/vqa1.png)"
   ]
  },
  {
   "cell_type": "markdown",
   "id": "bb8ee9b8-dcad-495f-ab11-1ebb7657e8bc",
   "metadata": {},
   "source": [
    "### Variational quantum classifier"
   ]
  },
  {
   "cell_type": "markdown",
   "id": "cf1dbac6-d035-43d8-bb2f-04c68b7c461a",
   "metadata": {},
   "source": [
    "Here, the measured expectation value is interpreted as the output of the classifier (circuit). For binary classification with inputs $\\vec{x}_i$ and outputs $y_i = \\{0,1\\}$, we build a parametrized quantum circuit that outputs:\n",
    "\n",
    "$\\lvert \\psi(\\vec{x}_i; \\vec{\\theta}) \\rangle = U_{W(\\vec{\\theta})} U_{\\phi(\\vec{x}_i)} \\lvert 0 \\rangle$\n",
    "\n",
    "where $U_{W(\\vec{\\theta})}$ corresponds to the variational circuit unitary transformation, and $U_{\\phi(\\vec{x}_i)}$ corresponds to the data encoding circuit unitary transformation. After measuring the $n$ qubits, we derive the binary output with the help of a parity function $f: \\{0,1\\}^n \\to \\{0,1\\}$, which is True if the bitstring has an odd number of 1s.\n",
    "\n",
    "Several other algorithms can be found here: https://qiskit.org/ecosystem/machine-learning/tutorials/index.html"
   ]
  },
  {
   "attachments": {},
   "cell_type": "markdown",
   "id": "47dd4625-4f55-444c-b7a6-e7f192f7fe85",
   "metadata": {},
   "source": [
    "![vaq2.png](./figs/vqa2.png)"
   ]
  },
  {
   "cell_type": "markdown",
   "id": "ef2da376-b42c-4ba4-a551-db2ee541d7f3",
   "metadata": {},
   "source": [
    "### Implementation prototype"
   ]
  },
  {
   "cell_type": "markdown",
   "id": "5b8edba5-0790-4368-a5e0-a955e8a1304b",
   "metadata": {},
   "source": [
    "Below we will create an *ad hoc* dataset to illustrate the basic `qiskit` components: https://qiskit.org/ecosystem/machine-learning/stubs/qiskit_machine_learning.datasets.ad_hoc_data.html\n",
    "\n",
    "The details of the implementation can be found here: https://learn.qiskit.org/course/machine-learning/variational-classification "
   ]
  },
  {
   "cell_type": "markdown",
   "id": "cc7b30ff-c32f-4831-bbe5-263e8fe302a5",
   "metadata": {},
   "source": [
    "#### Preparing the dataset"
   ]
  },
  {
   "cell_type": "markdown",
   "id": "475a2039-fa5d-48e9-a358-e557dd760c25",
   "metadata": {},
   "source": [
    "Fortunately, `qiskit` implements variational quantum classifiers in the VQC class: https://qiskit.org/ecosystem/machine-learning/stubs/qiskit_machine_learning.algorithms.VQC.html\n",
    "\n",
    "Other algorithms can be found here: https://qiskit.org/ecosystem/machine-learning/apidocs/qiskit_machine_learning.algorithms.html#\n",
    "\n",
    "The optimizer we will use is the Simultaneous Perturbation Stochastic Approximation: https://qiskit.org/documentation/stubs/qiskit.algorithms.optimizers.SPSA.html"
   ]
  },
  {
   "cell_type": "markdown",
   "id": "678260c7-b77f-4344-8519-f3172b61951b",
   "metadata": {},
   "source": [
    "We can then initialize the circuit's parameter, and simply fit them to the data!"
   ]
  }
 ],
 "metadata": {
  "kernelspec": {
   "display_name": "Python 3 (ipykernel)",
   "language": "python",
   "name": "python3"
  },
  "language_info": {
   "codemirror_mode": {
    "name": "ipython",
    "version": 3
   },
   "file_extension": ".py",
   "mimetype": "text/x-python",
   "name": "python",
   "nbconvert_exporter": "python",
   "pygments_lexer": "ipython3",
   "version": "3.8.10"
  }
 },
 "nbformat": 4,
 "nbformat_minor": 5
}
