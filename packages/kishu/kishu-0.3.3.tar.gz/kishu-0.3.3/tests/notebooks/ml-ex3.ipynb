{
 "cells": [
  {
   "cell_type": "markdown",
   "metadata": {},
   "source": [
    "## Multi-class classification"
   ]
  },
  {
   "cell_type": "markdown",
   "metadata": {},
   "source": [
    "This exercise is described in [ex3.pdf](data/ml-ex3/ex3.pdf)."
   ]
  },
  {
   "cell_type": "code",
   "execution_count": null,
   "metadata": {},
   "outputs": [],
   "source": [
    "import numpy as np\n",
    "import scipy as sp\n",
    "import scipy.io as sio\n",
    "import matplotlib.pyplot as plt\n",
    "\n",
    "from sklearn.linear_model import LogisticRegression, LogisticRegressionCV\n",
    "from sklearn.metrics import classification_report\n",
    "\n",
    "%matplotlib inline"
   ]
  },
  {
   "cell_type": "markdown",
   "metadata": {},
   "source": [
    "### Hand-written digits dataset"
   ]
  },
  {
   "cell_type": "code",
   "execution_count": null,
   "metadata": {},
   "outputs": [],
   "source": [
    "# Load the hand-written digits dataset\n",
    "digits = sio.loadmat('data/ml-ex3/ex3data1.mat')"
   ]
  },
  {
   "cell_type": "code",
   "execution_count": null,
   "metadata": {},
   "outputs": [],
   "source": [
    "# Digit image data (5000 images with 400 features/pixels)\n",
    "X = digits['X']\n",
    "\n",
    "# Digit classes (1-10) where digit 0 is assigned class 10\n",
    "y = digits['y'].ravel()"
   ]
  },
  {
   "cell_type": "code",
   "execution_count": null,
   "metadata": {},
   "outputs": [],
   "source": [
    "# Plot three samples from each class\n",
    "n_rows = 10\n",
    "n_cols = 3\n",
    "\n",
    "selected = np.linspace(0, X.shape[0] - 1, n_rows * n_cols, dtype='int16')\n",
    "\n",
    "plt.figure(figsize=(n_cols, n_rows))\n",
    "plt.subplots_adjust(hspace=.4)\n",
    "\n",
    "for i, idx in enumerate(selected):\n",
    "    plt.subplot(n_rows, n_cols, i + 1)\n",
    "    plt.imshow(X[idx].reshape((20,20), order='F'), cmap=plt.cm.gray)\n",
    "    plt.title(f'class={y[idx]}')\n",
    "    plt.xticks(())\n",
    "    plt.yticks(())"
   ]
  },
  {
   "cell_type": "markdown",
   "metadata": {},
   "source": [
    "### Logistic regression"
   ]
  },
  {
   "cell_type": "code",
   "execution_count": null,
   "metadata": {},
   "outputs": [],
   "source": [
    "# Train a logistic regression classifier with C=1.0 (inverse regularization strength)\n",
    "clf = LogisticRegression(C=1.0, solver='newton-cg')\n",
    "clf.fit(X, y)"
   ]
  },
  {
   "cell_type": "code",
   "execution_count": null,
   "metadata": {},
   "outputs": [],
   "source": [
    "# Classification accuracy on training set\n",
    "clf.score(X, y)"
   ]
  },
  {
   "cell_type": "code",
   "execution_count": null,
   "metadata": {},
   "outputs": [],
   "source": [
    "# Train a logistic regression classifier, running \n",
    "# built-in cross validation for selecting the best \n",
    "# C value \n",
    "clf_cv = LogisticRegressionCV(Cs=[1e-1, 1e0, 1e1], solver='newton-cg')\n",
    "clf_cv.fit(X, y)"
   ]
  },
  {
   "cell_type": "code",
   "execution_count": null,
   "metadata": {},
   "outputs": [],
   "source": [
    "# Classification accuracy on training set \n",
    "# using the model that was selected during \n",
    "# cross-validation\n",
    "clf_cv.score(X, y)"
   ]
  },
  {
   "cell_type": "markdown",
   "metadata": {},
   "source": [
    "### Neural networks"
   ]
  },
  {
   "cell_type": "code",
   "execution_count": null,
   "metadata": {},
   "outputs": [],
   "source": [
    "# Load the parameters of a pre-trained neural network\n",
    "weights = sio.loadmat('data/ml-ex3/ex3weights.mat')\n",
    "\n",
    "Theta1 = weights['Theta1']\n",
    "Theta2 = weights['Theta2']\n",
    "\n",
    "Theta1.shape, Theta2.shape"
   ]
  },
  {
   "cell_type": "code",
   "execution_count": null,
   "metadata": {},
   "outputs": [],
   "source": [
    "# Number of examples (first dimension of design matrix X)\n",
    "n_examples = X.shape[0]\n",
    "\n",
    "# sigmoid function\n",
    "sigmoid = sp.special.expit"
   ]
  },
  {
   "cell_type": "code",
   "execution_count": null,
   "metadata": {},
   "outputs": [],
   "source": [
    "# Input layer data\n",
    "A1 = np.c_[np.ones(n_examples), X]"
   ]
  },
  {
   "cell_type": "code",
   "execution_count": null,
   "metadata": {},
   "outputs": [],
   "source": [
    "# Hidden layer activations\n",
    "Z2 = A1.dot(Theta1.T)\n",
    "A2 = np.c_[np.ones(n_examples), sigmoid(Z2)]"
   ]
  },
  {
   "cell_type": "code",
   "execution_count": null,
   "metadata": {},
   "outputs": [],
   "source": [
    "# Output layer activations\n",
    "Z3 = A2.dot(Theta2.T)\n",
    "A3 = sigmoid(Z3)"
   ]
  },
  {
   "cell_type": "code",
   "execution_count": null,
   "metadata": {},
   "outputs": [],
   "source": [
    "# Predicted class is index of highest value per row + 1\n",
    "y_pred = np.argmax(A3, axis=1) + 1"
   ]
  },
  {
   "cell_type": "code",
   "execution_count": null,
   "metadata": {},
   "outputs": [],
   "source": [
    "# Print classification report showing the main classification metrics\n",
    "print(classification_report(y, y_pred, target_names=['1','2','3','4','5','6','7','8','9','10'], digits=4))"
   ]
  }
 ],
 "metadata": {
  "kernelspec": {
   "display_name": "Python 3 (ipykernel)",
   "language": "python",
   "name": "python3"
  },
  "language_info": {
   "codemirror_mode": {
    "name": "ipython",
    "version": 3
   },
   "file_extension": ".py",
   "mimetype": "text/x-python",
   "name": "python",
   "nbconvert_exporter": "python",
   "pygments_lexer": "ipython3",
   "version": "3.8.10"
  }
 },
 "nbformat": 4,
 "nbformat_minor": 4
}
