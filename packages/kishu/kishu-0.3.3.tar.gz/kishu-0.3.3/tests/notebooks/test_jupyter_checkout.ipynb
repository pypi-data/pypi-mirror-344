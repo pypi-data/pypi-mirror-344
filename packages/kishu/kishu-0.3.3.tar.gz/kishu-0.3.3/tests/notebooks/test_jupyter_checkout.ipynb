{
 "cells": [
  {
   "cell_type": "code",
   "execution_count": null,
   "id": "79d0fe1b",
   "metadata": {},
   "outputs": [],
   "source": [
    "from kishu import init_kishu\n",
    "init_kishu()"
   ]
  },
  {
   "cell_type": "code",
   "execution_count": null,
   "id": "4c24ada0",
   "metadata": {
    "scrolled": true
   },
   "outputs": [],
   "source": [
    "a = 1"
   ]
  },
  {
   "cell_type": "code",
   "execution_count": null,
   "id": "d992c21f",
   "metadata": {},
   "outputs": [],
   "source": [
    "_kishu"
   ]
  },
  {
   "cell_type": "code",
   "execution_count": null,
   "id": "c904850f",
   "metadata": {},
   "outputs": [],
   "source": [
    "a = 2"
   ]
  },
  {
   "cell_type": "code",
   "execution_count": null,
   "id": "0a370fd6",
   "metadata": {},
   "outputs": [],
   "source": [
    "_"
   ]
  },
  {
   "cell_type": "code",
   "execution_count": null,
   "id": "3bfae951",
   "metadata": {},
   "outputs": [],
   "source": [
    "_kishu.checkout(\"1:0:2\")"
   ]
  },
  {
   "cell_type": "code",
   "execution_count": null,
   "id": "7f923053",
   "metadata": {},
   "outputs": [],
   "source": [
    "a"
   ]
  },
  {
   "cell_type": "code",
   "execution_count": null,
   "id": "0b236923",
   "metadata": {},
   "outputs": [],
   "source": []
  }
 ],
 "metadata": {
  "kernelspec": {
   "display_name": "Python 3 (ipykernel)",
   "language": "python",
   "name": "python3"
  },
  "language_info": {
   "codemirror_mode": {
    "name": "ipython",
    "version": 3
   },
   "file_extension": ".py",
   "mimetype": "text/x-python",
   "name": "python",
   "nbconvert_exporter": "python",
   "pygments_lexer": "ipython3",
   "version": "3.8.10"
  }
 },
 "nbformat": 4,
 "nbformat_minor": 5
}
