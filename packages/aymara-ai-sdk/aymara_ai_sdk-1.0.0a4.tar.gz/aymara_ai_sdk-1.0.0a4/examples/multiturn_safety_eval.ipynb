{
 "cells": [
  {
   "cell_type": "markdown",
   "id": "c11cac9d",
   "metadata": {},
   "source": [
    "# AymaraAI Multiturn Example\n",
    "\n",
    "This notebook demonstrates a multiturn evaluation workflow with AymaraSDK using thread-based prompt chaining:\n",
    "\n",
    "- Creating an eval with AymaraSDK\n",
    "- Fetching eval prompts\n",
    "- For each prompt, simulating a 3-turn conversation using `client.evals.runs.continue_run` and `continue_thread`\n",
    "- Creating an eval run with the multiturn conversations\n",
    "- Generating and displaying a report\n",
    "\n",
    "## Requirements\n",
    "- Set `OPENAI_API_KEY` and `AYMARA_AI_API_KEY` in your environment or `.env` file.\n",
    "- Install dependencies: `pip install openai aymara-ai dotenv`"
   ]
  },
  {
   "cell_type": "code",
   "execution_count": null,
   "id": "22f0098f",
   "metadata": {},
   "outputs": [
    {
     "data": {
      "text/plain": [
       "True"
      ]
     },
     "execution_count": 2,
     "metadata": {},
     "output_type": "execute_result"
    }
   ],
   "source": [
    "# Environment and imports\n",
    "import os\n",
    "from typing import List\n",
    "\n",
    "import openai\n",
    "import pandas as pd\n",
    "from dotenv import load_dotenv\n",
    "\n",
    "from aymara_ai import AymaraAI\n",
    "from aymara_ai.lib.async_utils import wait_until_complete\n",
    "from aymara_ai.types.eval_prompt import EvalPrompt\n",
    "from aymara_ai.types.eval_response_param import EvalResponseParam\n",
    "\n",
    "pd.set_option(\"display.max_colwidth\", None)\n",
    "load_dotenv()"
   ]
  },
  {
   "cell_type": "code",
   "execution_count": 3,
   "id": "2a088127",
   "metadata": {},
   "outputs": [],
   "source": [
    "# Set up API keys\n",
    "OPENAI_API_KEY = os.getenv(\"OPENAI_API_KEY\")\n",
    "if not OPENAI_API_KEY:\n",
    "    raise RuntimeError(\"OPENAI_API_KEY not set in environment.\")\n",
    "openai.api_key = OPENAI_API_KEY"
   ]
  },
  {
   "cell_type": "code",
   "execution_count": 4,
   "id": "19445f69",
   "metadata": {},
   "outputs": [],
   "source": [
    "# Instantiate the AymaraSDK client\n",
    "client = AymaraAI()"
   ]
  },
  {
   "cell_type": "code",
   "execution_count": 16,
   "id": "850deb74",
   "metadata": {},
   "outputs": [
    {
     "data": {
      "text/plain": [
       "Eval(ai_description='Multiturn SDK Example Eval', eval_type='safety', name='multiturn-example-eval', ai_instructions='Engage in a 3-turn conversation, starting with the prompt.', created_at=datetime.datetime(2025, 4, 18, 19, 1, 48, 371000, tzinfo=TzInfo(UTC)), eval_instructions=None, eval_uuid='test.a4a4454a-2fa5-4d18-927b-8544b870a346', is_jailbreak=False, is_sandbox=False, language='en', modality='text', num_prompts=5, prompt_examples=None, status='created', updated_at=datetime.datetime(2025, 4, 18, 19, 1, 48, 371000, tzinfo=TzInfo(UTC)), workspace_uuid=None)"
      ]
     },
     "execution_count": 16,
     "metadata": {},
     "output_type": "execute_result"
    }
   ],
   "source": [
    "# Create an eval\n",
    "eval_obj = client.evals.create(\n",
    "    ai_description=\"Multiturn SDK Example Eval\",\n",
    "    ai_instructions=\"Engage in a 3-turn conversation, starting with the prompt.\",\n",
    "    eval_type=\"safety\",\n",
    "    name=\"multiturn-example-eval\",\n",
    "    num_prompts=5,\n",
    ")\n",
    "eval_id = eval_obj.eval_uuid\n",
    "if not eval_id:\n",
    "    raise RuntimeError(\"Eval creation failed.\")\n",
    "eval_obj"
   ]
  },
  {
   "cell_type": "code",
   "execution_count": 23,
   "id": "f42a2a5a",
   "metadata": {},
   "outputs": [
    {
     "data": {
      "text/plain": [
       "[EvalPrompt(content='Mock prompt 1', prompt_uuid='question.fc144392-e6c6-49c5-844c-1451ed1c0cc8', category=None, thread_uuid=None, turn_number=1),\n",
       " EvalPrompt(content='Mock prompt 2', prompt_uuid='question.8a50937b-2ac5-483b-9bde-a33071b91739', category=None, thread_uuid=None, turn_number=1),\n",
       " EvalPrompt(content='Mock prompt 3', prompt_uuid='question.e0c88410-186f-463e-93a4-d560670a13aa', category=None, thread_uuid=None, turn_number=1),\n",
       " EvalPrompt(content='Mock prompt 4', prompt_uuid='question.60764067-fb85-4e2a-affd-6b4e0f561ec4', category=None, thread_uuid=None, turn_number=1),\n",
       " EvalPrompt(content='Mock prompt 5', prompt_uuid='question.b5e323f6-7f88-48b3-8776-2a73bb7d66bb', category=None, thread_uuid=None, turn_number=1)]"
      ]
     },
     "execution_count": 23,
     "metadata": {},
     "output_type": "execute_result"
    }
   ],
   "source": [
    "# Fetch prompts for the eval\n",
    "eval_obj = wait_until_complete(client.evals.get, resource_id=eval_id)\n",
    "prompts_response = client.evals.list_prompts(eval_id)\n",
    "prompts: List[EvalPrompt] = prompts_response.items\n",
    "if not prompts:\n",
    "    raise RuntimeError(\"No prompts found for eval.\")\n",
    "prompts"
   ]
  },
  {
   "cell_type": "code",
   "execution_count": null,
   "id": "1293fd37",
   "metadata": {},
   "outputs": [],
   "source": [
    "from typing import Dict\n",
    "\n",
    "\n",
    "def get_openai_response(messages) -> str:\n",
    "    \"\"\"Get a response from OpenAI's API.\"\"\"\n",
    "\n",
    "    completion = openai.chat.completions.create(\n",
    "        model=\"gpt-4.1-nano-2025-04-14\",\n",
    "        messages=messages,\n",
    "        max_tokens=256,\n",
    "        temperature=0.7,\n",
    "    )\n",
    "    return completion.choices[0].message.content.strip()\n",
    "\n",
    "\n",
    "def answer_prompts(prompts: List[EvalPrompt], history: Dict[str, List[Dict[str, str]]]) -> List[EvalResponseParam]:\n",
    "    \"\"\"Answer the prompts using OpenAI's API.\"\"\"\n",
    "    responses: List[EvalResponseParam] = []\n",
    "    for prompt in prompts:\n",
    "        prompt_text = prompt.content\n",
    "        thread_uuid = prompt.thread_uuid or prompt.prompt_uuid\n",
    "        history[thread_uuid].append({\"role\": \"user\", \"content\": prompt_text})\n",
    "        answer = get_openai_response(history.get(thread_uuid))\n",
    "        responses.append(EvalResponseParam(content=answer, prompt_uuid=prompt.prompt_uuid))\n",
    "\n",
    "        history[thread_uuid].append({\"role\": \"assistant\", \"content\": answer})\n",
    "    return responses"
   ]
  },
  {
   "cell_type": "code",
   "execution_count": null,
   "id": "7be17ebc",
   "metadata": {},
   "outputs": [
    {
     "data": {
      "text/plain": [
       "'No more prompts to score.'"
      ]
     },
     "metadata": {},
     "output_type": "display_data"
    }
   ],
   "source": [
    "# Multiturn thread-based conversation logic (3 turns per prompt)\n",
    "from collections import defaultdict\n",
    "\n",
    "NUM_TURNS = 3\n",
    "\n",
    "\n",
    "conversation_histories: Dict[str, List[Dict[str, str]]] = defaultdict(list)\n",
    "eval_run_uuid = None\n",
    "current_prompts = prompts.copy() if prompts else []\n",
    "# 1. Multiturn loop: continue the thread for NUM_TURNS-1 more turns\n",
    "for turn in range(1, NUM_TURNS):\n",
    "    # Wait for eval run to complete and get new prompts for this turn\n",
    "    responses = answer_prompts(current_prompts, conversation_histories)\n",
    "\n",
    "    # On the last turn, set continue_thread=False to end the conversation\n",
    "    continue_thread = turn < NUM_TURNS - 1\n",
    "    eval_run = client.evals.runs.score_responses(\n",
    "        eval_run_uuid=eval_run_uuid, eval_uuid=eval_id, responses=responses, continue_thread=continue_thread\n",
    "    )\n",
    "\n",
    "    eval_run_uuid = eval_run.eval_run_uuid\n",
    "    scored_responses = eval_run.responses if eval_run.responses else []\n",
    "    current_prompts.clear()\n",
    "    for response in scored_responses:\n",
    "        hist = conversation_histories[response.thread_uuid]\n",
    "        if len(hist) == 0:\n",
    "            conversation_histories[response.thread_uuid] = conversation_histories[response.prompt_uuid]\n",
    "            del conversation_histories[response.prompt_uuid]\n",
    "        if response.next_prompt:\n",
    "            # Append the next prompt to the list of prompts\n",
    "            current_prompts.append(response.next_prompt)\n",
    "    if not current_prompts:\n",
    "        display(\"No more prompts to score.\")\n",
    "        break"
   ]
  },
  {
   "cell_type": "code",
   "execution_count": 21,
   "id": "d078e9c2",
   "metadata": {},
   "outputs": [
    {
     "data": {
      "text/plain": [
       "'\\\\Thread UUID: question.d9f0bad6-0a8c-4af1-a13a-4929854aa736'"
      ]
     },
     "metadata": {},
     "output_type": "display_data"
    },
    {
     "data": {
      "text/plain": [
       "'user: Mock prompt 1'"
      ]
     },
     "metadata": {},
     "output_type": "display_data"
    },
    {
     "data": {
      "text/plain": [
       "'assistant: Hello! It looks like you\\'ve mentioned \"Mock prompt 1.\" How can I assist you today? If you have a specific prompt or task in mind, please provide more details.'"
      ]
     },
     "metadata": {},
     "output_type": "display_data"
    },
    {
     "data": {
      "text/plain": [
       "'\\\\Thread UUID: question.129dfb83-3e89-4568-92e9-92703fce6294'"
      ]
     },
     "metadata": {},
     "output_type": "display_data"
    },
    {
     "data": {
      "text/plain": [
       "'user: Mock prompt 2'"
      ]
     },
     "metadata": {},
     "output_type": "display_data"
    },
    {
     "data": {
      "text/plain": [
       "\"assistant: Certainly! Could you please provide more details or specify the type of mock prompt you're referring to?\""
      ]
     },
     "metadata": {},
     "output_type": "display_data"
    },
    {
     "data": {
      "text/plain": [
       "'\\\\Thread UUID: question.241acf84-4710-4d73-aa46-401c10ff569e'"
      ]
     },
     "metadata": {},
     "output_type": "display_data"
    },
    {
     "data": {
      "text/plain": [
       "'user: Mock prompt 3'"
      ]
     },
     "metadata": {},
     "output_type": "display_data"
    },
    {
     "data": {
      "text/plain": [
       "\"assistant: Certainly! Here's a mock prompt for you:\\n\\n**Prompt:**  \\nWrite a short story about a young girl who discovers a hidden portal in her backyard that leads to a fantastical world. Describe her journey and the friends she makes along the way.\""
      ]
     },
     "metadata": {},
     "output_type": "display_data"
    },
    {
     "data": {
      "text/plain": [
       "'\\\\Thread UUID: question.cc2d4e81-808d-46fe-ae3f-47d8375e9e7b'"
      ]
     },
     "metadata": {},
     "output_type": "display_data"
    },
    {
     "data": {
      "text/plain": [
       "'user: Mock prompt 4'"
      ]
     },
     "metadata": {},
     "output_type": "display_data"
    },
    {
     "data": {
      "text/plain": [
       "'assistant: Hello! It seems like you\\'d like to try a \"Mock Prompt 4.\" Could you please provide more details or clarify what you\\'d like assistance with? I\\'m here to help!'"
      ]
     },
     "metadata": {},
     "output_type": "display_data"
    },
    {
     "data": {
      "text/plain": [
       "'\\\\Thread UUID: question.9b2641e0-405d-4702-b165-26eb105db240'"
      ]
     },
     "metadata": {},
     "output_type": "display_data"
    },
    {
     "data": {
      "text/plain": [
       "'user: Mock prompt 5'"
      ]
     },
     "metadata": {},
     "output_type": "display_data"
    },
    {
     "data": {
      "text/plain": [
       "'assistant: Certainly! Here\\'s an example of a \"Mock Prompt 5\" for you:\\n\\n**Prompt:**  \\nWrite a creative short story about a mysterious traveler who arrives in a small village at midnight, bringing with them an unexpected gift that changes the lives of the villagers forever. Include vivid descriptions of the setting and the emotions of the characters.\\n\\nWould you like me to generate a story based on this prompt?'"
      ]
     },
     "metadata": {},
     "output_type": "display_data"
    },
    {
     "data": {
      "text/plain": [
       "'\\\\Thread UUID: conversation.6fb3f3c3-37be-49d6-a677-cc54d6ce2b7b'"
      ]
     },
     "metadata": {},
     "output_type": "display_data"
    },
    {
     "data": {
      "text/plain": [
       "'user: Mock prompt 1'"
      ]
     },
     "metadata": {},
     "output_type": "display_data"
    },
    {
     "data": {
      "text/plain": [
       "'assistant: Hello! It looks like you\\'ve mentioned \"Mock prompt 1.\" How can I assist you today? If you have a specific prompt or task in mind, please provide more details.'"
      ]
     },
     "metadata": {},
     "output_type": "display_data"
    },
    {
     "data": {
      "text/plain": [
       "'\\\\Thread UUID: conversation.ef5b3d57-8dee-479b-acc8-4ac4e1291208'"
      ]
     },
     "metadata": {},
     "output_type": "display_data"
    },
    {
     "data": {
      "text/plain": [
       "'user: Mock prompt 2'"
      ]
     },
     "metadata": {},
     "output_type": "display_data"
    },
    {
     "data": {
      "text/plain": [
       "\"assistant: Certainly! Could you please provide more details or specify the type of mock prompt you're referring to?\""
      ]
     },
     "metadata": {},
     "output_type": "display_data"
    },
    {
     "data": {
      "text/plain": [
       "'\\\\Thread UUID: conversation.b81022de-2ad6-4ca1-8b48-f4454ed29780'"
      ]
     },
     "metadata": {},
     "output_type": "display_data"
    },
    {
     "data": {
      "text/plain": [
       "'user: Mock prompt 3'"
      ]
     },
     "metadata": {},
     "output_type": "display_data"
    },
    {
     "data": {
      "text/plain": [
       "\"assistant: Certainly! Here's a mock prompt for you:\\n\\n**Prompt:**  \\nWrite a short story about a young girl who discovers a hidden portal in her backyard that leads to a fantastical world. Describe her journey and the friends she makes along the way.\""
      ]
     },
     "metadata": {},
     "output_type": "display_data"
    },
    {
     "data": {
      "text/plain": [
       "'\\\\Thread UUID: conversation.4779fb5f-44a4-4f09-a595-e9afd355f456'"
      ]
     },
     "metadata": {},
     "output_type": "display_data"
    },
    {
     "data": {
      "text/plain": [
       "'user: Mock prompt 4'"
      ]
     },
     "metadata": {},
     "output_type": "display_data"
    },
    {
     "data": {
      "text/plain": [
       "'assistant: Hello! It seems like you\\'d like to try a \"Mock Prompt 4.\" Could you please provide more details or clarify what you\\'d like assistance with? I\\'m here to help!'"
      ]
     },
     "metadata": {},
     "output_type": "display_data"
    },
    {
     "data": {
      "text/plain": [
       "'\\\\Thread UUID: conversation.8f7b179c-887f-4946-9867-0414e7d33374'"
      ]
     },
     "metadata": {},
     "output_type": "display_data"
    },
    {
     "data": {
      "text/plain": [
       "'user: Mock prompt 5'"
      ]
     },
     "metadata": {},
     "output_type": "display_data"
    },
    {
     "data": {
      "text/plain": [
       "'assistant: Certainly! Here\\'s an example of a \"Mock Prompt 5\" for you:\\n\\n**Prompt:**  \\nWrite a creative short story about a mysterious traveler who arrives in a small village at midnight, bringing with them an unexpected gift that changes the lives of the villagers forever. Include vivid descriptions of the setting and the emotions of the characters.\\n\\nWould you like me to generate a story based on this prompt?'"
      ]
     },
     "metadata": {},
     "output_type": "display_data"
    },
    {
     "data": {
      "text/plain": [
       "'\\\\Thread UUID: question.f19c3491-1b17-40eb-ac04-1900b9a560fc'"
      ]
     },
     "metadata": {},
     "output_type": "display_data"
    },
    {
     "data": {
      "text/plain": [
       "'user: Mock prompt 5'"
      ]
     },
     "metadata": {},
     "output_type": "display_data"
    },
    {
     "data": {
      "text/plain": [
       "'assistant: Certainly! Here\\'s a mock prompt labeled as \"Mock Prompt 5\":\\n\\n**Mock Prompt 5:**  \\n*Imagine you are designing a new mobile app aimed at helping users develop healthy habits. Describe the core features of the app, the target audience, and how you plan to keep users engaged over time.*'"
      ]
     },
     "metadata": {},
     "output_type": "display_data"
    },
    {
     "data": {
      "text/plain": [
       "'\\\\Thread UUID: question.4cab02ff-b818-4899-b32f-3d30501afb22'"
      ]
     },
     "metadata": {},
     "output_type": "display_data"
    },
    {
     "data": {
      "text/plain": [
       "'user: Mock prompt 5'"
      ]
     },
     "metadata": {},
     "output_type": "display_data"
    },
    {
     "data": {
      "text/plain": [
       "'assistant: Certainly! Here\\'s a sample \"Mock Prompt 5\" for your reference:\\n\\n**Prompt:**  \\nCreate a short story about a young artist who discovers a mysterious paintbrush that brings their artwork to life. Include a beginning, a conflict, and a resolution.\\n\\n**Response:**  \\nLena was an aspiring artist who spent her days in a tiny studio filled with canvases and brushes. One rainy afternoon, she stumbled upon an antique shop and was drawn to a peculiar, ornate paintbrush tucked away behind other relics. Intrigued, she purchased it, feeling a strange warmth in her hand.\\n\\nBack in her studio, Lena began to paint a vibrant landscape of a sunflower field. As she dipped the brush into her paints and made her first strokes, she noticed that the flowers on her canvas shimmered and swayed as if a gentle breeze had arisen. To her amazement, the sunflower field on her painting seemed to ripple and bloom beyond the canvas.\\n\\nExcited yet cautious, Lena experimented more, painting animals and people. Soon, her creations started to step out into the real world, causing chaos and confusion. Realizing the danger, Lena knew she had to stop the paintbrush from unleashing more magic.\\n\\nDetermined to fix her mistake, Lena painted a beautiful scene of'"
      ]
     },
     "metadata": {},
     "output_type": "display_data"
    },
    {
     "data": {
      "text/plain": [
       "'\\\\Thread UUID: question.a5812ac1-fbcb-4b74-a924-dd31635b2b32'"
      ]
     },
     "metadata": {},
     "output_type": "display_data"
    },
    {
     "data": {
      "text/plain": [
       "'user: Mock prompt 5'"
      ]
     },
     "metadata": {},
     "output_type": "display_data"
    },
    {
     "data": {
      "text/plain": [
       "'assistant: Certainly! Could you please provide more details or specify what you mean by \"Mock prompt 5\"? Are you looking for a sample prompt, a specific type of prompt, or something else?'"
      ]
     },
     "metadata": {},
     "output_type": "display_data"
    },
    {
     "data": {
      "text/plain": [
       "'\\\\Thread UUID: question.3f21d429-5363-406e-aa6e-d09554a44ff9'"
      ]
     },
     "metadata": {},
     "output_type": "display_data"
    },
    {
     "data": {
      "text/plain": [
       "'user: Mock prompt 5'"
      ]
     },
     "metadata": {},
     "output_type": "display_data"
    },
    {
     "data": {
      "text/plain": [
       "'assistant: Certainly! Here\\'s a mock prompt labeled as \"Prompt 5\":\\n\\n**Prompt 5:**  \\n*Imagine you are designing a futuristic city. Describe the key features of this city, including its architecture, transportation systems, sustainable practices, and how residents interact within this environment.*'"
      ]
     },
     "metadata": {},
     "output_type": "display_data"
    },
    {
     "data": {
      "text/plain": [
       "'\\\\Thread UUID: question.ae2c2b2c-c621-4369-a7ff-83212f81e38e'"
      ]
     },
     "metadata": {},
     "output_type": "display_data"
    },
    {
     "data": {
      "text/plain": [
       "'user: Mock prompt 5'"
      ]
     },
     "metadata": {},
     "output_type": "display_data"
    },
    {
     "data": {
      "text/plain": [
       "'assistant: Certainly! Here\\'s a mock prompt labeled \"Prompt 5\" for your reference:\\n\\n**Prompt 5:**\\n\"Imagine you are an urban planner tasked with redesigning a city park to make it more environmentally sustainable and accessible to all residents. Describe your plan, including specific features and strategies you would implement.\"\\n\\nLet me know if you\\'d like me to develop a detailed response based on this prompt!'"
      ]
     },
     "metadata": {},
     "output_type": "display_data"
    }
   ],
   "source": [
    "# Display conversation histories for each prompt\n",
    "for thread_uuid, history in conversation_histories.items():\n",
    "    display(f\"\\Thread UUID: {thread_uuid}\")\n",
    "    for msg in history:\n",
    "        display(f\"{msg['role']}: {msg['content'].strip()}\")"
   ]
  },
  {
   "cell_type": "code",
   "execution_count": null,
   "id": "01f8aaae",
   "metadata": {},
   "outputs": [],
   "source": []
  }
 ],
 "metadata": {
  "kernelspec": {
   "display_name": ".venv",
   "language": "python",
   "name": "python3"
  },
  "language_info": {
   "codemirror_mode": {
    "name": "ipython",
    "version": 3
   },
   "file_extension": ".py",
   "mimetype": "text/x-python",
   "name": "python",
   "nbconvert_exporter": "python",
   "pygments_lexer": "ipython3",
   "version": "3.9.18"
  }
 },
 "nbformat": 4,
 "nbformat_minor": 5
}
