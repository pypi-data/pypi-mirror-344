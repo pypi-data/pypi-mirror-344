{
 "cells": [
  {
   "cell_type": "markdown",
   "metadata": {},
   "source": [
    "# Experimental features\n",
    "\n",
    "Experimental features for mxlpy.\n",
    "\n",
    "All APIs shown should be considered unstable and may change without notice."
   ]
  },
  {
   "cell_type": "code",
   "execution_count": null,
   "metadata": {},
   "outputs": [],
   "source": [
    "import sympy\n",
    "\n",
    "from example_models import get_linear_chain_1v, get_linear_chain_2v\n",
    "from mxlpy.experimental import model_diff\n",
    "from mxlpy.meta import (\n",
    "    generate_latex_code,\n",
    "    generate_model_code_py,\n",
    "    generate_mxlpy_code,\n",
    ")\n",
    "from mxlpy.model import Model\n",
    "from mxlpy.symbolic import SymbolicModel, to_symbolic_model"
   ]
  },
  {
   "cell_type": "markdown",
   "metadata": {},
   "source": [
    "## code generation\n",
    "\n",
    "> Currently, the limitation here is that functions used for reactions etc. cannot call other functions.  \n",
    "\n",
    "`mxlpy` can generate own source code from a model.  "
   ]
  },
  {
   "cell_type": "code",
   "execution_count": null,
   "metadata": {},
   "outputs": [],
   "source": [
    "print(generate_mxlpy_code(get_linear_chain_1v()))"
   ]
  },
  {
   "cell_type": "markdown",
   "metadata": {},
   "source": [
    "`mxlpy` can also generate a generic python function from the source code.  \n",
    "The plan here is to generalise this to be able to export models into other programming languages as well.  "
   ]
  },
  {
   "cell_type": "code",
   "execution_count": null,
   "metadata": {},
   "outputs": [],
   "source": [
    "print(generate_model_code_py(get_linear_chain_2v()))"
   ]
  },
  {
   "cell_type": "markdown",
   "metadata": {},
   "source": [
    "## Diffs\n",
    "\n",
    "`mxlpy` can generate diffs between two models to quickly analyse differences between all model elements.  "
   ]
  },
  {
   "cell_type": "code",
   "execution_count": null,
   "metadata": {},
   "outputs": [],
   "source": [
    "print(\n",
    "    model_diff(\n",
    "        get_linear_chain_2v(),\n",
    "        get_linear_chain_1v(),\n",
    "    )\n",
    ")"
   ]
  },
  {
   "cell_type": "code",
   "execution_count": null,
   "metadata": {},
   "outputs": [],
   "source": [
    "print(\n",
    "    model_diff(\n",
    "        get_linear_chain_2v(),\n",
    "        get_linear_chain_2v().scale_parameter(\"k3\", 2.0),\n",
    "    )\n",
    ")"
   ]
  },
  {
   "cell_type": "markdown",
   "metadata": {},
   "source": [
    "## LaTeX export\n",
    "\n",
    "> Currently, the limitation here is that functions used for reactions etc. cannot call other functions.  \n",
    "\n",
    "`mxlpy` supports writing out your model as `LaTeX`.  "
   ]
  },
  {
   "cell_type": "code",
   "execution_count": null,
   "metadata": {},
   "outputs": [],
   "source": [
    "print(generate_latex_code(get_linear_chain_1v()))"
   ]
  }
 ],
 "metadata": {
  "kernelspec": {
   "display_name": ".venv",
   "language": "python",
   "name": "python3"
  },
  "language_info": {
   "codemirror_mode": {
    "name": "ipython",
    "version": 3
   },
   "file_extension": ".py",
   "mimetype": "text/x-python",
   "name": "python",
   "nbconvert_exporter": "python",
   "pygments_lexer": "ipython3",
   "version": "3.13.2"
  }
 },
 "nbformat": 4,
 "nbformat_minor": 2
}
