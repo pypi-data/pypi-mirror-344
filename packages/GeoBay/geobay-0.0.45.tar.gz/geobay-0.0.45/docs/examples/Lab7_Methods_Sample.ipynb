{
  "cells": [
    {
      "cell_type": "markdown",
      "id": "3102c7b4",
      "metadata": {
        "id": "3102c7b4"
      },
      "source": [
        "[![Open In Colab](https://colab.research.google.com/assets/colab-badge.svg)](https://colab.research.google.com/github/Caseyshea96/GeoBay/blob/main/docs/examples/Lab7_Methods_Sample.ipynb)\n"
      ]
    },
    {
      "cell_type": "code",
      "execution_count": 15,
      "id": "e7eb7ef6",
      "metadata": {},
      "outputs": [
        {
          "name": "stdout",
          "output_type": "stream",
          "text": [
            "Requirement already satisfied: geobay in c:\\users\\shea9\\appdata\\local\\programs\\python\\python313\\lib\\site-packages (0.0.43)\n",
            "Requirement already satisfied: numpy in c:\\users\\shea9\\appdata\\local\\programs\\python\\python313\\lib\\site-packages (from geobay) (2.2.4)\n",
            "Requirement already satisfied: ipyleaflet>=0.17.0 in c:\\users\\shea9\\appdata\\local\\programs\\python\\python313\\lib\\site-packages (from geobay) (0.19.2)\n",
            "Requirement already satisfied: geopandas>=0.10.0 in c:\\users\\shea9\\appdata\\local\\programs\\python\\python313\\lib\\site-packages (from geobay) (1.0.1)\n",
            "Requirement already satisfied: pyogrio>=0.7.2 in c:\\users\\shea9\\appdata\\local\\programs\\python\\python313\\lib\\site-packages (from geopandas>=0.10.0->geobay) (0.10.0)\n",
            "Requirement already satisfied: packaging in c:\\users\\shea9\\appdata\\roaming\\python\\python313\\site-packages (from geopandas>=0.10.0->geobay) (24.2)\n",
            "Requirement already satisfied: pandas>=1.4.0 in c:\\users\\shea9\\appdata\\local\\programs\\python\\python313\\lib\\site-packages (from geopandas>=0.10.0->geobay) (2.2.3)\n",
            "Requirement already satisfied: pyproj>=3.3.0 in c:\\users\\shea9\\appdata\\local\\programs\\python\\python313\\lib\\site-packages (from geopandas>=0.10.0->geobay) (3.7.1)\n",
            "Requirement already satisfied: shapely>=2.0.0 in c:\\users\\shea9\\appdata\\local\\programs\\python\\python313\\lib\\site-packages (from geopandas>=0.10.0->geobay) (2.1.0)\n",
            "Requirement already satisfied: branca>=0.5.0 in c:\\users\\shea9\\appdata\\local\\programs\\python\\python313\\lib\\site-packages (from ipyleaflet>=0.17.0->geobay) (0.8.1)\n",
            "Requirement already satisfied: ipywidgets<9,>=7.6.0 in c:\\users\\shea9\\appdata\\local\\programs\\python\\python313\\lib\\site-packages (from ipyleaflet>=0.17.0->geobay) (8.1.5)\n",
            "Requirement already satisfied: jupyter-leaflet<0.20,>=0.19 in c:\\users\\shea9\\appdata\\local\\programs\\python\\python313\\lib\\site-packages (from ipyleaflet>=0.17.0->geobay) (0.19.2)\n",
            "Requirement already satisfied: traittypes<3,>=0.2.1 in c:\\users\\shea9\\appdata\\local\\programs\\python\\python313\\lib\\site-packages (from ipyleaflet>=0.17.0->geobay) (0.2.1)\n",
            "Requirement already satisfied: xyzservices>=2021.8.1 in c:\\users\\shea9\\appdata\\local\\programs\\python\\python313\\lib\\site-packages (from ipyleaflet>=0.17.0->geobay) (2025.1.0)\n",
            "Requirement already satisfied: jinja2>=3 in c:\\users\\shea9\\appdata\\local\\programs\\python\\python313\\lib\\site-packages (from branca>=0.5.0->ipyleaflet>=0.17.0->geobay) (3.1.6)\n",
            "Requirement already satisfied: comm>=0.1.3 in c:\\users\\shea9\\appdata\\roaming\\python\\python313\\site-packages (from ipywidgets<9,>=7.6.0->ipyleaflet>=0.17.0->geobay) (0.2.2)\n",
            "Requirement already satisfied: ipython>=6.1.0 in c:\\users\\shea9\\appdata\\roaming\\python\\python313\\site-packages (from ipywidgets<9,>=7.6.0->ipyleaflet>=0.17.0->geobay) (9.0.1)\n",
            "Requirement already satisfied: traitlets>=4.3.1 in c:\\users\\shea9\\appdata\\roaming\\python\\python313\\site-packages (from ipywidgets<9,>=7.6.0->ipyleaflet>=0.17.0->geobay) (5.14.3)\n",
            "Requirement already satisfied: widgetsnbextension~=4.0.12 in c:\\users\\shea9\\appdata\\local\\programs\\python\\python313\\lib\\site-packages (from ipywidgets<9,>=7.6.0->ipyleaflet>=0.17.0->geobay) (4.0.13)\n",
            "Requirement already satisfied: jupyterlab-widgets~=3.0.12 in c:\\users\\shea9\\appdata\\local\\programs\\python\\python313\\lib\\site-packages (from ipywidgets<9,>=7.6.0->ipyleaflet>=0.17.0->geobay) (3.0.13)\n",
            "Requirement already satisfied: python-dateutil>=2.8.2 in c:\\users\\shea9\\appdata\\roaming\\python\\python313\\site-packages (from pandas>=1.4.0->geopandas>=0.10.0->geobay) (2.9.0.post0)\n",
            "Requirement already satisfied: pytz>=2020.1 in c:\\users\\shea9\\appdata\\local\\programs\\python\\python313\\lib\\site-packages (from pandas>=1.4.0->geopandas>=0.10.0->geobay) (2025.2)\n",
            "Requirement already satisfied: tzdata>=2022.7 in c:\\users\\shea9\\appdata\\local\\programs\\python\\python313\\lib\\site-packages (from pandas>=1.4.0->geopandas>=0.10.0->geobay) (2025.2)\n",
            "Requirement already satisfied: certifi in c:\\users\\shea9\\appdata\\local\\programs\\python\\python313\\lib\\site-packages (from pyogrio>=0.7.2->geopandas>=0.10.0->geobay) (2025.1.31)\n",
            "Requirement already satisfied: colorama in c:\\users\\shea9\\appdata\\roaming\\python\\python313\\site-packages (from ipython>=6.1.0->ipywidgets<9,>=7.6.0->ipyleaflet>=0.17.0->geobay) (0.4.6)\n",
            "Requirement already satisfied: decorator in c:\\users\\shea9\\appdata\\roaming\\python\\python313\\site-packages (from ipython>=6.1.0->ipywidgets<9,>=7.6.0->ipyleaflet>=0.17.0->geobay) (5.2.1)\n",
            "Requirement already satisfied: ipython-pygments-lexers in c:\\users\\shea9\\appdata\\roaming\\python\\python313\\site-packages (from ipython>=6.1.0->ipywidgets<9,>=7.6.0->ipyleaflet>=0.17.0->geobay) (1.1.1)\n",
            "Requirement already satisfied: jedi>=0.16 in c:\\users\\shea9\\appdata\\roaming\\python\\python313\\site-packages (from ipython>=6.1.0->ipywidgets<9,>=7.6.0->ipyleaflet>=0.17.0->geobay) (0.19.2)\n",
            "Requirement already satisfied: matplotlib-inline in c:\\users\\shea9\\appdata\\roaming\\python\\python313\\site-packages (from ipython>=6.1.0->ipywidgets<9,>=7.6.0->ipyleaflet>=0.17.0->geobay) (0.1.7)\n",
            "Requirement already satisfied: prompt_toolkit<3.1.0,>=3.0.41 in c:\\users\\shea9\\appdata\\roaming\\python\\python313\\site-packages (from ipython>=6.1.0->ipywidgets<9,>=7.6.0->ipyleaflet>=0.17.0->geobay) (3.0.50)\n",
            "Requirement already satisfied: pygments>=2.4.0 in c:\\users\\shea9\\appdata\\roaming\\python\\python313\\site-packages (from ipython>=6.1.0->ipywidgets<9,>=7.6.0->ipyleaflet>=0.17.0->geobay) (2.19.1)\n",
            "Requirement already satisfied: stack_data in c:\\users\\shea9\\appdata\\roaming\\python\\python313\\site-packages (from ipython>=6.1.0->ipywidgets<9,>=7.6.0->ipyleaflet>=0.17.0->geobay) (0.6.3)\n",
            "Requirement already satisfied: MarkupSafe>=2.0 in c:\\users\\shea9\\appdata\\local\\programs\\python\\python313\\lib\\site-packages (from jinja2>=3->branca>=0.5.0->ipyleaflet>=0.17.0->geobay) (3.0.2)\n",
            "Requirement already satisfied: six>=1.5 in c:\\users\\shea9\\appdata\\roaming\\python\\python313\\site-packages (from python-dateutil>=2.8.2->pandas>=1.4.0->geopandas>=0.10.0->geobay) (1.17.0)\n",
            "Requirement already satisfied: parso<0.9.0,>=0.8.4 in c:\\users\\shea9\\appdata\\roaming\\python\\python313\\site-packages (from jedi>=0.16->ipython>=6.1.0->ipywidgets<9,>=7.6.0->ipyleaflet>=0.17.0->geobay) (0.8.4)\n",
            "Requirement already satisfied: wcwidth in c:\\users\\shea9\\appdata\\roaming\\python\\python313\\site-packages (from prompt_toolkit<3.1.0,>=3.0.41->ipython>=6.1.0->ipywidgets<9,>=7.6.0->ipyleaflet>=0.17.0->geobay) (0.2.13)\n",
            "Requirement already satisfied: executing>=1.2.0 in c:\\users\\shea9\\appdata\\roaming\\python\\python313\\site-packages (from stack_data->ipython>=6.1.0->ipywidgets<9,>=7.6.0->ipyleaflet>=0.17.0->geobay) (2.2.0)\n",
            "Requirement already satisfied: asttokens>=2.1.0 in c:\\users\\shea9\\appdata\\roaming\\python\\python313\\site-packages (from stack_data->ipython>=6.1.0->ipywidgets<9,>=7.6.0->ipyleaflet>=0.17.0->geobay) (3.0.0)\n",
            "Requirement already satisfied: pure-eval in c:\\users\\shea9\\appdata\\roaming\\python\\python313\\site-packages (from stack_data->ipython>=6.1.0->ipywidgets<9,>=7.6.0->ipyleaflet>=0.17.0->geobay) (0.2.3)\n",
            "Note: you may need to restart the kernel to use updated packages.\n"
          ]
        },
        {
          "name": "stderr",
          "output_type": "stream",
          "text": [
            "\n",
            "[notice] A new release of pip is available: 24.2 -> 25.0.1\n",
            "[notice] To update, run: python.exe -m pip install --upgrade pip\n"
          ]
        }
      ],
      "source": [
        "pip install geobay --upgrade"
      ]
    },
    {
      "cell_type": "code",
      "execution_count": 3,
      "id": "bf51a994",
      "metadata": {
        "id": "bf51a994"
      },
      "outputs": [],
      "source": [
        "from GeoBay import CustomIpyleafletMap\n",
        "from ipyleaflet import DrawControl"
      ]
    },
    {
      "cell_type": "code",
      "execution_count": 4,
      "id": "5cff74fd",
      "metadata": {
        "colab": {
          "referenced_widgets": [
            "91812bb78e084d6abd38ef9cafdc9d21"
          ]
        },
        "id": "5cff74fd",
        "outputId": "e62f6d9e-62c9-45b3-a450-b5797fc1834d"
      },
      "outputs": [
        {
          "data": {
            "application/vnd.jupyter.widget-view+json": {
              "model_id": "4f3c1238c1d24a139d29bd6f2643da6a",
              "version_major": 2,
              "version_minor": 0
            },
            "text/plain": [
              "CustomIpyleafletMap(center=[40.6892, -74.0445], controls=(ZoomControl(options=['position', 'zoom_in_text', 'zo…"
            ]
          },
          "execution_count": 4,
          "metadata": {},
          "output_type": "execute_result"
        }
      ],
      "source": [
        "# Create the map centered on a location (NYC)\n",
        "mymap = CustomIpyleafletMap(center=[40.6892, -74.0445], zoom=9)\n",
        "mymap.add_basemap(\"Esri.WorldImagery\")\n",
        "mymap.add_layer_control()\n",
        "\n",
        "#Loading a GeoJSON vector layer\n",
        "import geopandas as gpd\n",
        "vector_url = \"https://github.com/opengeos/datasets/releases/download/places/nyc_roads.geojson\"\n",
        "gdf = gpd.read_file(vector_url)\n",
        "gdf = gdf.to_crs(epsg=4326)  # Ensure the CRS is WGS84 for web mapping\n",
        "mymap.add_vector(gdf)\n",
        "\n",
        "\n",
        "# Sample image URL and bounds\n",
        "#image_url = \"https://encrypted-tbn0.gstatic.com/images?q=tbn:ANd9GcSUXq-znfyXENLtD64Ijh3gB-psZGO7WlY3vg&s\"\n",
        "#bounds = [(41.1485466,-73.1655751), (40.8967207,-73.5636963)]\n",
        "#mymap.add_image(image_url, bounds, opacity=1)\n",
        "\n",
        "video_url = \"https://www.mapbox.com/bites/00188/patricia_nasa.webm\"\n",
        "bounds = [(41.0165271, -74.1999349), (40.7450505, -74.6063112)]\n",
        "mymap.add_video(video_url, bounds, opacity=1)\n",
        "\n",
        "mymap.show_map()"
      ]
    },
    {
      "cell_type": "code",
      "execution_count": null,
      "id": "8d280fb4",
      "metadata": {
        "id": "8d280fb4"
      },
      "outputs": [],
      "source": []
    }
  ],
  "metadata": {
    "colab": {
      "provenance": []
    },
    "kernelspec": {
      "display_name": "Python 3",
      "language": "python",
      "name": "python3"
    },
    "language_info": {
      "codemirror_mode": {
        "name": "ipython",
        "version": 3
      },
      "file_extension": ".py",
      "mimetype": "text/x-python",
      "name": "python",
      "nbconvert_exporter": "python",
      "pygments_lexer": "ipython3",
      "version": "3.13.0"
    }
  },
  "nbformat": 4,
  "nbformat_minor": 5
}
