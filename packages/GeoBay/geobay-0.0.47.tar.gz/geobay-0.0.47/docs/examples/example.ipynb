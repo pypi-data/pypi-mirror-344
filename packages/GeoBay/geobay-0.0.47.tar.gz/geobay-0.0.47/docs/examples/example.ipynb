{
 "cells": [
  {
   "cell_type": "markdown",
   "metadata": {},
   "source": [
    "Example Notebook\n",
    "\n",
    "[![Open in Colab](https://colab.research.google.com/assets/colab-badge.svg)](https://colab.research.google.com/github/Caseyshea96/GeoBay/blob/68ad6652e02808f709c6adafba99969a1ae91fb1/example.ipynb)\n",
    "\n"
   ]
  },
  {
   "cell_type": "code",
   "execution_count": 2,
   "metadata": {},
   "outputs": [
    {
     "name": "stdout",
     "output_type": "stream",
     "text": [
      "Requirement already satisfied: geobay in c:\\users\\shea9\\appdata\\local\\programs\\python\\python313\\lib\\site-packages (0.0.20)\n",
      "Collecting geobay\n",
      "  Using cached geobay-0.0.43-py2.py3-none-any.whl.metadata (1.4 kB)\n",
      "Requirement already satisfied: numpy in c:\\users\\shea9\\appdata\\local\\programs\\python\\python313\\lib\\site-packages (from geobay) (2.2.4)\n",
      "Requirement already satisfied: ipyleaflet>=0.17.0 in c:\\users\\shea9\\appdata\\local\\programs\\python\\python313\\lib\\site-packages (from geobay) (0.19.2)\n",
      "Requirement already satisfied: geopandas>=0.10.0 in c:\\users\\shea9\\appdata\\local\\programs\\python\\python313\\lib\\site-packages (from geobay) (1.0.1)\n",
      "Requirement already satisfied: pyogrio>=0.7.2 in c:\\users\\shea9\\appdata\\local\\programs\\python\\python313\\lib\\site-packages (from geopandas>=0.10.0->geobay) (0.10.0)\n",
      "Requirement already satisfied: packaging in c:\\users\\shea9\\appdata\\roaming\\python\\python313\\site-packages (from geopandas>=0.10.0->geobay) (24.2)\n",
      "Requirement already satisfied: pandas>=1.4.0 in c:\\users\\shea9\\appdata\\local\\programs\\python\\python313\\lib\\site-packages (from geopandas>=0.10.0->geobay) (2.2.3)\n",
      "Requirement already satisfied: pyproj>=3.3.0 in c:\\users\\shea9\\appdata\\local\\programs\\python\\python313\\lib\\site-packages (from geopandas>=0.10.0->geobay) (3.7.1)\n",
      "Requirement already satisfied: shapely>=2.0.0 in c:\\users\\shea9\\appdata\\local\\programs\\python\\python313\\lib\\site-packages (from geopandas>=0.10.0->geobay) (2.1.0)\n",
      "Requirement already satisfied: branca>=0.5.0 in c:\\users\\shea9\\appdata\\local\\programs\\python\\python313\\lib\\site-packages (from ipyleaflet>=0.17.0->geobay) (0.8.1)\n",
      "Requirement already satisfied: ipywidgets<9,>=7.6.0 in c:\\users\\shea9\\appdata\\local\\programs\\python\\python313\\lib\\site-packages (from ipyleaflet>=0.17.0->geobay) (8.1.5)\n",
      "Requirement already satisfied: jupyter-leaflet<0.20,>=0.19 in c:\\users\\shea9\\appdata\\local\\programs\\python\\python313\\lib\\site-packages (from ipyleaflet>=0.17.0->geobay) (0.19.2)\n",
      "Requirement already satisfied: traittypes<3,>=0.2.1 in c:\\users\\shea9\\appdata\\local\\programs\\python\\python313\\lib\\site-packages (from ipyleaflet>=0.17.0->geobay) (0.2.1)\n",
      "Requirement already satisfied: xyzservices>=2021.8.1 in c:\\users\\shea9\\appdata\\local\\programs\\python\\python313\\lib\\site-packages (from ipyleaflet>=0.17.0->geobay) (2025.1.0)\n",
      "Requirement already satisfied: jinja2>=3 in c:\\users\\shea9\\appdata\\local\\programs\\python\\python313\\lib\\site-packages (from branca>=0.5.0->ipyleaflet>=0.17.0->geobay) (3.1.6)\n",
      "Requirement already satisfied: comm>=0.1.3 in c:\\users\\shea9\\appdata\\roaming\\python\\python313\\site-packages (from ipywidgets<9,>=7.6.0->ipyleaflet>=0.17.0->geobay) (0.2.2)\n",
      "Requirement already satisfied: ipython>=6.1.0 in c:\\users\\shea9\\appdata\\roaming\\python\\python313\\site-packages (from ipywidgets<9,>=7.6.0->ipyleaflet>=0.17.0->geobay) (9.0.1)\n",
      "Requirement already satisfied: traitlets>=4.3.1 in c:\\users\\shea9\\appdata\\roaming\\python\\python313\\site-packages (from ipywidgets<9,>=7.6.0->ipyleaflet>=0.17.0->geobay) (5.14.3)\n",
      "Requirement already satisfied: widgetsnbextension~=4.0.12 in c:\\users\\shea9\\appdata\\local\\programs\\python\\python313\\lib\\site-packages (from ipywidgets<9,>=7.6.0->ipyleaflet>=0.17.0->geobay) (4.0.13)\n",
      "Requirement already satisfied: jupyterlab-widgets~=3.0.12 in c:\\users\\shea9\\appdata\\local\\programs\\python\\python313\\lib\\site-packages (from ipywidgets<9,>=7.6.0->ipyleaflet>=0.17.0->geobay) (3.0.13)\n",
      "Requirement already satisfied: python-dateutil>=2.8.2 in c:\\users\\shea9\\appdata\\roaming\\python\\python313\\site-packages (from pandas>=1.4.0->geopandas>=0.10.0->geobay) (2.9.0.post0)\n",
      "Requirement already satisfied: pytz>=2020.1 in c:\\users\\shea9\\appdata\\local\\programs\\python\\python313\\lib\\site-packages (from pandas>=1.4.0->geopandas>=0.10.0->geobay) (2025.2)\n",
      "Requirement already satisfied: tzdata>=2022.7 in c:\\users\\shea9\\appdata\\local\\programs\\python\\python313\\lib\\site-packages (from pandas>=1.4.0->geopandas>=0.10.0->geobay) (2025.2)\n",
      "Requirement already satisfied: certifi in c:\\users\\shea9\\appdata\\local\\programs\\python\\python313\\lib\\site-packages (from pyogrio>=0.7.2->geopandas>=0.10.0->geobay) (2025.1.31)\n",
      "Requirement already satisfied: colorama in c:\\users\\shea9\\appdata\\roaming\\python\\python313\\site-packages (from ipython>=6.1.0->ipywidgets<9,>=7.6.0->ipyleaflet>=0.17.0->geobay) (0.4.6)\n",
      "Requirement already satisfied: decorator in c:\\users\\shea9\\appdata\\roaming\\python\\python313\\site-packages (from ipython>=6.1.0->ipywidgets<9,>=7.6.0->ipyleaflet>=0.17.0->geobay) (5.2.1)\n",
      "Requirement already satisfied: ipython-pygments-lexers in c:\\users\\shea9\\appdata\\roaming\\python\\python313\\site-packages (from ipython>=6.1.0->ipywidgets<9,>=7.6.0->ipyleaflet>=0.17.0->geobay) (1.1.1)\n",
      "Requirement already satisfied: jedi>=0.16 in c:\\users\\shea9\\appdata\\roaming\\python\\python313\\site-packages (from ipython>=6.1.0->ipywidgets<9,>=7.6.0->ipyleaflet>=0.17.0->geobay) (0.19.2)\n",
      "Requirement already satisfied: matplotlib-inline in c:\\users\\shea9\\appdata\\roaming\\python\\python313\\site-packages (from ipython>=6.1.0->ipywidgets<9,>=7.6.0->ipyleaflet>=0.17.0->geobay) (0.1.7)\n",
      "Requirement already satisfied: prompt_toolkit<3.1.0,>=3.0.41 in c:\\users\\shea9\\appdata\\roaming\\python\\python313\\site-packages (from ipython>=6.1.0->ipywidgets<9,>=7.6.0->ipyleaflet>=0.17.0->geobay) (3.0.50)\n",
      "Requirement already satisfied: pygments>=2.4.0 in c:\\users\\shea9\\appdata\\roaming\\python\\python313\\site-packages (from ipython>=6.1.0->ipywidgets<9,>=7.6.0->ipyleaflet>=0.17.0->geobay) (2.19.1)\n",
      "Requirement already satisfied: stack_data in c:\\users\\shea9\\appdata\\roaming\\python\\python313\\site-packages (from ipython>=6.1.0->ipywidgets<9,>=7.6.0->ipyleaflet>=0.17.0->geobay) (0.6.3)\n",
      "Requirement already satisfied: MarkupSafe>=2.0 in c:\\users\\shea9\\appdata\\local\\programs\\python\\python313\\lib\\site-packages (from jinja2>=3->branca>=0.5.0->ipyleaflet>=0.17.0->geobay) (3.0.2)\n",
      "Requirement already satisfied: six>=1.5 in c:\\users\\shea9\\appdata\\roaming\\python\\python313\\site-packages (from python-dateutil>=2.8.2->pandas>=1.4.0->geopandas>=0.10.0->geobay) (1.17.0)\n",
      "Requirement already satisfied: parso<0.9.0,>=0.8.4 in c:\\users\\shea9\\appdata\\roaming\\python\\python313\\site-packages (from jedi>=0.16->ipython>=6.1.0->ipywidgets<9,>=7.6.0->ipyleaflet>=0.17.0->geobay) (0.8.4)\n",
      "Requirement already satisfied: wcwidth in c:\\users\\shea9\\appdata\\roaming\\python\\python313\\site-packages (from prompt_toolkit<3.1.0,>=3.0.41->ipython>=6.1.0->ipywidgets<9,>=7.6.0->ipyleaflet>=0.17.0->geobay) (0.2.13)\n",
      "Requirement already satisfied: executing>=1.2.0 in c:\\users\\shea9\\appdata\\roaming\\python\\python313\\site-packages (from stack_data->ipython>=6.1.0->ipywidgets<9,>=7.6.0->ipyleaflet>=0.17.0->geobay) (2.2.0)\n",
      "Requirement already satisfied: asttokens>=2.1.0 in c:\\users\\shea9\\appdata\\roaming\\python\\python313\\site-packages (from stack_data->ipython>=6.1.0->ipywidgets<9,>=7.6.0->ipyleaflet>=0.17.0->geobay) (3.0.0)\n",
      "Requirement already satisfied: pure-eval in c:\\users\\shea9\\appdata\\roaming\\python\\python313\\site-packages (from stack_data->ipython>=6.1.0->ipywidgets<9,>=7.6.0->ipyleaflet>=0.17.0->geobay) (0.2.3)\n",
      "Using cached geobay-0.0.43-py2.py3-none-any.whl (8.4 kB)\n",
      "Installing collected packages: geobay\n",
      "  Attempting uninstall: geobay\n",
      "    Found existing installation: GeoBay 0.0.20\n",
      "    Uninstalling GeoBay-0.0.20:\n",
      "      Successfully uninstalled GeoBay-0.0.20\n",
      "Successfully installed geobay-0.0.43\n",
      "Note: you may need to restart the kernel to use updated packages.\n"
     ]
    },
    {
     "name": "stderr",
     "output_type": "stream",
     "text": [
      "  WARNING: The script GeoBay.exe is installed in 'c:\\Users\\shea9\\AppData\\Local\\Programs\\Python\\Python313\\Scripts' which is not on PATH.\n",
      "  Consider adding this directory to PATH or, if you prefer to suppress this warning, use --no-warn-script-location.\n",
      "\n",
      "[notice] A new release of pip is available: 24.2 -> 25.0.1\n",
      "[notice] To update, run: python.exe -m pip install --upgrade pip\n"
     ]
    }
   ],
   "source": [
    "pip install geobay --upgrade"
   ]
  },
  {
   "cell_type": "code",
   "execution_count": null,
   "metadata": {},
   "outputs": [
    {
     "data": {
      "application/vnd.jupyter.widget-view+json": {
       "model_id": "65df3e725ce34863b5da183abb5ac95c",
       "version_major": 2,
       "version_minor": 0
      },
      "text/plain": [
       "CustomIpyleafletMap(center=[37.7749, -122.4194], controls=(ZoomControl(options=['position', 'zoom_in_text', 'z…"
      ]
     },
     "execution_count": 6,
     "metadata": {},
     "output_type": "execute_result"
    }
   ],
   "source": [
    "from GeoBay.GeoBay import CustomIpyleafletMap as ipyleaflet_Map\n",
    "\n",
    "# Create the map\n",
    "m = ipyleaflet_Map(center=[37.7749, -122.4194], zoom=4)\n",
    "\n",
    "# Add the basemap GUI widget\n",
    "m.add_basemap_gui()\n",
    "\n",
    "# Show the map\n",
    "m.show_map()\n"
   ]
  },
  {
   "cell_type": "code",
   "execution_count": 5,
   "metadata": {},
   "outputs": [
    {
     "name": "stderr",
     "output_type": "stream",
     "text": [
      "Skipping field coordinates: unsupported OGR type: 3\n"
     ]
    },
    {
     "data": {
      "application/vnd.jupyter.widget-view+json": {
       "model_id": "0c2908c234e84d50959bca166db2c776",
       "version_major": 2,
       "version_minor": 0
      },
      "text/plain": [
       "CustomIpyleafletMap(center=[37.7749, -122.4194], controls=(ZoomControl(options=['position', 'zoom_in_text', 'z…"
      ]
     },
     "execution_count": 5,
     "metadata": {},
     "output_type": "execute_result"
    }
   ],
   "source": [
    "from GeoBay.GeoBay import CustomIpyleafletMap as ipyleaflet_Map\n",
    "\n",
    "\n",
    "# Create an ipyleaflet map instance\n",
    "map_ipyleaflet = ipyleaflet_Map(center=[37.7749, -122.4194], zoom=4)\n",
    "\n",
    "# Add basemap\n",
    "\n",
    "map_ipyleaflet.add_basemap_gui()\n",
    "# Add vector data (GeoJSON URL)\n",
    "Geodata = \"https://raw.githubusercontent.com/opengeos/data/bb132f1b4f8b9219c0d159216bfc33d05fca915c/vector/cables.geojson\"\n",
    "map_ipyleaflet.add_vector(Geodata)\n",
    "\n",
    "# Show the map\n",
    "map_ipyleaflet.show_map()"
   ]
  },
  {
   "cell_type": "code",
   "execution_count": null,
   "metadata": {},
   "outputs": [
    {
     "ename": "AttributeError",
     "evalue": "'CustomIpyleafletMap' object has no attribute 'add_basemap_dropdown'",
     "output_type": "error",
     "traceback": [
      "\u001b[31m---------------------------------------------------------------------------\u001b[39m",
      "\u001b[31mAttributeError\u001b[39m                            Traceback (most recent call last)",
      "\u001b[36mCell\u001b[39m\u001b[36m \u001b[39m\u001b[32mIn[16]\u001b[39m\u001b[32m, line 2\u001b[39m\n\u001b[32m      1\u001b[39m map_instance = ipyleaflet_Map(center=[\u001b[32m0\u001b[39m, \u001b[32m0\u001b[39m], zoom=\u001b[32m2\u001b[39m)\n\u001b[32m----> \u001b[39m\u001b[32m2\u001b[39m \u001b[43mmap_instance\u001b[49m\u001b[43m.\u001b[49m\u001b[43madd_basemap_dropdown\u001b[49m()\n\u001b[32m      3\u001b[39m map_instance.show_map()\n",
      "\u001b[31mAttributeError\u001b[39m: 'CustomIpyleafletMap' object has no attribute 'add_basemap_dropdown'"
     ]
    }
   ],
   "source": [
    "map_instance = ipyleaflet_Map(center=[0, 0], zoom=2)\n",
    "map_instance.add_basemap_dropdown()\n",
    "map_instance.show_map()"
   ]
  },
  {
   "cell_type": "code",
   "execution_count": null,
   "metadata": {},
   "outputs": [],
   "source": []
  }
 ],
 "metadata": {
  "kernelspec": {
   "display_name": "Python 3",
   "language": "python",
   "name": "python3"
  },
  "language_info": {
   "codemirror_mode": {
    "name": "ipython",
    "version": 3
   },
   "file_extension": ".py",
   "mimetype": "text/x-python",
   "name": "python",
   "nbconvert_exporter": "python",
   "pygments_lexer": "ipython3",
   "version": "3.13.0"
  }
 },
 "nbformat": 4,
 "nbformat_minor": 2
}
