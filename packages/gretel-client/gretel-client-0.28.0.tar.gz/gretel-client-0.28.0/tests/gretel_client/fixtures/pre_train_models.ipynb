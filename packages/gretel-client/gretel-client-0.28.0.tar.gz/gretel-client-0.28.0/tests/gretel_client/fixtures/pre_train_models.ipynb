{
 "cells": [
  {
   "cell_type": "code",
   "execution_count": null,
   "metadata": {},
   "outputs": [],
   "source": [
    "import json\n",
    "import os\n",
    "\n",
    "from pathlib import Path\n",
    "from typing import Union\n",
    "\n",
    "from gretel_client.helpers import poll\n",
    "from gretel_client.projects import get_project\n",
    "\n",
    "fixtures = Path.cwd().absolute()"
   ]
  },
  {
   "cell_type": "code",
   "execution_count": null,
   "metadata": {},
   "outputs": [],
   "source": [
    "class ModelFixtures:\n",
    "    def __init__(self, manifest_path: Path):\n",
    "        self._manifest_file = manifest_path\n",
    "        self._manifest = json.loads(self._manifest_file.read_text())\n",
    "\n",
    "    def _write_manifest(self, key: str, value: str):\n",
    "        self._manifest[key] = value\n",
    "        print(self._manifest)\n",
    "        self._manifest_file.write_text(json.dumps(self._manifest))\n",
    "\n",
    "    def update_model(\n",
    "        self, model_name: str, config: Union[Path, str], data_source: Path\n",
    "    ):\n",
    "        model = self._project.create_model_obj(config, data_source=str(data_source))\n",
    "        model.submit_cloud()\n",
    "        poll(model)\n",
    "        self._write_manifest(model_name, model.model_id)\n",
    "\n",
    "    def set_project(self, project_name: str):\n",
    "        self._project = get_project(name=project_name)\n",
    "        self._write_manifest(\"_project\", self._project.name)\n"
   ]
  },
  {
   "cell_type": "code",
   "execution_count": null,
   "metadata": {},
   "outputs": [],
   "source": [
    "manifest = ModelFixtures(fixtures / \"model_fixtures.json\")\n",
    "manifest.set_project(os.getenv(\"GRETEL_PROJECT\", \"gretel-client-project-pretrained\"))"
   ]
  },
  {
   "cell_type": "code",
   "execution_count": null,
   "metadata": {},
   "outputs": [],
   "source": [
    "manifest.update_model(\n",
    "    \"synthetics_default\", \"synthetics/default\", fixtures / \"account-balances.csv\"\n",
    ")"
   ]
  },
  {
   "cell_type": "code",
   "execution_count": null,
   "metadata": {},
   "outputs": [],
   "source": [
    "manifest.update_model(\n",
    "    \"transforms_default\",\n",
    "    fixtures / \"transforms_config.yml\",\n",
    "    fixtures / \"account-balances.csv\",\n",
    ")"
   ]
  },
  {
   "cell_type": "code",
   "execution_count": null,
   "metadata": {},
   "outputs": [],
   "source": [
    "manifest.update_model(\n",
    "    \"classify_default\",\n",
    "    fixtures / \"classify_config.yml\",\n",
    "    fixtures / \"account-balances.csv\",\n",
    ")"
   ]
  }
 ],
 "metadata": {
  "interpreter": {
   "hash": "e0f850e8d6a06ef59e78bdc9f49c60366909b61322acdb51d01872bd259a012b"
  },
  "kernelspec": {
   "display_name": "Python 3.7.9 64-bit ('3.7.9')",
   "language": "python",
   "name": "python3"
  },
  "language_info": {
   "codemirror_mode": {
    "name": "ipython",
    "version": 3
   },
   "file_extension": ".py",
   "mimetype": "text/x-python",
   "name": "python",
   "nbconvert_exporter": "python",
   "pygments_lexer": "ipython3",
   "version": "3.7.9"
  }
 },
 "nbformat": 4,
 "nbformat_minor": 2
}
