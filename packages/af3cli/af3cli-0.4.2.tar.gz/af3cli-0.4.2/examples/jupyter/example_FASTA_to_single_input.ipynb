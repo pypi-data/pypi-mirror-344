{
 "cells": [
  {
   "cell_type": "markdown",
   "metadata": {},
   "source": [
    "# Building a single AlphaFold3 input file from a FASTA file\n",
    "\n",
    "This notebook demonstrates how to build a single JSON input file for AlphaFold3 from a FASTA file. \n",
    "\n",
    "**IMPORTANT**: To run this notebook, please install the feature dependencies, using uv: `uv sync --group examples`."
   ]
  },
  {
   "cell_type": "code",
   "metadata": {
    "jupyter": {
     "is_executing": true
    }
   },
   "source": [
    "from af3cli import InputBuilder\n",
    "from af3cli.sequence import fasta2seq"
   ],
   "outputs": [],
   "execution_count": null
  },
  {
   "cell_type": "code",
   "execution_count": 9,
   "metadata": {},
   "outputs": [],
   "source": [
    "# Define the job name and FASTA file path\n",
    "JOB_NAME = \"demo_fasta_to_single_input\"\n",
    "FASTA_FILE = \"../data/demo_seq.fasta\""
   ]
  },
  {
   "cell_type": "code",
   "execution_count": 10,
   "metadata": {
    "jupyter": {
     "is_executing": true
    }
   },
   "outputs": [
    {
     "data": {
      "text/plain": [
       "<af3cli.builder.InputBuilder at 0x7b99c1633d70>"
      ]
     },
     "execution_count": 10,
     "metadata": {},
     "output_type": "execute_result"
    }
   ],
   "source": [
    "# Instantiate builder object\n",
    "builder = InputBuilder()\n",
    "builder.set_name(JOB_NAME)"
   ]
  },
  {
   "cell_type": "code",
   "execution_count": 11,
   "metadata": {
    "jupyter": {
     "is_executing": true
    }
   },
   "outputs": [],
   "source": [
    "# Read FASTA file and generate sequences as generator object\n",
    "sequences = fasta2seq(filename=FASTA_FILE)\n",
    "\n",
    "# Add each sequence from the FASTA file to the builder object\n",
    "# This handles cases with multiple sequences in the input\n",
    "for seq in sequences:\n",
    "        builder.add_sequence(seq)"
   ]
  },
  {
   "cell_type": "code",
   "execution_count": 12,
   "metadata": {},
   "outputs": [],
   "source": [
    "# write the JSON input file\n",
    "input_file = builder.build()\n",
    "input_file.write(f\"{JOB_NAME}.json\")"
   ]
  }
 ],
 "metadata": {
  "kernelspec": {
   "display_name": "Python 3 (ipykernel)",
   "language": "python",
   "name": "python3"
  },
  "language_info": {
   "codemirror_mode": {
    "name": "ipython",
    "version": 3
   },
   "file_extension": ".py",
   "mimetype": "text/x-python",
   "name": "python",
   "nbconvert_exporter": "python",
   "pygments_lexer": "ipython3",
   "version": "3.12.7"
  }
 },
 "nbformat": 4,
 "nbformat_minor": 4
}
