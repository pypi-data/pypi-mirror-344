{
 "cells": [
  {
   "cell_type": "markdown",
   "metadata": {},
   "source": [
    "# Building multiple AlphaFold3 input files from a FASTA file\n",
    "\n",
    "This notebook demonstrates how to build multiple JSON input files for AlphaFold3 from a FASTA file.\n",
    "\n",
    "**IMPORTANT**: To run this notebook, please install the feature dependencies, using uv: `uv sync --group examples`."
   ]
  },
  {
   "cell_type": "code",
   "execution_count": 12,
   "metadata": {},
   "outputs": [],
   "source": [
    "from af3cli import InputBuilder\n",
    "from af3cli.sequence import fasta2seq"
   ]
  },
  {
   "cell_type": "code",
   "execution_count": 13,
   "metadata": {},
   "outputs": [],
   "source": [
    "# Define the job name and FASTA file path\n",
    "JOB_NAME_PREFIX = \"demo_fasta_to_multi_input_files_\"\n",
    "FASTA_FILE = \"../data/demo_seq.fasta\""
   ]
  },
  {
   "cell_type": "code",
   "execution_count": 14,
   "metadata": {},
   "outputs": [],
   "source": [
    "# Read FASTA file and generate sequences as generator object\n",
    "sequences = fasta2seq(filename=FASTA_FILE)"
   ]
  },
  {
   "cell_type": "code",
   "execution_count": 15,
   "metadata": {},
   "outputs": [
    {
     "name": "stdout",
     "output_type": "stream",
     "text": [
      "af3cli_demo_sequence1\n",
      "af3cli_demo_sequence2\n",
      "af3cli_demo_sequence3\n"
     ]
    }
   ],
   "source": [
    "# Process each sequence from the FASTA file individually and save it to a separate JSON file.\n",
    "# Ensures that all sequences, even in cases of multiple entries, are handled one by one.\n",
    "for seq in sequences:\n",
    "    name = seq.seq_name\n",
    "    builder = InputBuilder()\n",
    "    builder.set_name(f\"{JOB_NAME_PREFIX}_{name}\")\n",
    "    builder.add_sequence(seq)\n",
    "    input_file = builder.build()\n",
    "    input_file.write(f\"{JOB_NAME_PREFIX}_{name}.json\")"
   ]
  },
  {
   "cell_type": "code",
   "execution_count": null,
   "metadata": {},
   "outputs": [],
   "source": []
  }
 ],
 "metadata": {
  "kernelspec": {
   "display_name": "Python 3 (ipykernel)",
   "language": "python",
   "name": "python3"
  },
  "language_info": {
   "codemirror_mode": {
    "name": "ipython",
    "version": 3
   },
   "file_extension": ".py",
   "mimetype": "text/x-python",
   "name": "python",
   "nbconvert_exporter": "python",
   "pygments_lexer": "ipython3",
   "version": "3.12.7"
  }
 },
 "nbformat": 4,
 "nbformat_minor": 4
}
