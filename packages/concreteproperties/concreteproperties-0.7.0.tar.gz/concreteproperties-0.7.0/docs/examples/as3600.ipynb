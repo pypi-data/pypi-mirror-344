{
 "cells": [
  {
   "cell_type": "markdown",
   "id": "0",
   "metadata": {},
   "source": [
    "# AS3600 Design Code\n",
    "This example demonstrates how to work with the AS3600:2018 design code. We start by importing the necessary modules."
   ]
  },
  {
   "cell_type": "code",
   "execution_count": null,
   "id": "1",
   "metadata": {},
   "outputs": [],
   "source": [
    "import matplotlib.pyplot as plt\n",
    "import numpy as np\n",
    "from sectionproperties.pre.library import concrete_rectangular_section\n",
    "\n",
    "from concreteproperties import (\n",
    "    BilinearStressStrain,\n",
    "    ConcreteSection,\n",
    "    EurocodeParabolicUltimate,\n",
    "    RectangularStressBlock,\n",
    ")\n",
    "from concreteproperties.design_codes import AS3600\n",
    "from concreteproperties.post import si_kn_m, si_n_mm\n",
    "from concreteproperties.results import BiaxialBendingResults, MomentInteractionResults"
   ]
  },
  {
   "cell_type": "markdown",
   "id": "2",
   "metadata": {},
   "source": [
    "## Create Design Code and Materials\n",
    "In this example 40 MPa concrete will be used with the default 500N steel."
   ]
  },
  {
   "cell_type": "code",
   "execution_count": null,
   "id": "3",
   "metadata": {},
   "outputs": [],
   "source": [
    "design_code = AS3600()\n",
    "concrete = design_code.create_concrete_material(compressive_strength=40)\n",
    "steel = design_code.create_steel_material()"
   ]
  },
  {
   "cell_type": "markdown",
   "id": "4",
   "metadata": {},
   "source": [
    "We can confirm the concrete material properties."
   ]
  },
  {
   "cell_type": "code",
   "execution_count": null,
   "id": "5",
   "metadata": {},
   "outputs": [],
   "source": [
    "print(concrete.name)\n",
    "print(f\"Density = {concrete.density} kg/mm^3\")\n",
    "concrete.stress_strain_profile.plot_stress_strain(\n",
    "    title=\"Service Profile\", eng=True, units=si_n_mm\n",
    ")\n",
    "concrete.ultimate_stress_strain_profile.plot_stress_strain(\n",
    "    title=\"Ultimate Profile\", eng=True, units=si_n_mm\n",
    ")\n",
    "print(\n",
    "    f\"Concrete Flexural Tensile Strength: {concrete.flexural_tensile_strength:.2f} MPa\"\n",
    ")"
   ]
  },
  {
   "cell_type": "markdown",
   "id": "6",
   "metadata": {},
   "source": [
    "We can confirm the steel material properties."
   ]
  },
  {
   "cell_type": "code",
   "execution_count": null,
   "id": "7",
   "metadata": {},
   "outputs": [],
   "source": [
    "print(steel.name)\n",
    "print(f\"Density = {steel.density} kg/mm^3\")\n",
    "steel.stress_strain_profile.plot_stress_strain(eng=True, units=si_n_mm)"
   ]
  },
  {
   "cell_type": "markdown",
   "id": "8",
   "metadata": {},
   "source": [
    "## Assign Geometry to Design Code\n",
    "This example will analyse a 600D x 450W concrete beam with 5N20s top and bottom. After creating the geometry it must be assigned to the design code object."
   ]
  },
  {
   "cell_type": "code",
   "execution_count": null,
   "id": "9",
   "metadata": {},
   "outputs": [],
   "source": [
    "geom = concrete_rectangular_section(\n",
    "    b=450,\n",
    "    d=600,\n",
    "    dia_top=20,\n",
    "    area_top=310,\n",
    "    n_top=5,\n",
    "    c_top=30,\n",
    "    dia_bot=20,\n",
    "    area_bot=310,\n",
    "    n_bot=5,\n",
    "    c_bot=30,\n",
    "    conc_mat=concrete,\n",
    "    steel_mat=steel,\n",
    ")\n",
    "\n",
    "conc_sec = ConcreteSection(geom)\n",
    "conc_sec.plot_section()\n",
    "design_code.assign_concrete_section(concrete_section=conc_sec)"
   ]
  },
  {
   "cell_type": "markdown",
   "id": "10",
   "metadata": {},
   "source": [
    "## Area Properties\n",
    "Obtaining the area properties is identical to that of a ``ConcreteSection`` object. The same can be done for a moment-curvature analysis and stress analyses (not carried out in this example)."
   ]
  },
  {
   "cell_type": "code",
   "execution_count": null,
   "id": "11",
   "metadata": {},
   "outputs": [],
   "source": [
    "gross_props = design_code.get_gross_properties()\n",
    "transformed_props = design_code.get_transformed_gross_properties(\n",
    "    elastic_modulus=concrete.stress_strain_profile.elastic_modulus\n",
    ")\n",
    "cracked_props = design_code.calculate_cracked_properties()\n",
    "\n",
    "gross_props.print_results()\n",
    "cracked_props.print_results()"
   ]
  },
  {
   "cell_type": "markdown",
   "id": "12",
   "metadata": {},
   "source": [
    "## Ultimate Bending Capacity\n",
    "The factored ultimate bending capacity can be found by calling the ``ultimate_bending_capacity()`` method. This method returns a factored and unfactored ``UltimateBendingResults`` object, as well as the capacity reduction factor ``phi``."
   ]
  },
  {
   "cell_type": "code",
   "execution_count": null,
   "id": "13",
   "metadata": {},
   "outputs": [],
   "source": [
    "f_ult_res, ult_res, phi = design_code.ultimate_bending_capacity()\n",
    "print(f\"Muo = {ult_res.m_xy / 1e6:.2f} kN.m\")\n",
    "print(f\"kuo = {ult_res.k_u:.4f}\")\n",
    "print(f\"phi = {phi:.3f}\")\n",
    "print(f\"phi.Muo = {f_ult_res.m_xy / 1e6:.2f} kN.m\")"
   ]
  },
  {
   "cell_type": "markdown",
   "id": "14",
   "metadata": {},
   "source": [
    "We can also pass an axial load to ``ultimate_bending_capacity()``. This will calculate the factored moment capacity by ensuring the supplied axial load equals the factored axial capacity, i.e. given a design axial force, what is the maximum moment my section can handle?"
   ]
  },
  {
   "cell_type": "code",
   "execution_count": null,
   "id": "15",
   "metadata": {},
   "outputs": [],
   "source": [
    "n_star = 1000e3\n",
    "f_ult_res, ult_res, phi = design_code.ultimate_bending_capacity(n_design=n_star)\n",
    "print(f\"N* = {n_star / 1e3:.0f} kN\")\n",
    "print(f\"Nu = {ult_res.n / 1e3:.2f} kN\")\n",
    "print(f\"Mu = {ult_res.m_xy / 1e6:.2f} kN.m\")\n",
    "print(f\"phi = {phi:.3f}\")\n",
    "print(f\"phi.Nu = {f_ult_res.n / 1e3:.0f} kN\")\n",
    "print(f\"phi.Mu = {f_ult_res.m_xy / 1e6:.2f} kN.m\")"
   ]
  },
  {
   "cell_type": "markdown",
   "id": "16",
   "metadata": {},
   "source": [
    "## Moment Interaction Diagram\n",
    "The factored moment interaction diagram can be found by calling the ``moment_interaction_diagram()`` method. This method returns a factored and unfactored ``MomentInteractionResults`` object."
   ]
  },
  {
   "cell_type": "code",
   "execution_count": null,
   "id": "17",
   "metadata": {},
   "outputs": [],
   "source": [
    "f_mi_res, mi_res, phis = design_code.moment_interaction_diagram(progress_bar=False)"
   ]
  },
  {
   "cell_type": "markdown",
   "id": "18",
   "metadata": {},
   "source": [
    "We can compare the factored and unfactored moment interaction diagrams."
   ]
  },
  {
   "cell_type": "code",
   "execution_count": null,
   "id": "19",
   "metadata": {},
   "outputs": [],
   "source": [
    "MomentInteractionResults.plot_multiple_diagrams(\n",
    "    [mi_res, f_mi_res],\n",
    "    [\"Unfactored\", \"Factored\"],\n",
    "    fmt=\"-\",\n",
    "    units=si_kn_m,\n",
    ")"
   ]
  },
  {
   "cell_type": "markdown",
   "id": "20",
   "metadata": {},
   "source": [
    "Using the list of capacity reduction factors ``phis``, we can visualise how the capacity reduction factor varies as a function of the applied axial load."
   ]
  },
  {
   "cell_type": "code",
   "execution_count": null,
   "id": "21",
   "metadata": {},
   "outputs": [],
   "source": [
    "fig, ax = plt.subplots()\n",
    "n_list, _ = mi_res.get_results_lists(moment=\"m_x\")  # get list of axial loads\n",
    "ax.plot(np.array(n_list) / 1e3, phis, \"-x\")\n",
    "plt.xlabel(\"Axial Force [kN]\")\n",
    "plt.ylabel(r\"$\\phi$\")\n",
    "plt.grid()\n",
    "plt.show()"
   ]
  },
  {
   "cell_type": "markdown",
   "id": "22",
   "metadata": {},
   "source": [
    "We can check to see if a combination of axial force and bending moment lies within the moment interaction diagram using the ``point_in_diagram()`` method."
   ]
  },
  {
   "cell_type": "code",
   "execution_count": null,
   "id": "23",
   "metadata": {
    "tags": [
     "nbsphinx-thumbnail"
    ]
   },
   "outputs": [],
   "source": [
    "# design load cases\n",
    "n_stars = [4000e3, 5000e3, -500e3, 1000e3]\n",
    "m_stars = [200e6, 400e6, 100e6, 551e6]\n",
    "marker_styles = [\"x\", \"+\", \"o\", \"*\"]\n",
    "n_cases = len(n_stars)\n",
    "\n",
    "# plot moment interaction diagram\n",
    "ax = f_mi_res.plot_diagram(\n",
    "    fmt=\"k-\",\n",
    "    units=si_kn_m,\n",
    "    render=False,\n",
    ")\n",
    "\n",
    "# check to see if combination is within diagram and plot result\n",
    "for idx in range(n_cases):\n",
    "    case = f_mi_res.point_in_diagram(n=n_stars[idx], m=m_stars[idx])\n",
    "    print(\"Case {num}: {status}\".format(num=idx + 1, status=\"OK\" if case else \"FAIL\"))\n",
    "    ax.plot(\n",
    "        m_stars[idx] / 1e6,\n",
    "        n_stars[idx] / 1e3,\n",
    "        \"k\" + marker_styles[idx],\n",
    "        markersize=10,\n",
    "        label=f\"Case {idx + 1}\",\n",
    "    )\n",
    "\n",
    "ax.legend()\n",
    "plt.show()"
   ]
  },
  {
   "cell_type": "markdown",
   "id": "24",
   "metadata": {},
   "source": [
    "Let's compare moment interaction diagrams using a rectangular stress block, a bilinear stress profile and a parabolic stress profile. AS 3600:2018 restricts the maximum stress in the profile to ``0.9 * f'c``."
   ]
  },
  {
   "cell_type": "code",
   "execution_count": null,
   "id": "25",
   "metadata": {},
   "outputs": [],
   "source": [
    "# bilinear\n",
    "concrete.ultimate_stress_strain_profile = BilinearStressStrain(\n",
    "    compressive_strength=0.9 * 40,\n",
    "    compressive_strain=0.0015,\n",
    "    ultimate_strain=0.003,\n",
    ")\n",
    "f_mi_res_bil, _, _ = design_code.moment_interaction_diagram(progress_bar=False)\n",
    "\n",
    "# parabolic\n",
    "concrete.ultimate_stress_strain_profile = EurocodeParabolicUltimate(\n",
    "    compressive_strength=0.9 * 40,\n",
    "    compressive_strain=0.0015,\n",
    "    ultimate_strain=0.003,\n",
    "    n=2,\n",
    ")\n",
    "f_mi_res_par, _, _ = design_code.moment_interaction_diagram(progress_bar=False)"
   ]
  },
  {
   "cell_type": "code",
   "execution_count": null,
   "id": "26",
   "metadata": {},
   "outputs": [],
   "source": [
    "MomentInteractionResults.plot_multiple_diagrams(\n",
    "    [f_mi_res, f_mi_res_bil, f_mi_res_par],\n",
    "    [\"Rectangular\", \"Bilinear\", \"Parabolic\"],\n",
    "    fmt=\"-\",\n",
    "    units=si_kn_m,\n",
    ")"
   ]
  },
  {
   "cell_type": "markdown",
   "id": "27",
   "metadata": {},
   "source": [
    "## Biaxial Bending Diagram\n",
    "We can also compute factored biaxial bending diagrams by calling the ``biaxial_bending_diagram()`` method. This method returns a factored ``BiaxialBendingResults`` object as well as a list of the capacity reduction factors ``phis``."
   ]
  },
  {
   "cell_type": "code",
   "execution_count": null,
   "id": "28",
   "metadata": {},
   "outputs": [],
   "source": [
    "# reset concrete ultimate profile\n",
    "concrete.ultimate_stress_strain_profile = RectangularStressBlock(\n",
    "    compressive_strength=40,\n",
    "    alpha=0.79,\n",
    "    gamma=0.87,\n",
    "    ultimate_strain=0.003,\n",
    ")\n",
    "\n",
    "# create biaxial bending diagram\n",
    "f_bb_res1, phis1 = design_code.biaxial_bending_diagram(n_points=24, progress_bar=False)\n",
    "bb_res1 = conc_sec.biaxial_bending_diagram(n_points=24, progress_bar=False)\n",
    "f_bb_res2, phis2 = design_code.biaxial_bending_diagram(\n",
    "    n_design=2000e3, n_points=24, progress_bar=False\n",
    ")\n",
    "bb_res2 = conc_sec.biaxial_bending_diagram(n=2000e3, n_points=24, progress_bar=False)"
   ]
  },
  {
   "cell_type": "code",
   "execution_count": null,
   "id": "29",
   "metadata": {},
   "outputs": [],
   "source": [
    "# plot case 1\n",
    "BiaxialBendingResults.plot_multiple_diagrams_2d(\n",
    "    [bb_res1, f_bb_res1],\n",
    "    labels=[\"Unfactored\", \"Factored\"],\n",
    "    units=si_kn_m,\n",
    ")\n",
    "print(f\"Average phi = {np.mean(phis1):.3f}\")\n",
    "\n",
    "# plot case 2\n",
    "BiaxialBendingResults.plot_multiple_diagrams_2d(\n",
    "    [bb_res2, f_bb_res2],\n",
    "    labels=[\"Unfactored\", \"Factored\"],\n",
    "    units=si_kn_m,\n",
    ")\n",
    "print(f\"Average phi = {np.mean(phis2):.3f}\")"
   ]
  },
  {
   "cell_type": "markdown",
   "id": "30",
   "metadata": {},
   "source": [
    "Note that as the bending angle changes, ``k_uo`` and ``N_ub`` change, resulting in a constantly changing value for ``phi``."
   ]
  }
 ],
 "metadata": {
  "kernelspec": {
   "display_name": "Python 3 (ipykernel)",
   "language": "python",
   "name": "python3"
  },
  "language_info": {
   "codemirror_mode": {
    "name": "ipython",
    "version": 3
   },
   "file_extension": ".py",
   "mimetype": "text/x-python",
   "name": "python",
   "nbconvert_exporter": "python",
   "pygments_lexer": "ipython3",
   "version": "3.12.7"
  },
  "vscode": {
   "interpreter": {
    "hash": "893b3ef6d13023afab4be8c5000be38ce11a760491bcfa4047435852657817d1"
   }
  }
 },
 "nbformat": 4,
 "nbformat_minor": 5
}
