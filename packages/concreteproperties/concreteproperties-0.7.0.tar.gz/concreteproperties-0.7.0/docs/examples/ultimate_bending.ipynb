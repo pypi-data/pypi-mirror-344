{
 "cells": [
  {
   "cell_type": "markdown",
   "id": "0",
   "metadata": {},
   "source": [
    "# Ultimate Bending Capacity"
   ]
  },
  {
   "cell_type": "markdown",
   "id": "1",
   "metadata": {},
   "source": [
    "This example demonstrates how to calculate ultimate bending capacities using ``concreteproperties``. We start by importing the necessary modules.\n"
   ]
  },
  {
   "cell_type": "code",
   "execution_count": null,
   "id": "2",
   "metadata": {},
   "outputs": [],
   "source": [
    "import numpy as np\n",
    "from sectionproperties.pre.library import rectangular_section, triangular_section\n",
    "\n",
    "import concreteproperties.stress_strain_profile as ssp\n",
    "from concreteproperties import (\n",
    "    Concrete,\n",
    "    ConcreteSection,\n",
    "    SteelBar,\n",
    "    add_bar_rectangular_array,\n",
    ")\n",
    "from concreteproperties.post import si_kn_m, si_n_mm"
   ]
  },
  {
   "cell_type": "markdown",
   "id": "3",
   "metadata": {},
   "source": [
    "## Assign Materials\n",
    "The materials used in this example will be 50 MPa concrete with 500 MPa steel, specified in accordance with AS 3600:2018."
   ]
  },
  {
   "cell_type": "code",
   "execution_count": null,
   "id": "4",
   "metadata": {},
   "outputs": [],
   "source": [
    "concrete = Concrete(\n",
    "    name=\"50 MPa Concrete\",\n",
    "    density=2.4e-6,\n",
    "    stress_strain_profile=ssp.ConcreteLinear(elastic_modulus=34.8e3),\n",
    "    ultimate_stress_strain_profile=ssp.RectangularStressBlock(\n",
    "        compressive_strength=50,\n",
    "        alpha=0.775,\n",
    "        gamma=0.845,\n",
    "        ultimate_strain=0.003,\n",
    "    ),\n",
    "    flexural_tensile_strength=4.2,\n",
    "    colour=\"lightgrey\",\n",
    ")\n",
    "\n",
    "steel = SteelBar(\n",
    "    name=\"500 MPa Steel\",\n",
    "    density=7.85e-6,\n",
    "    stress_strain_profile=ssp.SteelElasticPlastic(\n",
    "        yield_strength=500,\n",
    "        elastic_modulus=200e3,\n",
    "        fracture_strain=0.05,\n",
    "    ),\n",
    "    colour=\"grey\",\n",
    ")"
   ]
  },
  {
   "cell_type": "markdown",
   "id": "5",
   "metadata": {},
   "source": [
    "## Create Geometry and Concrete Section\n",
    "The section being analysed in this example is a 1200D x 900W x 150THK hollow box beam with 50 mm chamfers. The reinforcement detailed is 9N20 top bars and 9N28 bottom bars with 6N16 side face. The bars are cast central to the walls. The geometry is generated using the *sectionproperties* primitive sections library and geometry manipulation."
   ]
  },
  {
   "cell_type": "code",
   "execution_count": null,
   "id": "6",
   "metadata": {},
   "outputs": [],
   "source": [
    "# construct box by subtracting an inner rectangle from an outer rectangle\n",
    "outer = rectangular_section(d=1200, b=900, material=concrete)\n",
    "inner = rectangular_section(d=900, b=600).align_center(align_to=outer)\n",
    "box = outer - inner\n",
    "\n",
    "# generate four chamfers\n",
    "chamfer1 = (\n",
    "    triangular_section(b=50, h=50, material=concrete)\n",
    "    .align_to(other=inner, on=\"left\", inner=True)\n",
    "    .align_to(other=inner, on=\"bottom\", inner=True)\n",
    ")\n",
    "chamfer2 = chamfer1.mirror_section(axis=\"y\", mirror_point=(450, 600))\n",
    "chamfer3 = chamfer1.mirror_section(axis=\"x\", mirror_point=(450, 600))\n",
    "chamfer4 = chamfer2.mirror_section(axis=\"x\", mirror_point=(450, 600))\n",
    "\n",
    "# add chamfers to box\n",
    "geom = box + chamfer1 + chamfer2 + chamfer3 + chamfer4\n",
    "\n",
    "# add bottom bars\n",
    "geom = add_bar_rectangular_array(\n",
    "    geometry=geom,\n",
    "    area=620,\n",
    "    material=steel,\n",
    "    n_x=9,\n",
    "    x_s=750 / 8,\n",
    "    anchor=(75, 75),\n",
    ")\n",
    "\n",
    "# add top bars\n",
    "geom = add_bar_rectangular_array(\n",
    "    geometry=geom,\n",
    "    area=310,\n",
    "    material=steel,\n",
    "    n_x=9,\n",
    "    x_s=750 / 8,\n",
    "    anchor=(75, 1125),\n",
    ")\n",
    "\n",
    "# add side bars\n",
    "geom = add_bar_rectangular_array(\n",
    "    geometry=geom,\n",
    "    area=200,\n",
    "    material=steel,\n",
    "    n_x=2,\n",
    "    x_s=750,\n",
    "    n_y=6,\n",
    "    y_s=150,\n",
    "    anchor=(75, 225),\n",
    ")\n",
    "\n",
    "conc_sec = ConcreteSection(geom)\n",
    "conc_sec.plot_section()"
   ]
  },
  {
   "cell_type": "markdown",
   "id": "7",
   "metadata": {},
   "source": [
    "## Calclulate Ultimate Properties ($N = 0$)\n",
    "In this example we’ll calculate the ultimate bending capacity for sagging ($\\theta = 0$), hogging ($\\theta = \\pi$) and weak axis bending ($\\theta = \\pi / 2$). To do this we call the ``ultimate_bending_capacity()`` method:"
   ]
  },
  {
   "cell_type": "code",
   "execution_count": null,
   "id": "8",
   "metadata": {},
   "outputs": [],
   "source": [
    "sag_res = conc_sec.ultimate_bending_capacity()\n",
    "hog_res = conc_sec.ultimate_bending_capacity(theta=np.pi)\n",
    "weak_res = conc_sec.ultimate_bending_capacity(theta=np.pi / 2)"
   ]
  },
  {
   "cell_type": "markdown",
   "id": "9",
   "metadata": {},
   "source": [
    "## Displaying the Results  ($N = 0$)\n",
    "We can print the ultimate bending results to the terminal by using the ``print_results()`` method."
   ]
  },
  {
   "cell_type": "code",
   "execution_count": null,
   "id": "10",
   "metadata": {},
   "outputs": [],
   "source": [
    "sag_res.print_results(units=si_kn_m)"
   ]
  },
  {
   "cell_type": "code",
   "execution_count": null,
   "id": "11",
   "metadata": {},
   "outputs": [],
   "source": [
    "si_n_mm.radians = False  # display angles in degrees\n",
    "hog_res.print_results(units=si_n_mm)"
   ]
  },
  {
   "cell_type": "code",
   "execution_count": null,
   "id": "12",
   "metadata": {},
   "outputs": [],
   "source": [
    "weak_res.print_results()"
   ]
  },
  {
   "cell_type": "markdown",
   "id": "13",
   "metadata": {},
   "source": [
    "We can also extract specific results from the ``UltimateBendingResults`` objects. Note that ``m_xy`` refers to the resultant bending moment, so will always be positive."
   ]
  },
  {
   "cell_type": "code",
   "execution_count": null,
   "id": "14",
   "metadata": {},
   "outputs": [],
   "source": [
    "print(f\"M_x+ = {sag_res.m_xy / 1e6:.2f} kN.m\")\n",
    "print(f\"M_x- = {hog_res.m_xy / 1e6:.2f} kN.m\")\n",
    "print(f\"M_y = {weak_res.m_xy / 1e6:.2f} kN.m\")"
   ]
  },
  {
   "cell_type": "markdown",
   "id": "15",
   "metadata": {},
   "source": [
    "## Calclulate Ultimate Properties ($N = 5000$ kN)\n",
    "Say our reinforced concrete cross-section has an axial compression of 5000 kN. We can also calculate the ultimate bending capacities given this axial load."
   ]
  },
  {
   "cell_type": "code",
   "execution_count": null,
   "id": "16",
   "metadata": {},
   "outputs": [],
   "source": [
    "n = 5000e3\n",
    "sag_axial_res = conc_sec.ultimate_bending_capacity(n=n)\n",
    "hog_axial_res = conc_sec.ultimate_bending_capacity(theta=np.pi, n=n)\n",
    "weak_axial_res = conc_sec.ultimate_bending_capacity(theta=np.pi / 2, n=n)"
   ]
  },
  {
   "cell_type": "markdown",
   "id": "17",
   "metadata": {},
   "source": [
    "## Displaying the Results  ($N = 5000$ kN)\n"
   ]
  },
  {
   "cell_type": "code",
   "execution_count": null,
   "id": "18",
   "metadata": {},
   "outputs": [],
   "source": [
    "msg_sag = f\"M_x+ = {sag_axial_res.m_xy / 1e6:.1f} kN.m \"\n",
    "msg_sag += f\"with N = {sag_axial_res.n / 1e3:.0f} kN\"\n",
    "msg_hog = f\"M_x- = {hog_axial_res.m_xy / 1e6:.1f} kN.m \"\n",
    "msg_hog += f\"with N = {hog_axial_res.n / 1e3:.0f} kN\"\n",
    "msg_weak = f\"M_y = {weak_axial_res.m_xy / 1e6:.1f} kN.m \"\n",
    "msg_weak += f\"with N = {weak_axial_res.n / 1e3:.0f} kN\"\n",
    "\n",
    "print(msg_sag)\n",
    "print(msg_hog)\n",
    "print(msg_weak)"
   ]
  }
 ],
 "metadata": {
  "kernelspec": {
   "display_name": "Python 3 (ipykernel)",
   "language": "python",
   "name": "python3"
  },
  "language_info": {
   "codemirror_mode": {
    "name": "ipython",
    "version": 3
   },
   "file_extension": ".py",
   "mimetype": "text/x-python",
   "name": "python",
   "nbconvert_exporter": "python",
   "pygments_lexer": "ipython3",
   "version": "3.12.7"
  },
  "vscode": {
   "interpreter": {
    "hash": "cbcd46708823968cdeec8140ad70b4bb10e53ceac96cecaaf557485e336f0189"
   }
  }
 },
 "nbformat": 4,
 "nbformat_minor": 5
}
