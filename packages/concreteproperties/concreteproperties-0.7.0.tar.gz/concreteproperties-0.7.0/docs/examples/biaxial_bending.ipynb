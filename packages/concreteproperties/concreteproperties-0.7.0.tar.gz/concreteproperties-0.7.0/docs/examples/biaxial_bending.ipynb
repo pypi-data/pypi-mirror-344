{
 "cells": [
  {
   "cell_type": "markdown",
   "id": "0",
   "metadata": {},
   "source": [
    "# Biaxial Bending Diagram"
   ]
  },
  {
   "cell_type": "markdown",
   "id": "1",
   "metadata": {},
   "source": [
    "This example demonstrates how to generate biaxial bending diagrams. We start by importing the necessary modules."
   ]
  },
  {
   "cell_type": "code",
   "execution_count": null,
   "id": "2",
   "metadata": {},
   "outputs": [],
   "source": [
    "import numpy as np\n",
    "from sectionproperties.pre.library import rectangular_section\n",
    "\n",
    "from concreteproperties import (\n",
    "    Concrete,\n",
    "    ConcreteLinear,\n",
    "    ConcreteSection,\n",
    "    RectangularStressBlock,\n",
    "    SteelBar,\n",
    "    SteelElasticPlastic,\n",
    "    add_bar_rectangular_array,\n",
    ")\n",
    "from concreteproperties.post import si_kn_m\n",
    "from concreteproperties.results import BiaxialBendingResults"
   ]
  },
  {
   "cell_type": "markdown",
   "id": "3",
   "metadata": {},
   "source": [
    "## Assign Materials\n",
    "The materials used in this example will be 40 MPa concrete and 500 MPa steel, specified in accordance with AS 3600:2018."
   ]
  },
  {
   "cell_type": "code",
   "execution_count": null,
   "id": "4",
   "metadata": {},
   "outputs": [],
   "source": [
    "concrete = Concrete(\n",
    "    name=\"40 MPa Concrete\",\n",
    "    density=2.4e-6,\n",
    "    stress_strain_profile=ConcreteLinear(elastic_modulus=32.8e3),\n",
    "    ultimate_stress_strain_profile=RectangularStressBlock(\n",
    "        compressive_strength=40,\n",
    "        alpha=0.79,\n",
    "        gamma=0.87,\n",
    "        ultimate_strain=0.003,\n",
    "    ),\n",
    "    flexural_tensile_strength=3.8,\n",
    "    colour=\"lightgrey\",\n",
    ")\n",
    "\n",
    "steel = SteelBar(\n",
    "    name=\"500 MPa Steel\",\n",
    "    density=7.85e-6,\n",
    "    stress_strain_profile=SteelElasticPlastic(\n",
    "        yield_strength=500,\n",
    "        elastic_modulus=200e3,\n",
    "        fracture_strain=0.05,\n",
    "    ),\n",
    "    colour=\"grey\",\n",
    ")"
   ]
  },
  {
   "cell_type": "markdown",
   "id": "5",
   "metadata": {},
   "source": [
    "## Create Geometry and Concrete Section\n",
    "In this example we'll use the geometry from the [Moment Curvature Analysis](moment_curvature.ipynb#Create-Reinforced-Concrete-Geometry) example, without the circular void."
   ]
  },
  {
   "cell_type": "code",
   "execution_count": null,
   "id": "6",
   "metadata": {},
   "outputs": [],
   "source": [
    "col = rectangular_section(d=350, b=600, material=concrete)\n",
    "\n",
    "# add bars to column\n",
    "geom = add_bar_rectangular_array(\n",
    "    geometry=col,\n",
    "    area=450,\n",
    "    material=steel,\n",
    "    n_x=6,\n",
    "    x_s=492 / 5,\n",
    "    n_y=3,\n",
    "    y_s=121,\n",
    "    anchor=(54, 54),\n",
    "    exterior_only=True,\n",
    ")\n",
    "\n",
    "conc_sec = ConcreteSection(geom)\n",
    "conc_sec.plot_section()"
   ]
  },
  {
   "cell_type": "markdown",
   "id": "7",
   "metadata": {},
   "source": [
    "## Biaxial Bending Diagram\n",
    "We can create a biaxial bending diagram by calling the ``biaxial_bending_diagram()`` method. We first create a biaxial bending diagram for pure bending, i.e. no axial force."
   ]
  },
  {
   "cell_type": "code",
   "execution_count": null,
   "id": "8",
   "metadata": {},
   "outputs": [],
   "source": [
    "bb_res = conc_sec.biaxial_bending_diagram(n_points=24, progress_bar=False)"
   ]
  },
  {
   "cell_type": "markdown",
   "id": "9",
   "metadata": {},
   "source": [
    "We can plot the biaxial bending diagram by calling the ``plot_diagram()`` method."
   ]
  },
  {
   "cell_type": "code",
   "execution_count": null,
   "id": "10",
   "metadata": {},
   "outputs": [],
   "source": [
    "bb_res.plot_diagram(eng=True, units=si_kn_m)"
   ]
  },
  {
   "cell_type": "markdown",
   "id": "11",
   "metadata": {},
   "source": [
    "Say we know the column has an axial force of 1000 kN, we can generate a biaxial bending diagram for this case by passing this to the parameter ``n``. "
   ]
  },
  {
   "cell_type": "code",
   "execution_count": null,
   "id": "12",
   "metadata": {},
   "outputs": [],
   "source": [
    "bb_res = conc_sec.biaxial_bending_diagram(n=1000e3, n_points=24, progress_bar=False)\n",
    "bb_res.plot_diagram(eng=True, units=si_kn_m)"
   ]
  },
  {
   "cell_type": "markdown",
   "id": "13",
   "metadata": {},
   "source": [
    "## Plotting Multiple Diagrams\n",
    "We can also plot multiple diagrams at once by using the ``BiaxialBendingResults.plot_multiple_diagrams()`` class method. Here we will generate biaxial bending diagrams with varying axial load from pure bending up to the decompression point. We start by examining the moment interaction diagrams to find the decompression point."
   ]
  },
  {
   "cell_type": "code",
   "execution_count": null,
   "id": "14",
   "metadata": {},
   "outputs": [],
   "source": [
    "mi_x = conc_sec.moment_interaction_diagram(progress_bar=False)\n",
    "mi_y = conc_sec.moment_interaction_diagram(theta=np.pi / 2, progress_bar=False)\n",
    "mi_x.plot_diagram(eng=True)\n",
    "mi_y.plot_diagram(moment=\"m_y\", eng=True)\n",
    "print(f\"Decompression point for M_x is N = {mi_x.results[1].n / 1e3:.2f} kN\")\n",
    "print(f\"Decompression point for M_y is N = {mi_y.results[1].n / 1e3:.2f} kN\")"
   ]
  },
  {
   "cell_type": "markdown",
   "id": "15",
   "metadata": {},
   "source": [
    "Let's generate 5 biaxial bending curves from pure bending ($N=0$ kN) to close to the decompression point ($N=7400$ kN)."
   ]
  },
  {
   "cell_type": "code",
   "execution_count": null,
   "id": "16",
   "metadata": {},
   "outputs": [],
   "source": [
    "n_list = np.linspace(0, 7400e3, 5)\n",
    "biaxial_results = [\n",
    "    conc_sec.biaxial_bending_diagram(n=n, n_points=24, progress_bar=False)\n",
    "    for n in n_list\n",
    "]"
   ]
  },
  {
   "cell_type": "markdown",
   "id": "17",
   "metadata": {},
   "source": [
    "Now that we have the results, we can plot all the diagrams on a 3D plot!"
   ]
  },
  {
   "cell_type": "code",
   "execution_count": null,
   "id": "18",
   "metadata": {},
   "outputs": [],
   "source": [
    "BiaxialBendingResults.plot_multiple_diagrams_3d(\n",
    "    biaxial_results,\n",
    "    eng=True,\n",
    "    units=si_kn_m,\n",
    ")"
   ]
  },
  {
   "cell_type": "markdown",
   "id": "19",
   "metadata": {},
   "source": [
    "We can also generate a 2D plot of the biaxial bending results."
   ]
  },
  {
   "cell_type": "code",
   "execution_count": null,
   "id": "20",
   "metadata": {},
   "outputs": [],
   "source": [
    "BiaxialBendingResults.plot_multiple_diagrams_2d(\n",
    "    biaxial_results,\n",
    "    fmt=\"o-\",\n",
    "    eng=True,\n",
    "    units=si_kn_m,\n",
    ")"
   ]
  },
  {
   "cell_type": "markdown",
   "id": "21",
   "metadata": {},
   "source": [
    "We can specify custom labels for the above plot."
   ]
  },
  {
   "cell_type": "code",
   "execution_count": null,
   "id": "22",
   "metadata": {},
   "outputs": [],
   "source": [
    "labels = [f\"N = {bb_res.n / 1e3:.0f} kN\" for bb_res in biaxial_results[::2]]\n",
    "\n",
    "ax = BiaxialBendingResults.plot_multiple_diagrams_2d(\n",
    "    biaxial_results[::2],\n",
    "    fmt=\"-\",\n",
    "    labels=labels,\n",
    "    units=si_kn_m,\n",
    ")"
   ]
  }
 ],
 "metadata": {
  "kernelspec": {
   "display_name": "Python 3 (ipykernel)",
   "language": "python",
   "name": "python3"
  },
  "language_info": {
   "codemirror_mode": {
    "name": "ipython",
    "version": 3
   },
   "file_extension": ".py",
   "mimetype": "text/x-python",
   "name": "python",
   "nbconvert_exporter": "python",
   "pygments_lexer": "ipython3",
   "version": "3.12.7"
  }
 },
 "nbformat": 4,
 "nbformat_minor": 5
}
