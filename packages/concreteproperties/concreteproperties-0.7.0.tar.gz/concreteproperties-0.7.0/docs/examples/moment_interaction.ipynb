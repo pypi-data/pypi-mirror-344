{
 "cells": [
  {
   "cell_type": "markdown",
   "id": "0",
   "metadata": {},
   "source": [
    "# Moment Interaction Diagram"
   ]
  },
  {
   "cell_type": "markdown",
   "id": "1",
   "metadata": {},
   "source": [
    "This example demonstrates how to generate moment interaction diagrams. We start by importing the necessary modules."
   ]
  },
  {
   "cell_type": "code",
   "execution_count": null,
   "id": "2",
   "metadata": {},
   "outputs": [],
   "source": [
    "import numpy as np\n",
    "from sectionproperties.pre.library import concrete_rectangular_section\n",
    "\n",
    "from concreteproperties import (\n",
    "    Concrete,\n",
    "    ConcreteLinear,\n",
    "    ConcreteSection,\n",
    "    RectangularStressBlock,\n",
    "    SteelBar,\n",
    "    SteelElasticPlastic,\n",
    ")\n",
    "from concreteproperties.post import si_kn_m, si_n_mm\n",
    "from concreteproperties.results import MomentInteractionResults"
   ]
  },
  {
   "cell_type": "markdown",
   "id": "3",
   "metadata": {},
   "source": [
    "## Assign Materials\n",
    "The materials used in this example will be 32 MPa concrete and 500 MPa steel, specified in accordance with AS 3600:2018."
   ]
  },
  {
   "cell_type": "code",
   "execution_count": null,
   "id": "4",
   "metadata": {},
   "outputs": [],
   "source": [
    "concrete = Concrete(\n",
    "    name=\"32 MPa Concrete\",\n",
    "    density=2.4e-6,\n",
    "    stress_strain_profile=ConcreteLinear(elastic_modulus=30.1e3),\n",
    "    ultimate_stress_strain_profile=RectangularStressBlock(\n",
    "        compressive_strength=32,\n",
    "        alpha=0.802,\n",
    "        gamma=0.89,\n",
    "        ultimate_strain=0.003,\n",
    "    ),\n",
    "    flexural_tensile_strength=3.4,\n",
    "    colour=\"lightgrey\",\n",
    ")\n",
    "\n",
    "steel = SteelBar(\n",
    "    name=\"500 MPa Steel\",\n",
    "    density=7.85e-6,\n",
    "    stress_strain_profile=SteelElasticPlastic(\n",
    "        yield_strength=500,\n",
    "        elastic_modulus=200e3,\n",
    "        fracture_strain=0.05,\n",
    "    ),\n",
    "    colour=\"grey\",\n",
    ")"
   ]
  },
  {
   "cell_type": "markdown",
   "id": "5",
   "metadata": {},
   "source": [
    "## Create Geometry and Concrete Section\n",
    "The geometry used in this example is identical to that used in [Calculating Area Properties](area_properties.ipynb#Create-Geometry-and-Concrete-Section)."
   ]
  },
  {
   "cell_type": "code",
   "execution_count": null,
   "id": "6",
   "metadata": {},
   "outputs": [],
   "source": [
    "geom = concrete_rectangular_section(\n",
    "    b=400,\n",
    "    d=600,\n",
    "    dia_top=20,\n",
    "    area_top=310,\n",
    "    n_top=3,\n",
    "    c_top=30,\n",
    "    dia_bot=24,\n",
    "    area_bot=450,\n",
    "    n_bot=3,\n",
    "    c_bot=30,\n",
    "    conc_mat=concrete,\n",
    "    steel_mat=steel,\n",
    ")\n",
    "\n",
    "conc_sec = ConcreteSection(geom)\n",
    "conc_sec.plot_section()"
   ]
  },
  {
   "cell_type": "markdown",
   "id": "7",
   "metadata": {},
   "source": [
    "## Moment Interaction Diagram\n",
    "We perform a moment interaction analysis by calling the ``moment_interaction_diagram()`` method."
   ]
  },
  {
   "cell_type": "code",
   "execution_count": null,
   "id": "8",
   "metadata": {},
   "outputs": [],
   "source": [
    "mi_res = conc_sec.moment_interaction_diagram(progress_bar=False)"
   ]
  },
  {
   "cell_type": "markdown",
   "id": "9",
   "metadata": {},
   "source": [
    "We can plot the moment interaction diagram by calling the ``plot_diagram()`` method."
   ]
  },
  {
   "cell_type": "code",
   "execution_count": null,
   "id": "10",
   "metadata": {},
   "outputs": [],
   "source": [
    "mi_res.plot_diagram(eng=True, units=si_n_mm)"
   ]
  },
  {
   "cell_type": "markdown",
   "id": "11",
   "metadata": {},
   "source": [
    "What if we were interested in bending about the ``y`` axis? In this case the neutral axis angle would be $\\theta = \\pi / 2$. Let's generate a moment interaction diagram for this case. We must specify that the moments to plot are those about the ``y`` axis."
   ]
  },
  {
   "cell_type": "code",
   "execution_count": null,
   "id": "12",
   "metadata": {},
   "outputs": [],
   "source": [
    "mi_res = conc_sec.moment_interaction_diagram(theta=np.pi / 2, progress_bar=False)\n",
    "mi_res.plot_diagram(moment=\"m_y\", units=si_kn_m)"
   ]
  },
  {
   "cell_type": "markdown",
   "id": "13",
   "metadata": {},
   "source": [
    "## Plotting Multiple Diagrams\n",
    "We can also plot multiple diagrams at once by using the ``MomentInteractionResults.plot_multiple_diagrams()`` class method. In this example we'll create four different reinforced concrete cross-sections with different reinforcement ratios."
   ]
  },
  {
   "cell_type": "code",
   "execution_count": null,
   "id": "14",
   "metadata": {},
   "outputs": [],
   "source": [
    "# create lists to hold results and labels\n",
    "mi_results = []\n",
    "labels = []\n",
    "\n",
    "# create four different sections with increasing reinforcement\n",
    "# and peform a moment interaction analysis\n",
    "for idx in range(4):\n",
    "    geom = concrete_rectangular_section(\n",
    "        b=400,\n",
    "        d=600,\n",
    "        dia_top=16,\n",
    "        area_top=200 * (idx + 1),\n",
    "        n_top=6,\n",
    "        c_top=66,\n",
    "        dia_bot=16,\n",
    "        area_bot=200 * (idx + 1),\n",
    "        n_bot=6,\n",
    "        c_bot=66,\n",
    "        conc_mat=concrete,\n",
    "        steel_mat=steel,\n",
    "    )\n",
    "\n",
    "    conc_sec = ConcreteSection(geom)\n",
    "    mi_results.append(conc_sec.moment_interaction_diagram(progress_bar=False))\n",
    "    labels.append(f\"p = {0.01 * (idx + 1)}\")"
   ]
  },
  {
   "cell_type": "code",
   "execution_count": null,
   "id": "15",
   "metadata": {},
   "outputs": [],
   "source": [
    "# plot all the diagrams on one image\n",
    "MomentInteractionResults.plot_multiple_diagrams(\n",
    "    moment_interaction_results=mi_results,\n",
    "    labels=labels,\n",
    "    fmt=\"-\",\n",
    "    units=si_kn_m,\n",
    ")"
   ]
  },
  {
   "cell_type": "markdown",
   "id": "16",
   "metadata": {},
   "source": [
    "## Positive & Negative Interaction Diagrams\n",
    "We can combine positive and negative bending on one plot using the ``plot_multiple_diagrams()`` method. Here we genearte results for ``theta = 0`` and ``theta = np.pi`` and plot both diagrams."
   ]
  },
  {
   "cell_type": "code",
   "execution_count": null,
   "id": "17",
   "metadata": {},
   "outputs": [],
   "source": [
    "geom = concrete_rectangular_section(\n",
    "    b=400,\n",
    "    d=600,\n",
    "    dia_top=20,\n",
    "    area_top=310,\n",
    "    n_top=3,\n",
    "    c_top=30,\n",
    "    dia_bot=24,\n",
    "    area_bot=450,\n",
    "    n_bot=3,\n",
    "    c_bot=30,\n",
    "    conc_mat=concrete,\n",
    "    steel_mat=steel,\n",
    ")\n",
    "conc_sec = ConcreteSection(geom)\n",
    "\n",
    "mi_res_pos = conc_sec.moment_interaction_diagram(progress_bar=False)\n",
    "mi_res_neg = conc_sec.moment_interaction_diagram(theta=np.pi, progress_bar=False)\n",
    "\n",
    "MomentInteractionResults.plot_multiple_diagrams(\n",
    "    moment_interaction_results=[mi_res_pos, mi_res_neg],\n",
    "    labels=[\"Positive\", \"Negative\"],\n",
    "    fmt=\"-\",\n",
    "    eng=True,\n",
    "    units=si_n_mm,\n",
    ")"
   ]
  },
  {
   "cell_type": "markdown",
   "id": "18",
   "metadata": {},
   "source": [
    "In the above plot the bending capacity is higher for positive bending and not symmetric. This is because the bottom bars (3N24) provide more area than the top bars (3N20)."
   ]
  },
  {
   "cell_type": "markdown",
   "id": "19",
   "metadata": {},
   "source": [
    "## Advanced Features\n",
    "This section will describe some advanced features that can be used to control how the moment interaction diagram is generated and displayed.\n",
    "\n",
    "The limits of the moment interaction diagram and any additional analysis points can be specified by defining control points. Control points are defined as a list of (``str``, ``float``) tuples. The following types of control points are used in ``concreteproperties``:\n",
    "\n",
    "1. ``D`` - ratio of neutral axis depth to section depth, e.g. the (``\"D\"``, ``0.5``) control point will ensure a neutral axis at mid-depth is analysed.\n",
    "\n",
    "2. ``d_n`` - neutral axis depth, e.g. the (``\"d_n\"``, ``200``) control point will ensure a neutral axis at 200 is analysed.\n",
    "\n",
    "3. ``fy`` - yield ratio of the most extreme tensile bar, e.g. the (``\"fy\"``, ``0.5``) control point will ensure a neutral axis corresponding to a strain of half the yield strain in the extreme tensile bar is analysed. The (``\"fy\"``, ``1.0``) control point is the balanced point.\n",
    "\n",
    "4. ``N`` - axial force, e.g. (``\"N\"``, ``3000e3``) ensures a neutral axis depth corresponding to a net axial force of 3000e3 is analysed.\n",
    "\n",
    "5. ``kappa_0`` - zero curvature compression, this must be at start of the list as it results in the largest compression force. Note that the second value in the tuple is not used and can be anything.<br>\n",
    "\n",
    "The following parameters can be used to modify the moment interaction diagram:\n",
    "\n",
    "1. ``limits`` - List of control points that define the start and end of the interaction diagram. List length must equal two. The default limits range from concrete decompression strain ``(\"D\", 1.0)`` to zero curvature tension ``(\"d_n\", 1e-6)``.\n",
    "\n",
    "2. ``control_points`` - adding control points to the moment interaction diagram allows the user to ensure certain points are captured on the moment interaction diagram.  The default argument for ``control_points`` is ``[(\"kappa0\", 0.0), (\"fy\", 1.0), (\"N\", 0.0)]`` which produces control points at the pure compression point, the balanced point and the pure bending point. \n",
    "    \n",
    "\n",
    "3. ``labels`` - A list of labels to apply to the ``limits`` and ``control_points`` for plotting purposes. The first two values in ``labels`` apply labels to the ``limits``, the remaining values apply labels to the ``control_points``.\n",
    "\n",
    "4. ``n_points`` - The number of points to compute including and between the ``limits`` of the moment interaction diagram. Generates equally spaced neutral axis depths between the ``limits``.\n",
    "\n",
    "5. ``n_spacing`` - If provided, overrides ``n_points`` and generates the moment interaction diagram using ``n_spacing`` equally spaced axial loads.\n",
    "\n",
    "6. ``max_comp`` - Limits the maximum compressive force in the moment interaction diagram by cutting off the top of the diagram."
   ]
  },
  {
   "cell_type": "markdown",
   "id": "20",
   "metadata": {},
   "source": [
    "The below example will use these features, creating additional control points at:\n",
    "\n",
    "- Decompression point for the concrete ``(\"D\", 1.0)`` - label ``C``\n",
    "- Decompression point for the steel ``(\"fy\", 0.0)`` - label ``D``\n",
    "- 50% yield strain in the steel ``(\"fy\", 0.5)`` - label ``E``\n",
    "- 100% yield strain in the steel ``(\"fy\", 1.0)`` - label ``F``\n",
    "- Neutral axis depth of 200 mm ``(\"d_n\", 200.0)`` - label ``G``\n",
    "\n",
    "A maximum compressive force of 6800 kN is provided. Label ``A`` is placed at zero bending moment and label ``B`` is placed at the intersection with the moment interaction diagram.\n",
    "\n",
    "The limits of the moment interaction diagram are taken from:\n",
    "\n",
    "- Pure compression ``(\"kappa0\", 0)`` - note label ``NA`` is removed by ``max_comp``\n",
    "- Pure tension ``(\"d_n\", 1e-6)`` - label ``I``\n",
    "\n",
    "The interaction diagram is generated with constant axial force spacing using 36 points."
   ]
  },
  {
   "cell_type": "code",
   "execution_count": null,
   "id": "21",
   "metadata": {},
   "outputs": [],
   "source": [
    "mi_res = conc_sec.moment_interaction_diagram(\n",
    "    limits=[\n",
    "        (\"kappa0\", 0.0),\n",
    "        (\"d_n\", 1e-6),\n",
    "    ],\n",
    "    control_points=[\n",
    "        (\"D\", 1.0),\n",
    "        (\"fy\", 0.0),\n",
    "        (\"fy\", 0.5),\n",
    "        (\"fy\", 1.0),\n",
    "        (\"d_n\", 200.0),\n",
    "        (\"N\", 0.0),\n",
    "    ],\n",
    "    labels=[\"NA\", \"I\", \"C\", \"D\", \"E\", \"F\", \"G\", \"H\"],\n",
    "    n_spacing=36,\n",
    "    max_comp=6.8e6,\n",
    "    max_comp_labels=[\"A\", \"B\"],\n",
    "    progress_bar=False,\n",
    ")"
   ]
  },
  {
   "cell_type": "markdown",
   "id": "22",
   "metadata": {},
   "source": [
    "To display the labels set ``labels=True``. The argument ``label_offset`` attempts to offset the labels from the diagram in a pretty way."
   ]
  },
  {
   "cell_type": "code",
   "execution_count": null,
   "id": "23",
   "metadata": {},
   "outputs": [],
   "source": [
    "import matplotlib.pyplot as plt\n",
    "\n",
    "ax = mi_res.plot_diagram(\n",
    "    fmt=\"-kx\",\n",
    "    labels=True,\n",
    "    label_offset=True,\n",
    "    units=si_kn_m,\n",
    "    render=False,\n",
    ")\n",
    "\n",
    "# reset axis limits to ensure labels are within plot\n",
    "ax.set_xlim(-20, 850)\n",
    "ax.set_ylim(-3000, 9000)\n",
    "plt.show()"
   ]
  }
 ],
 "metadata": {
  "kernelspec": {
   "display_name": "Python 3 (ipykernel)",
   "language": "python",
   "name": "python3"
  },
  "language_info": {
   "codemirror_mode": {
    "name": "ipython",
    "version": 3
   },
   "file_extension": ".py",
   "mimetype": "text/x-python",
   "name": "python",
   "nbconvert_exporter": "python",
   "pygments_lexer": "ipython3",
   "version": "3.12.7"
  },
  "vscode": {
   "interpreter": {
    "hash": "cbcd46708823968cdeec8140ad70b4bb10e53ceac96cecaaf557485e336f0189"
   }
  }
 },
 "nbformat": 4,
 "nbformat_minor": 5
}
