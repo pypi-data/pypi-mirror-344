{
 "cells": [
  {
   "cell_type": "markdown",
   "id": "0",
   "metadata": {},
   "source": [
    "# Moment Curvature Analysis"
   ]
  },
  {
   "cell_type": "markdown",
   "id": "1",
   "metadata": {},
   "source": [
    "This example demonstrates how to perform a moment curvature analysis using ``concreteproperties``. We start by importing the necessary modules."
   ]
  },
  {
   "cell_type": "code",
   "execution_count": null,
   "id": "2",
   "metadata": {},
   "outputs": [],
   "source": [
    "import numpy as np\n",
    "from sectionproperties.pre.library import circular_section, rectangular_section\n",
    "\n",
    "import concreteproperties.stress_strain_profile as ssp\n",
    "from concreteproperties import (\n",
    "    Concrete,\n",
    "    ConcreteSection,\n",
    "    SteelBar,\n",
    "    add_bar_rectangular_array,\n",
    ")\n",
    "from concreteproperties.post import si_kn_m, si_n_mm\n",
    "from concreteproperties.results import MomentCurvatureResults"
   ]
  },
  {
   "cell_type": "markdown",
   "id": "3",
   "metadata": {},
   "source": [
    "## Assign Materials\n",
    "\n",
    "Multiple material types will be used in this example to highlight different moment curvature results."
   ]
  },
  {
   "cell_type": "code",
   "execution_count": null,
   "id": "4",
   "metadata": {},
   "outputs": [],
   "source": [
    "conc_linear = Concrete(\n",
    "    name=\"Linear Concrete\",\n",
    "    density=2.4e-6,\n",
    "    stress_strain_profile=ssp.ConcreteLinear(\n",
    "        elastic_modulus=35e3, ultimate_strain=0.0035\n",
    "    ),\n",
    "    ultimate_stress_strain_profile=ssp.BilinearStressStrain(\n",
    "        compressive_strength=40,\n",
    "        compressive_strain=0.00175,\n",
    "        ultimate_strain=0.0035,\n",
    "    ),\n",
    "    flexural_tensile_strength=3.5,\n",
    "    colour=\"lightgrey\",\n",
    ")\n",
    "\n",
    "conc_linear_no_tension = Concrete(\n",
    "    name=\"Linear Concrete (No T)\",\n",
    "    density=2.4e-6,\n",
    "    stress_strain_profile=ssp.ConcreteLinearNoTension(\n",
    "        elastic_modulus=35e3, ultimate_strain=0.0035\n",
    "    ),\n",
    "    ultimate_stress_strain_profile=ssp.BilinearStressStrain(\n",
    "        compressive_strength=40,\n",
    "        compressive_strain=0.00175,\n",
    "        ultimate_strain=0.0035,\n",
    "    ),\n",
    "    flexural_tensile_strength=3.5,\n",
    "    colour=\"lightgrey\",\n",
    ")\n",
    "\n",
    "\n",
    "conc_nonlinear = Concrete(\n",
    "    name=\"Non-Linear Concrete\",\n",
    "    density=2.4e-6,\n",
    "    stress_strain_profile=ssp.EurocodeNonLinear(\n",
    "        elastic_modulus=35e3,\n",
    "        ultimate_strain=0.0035,\n",
    "        compressive_strength=40,\n",
    "        compressive_strain=0.0023,\n",
    "        tensile_strength=3.5,\n",
    "        tension_softening_stiffness=10e3,\n",
    "    ),\n",
    "    ultimate_stress_strain_profile=ssp.BilinearStressStrain(\n",
    "        compressive_strength=40,\n",
    "        compressive_strain=0.00175,\n",
    "        ultimate_strain=0.0035,\n",
    "    ),\n",
    "    flexural_tensile_strength=3.5,\n",
    "    colour=\"lightgrey\",\n",
    ")\n",
    "\n",
    "conc_material_list = [\n",
    "    conc_linear,\n",
    "    conc_linear_no_tension,\n",
    "    conc_nonlinear,\n",
    "]\n",
    "\n",
    "steel = SteelBar(\n",
    "    name=\"Steel - Elastic-Plastic\",\n",
    "    density=7.85e-6,\n",
    "    stress_strain_profile=ssp.SteelElasticPlastic(\n",
    "        yield_strength=500,\n",
    "        elastic_modulus=200e3,\n",
    "        fracture_strain=0.05,\n",
    "    ),\n",
    "    colour=\"grey\",\n",
    ")"
   ]
  },
  {
   "cell_type": "markdown",
   "id": "5",
   "metadata": {},
   "source": [
    "## Plot Stress-Strain Profiles\n",
    "\n",
    "Let's use the ``plot_stress_strain()`` method to compare the various service stress-strain profiles:"
   ]
  },
  {
   "cell_type": "code",
   "execution_count": null,
   "id": "6",
   "metadata": {},
   "outputs": [],
   "source": [
    "for conc in conc_material_list:\n",
    "    conc.stress_strain_profile.plot_stress_strain(\n",
    "        title=conc.name, eng=True, units=si_n_mm\n",
    "    )"
   ]
  },
  {
   "cell_type": "code",
   "execution_count": null,
   "id": "7",
   "metadata": {},
   "outputs": [],
   "source": [
    "steel.stress_strain_profile.plot_stress_strain(\n",
    "    title=steel.name, eng=True, units=si_n_mm\n",
    ")"
   ]
  },
  {
   "cell_type": "markdown",
   "id": "8",
   "metadata": {},
   "source": [
    "## Create Reinforced Concrete Geometry\n",
    "\n",
    "The section being analysed in this example is a 350D x 600W concrete column with a 125 mm circular void at its centre. The column is reinforced with 14N24 bars. As we will be using conducting multiple analyses with different material properties, we will assign the concrete material later."
   ]
  },
  {
   "cell_type": "code",
   "execution_count": null,
   "id": "9",
   "metadata": {},
   "outputs": [],
   "source": [
    "col = rectangular_section(d=350, b=600)\n",
    "void = circular_section(d=125, n=12).align_center(align_to=col)\n",
    "col = col - void  # subtract void from column\n",
    "\n",
    "# add bars to column\n",
    "geom = add_bar_rectangular_array(\n",
    "    geometry=col,\n",
    "    area=450,\n",
    "    material=steel,\n",
    "    n_x=6,\n",
    "    x_s=492 / 5,\n",
    "    n_y=3,\n",
    "    y_s=121,\n",
    "    anchor=(54, 54),\n",
    "    exterior_only=True,\n",
    ")\n",
    "\n",
    "geom.plot_geometry(labels=[], cp=False, legend=False)"
   ]
  },
  {
   "cell_type": "markdown",
   "id": "10",
   "metadata": {},
   "source": [
    "## Varying Concrete Properties\n",
    "\n",
    "In this example we will first study the effect the concrete stress-strain profile has on the moment curvature diagram.\n",
    "\n",
    "### Moment Curvature Analysis\n",
    "\n",
    "The below code loops through each concrete material, assigning it to the concrete column geometry and performs a moment curvature analysis."
   ]
  },
  {
   "cell_type": "code",
   "execution_count": null,
   "id": "11",
   "metadata": {},
   "outputs": [],
   "source": [
    "# initialise list to store results and list to store labels\n",
    "moment_curvature_results = []\n",
    "labels = []\n",
    "\n",
    "# loop through each concrete material\n",
    "for idx, conc in enumerate(conc_material_list):\n",
    "    # assign concrete material to first geometry in CompoundGeometry object\n",
    "    geom.geoms[0].material = conc\n",
    "\n",
    "    # create ConcreteSection object\n",
    "    conc_sec = ConcreteSection(geom)\n",
    "\n",
    "    # plot section first time only\n",
    "    if idx == 0:\n",
    "        conc_sec.plot_section()\n",
    "\n",
    "    # perform moment curvature analysis and store results\n",
    "    # bending about major axis so theta = pi/2\n",
    "    res = conc_sec.moment_curvature_analysis(\n",
    "        theta=np.pi / 2, kappa_inc=2.5e-7, progress_bar=False\n",
    "    )\n",
    "    moment_curvature_results.append(res)\n",
    "\n",
    "    # create plot label\n",
    "    labels.append(conc.name)"
   ]
  },
  {
   "cell_type": "markdown",
   "id": "12",
   "metadata": {},
   "source": [
    "### Plotting Results\n",
    "\n",
    "We can plot the moment curvature results on a single plot by using the ``MomentCurvatureResults.plot_multiple_results()`` method. Note that individual plots can also be generated by using the ``plot_results()`` method."
   ]
  },
  {
   "cell_type": "code",
   "execution_count": null,
   "id": "13",
   "metadata": {},
   "outputs": [],
   "source": [
    "MomentCurvatureResults.plot_multiple_results(\n",
    "    moment_curvature_results=moment_curvature_results,\n",
    "    labels=labels,\n",
    "    fmt=\"-\",\n",
    "    eng=True,\n",
    "    units=si_kn_m,\n",
    ")"
   ]
  },
  {
   "cell_type": "markdown",
   "id": "14",
   "metadata": {},
   "source": [
    "In the above plot, the linear concrete exhibits a much stiffer response when compared to the other two plots. This is because there is no cracking behaviour modelled into the linear concrete stress-strain profile and the concrete fails in compression just after the steel reaches its yield stress. The concrete stresses continue to increase after yielding of the steel until compression failure. This can be confirmed by examining the ``failure_geometry`` attribute."
   ]
  },
  {
   "cell_type": "code",
   "execution_count": null,
   "id": "15",
   "metadata": {},
   "outputs": [],
   "source": [
    "print(moment_curvature_results[0].failure_geometry.material.name)"
   ]
  },
  {
   "cell_type": "markdown",
   "id": "16",
   "metadata": {},
   "source": [
    "Let's examine the moment curvature diagrams that do model cracking behaviour further."
   ]
  },
  {
   "cell_type": "code",
   "execution_count": null,
   "id": "17",
   "metadata": {},
   "outputs": [],
   "source": [
    "MomentCurvatureResults.plot_multiple_results(\n",
    "    moment_curvature_results=moment_curvature_results[1:],\n",
    "    labels=labels[1:],\n",
    "    fmt=\"-\",\n",
    "    eng=True,\n",
    "    units=si_kn_m,\n",
    ")"
   ]
  },
  {
   "cell_type": "markdown",
   "id": "18",
   "metadata": {},
   "source": [
    "Both plots show similar behaviour with a couple of interesting differences:\n",
    "\n",
    "1. The non-linear concrete material is able to capture the initial uncracked behaviour and the softening that occurs after cracking. After cracking, the cracked responses are markedly similar.\n",
    "2. The post yield behaviour for the non-linear material is softer than that of the linear material. This is because the concrete stress for the linear material can continue to increase as the curvature increases, as stresses are extrapolated in the ``ConcreteLinearNoTension`` stress-strain profile and there is no softening of the concrete stress. On the other hand, the non-linear concrete material does model this 'softening' and the resultant moment is thus lower."
   ]
  },
  {
   "cell_type": "markdown",
   "id": "19",
   "metadata": {},
   "source": [
    "### Compare Cracking Moments\n",
    "\n",
    "Finally, we will compare the cracking moment obtained in an elastic analysis with that from the moment curvature analysis. First we compute the cracking moment using the ``calculate_cracked_properties()`` method."
   ]
  },
  {
   "cell_type": "code",
   "execution_count": null,
   "id": "20",
   "metadata": {},
   "outputs": [],
   "source": [
    "m_cr = conc_sec.calculate_cracked_properties(theta=np.pi / 2).m_cr / 1e6\n",
    "print(f\"M_cr = {m_cr:.2f} kN.m\")"
   ]
  },
  {
   "cell_type": "markdown",
   "id": "21",
   "metadata": {},
   "source": [
    "Now let's examine the non-linear concrete response in the initial elastic region."
   ]
  },
  {
   "cell_type": "code",
   "execution_count": null,
   "id": "22",
   "metadata": {},
   "outputs": [],
   "source": [
    "import matplotlib.pyplot as plt\n",
    "\n",
    "fix, ax = plt.subplots()\n",
    "kappa = np.array(moment_curvature_results[-1].kappa)\n",
    "moment = np.array(moment_curvature_results[-1].m_xy) / 1e6\n",
    "ax.plot(kappa[:12], moment[:12], \"x-\")\n",
    "plt.show()"
   ]
  },
  {
   "cell_type": "markdown",
   "id": "23",
   "metadata": {},
   "source": [
    "It's clear in the above plot that the softening due to initial cracking occurs between 75 kN.m and 125 kN.m, which aligns well with the elastic result. To investigate this further, we could reduce the resolution of the moment-curvature plot in this region."
   ]
  },
  {
   "cell_type": "markdown",
   "id": "24",
   "metadata": {},
   "source": [
    "## Finetuning Analysis Parameters\n",
    "There are a number of analysis parameters that can be finetuned to control the moment curvature analysis. These will be explored in this example.\n",
    "\n",
    "We start by creating a simple geometry with relatively simple material properties (linear concrete with no tension & elastic-plastic steel)."
   ]
  },
  {
   "cell_type": "code",
   "execution_count": null,
   "id": "25",
   "metadata": {},
   "outputs": [],
   "source": [
    "concrete = Concrete(\n",
    "    name=\"Concrete (No Tension)\",\n",
    "    density=2.4e-6,\n",
    "    stress_strain_profile=ssp.ConcreteLinearNoTension(\n",
    "        elastic_modulus=35e3,\n",
    "        ultimate_strain=0.003,\n",
    "        compressive_strength=40,\n",
    "    ),\n",
    "    ultimate_stress_strain_profile=ssp.BilinearStressStrain(\n",
    "        compressive_strength=40,\n",
    "        compressive_strain=0.00175,\n",
    "        ultimate_strain=0.0035,\n",
    "    ),\n",
    "    flexural_tensile_strength=3.5,\n",
    "    colour=\"lightgrey\",\n",
    ")\n",
    "\n",
    "geom = rectangular_section(d=600, b=400, material=concrete)\n",
    "\n",
    "geom = add_bar_rectangular_array(\n",
    "    geometry=geom,\n",
    "    area=450,\n",
    "    material=steel,\n",
    "    n_x=3,\n",
    "    x_s=158,\n",
    "    n_y=3,\n",
    "    y_s=258,\n",
    "    anchor=(42, 42),\n",
    "    exterior_only=True,\n",
    ")\n",
    "\n",
    "conc_sec = ConcreteSection(geom)\n",
    "conc_sec.plot_section()"
   ]
  },
  {
   "cell_type": "markdown",
   "id": "26",
   "metadata": {},
   "source": [
    "### Default Analysis Parameters"
   ]
  },
  {
   "cell_type": "code",
   "execution_count": null,
   "id": "27",
   "metadata": {},
   "outputs": [],
   "source": [
    "res1 = conc_sec.moment_curvature_analysis(progress_bar=False)"
   ]
  },
  {
   "cell_type": "code",
   "execution_count": null,
   "id": "28",
   "metadata": {},
   "outputs": [],
   "source": [
    "res1.plot_results()\n",
    "print(f\"Number of calculations = {len(res1.kappa)}\")\n",
    "print(f\"Failure curvature = {res1.kappa[-1]:.4e}\")"
   ]
  },
  {
   "cell_type": "markdown",
   "id": "29",
   "metadata": {},
   "source": [
    "In the above plot we waste a lot of time calculating the initial linear behaviour and can not be super confident that we have captured the yielding behaviour well. However, we don't spend too much time in the yielded plateau region as the curvature increment is adaptively increased."
   ]
  },
  {
   "cell_type": "markdown",
   "id": "30",
   "metadata": {},
   "source": [
    "### Initial Curvature Increment\n",
    "In this example we change the initial curvature increment from ``1e-7`` (default) to ``5e-6``."
   ]
  },
  {
   "cell_type": "code",
   "execution_count": null,
   "id": "31",
   "metadata": {},
   "outputs": [],
   "source": [
    "res2 = conc_sec.moment_curvature_analysis(kappa_inc=5e-6, progress_bar=False)"
   ]
  },
  {
   "cell_type": "code",
   "execution_count": null,
   "id": "32",
   "metadata": {},
   "outputs": [],
   "source": [
    "res2.plot_results()\n",
    "print(f\"Number of calculations = {len(res2.kappa)}\")\n",
    "print(f\"Failure curvature = {res2.kappa[-1]:.4e}\")"
   ]
  },
  {
   "cell_type": "markdown",
   "id": "33",
   "metadata": {},
   "source": [
    "We now save a lot of time in the initial linear region compared to the previous plot however the yielding behaviour is not super well described."
   ]
  },
  {
   "cell_type": "markdown",
   "id": "34",
   "metadata": {},
   "source": [
    "### Further Refinement\n",
    "In this example we change the following parameters:\n",
    "\n",
    "- ``kappa_inc=1e-6`` - a balance between the previous two examples\n",
    "- ``kappa_mult=1.25`` - smoother changes in curvature increment (default = ``2``)\n",
    "- ``delta_m_min=0.1`` - only increase the curvature increment if the change in moment is less than 10% (default = 15%)\n",
    "- ``kappa_inc_max=2e-5`` - allow larger curvature increments, can be useful in the plateau region (default = ``5e-6``)"
   ]
  },
  {
   "cell_type": "code",
   "execution_count": null,
   "id": "35",
   "metadata": {},
   "outputs": [],
   "source": [
    "res3 = conc_sec.moment_curvature_analysis(\n",
    "    kappa_inc=1e-6,\n",
    "    kappa_mult=1.25,\n",
    "    delta_m_min=0.1,\n",
    "    kappa_inc_max=2e-5,\n",
    "    progress_bar=False,\n",
    ")"
   ]
  },
  {
   "cell_type": "code",
   "execution_count": null,
   "id": "36",
   "metadata": {},
   "outputs": [],
   "source": [
    "res3.plot_results()\n",
    "print(f\"Number of calculations = {len(res3.kappa)}\")\n",
    "print(f\"Failure curvature = {res3.kappa[-1]:.4e}\")"
   ]
  },
  {
   "cell_type": "markdown",
   "id": "37",
   "metadata": {},
   "source": [
    "### Summary\n",
    "Note that all failure curvatures are the same, regardless of the analysis parameters the failure point is always included in the results.\n",
    "\n",
    "Let's compare the most granular result (``res3``) with the result with the fastest computation time (``res2``)."
   ]
  },
  {
   "cell_type": "code",
   "execution_count": null,
   "id": "38",
   "metadata": {},
   "outputs": [],
   "source": [
    "MomentCurvatureResults.plot_multiple_results(\n",
    "    moment_curvature_results=[res2, res3],\n",
    "    labels=[\"Coarse\", \"Refined\"],\n",
    "    fmt=\"-\",\n",
    ")"
   ]
  },
  {
   "cell_type": "markdown",
   "id": "39",
   "metadata": {},
   "source": [
    "Note that the behaviour is largely similar, however the refined parameters do a better job of capturing the yielding behaviour."
   ]
  },
  {
   "cell_type": "markdown",
   "id": "40",
   "metadata": {},
   "source": [
    "## Non-Zero Axial Force"
   ]
  },
  {
   "cell_type": "markdown",
   "id": "41",
   "metadata": {},
   "source": [
    "Moment-curvature diagrams can be generated with non-zero axial forces. A simple column is used to illustrate this."
   ]
  },
  {
   "cell_type": "code",
   "execution_count": null,
   "id": "42",
   "metadata": {},
   "outputs": [],
   "source": [
    "concrete = Concrete(\n",
    "    name=\"Concrete (No Tension)\",\n",
    "    density=2.4e-6,\n",
    "    stress_strain_profile=ssp.ConcreteLinearNoTension(\n",
    "        elastic_modulus=35e3,\n",
    "        ultimate_strain=0.003,\n",
    "        compressive_strength=31,\n",
    "    ),\n",
    "    ultimate_stress_strain_profile=ssp.BilinearStressStrain(\n",
    "        compressive_strength=31,\n",
    "        compressive_strain=0.00175,\n",
    "        ultimate_strain=0.0035,\n",
    "    ),\n",
    "    flexural_tensile_strength=3.5,\n",
    "    colour=\"lightgrey\",\n",
    ")\n",
    "\n",
    "steel = SteelBar(\n",
    "    name=\"Steel - Elastic-Plastic\",\n",
    "    density=7.85e-6,\n",
    "    stress_strain_profile=ssp.SteelElasticPlastic(\n",
    "        yield_strength=320,\n",
    "        elastic_modulus=200e3,\n",
    "        fracture_strain=0.05,\n",
    "    ),\n",
    "    colour=\"grey\",\n",
    ")\n",
    "\n",
    "geom = rectangular_section(d=600, b=600, material=concrete)\n",
    "geom = add_bar_rectangular_array(\n",
    "    geometry=geom,\n",
    "    area=610,\n",
    "    material=steel,\n",
    "    n_x=3,\n",
    "    x_s=236,\n",
    "    n_y=3,\n",
    "    y_s=236,\n",
    "    anchor=(64, 64),\n",
    "    exterior_only=True,\n",
    ")\n",
    "\n",
    "conc_sec = ConcreteSection(geom)\n",
    "conc_sec.plot_section()"
   ]
  },
  {
   "cell_type": "markdown",
   "id": "43",
   "metadata": {},
   "source": [
    "We perform four moment-curvature analyses with varying levels of axial force."
   ]
  },
  {
   "cell_type": "code",
   "execution_count": null,
   "id": "44",
   "metadata": {},
   "outputs": [],
   "source": [
    "res_n0 = conc_sec.moment_curvature_analysis(n=0, kappa_inc=1e-6, progress_bar=False)\n",
    "res_n1 = conc_sec.moment_curvature_analysis(\n",
    "    n=0.2 * 600 * 600 * 31, kappa_inc=1e-6, progress_bar=False\n",
    ")\n",
    "res_nt = conc_sec.moment_curvature_analysis(\n",
    "    n=-1000e3, kappa_inc=1e-6, progress_bar=False\n",
    ")"
   ]
  },
  {
   "cell_type": "code",
   "execution_count": null,
   "id": "45",
   "metadata": {},
   "outputs": [],
   "source": [
    "MomentCurvatureResults.plot_multiple_results(\n",
    "    moment_curvature_results=[res_n0, res_n1, res_nt],\n",
    "    labels=[\"$N=0$ kN\", \"$N=0.2f'cA_g$\", \"$N=-1000$ kN\"],\n",
    "    fmt=\"-\",\n",
    "    eng=True,\n",
    "    units=si_kn_m,\n",
    ")"
   ]
  },
  {
   "cell_type": "markdown",
   "id": "46",
   "metadata": {},
   "source": [
    "The above plot clearly illustrates the influence axial force has on the moment-curvature response of a column."
   ]
  }
 ],
 "metadata": {
  "kernelspec": {
   "display_name": "Python 3 (ipykernel)",
   "language": "python",
   "name": "python3"
  },
  "language_info": {
   "codemirror_mode": {
    "name": "ipython",
    "version": 3
   },
   "file_extension": ".py",
   "mimetype": "text/x-python",
   "name": "python",
   "nbconvert_exporter": "python",
   "pygments_lexer": "ipython3",
   "version": "3.12.7"
  },
  "vscode": {
   "interpreter": {
    "hash": "893b3ef6d13023afab4be8c5000be38ce11a760491bcfa4047435852657817d1"
   }
  }
 },
 "nbformat": 4,
 "nbformat_minor": 5
}
