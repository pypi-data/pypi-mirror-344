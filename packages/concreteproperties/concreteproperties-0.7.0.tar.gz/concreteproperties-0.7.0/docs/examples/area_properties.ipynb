{
 "cells": [
  {
   "cell_type": "markdown",
   "id": "0",
   "metadata": {},
   "source": [
    "# Calculating Area Properties"
   ]
  },
  {
   "cell_type": "markdown",
   "id": "1",
   "metadata": {},
   "source": [
    "This example demonstrates how to create a simple reinforced concrete cross-section and obtain the gross area properties. We start by importing the necessary modules."
   ]
  },
  {
   "cell_type": "code",
   "execution_count": null,
   "id": "2",
   "metadata": {},
   "outputs": [],
   "source": [
    "from sectionproperties.pre.library import concrete_rectangular_section\n",
    "\n",
    "from concreteproperties import (\n",
    "    Concrete,\n",
    "    ConcreteLinear,\n",
    "    ConcreteSection,\n",
    "    RectangularStressBlock,\n",
    "    SteelBar,\n",
    "    SteelElasticPlastic,\n",
    ")"
   ]
  },
  {
   "cell_type": "markdown",
   "id": "3",
   "metadata": {},
   "source": [
    "## Assign Materials\n",
    "\n",
    "The materials used in this example will be 32 MPa concrete and 500 MPa steel, specified in accordance with AS 3600:2018."
   ]
  },
  {
   "cell_type": "code",
   "execution_count": null,
   "id": "4",
   "metadata": {},
   "outputs": [],
   "source": [
    "concrete = Concrete(\n",
    "    name=\"32 MPa Concrete\",\n",
    "    density=2.4e-6,\n",
    "    stress_strain_profile=ConcreteLinear(elastic_modulus=30.1e3),\n",
    "    ultimate_stress_strain_profile=RectangularStressBlock(\n",
    "        compressive_strength=32,\n",
    "        alpha=0.802,\n",
    "        gamma=0.89,\n",
    "        ultimate_strain=0.003,\n",
    "    ),\n",
    "    flexural_tensile_strength=3.4,\n",
    "    colour=\"lightgrey\",\n",
    ")\n",
    "\n",
    "steel = SteelBar(\n",
    "    name=\"500 MPa Steel\",\n",
    "    density=7.85e-6,\n",
    "    stress_strain_profile=SteelElasticPlastic(\n",
    "        yield_strength=500,\n",
    "        elastic_modulus=200e3,\n",
    "        fracture_strain=0.05,\n",
    "    ),\n",
    "    colour=\"grey\",\n",
    ")"
   ]
  },
  {
   "cell_type": "markdown",
   "id": "5",
   "metadata": {},
   "source": [
    "## Create Geometry and Concrete Section\n",
    "\n",
    "The section being analysed in this example is a 600D x 400W rectangular beam. The reinforcement detailed is 3N20 top bars and 3N24 bottom bars, with 30 mm of cover. The geometry is generated using the *sectionproperties* concrete sections library."
   ]
  },
  {
   "cell_type": "code",
   "execution_count": null,
   "id": "6",
   "metadata": {},
   "outputs": [],
   "source": [
    "geom = concrete_rectangular_section(\n",
    "    d=600,\n",
    "    b=400,\n",
    "    dia_top=20,\n",
    "    area_top=310,\n",
    "    n_top=3,\n",
    "    c_top=30,\n",
    "    dia_bot=24,\n",
    "    area_bot=450,\n",
    "    n_bot=3,\n",
    "    c_bot=30,\n",
    "    conc_mat=concrete,\n",
    "    steel_mat=steel,\n",
    ")\n",
    "\n",
    "conc_sec = ConcreteSection(geom)\n",
    "conc_sec.plot_section()"
   ]
  },
  {
   "cell_type": "markdown",
   "id": "7",
   "metadata": {},
   "source": [
    "## Gross Properties\n",
    "\n",
    "Creating a ``ConcreteSection`` object automatically calculates the gross area properties of the reinforced concrete cross-section. These can be obtained by using the ``get_gross_properties()`` method. The section properties can be printed by calling the ``print_results()`` method."
   ]
  },
  {
   "cell_type": "code",
   "execution_count": null,
   "id": "8",
   "metadata": {},
   "outputs": [],
   "source": [
    "gross_props = conc_sec.get_gross_properties()\n",
    "gross_props.print_results()"
   ]
  },
  {
   "cell_type": "markdown",
   "id": "9",
   "metadata": {},
   "source": [
    "## Transformed Properties\n",
    "\n",
    "The above section properties are multiplied by the elastic moduli, e.g. axial rigidity (``EA``) and flexural rigidity (``EI``). Transformed section properties can be obtained using ``get_transformed_gross_properties()`` and providing a reference ``elastic_modulus``."
   ]
  },
  {
   "cell_type": "code",
   "execution_count": null,
   "id": "10",
   "metadata": {},
   "outputs": [],
   "source": [
    "transformed_props = conc_sec.get_transformed_gross_properties(elastic_modulus=30.1e3)\n",
    "transformed_props.print_results()"
   ]
  }
 ],
 "metadata": {
  "kernelspec": {
   "display_name": "Python 3 (ipykernel)",
   "language": "python",
   "name": "python3"
  },
  "language_info": {
   "codemirror_mode": {
    "name": "ipython",
    "version": 3
   },
   "file_extension": ".py",
   "mimetype": "text/x-python",
   "name": "python",
   "nbconvert_exporter": "python",
   "pygments_lexer": "ipython3",
   "version": "3.12.7"
  }
 },
 "nbformat": 4,
 "nbformat_minor": 5
}
