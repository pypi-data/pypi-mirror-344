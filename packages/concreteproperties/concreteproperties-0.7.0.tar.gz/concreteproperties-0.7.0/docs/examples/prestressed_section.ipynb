{
 "cells": [
  {
   "cell_type": "markdown",
   "id": "0",
   "metadata": {},
   "source": [
    "# Prestressed Sections"
   ]
  },
  {
   "cell_type": "markdown",
   "id": "1",
   "metadata": {},
   "source": [
    "This example demonstrates how to carry out an analysis of a prestressed concrete section using ``concreteproperties``. We start by importing the necessary modules."
   ]
  },
  {
   "cell_type": "code",
   "execution_count": null,
   "id": "2",
   "metadata": {},
   "outputs": [],
   "source": [
    "import matplotlib.pyplot as plt\n",
    "import numpy as np\n",
    "from sectionproperties.pre.library import rectangular_section\n",
    "\n",
    "from concreteproperties import (\n",
    "    BilinearStressStrain,\n",
    "    Concrete,\n",
    "    ConcreteLinearNoTension,\n",
    "    EurocodeNonLinear,\n",
    "    PrestressedSection,\n",
    "    SteelStrand,\n",
    "    StrandHardening,\n",
    "    add_bar_rectangular_array,\n",
    ")\n",
    "from concreteproperties.post import si_kn_m, si_n_mm\n",
    "from concreteproperties.results import MomentCurvatureResults"
   ]
  },
  {
   "cell_type": "markdown",
   "id": "3",
   "metadata": {},
   "source": [
    "## Assign Materials\n",
    "In this example we will be creating material properties for both a service and ultimate analysis. \n",
    "\n",
    "**Concrete:** C50/60 concrete will be used (Eurocode). The service analysis will use a non-linear stress-strain profile, while the ultimate analysis will use a bilinear stress-strain profile with relevant material factors applied ($\\gamma_c = 1.5$).\n",
    "\n",
    "**Strand:** Y1860S7 strand will be used. The ultimate profile has the relevant material factors applied ($\\gamma_s = 1.1$). The service profile will also be used for short-term analysis where the prestressing stress after short-term losses is $\\sigma_{p,0} = 1274.4$ MPa. The ultimate profile will also be used for long-term analysis where the prestressing stress after long-term losses is $\\sigma_{p,\\infty} = 1148.6$ MPa."
   ]
  },
  {
   "cell_type": "code",
   "execution_count": null,
   "id": "4",
   "metadata": {},
   "outputs": [],
   "source": [
    "concrete_service = Concrete(\n",
    "    name=\"C50/60 Concrete (Service)\",\n",
    "    density=2.4e-6,\n",
    "    stress_strain_profile=EurocodeNonLinear(\n",
    "        elastic_modulus=37.0e3,\n",
    "        ultimate_strain=0.0035,\n",
    "        compressive_strength=58,\n",
    "        compressive_strain=0.00245,\n",
    "        tensile_strength=4.1,\n",
    "        tension_softening_stiffness=10e3,\n",
    "    ),\n",
    "    ultimate_stress_strain_profile=BilinearStressStrain(\n",
    "        compressive_strength=50 / 1.5,\n",
    "        compressive_strain=0.00175,\n",
    "        ultimate_strain=0.0035,\n",
    "    ),\n",
    "    flexural_tensile_strength=4.1,\n",
    "    colour=\"lightgrey\",\n",
    ")\n",
    "\n",
    "concrete_ultimate = Concrete(\n",
    "    name=\"C50/60 Concrete (Ultimate)\",\n",
    "    density=2.4e-6,\n",
    "    stress_strain_profile=ConcreteLinearNoTension(\n",
    "        elastic_modulus=37.0e3,\n",
    "        ultimate_strain=0.0035,\n",
    "        compressive_strength=50 / 1.5,\n",
    "    ),\n",
    "    ultimate_stress_strain_profile=BilinearStressStrain(\n",
    "        compressive_strength=50 / 1.5,\n",
    "        compressive_strain=0.00175,\n",
    "        ultimate_strain=0.0035,\n",
    "    ),\n",
    "    flexural_tensile_strength=4.1,\n",
    "    colour=\"lightgrey\",\n",
    ")\n",
    "\n",
    "strand_service = SteelStrand(\n",
    "    name=\"Y1860S7 Strand (Service)\",\n",
    "    density=7.85e-6,\n",
    "    stress_strain_profile=StrandHardening(\n",
    "        yield_strength=1674,\n",
    "        elastic_modulus=195e3,\n",
    "        fracture_strain=0.035,\n",
    "        breaking_strength=1860,\n",
    "    ),\n",
    "    colour=\"grey\",\n",
    "    prestress_stress=1274.4,\n",
    ")\n",
    "\n",
    "strand_ultimate = SteelStrand(\n",
    "    name=\"Y1860S7 Strand (Ultimate)\",\n",
    "    density=7.85e-6,\n",
    "    stress_strain_profile=StrandHardening(\n",
    "        yield_strength=1522,\n",
    "        elastic_modulus=195e3,\n",
    "        fracture_strain=0.035,\n",
    "        breaking_strength=1691,\n",
    "    ),\n",
    "    colour=\"grey\",\n",
    "    prestress_stress=1148.6,\n",
    ")"
   ]
  },
  {
   "cell_type": "markdown",
   "id": "5",
   "metadata": {},
   "source": [
    "We can compare the service and ultimate stress-strain profiles for the concrete and the strand."
   ]
  },
  {
   "cell_type": "code",
   "execution_count": null,
   "id": "6",
   "metadata": {},
   "outputs": [],
   "source": [
    "# combine both stress-strain profiles on the same plot\n",
    "ax = concrete_service.stress_strain_profile.plot_stress_strain(\n",
    "    units=si_n_mm, render=False\n",
    ")\n",
    "concrete_service.ultimate_stress_strain_profile.plot_stress_strain(units=si_n_mm, ax=ax)\n",
    "ax.lines[0].set_label(\"Service\")\n",
    "ax.lines[1].set_label(\"Ultimate\")\n",
    "ax.legend(loc=\"center left\", bbox_to_anchor=(1, 0.5))\n",
    "plt.title(\"Concrete C50/60\")\n",
    "plt.show()"
   ]
  },
  {
   "cell_type": "code",
   "execution_count": null,
   "id": "7",
   "metadata": {},
   "outputs": [],
   "source": [
    "# combine both stress-strain profiles on the same plot\n",
    "ax = strand_service.stress_strain_profile.plot_stress_strain(\n",
    "    eng=True, units=si_kn_m, render=False\n",
    ")\n",
    "strand_ultimate.stress_strain_profile.plot_stress_strain(eng=True, units=si_kn_m, ax=ax)\n",
    "ax.lines[0].set_label(\"Service\")\n",
    "ax.lines[1].set_label(\"Ultimate\")\n",
    "ax.legend(loc=\"center left\", bbox_to_anchor=(1, 0.5))\n",
    "plt.title(\"Strand Y1860S7\")\n",
    "plt.show()"
   ]
  },
  {
   "cell_type": "markdown",
   "id": "8",
   "metadata": {},
   "source": [
    "## Create Prestressed Geometry\n",
    "The section being analysed is a 1100D x 1500W hollow box with a 250THK web and flange. 15.2 mm strands with a cross-sectional area of 140 mm$^2$ are used. Each web has 3 vertically spaced tendons containing 8 strands, while the bottom flange has two horizontally spaced tendons containing 9 strands. Two ``PrestressedConcrete`` objects are created, one for service analysis (short-term) and one for ultimate (long-term) analysis. "
   ]
  },
  {
   "cell_type": "code",
   "execution_count": null,
   "id": "9",
   "metadata": {},
   "outputs": [],
   "source": [
    "# box properties\n",
    "d_box = 1100  # box depth\n",
    "b_box = 1500  # box width\n",
    "t_box = 250  # box thickness\n",
    "\n",
    "# strand properties\n",
    "strand_area = 140  # area of each strand\n",
    "duct_diameter = 72  # diameter of the tendon ducts\n",
    "strand_d1 = 125  # distance from bottom to layer 1\n",
    "strand_d2 = strand_d1 + 72  # distance from bottom to layer 2\n",
    "strand_d3 = strand_d2 + 165.4  # distance from bottom to layer 3\n",
    "\n",
    "# generate a service and ultimate PrestressedConcrete object\n",
    "conc_secs = []\n",
    "concrete_props = [concrete_service, concrete_ultimate]\n",
    "strand_props = [strand_service, strand_ultimate]\n",
    "\n",
    "for idx, concrete_prop in enumerate(concrete_props):\n",
    "    # construct concrete hollow box\n",
    "    box_outer = rectangular_section(d=d_box, b=b_box, material=concrete_prop)\n",
    "    box_inner = rectangular_section(\n",
    "        d=d_box - 2 * t_box, b=b_box - 2 * t_box\n",
    "    ).align_center(align_to=box_outer)\n",
    "    box = box_outer - box_inner\n",
    "\n",
    "    # add web strands (6 x 8 strand tendons)\n",
    "    # lower two sets\n",
    "    geom = add_bar_rectangular_array(\n",
    "        geometry=box,\n",
    "        area=8 * strand_area,\n",
    "        material=strand_props[idx],\n",
    "        n_x=2,\n",
    "        x_s=b_box - t_box,\n",
    "        n_y=2,\n",
    "        y_s=strand_d2 - strand_d1,\n",
    "        anchor=(t_box / 2, strand_d1),\n",
    "    )\n",
    "\n",
    "    # top set\n",
    "    geom = add_bar_rectangular_array(\n",
    "        geometry=geom,\n",
    "        area=8 * strand_area,\n",
    "        material=strand_props[idx],\n",
    "        n_x=2,\n",
    "        x_s=b_box - t_box,\n",
    "        anchor=(t_box / 2, strand_d3),\n",
    "    )\n",
    "\n",
    "    # add flange strands (2 x 9 strand tendons)\n",
    "    geom = add_bar_rectangular_array(\n",
    "        geometry=geom,\n",
    "        area=9 * strand_area,\n",
    "        material=strand_props[idx],\n",
    "        n_x=2,\n",
    "        x_s=(b_box - t_box) / 3,\n",
    "        anchor=(t_box / 2 + (b_box - t_box) / 3, strand_d1),\n",
    "    )\n",
    "\n",
    "    # create prestressed section objects\n",
    "    conc_secs.append(PrestressedSection(geom))\n",
    "\n",
    "# extract prestressed section objects\n",
    "conc_sec_serv = conc_secs[0]\n",
    "conc_sec_ult = conc_secs[1]\n",
    "\n",
    "# plot each object\n",
    "conc_sec_serv.plot_section()\n",
    "conc_sec_ult.plot_section()"
   ]
  },
  {
   "cell_type": "markdown",
   "id": "10",
   "metadata": {},
   "source": [
    "## Calculate Area Properties\n",
    "The area properties of the prestressed section are automatically calculated and can be printed as follows."
   ]
  },
  {
   "cell_type": "code",
   "execution_count": null,
   "id": "11",
   "metadata": {},
   "outputs": [],
   "source": [
    "gross_props_serv = conc_sec_serv.get_gross_properties()\n",
    "gross_props_ult = conc_sec_ult.get_gross_properties()\n",
    "gross_props_serv.print_results(units=si_n_mm)"
   ]
  },
  {
   "cell_type": "markdown",
   "id": "12",
   "metadata": {},
   "source": [
    "The gross properties for ``PrestressedConcrete`` objects also report the total axial prestressing force and the induced bending moment."
   ]
  },
  {
   "cell_type": "code",
   "execution_count": null,
   "id": "13",
   "metadata": {},
   "outputs": [],
   "source": [
    "print(f\"P_0 = {gross_props_serv.n_prestress / 1e3:.0f} kN\")\n",
    "print(f\"M_0 = {gross_props_serv.m_prestress / 1e6:.0f} kN.m\")\n",
    "print(f\"P_inf = {gross_props_ult.n_prestress / 1e3:.0f} kN\")\n",
    "print(f\"M_inf = {gross_props_ult.m_prestress / 1e6:.0f} kN.m\")"
   ]
  },
  {
   "cell_type": "markdown",
   "id": "14",
   "metadata": {},
   "source": [
    "## Design Actions\n",
    "In this example, the prestressed girder is 35.5 m long. It has a superimposed dead load of 3 kN/m and a live load of 10 kN/m. The ultimate load factors are $\\gamma_g = 1.2$, $\\gamma_q = 1.5$ and $\\gamma_p = 1.0$ (note that unfactored prestressing actions are automatically included in the analysis).\n",
    "\n",
    "The resulting design moments can be calculated, with the self-weight determined from the computed gross properties. Note that the initial prestressing force was selected to balance the moment due to self-weight."
   ]
  },
  {
   "cell_type": "code",
   "execution_count": null,
   "id": "15",
   "metadata": {},
   "outputs": [],
   "source": [
    "# design actions\n",
    "L = 35500  # length of girder in [mm]\n",
    "g_sw = gross_props_serv.mass * 9.81  # self weight in [N/mm]\n",
    "g_si = 3  # superimposed dead load in [N/mm]\n",
    "q = 10  # live load in [N/mm]\n",
    "\n",
    "# calculate moments\n",
    "m_g_sw = g_sw * L * L / 8  # moment due to self weight\n",
    "m_g_si = g_si * L * L / 8  # moment due to superimposed dead load\n",
    "m_q = q * L * L / 8  # moment due to live load\n",
    "m_ed = 1.2 * (m_g_sw + m_g_si) + 1.5 * m_q\n",
    "\n",
    "print(f\"M_g_sw = {m_g_sw / 1e6:.0f} kN.m\")\n",
    "print(f\"M_g_si = {m_g_si / 1e6:.0f} kN.m\")\n",
    "print(f\"M_q = {m_q / 1e6:.0f} kN.m\")\n",
    "print(f\"M_Ed = {m_ed / 1e6:.0f} kN.m\")"
   ]
  },
  {
   "cell_type": "markdown",
   "id": "16",
   "metadata": {},
   "source": [
    "## Stress Analysis"
   ]
  },
  {
   "cell_type": "markdown",
   "id": "17",
   "metadata": {},
   "source": [
    "### Prestressing Actions Only\n",
    "For academic purposes, the stresses resulting from prestressing only (no self-weight) can be visualised by not supplying any bending moment to ``PrestressedSection.calculate_uncracked_stress()`` (default is ``m=0``)."
   ]
  },
  {
   "cell_type": "code",
   "execution_count": null,
   "id": "18",
   "metadata": {},
   "outputs": [],
   "source": [
    "# stress due to prestressing only\n",
    "uncr_stress_p = conc_sec_serv.calculate_uncracked_stress()\n",
    "uncr_stress_p.plot_stress(units=si_n_mm)"
   ]
  },
  {
   "cell_type": "markdown",
   "id": "19",
   "metadata": {},
   "source": [
    "Without any self-weight, there is a small region of tension at the top of the girder. We can carry-out a cracked analysis for this loading condition to determine the cracked area properties, the cracking moments and concrete and strand stresses assuming a cracked section (linear concrete with no tensile capacity)."
   ]
  },
  {
   "cell_type": "code",
   "execution_count": null,
   "id": "20",
   "metadata": {},
   "outputs": [],
   "source": [
    "cr_p_serv = conc_sec_serv.calculate_cracked_properties(m_ext=0)\n",
    "cr_p_ult = conc_sec_ult.calculate_cracked_properties(m_ext=0)\n",
    "cr_p_serv.print_results(units=si_kn_m)\n",
    "cr_stress_p_serv = conc_sec_serv.calculate_cracked_stress(cracked_results=cr_p_serv)\n",
    "cr_stress_p_serv.plot_stress(units=si_n_mm)"
   ]
  },
  {
   "cell_type": "markdown",
   "id": "21",
   "metadata": {},
   "source": [
    "Note that the concrete and strand stresses have slightly increased now that the concrete cannot resist any tensile stresses.\n",
    "\n",
    "Also of interest are the cracking moments. ``m_cr_pos`` reports the sagging bending moment required for the stress to exceed the flexural tensile strength of the concrete at the base of the section when combined with the prestressing actions. ``m_cr_neg`` reports the hogging bending moment required for the stress to exceed the flexural tensile strength of the concrete at the top of the section when combined with the prestressing actions. Note if the flexural tensile strength of the concrete is set to zero, these values show the moments at which the concrete begins to experience tensile stresses. "
   ]
  },
  {
   "cell_type": "code",
   "execution_count": null,
   "id": "22",
   "metadata": {},
   "outputs": [],
   "source": [
    "print(f\"M_cr_pos_s = {cr_p_serv.m_cr[0] / 1e6:.0f} kN.m\")\n",
    "print(f\"M_cr_pos_u = {cr_p_ult.m_cr[0] / 1e6:.0f} kN.m\")\n",
    "print(f\"M_cr_neg_s = {cr_p_serv.m_cr[1] / 1e6:.0f} kN.m\")\n",
    "print(f\"M_cr_neg_u = {cr_p_ult.m_cr[1] / 1e6:.0f} kN.m\")"
   ]
  },
  {
   "cell_type": "markdown",
   "id": "23",
   "metadata": {},
   "source": [
    "### Transfer\n",
    "The stresses at transfer ($G_{sw} + P$) can be determined by setting ``m=m_g_sw`` in the ``calculate_uncracked_stress()`` method. It was previously found that the moment due to self-weight was equal to the prestressing moment. As a result, the prestressed section is under pure compression. "
   ]
  },
  {
   "cell_type": "code",
   "execution_count": null,
   "id": "24",
   "metadata": {},
   "outputs": [],
   "source": [
    "# stress due to G_sw + P at t = 0\n",
    "uncr_stress_t0 = conc_sec_serv.calculate_uncracked_stress(m=m_g_sw)\n",
    "uncr_stress_t0.plot_stress(units=si_n_mm)"
   ]
  },
  {
   "cell_type": "markdown",
   "id": "25",
   "metadata": {},
   "source": [
    "### Service Load\n",
    "The stresses under long-term service loads can be found by using the ``PrestressedConcrete`` object created for ultimate analysis (with long-term losses incorporated into the prestressing stress). "
   ]
  },
  {
   "cell_type": "code",
   "execution_count": null,
   "id": "26",
   "metadata": {},
   "outputs": [],
   "source": [
    "# stress due to G + Q + P at t = inf\n",
    "uncr_stress_tinf = conc_sec_ult.calculate_uncracked_stress(m=m_g_sw + m_g_si + m_q)\n",
    "uncr_stress_tinf.plot_stress(units=si_n_mm)"
   ]
  },
  {
   "cell_type": "markdown",
   "id": "27",
   "metadata": {},
   "source": [
    "The entire concrete section is still under compression and within limits, thus the level of prestressing stress is acceptable."
   ]
  },
  {
   "cell_type": "markdown",
   "id": "28",
   "metadata": {},
   "source": [
    "## Ultimate Analysis\n",
    "The ultimate bending capacity of the prestressed concrete section be found by calling the ``ultimate_bending_capacity()`` method."
   ]
  },
  {
   "cell_type": "code",
   "execution_count": null,
   "id": "29",
   "metadata": {},
   "outputs": [],
   "source": [
    "ult_res = conc_sec_ult.ultimate_bending_capacity()\n",
    "ult_res.print_results(units=si_kn_m)"
   ]
  },
  {
   "cell_type": "code",
   "execution_count": null,
   "id": "30",
   "metadata": {},
   "outputs": [],
   "source": [
    "print(f\"d_n = {ult_res.d_n:.1f} mm\")\n",
    "print(f\"M_Rd = {ult_res.m_x / 1e6:.0f} kN.m\")\n",
    "print(f\"M_Ed = {m_ed / 1e6:.0f} kN.m\")\n",
    "print(\"M_Rd >= M_Ed, therefore OK!\")"
   ]
  },
  {
   "cell_type": "markdown",
   "id": "31",
   "metadata": {},
   "source": [
    "The ultimate bending stresses can be visualised by calling the ``calculate_ultimate_stress()`` method. The bilinear concrete profile is depicted well in the below plot."
   ]
  },
  {
   "cell_type": "code",
   "execution_count": null,
   "id": "32",
   "metadata": {},
   "outputs": [],
   "source": [
    "ult_stress = conc_sec_ult.calculate_ultimate_stress(ultimate_results=ult_res)\n",
    "ult_stress.plot_stress(units=si_n_mm)"
   ]
  },
  {
   "cell_type": "markdown",
   "id": "33",
   "metadata": {},
   "source": [
    "## Moment Curvature Analysis\n",
    "We will now compute the moment curvature response of the prestressed concrete section. It should be noted that the service analysis is unfactored, while the ultimate analysis contains the material reduction factors."
   ]
  },
  {
   "cell_type": "code",
   "execution_count": null,
   "id": "34",
   "metadata": {},
   "outputs": [],
   "source": [
    "mk_serv = conc_sec_serv.moment_curvature_analysis(\n",
    "    kappa_mult=1.1, kappa_inc=5e-7, progress_bar=False\n",
    ")"
   ]
  },
  {
   "cell_type": "code",
   "execution_count": null,
   "id": "35",
   "metadata": {},
   "outputs": [],
   "source": [
    "mk_ult = conc_sec_ult.moment_curvature_analysis(\n",
    "    kappa_mult=1.1, kappa_inc=5e-7, progress_bar=False\n",
    ")"
   ]
  },
  {
   "cell_type": "code",
   "execution_count": null,
   "id": "36",
   "metadata": {},
   "outputs": [],
   "source": [
    "MomentCurvatureResults.plot_multiple_results(\n",
    "    moment_curvature_results=[mk_serv, mk_ult],\n",
    "    labels=[\"Service\", \"Ultimate\"],\n",
    "    fmt=\"-\",\n",
    "    eng=True,\n",
    "    units=si_kn_m,\n",
    ")"
   ]
  },
  {
   "cell_type": "markdown",
   "id": "37",
   "metadata": {},
   "source": [
    "### Service Stresses\n",
    "The stresses at any point on the moment curvature diagram can be visualised by calling the ``calculate_service_stress()`` method. Here we examine the stresses of both analyses under zero external moment."
   ]
  },
  {
   "cell_type": "code",
   "execution_count": null,
   "id": "38",
   "metadata": {},
   "outputs": [],
   "source": [
    "serv_stress_s_1 = conc_sec_serv.calculate_service_stress(\n",
    "    moment_curvature_results=mk_serv, m=None, kappa=mk_serv.kappa[0]\n",
    ")\n",
    "serv_stress_u_1 = conc_sec_ult.calculate_service_stress(\n",
    "    moment_curvature_results=mk_ult, m=None, kappa=mk_ult.kappa[0]\n",
    ")\n",
    "serv_stress_s_1.plot_stress(units=si_n_mm)\n",
    "serv_stress_u_1.plot_stress(units=si_n_mm)"
   ]
  },
  {
   "cell_type": "markdown",
   "id": "39",
   "metadata": {},
   "source": [
    "The service analysis has a stress-strain profile that allows tensile stresses in the concrete while the ultimate analysis allows only compression. Note that the stresses in the ultimate analysis are lower because the prestressing stress accounts for long-term losses and is therefore smaller than in the service analysis."
   ]
  },
  {
   "cell_type": "markdown",
   "id": "40",
   "metadata": {},
   "source": [
    "We can zoom into the initial segment of the moment curvature diagram to explore this further. The initial response of the ultimate analysis is initially softer as the section is cracked. However, under sufficient external sagging moment, the section entire is under compression and the response stiffens."
   ]
  },
  {
   "cell_type": "code",
   "execution_count": null,
   "id": "41",
   "metadata": {},
   "outputs": [],
   "source": [
    "fix, ax = plt.subplots()  # create plot\n",
    "m_serv = np.array(mk_serv.m_x[:4]) / 1e6  # get service analysis moments\n",
    "m_ult = np.array(mk_ult.m_x[:4]) / 1e6  # get ultimate analysis moments\n",
    "ax.plot(mk_serv.kappa[:4], m_serv, \"x-\", label=\"Service\")\n",
    "ax.plot(mk_ult.kappa[:4], m_ult, \"x-\", label=\"Ultimate\")\n",
    "ax.legend(loc=\"center left\", bbox_to_anchor=(1, 0.5))\n",
    "plt.grid()\n",
    "plt.show()"
   ]
  },
  {
   "cell_type": "markdown",
   "id": "42",
   "metadata": {},
   "source": [
    "Another point of interest on the moment curvature diagram is around 8000 kN.m. At this magnitude of external moment, the section in the service analysis remains uncracked (just below the flexural tensile strength). However, the section in the ultimate analysis has started to crack and the bending stiffness has begun to soften. Note also the resulting increase in concrete compressive stress to compensate."
   ]
  },
  {
   "cell_type": "code",
   "execution_count": null,
   "id": "43",
   "metadata": {},
   "outputs": [],
   "source": [
    "serv_stress_s_2 = conc_sec_serv.calculate_service_stress(\n",
    "    moment_curvature_results=mk_serv, m=8000e6\n",
    ")\n",
    "serv_stress_u_2 = conc_sec_ult.calculate_service_stress(\n",
    "    moment_curvature_results=mk_ult, m=8000e6\n",
    ")\n",
    "serv_stress_s_2.plot_stress(units=si_n_mm)\n",
    "serv_stress_u_2.plot_stress(units=si_n_mm)"
   ]
  }
 ],
 "metadata": {
  "kernelspec": {
   "display_name": "Python 3 (ipykernel)",
   "language": "python",
   "name": "python3"
  },
  "language_info": {
   "codemirror_mode": {
    "name": "ipython",
    "version": 3
   },
   "file_extension": ".py",
   "mimetype": "text/x-python",
   "name": "python",
   "nbconvert_exporter": "python",
   "pygments_lexer": "ipython3",
   "version": "3.12.7"
  },
  "vscode": {
   "interpreter": {
    "hash": "893b3ef6d13023afab4be8c5000be38ce11a760491bcfa4047435852657817d1"
   }
  }
 },
 "nbformat": 4,
 "nbformat_minor": 5
}
