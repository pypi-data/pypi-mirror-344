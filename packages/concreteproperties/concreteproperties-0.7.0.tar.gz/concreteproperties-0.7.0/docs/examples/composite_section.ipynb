{
 "cells": [
  {
   "cell_type": "markdown",
   "id": "0",
   "metadata": {},
   "source": [
    "# Composite Sections"
   ]
  },
  {
   "cell_type": "markdown",
   "id": "1",
   "metadata": {},
   "source": [
    "This example demonstrates how ``concreteproperties`` can be used to analyse composite sections. We start by importing the necessary modules.\n"
   ]
  },
  {
   "cell_type": "code",
   "execution_count": null,
   "id": "2",
   "metadata": {},
   "outputs": [],
   "source": [
    "import numpy as np\n",
    "from sectionproperties.pre.library import (\n",
    "    circular_section_by_area,\n",
    "    concrete_circular_section,\n",
    "    i_section,\n",
    "    rectangular_section,\n",
    ")\n",
    "\n",
    "import concreteproperties.results as res\n",
    "from concreteproperties import (\n",
    "    Concrete,\n",
    "    ConcreteLinearNoTension,\n",
    "    ConcreteSection,\n",
    "    RectangularStressBlock,\n",
    "    Steel,\n",
    "    SteelBar,\n",
    "    SteelElasticPlastic,\n",
    "    add_bar_circular_array,\n",
    "    add_bar_rectangular_array,\n",
    ")\n",
    "from concreteproperties.post import si_kn_m, si_n_mm"
   ]
  },
  {
   "cell_type": "markdown",
   "id": "3",
   "metadata": {},
   "source": [
    "## Assign Materials\n",
    "The materials used in this example will be 50 MPa concrete with 500 MPa reinforcing steel and 300 MPa structural steel."
   ]
  },
  {
   "cell_type": "code",
   "execution_count": null,
   "id": "4",
   "metadata": {},
   "outputs": [],
   "source": [
    "concrete = Concrete(\n",
    "    name=\"50 MPa Concrete\",\n",
    "    density=2.4e-6,\n",
    "    stress_strain_profile=ConcreteLinearNoTension(\n",
    "        elastic_modulus=34.8e3,\n",
    "        ultimate_strain=0.003,\n",
    "        compressive_strength=0.9 * 50,\n",
    "    ),\n",
    "    ultimate_stress_strain_profile=RectangularStressBlock(\n",
    "        compressive_strength=50,\n",
    "        alpha=0.775,\n",
    "        gamma=0.845,\n",
    "        ultimate_strain=0.003,\n",
    "    ),\n",
    "    flexural_tensile_strength=4.2,\n",
    "    colour=\"lightgrey\",\n",
    ")\n",
    "\n",
    "steel_300 = Steel(\n",
    "    name=\"300 MPa Structural Steel\",\n",
    "    density=7.85e-6,\n",
    "    stress_strain_profile=SteelElasticPlastic(\n",
    "        yield_strength=300,\n",
    "        elastic_modulus=200e3,\n",
    "        fracture_strain=0.05,\n",
    "    ),\n",
    "    colour=\"tan\",\n",
    ")\n",
    "\n",
    "steel_bar = SteelBar(\n",
    "    name=\"500 MPa Steel Bar\",\n",
    "    density=7.85e-6,\n",
    "    stress_strain_profile=SteelElasticPlastic(\n",
    "        yield_strength=500,\n",
    "        elastic_modulus=200e3,\n",
    "        fracture_strain=0.05,\n",
    "    ),\n",
    "    colour=\"grey\",\n",
    ")"
   ]
  },
  {
   "cell_type": "markdown",
   "id": "5",
   "metadata": {},
   "source": [
    "## Square Column with Universal Beam\n",
    "First we will analyse a 500 mm x 500 mm square column with 12N20 bars and a central 310UC97 steel column."
   ]
  },
  {
   "cell_type": "code",
   "execution_count": null,
   "id": "6",
   "metadata": {},
   "outputs": [],
   "source": [
    "# create 500 square concrete\n",
    "conc = rectangular_section(d=500, b=500, material=concrete)\n",
    "\n",
    "# create 310UC97 and centre to column\n",
    "uc = i_section(\n",
    "    d=308,\n",
    "    b=305,\n",
    "    t_f=15.4,\n",
    "    t_w=9.9,\n",
    "    r=16.5,\n",
    "    n_r=3,\n",
    "    material=steel_300,\n",
    ").align_center(align_to=conc)\n",
    "\n",
    "# cut hole in concrete for UC then add UC\n",
    "geom = conc - uc + uc\n",
    "\n",
    "# add 12N20 reinforcing bars\n",
    "geom = add_bar_rectangular_array(\n",
    "    geometry=geom,\n",
    "    area=310,\n",
    "    material=steel_bar,\n",
    "    n_x=4,\n",
    "    x_s=132,\n",
    "    n_y=4,\n",
    "    y_s=132,\n",
    "    anchor=(52, 52),\n",
    "    exterior_only=True,\n",
    ")\n",
    "\n",
    "# create concrete section and plot\n",
    "conc_sec = ConcreteSection(geom)\n",
    "conc_sec.plot_section()"
   ]
  },
  {
   "cell_type": "markdown",
   "id": "7",
   "metadata": {},
   "source": [
    "### Elastic Stress\n",
    "Calculate the elastic stress under a bending moment of 100 kN.m."
   ]
  },
  {
   "cell_type": "code",
   "execution_count": null,
   "id": "8",
   "metadata": {},
   "outputs": [],
   "source": [
    "el_stress = conc_sec.calculate_uncracked_stress(m_x=100e6)\n",
    "el_stress.plot_stress(units=si_n_mm)"
   ]
  },
  {
   "cell_type": "markdown",
   "id": "9",
   "metadata": {},
   "source": [
    "### Cracked Stress\n",
    "Calculate the cracked stress under a bending moment of 500 kN.m."
   ]
  },
  {
   "cell_type": "code",
   "execution_count": null,
   "id": "10",
   "metadata": {},
   "outputs": [],
   "source": [
    "cr_res = conc_sec.calculate_cracked_properties()\n",
    "cr_stress = conc_sec.calculate_cracked_stress(cracked_results=cr_res, m=500e6)\n",
    "cr_stress.plot_stress(units=si_n_mm)"
   ]
  },
  {
   "cell_type": "markdown",
   "id": "11",
   "metadata": {},
   "source": [
    "### Moment Curvature Diagram\n",
    "Generate a moment-curvature diagram and plot the stress after yielding of the steel."
   ]
  },
  {
   "cell_type": "code",
   "execution_count": null,
   "id": "12",
   "metadata": {},
   "outputs": [],
   "source": [
    "mk_res = conc_sec.moment_curvature_analysis(kappa_inc=2.5e-6, progress_bar=False)"
   ]
  },
  {
   "cell_type": "code",
   "execution_count": null,
   "id": "13",
   "metadata": {},
   "outputs": [],
   "source": [
    "mk_res.plot_results(fmt=\"kx-\", eng=True, units=si_kn_m)"
   ]
  },
  {
   "cell_type": "code",
   "execution_count": null,
   "id": "14",
   "metadata": {
    "nbsphinx-thumbnail": {
     "output-index": 0
    }
   },
   "outputs": [],
   "source": [
    "serv_stress = conc_sec.calculate_service_stress(\n",
    "    moment_curvature_results=mk_res, m=None, kappa=2e-5\n",
    ")\n",
    "serv_stress.plot_stress(units=si_n_mm)"
   ]
  },
  {
   "cell_type": "markdown",
   "id": "15",
   "metadata": {},
   "source": [
    "### Ultimate Results\n",
    "Finally the ultimate bending capacity about the ``x`` and ``y`` axes will be calculated, as well as generating an interaction diagram, a biaxial bending diagram and visualising the ultimate stresses."
   ]
  },
  {
   "cell_type": "code",
   "execution_count": null,
   "id": "16",
   "metadata": {},
   "outputs": [],
   "source": [
    "ult_res_x = conc_sec.ultimate_bending_capacity()\n",
    "ult_res_y = conc_sec.ultimate_bending_capacity(theta=np.pi / 2)\n",
    "ult_res_x.print_results(units=si_kn_m)\n",
    "ult_res_y.print_results(units=si_kn_m)"
   ]
  },
  {
   "cell_type": "code",
   "execution_count": null,
   "id": "17",
   "metadata": {},
   "outputs": [],
   "source": [
    "mi_res = conc_sec.moment_interaction_diagram(progress_bar=False)\n",
    "mi_res.plot_diagram(units=si_kn_m)"
   ]
  },
  {
   "cell_type": "code",
   "execution_count": null,
   "id": "18",
   "metadata": {},
   "outputs": [],
   "source": [
    "bb_res = conc_sec.biaxial_bending_diagram(n_points=24, progress_bar=False)\n",
    "bb_res.plot_diagram(units=si_kn_m)"
   ]
  },
  {
   "cell_type": "code",
   "execution_count": null,
   "id": "19",
   "metadata": {},
   "outputs": [],
   "source": [
    "ult_stress_x = conc_sec.calculate_ultimate_stress(ult_res_x)\n",
    "ult_stress_y = conc_sec.calculate_ultimate_stress(ult_res_y)\n",
    "ult_stress_x.plot_stress(units=si_n_mm)\n",
    "ult_stress_y.plot_stress(units=si_n_mm)"
   ]
  },
  {
   "cell_type": "markdown",
   "id": "20",
   "metadata": {},
   "source": [
    "## Concrete Filled Steel Column\n",
    "Next we will analyse a 323.9 mm x 12.7 mm steel (350 MPa) circular hollow section filled with concrete and 6N20 bars. The results will be compared to a similarly sized concrete column."
   ]
  },
  {
   "cell_type": "code",
   "execution_count": null,
   "id": "21",
   "metadata": {},
   "outputs": [],
   "source": [
    "steel_350 = Steel(\n",
    "    name=\"350 MPa Structural Steel\",\n",
    "    density=7.85e-6,\n",
    "    stress_strain_profile=SteelElasticPlastic(\n",
    "        yield_strength=350,\n",
    "        elastic_modulus=200e3,\n",
    "        fracture_strain=0.05,\n",
    "    ),\n",
    "    colour=\"tan\",\n",
    ")"
   ]
  },
  {
   "cell_type": "code",
   "execution_count": null,
   "id": "22",
   "metadata": {},
   "outputs": [],
   "source": [
    "# create outer diameter of steel column\n",
    "steel_col = circular_section_by_area(\n",
    "    area=np.pi * 323.9**2 / 4,\n",
    "    n=24,\n",
    "    material=steel_350,\n",
    ")\n",
    "\n",
    "# create inner diameter of steel column, concrete filled\n",
    "inner_conc = circular_section_by_area(\n",
    "    area=np.pi * (323.9 - 2 * 12.7) ** 2 / 4,\n",
    "    n=32,\n",
    "    material=concrete,\n",
    ")\n",
    "\n",
    "# create composite geometry\n",
    "geom_comp = steel_col - inner_conc + inner_conc\n",
    "\n",
    "# add reinforcement\n",
    "r_bars = 323.9 / 2 - 12.7 - 30 - 10  # 30 mm cover from inside of steel\n",
    "\n",
    "geom_comp = add_bar_circular_array(\n",
    "    geometry=geom_comp,\n",
    "    area=310,\n",
    "    material=steel_bar,\n",
    "    n_bar=6,\n",
    "    r_array=r_bars,\n",
    ")\n",
    "\n",
    "# create concrete section and plot\n",
    "conc_sec_comp = ConcreteSection(geom_comp)\n",
    "conc_sec_comp.plot_section()\n",
    "\n",
    "# create 350 diameter column for comparison\n",
    "geom_conc = concrete_circular_section(\n",
    "    d=350,\n",
    "    area_conc=np.pi * 350**2 / 4,\n",
    "    n_conc=24,\n",
    "    dia_bar=20,\n",
    "    area_bar=310,\n",
    "    n_bar=6,\n",
    "    cover=30 + 12,  # 30 mm cover + 12 mm tie\n",
    "    conc_mat=concrete,\n",
    "    steel_mat=steel_bar,\n",
    ")\n",
    "\n",
    "# create concrete section and plot\n",
    "conc_sec_conc = ConcreteSection(geom_conc)\n",
    "conc_sec_conc.plot_section()"
   ]
  },
  {
   "cell_type": "markdown",
   "id": "23",
   "metadata": {},
   "source": [
    "### Compare Elastic Stresses\n",
    "Compare the elastic stresses under a bending moment of 10 kN.m (uncracked)."
   ]
  },
  {
   "cell_type": "code",
   "execution_count": null,
   "id": "24",
   "metadata": {},
   "outputs": [],
   "source": [
    "el_stress_comp = conc_sec_comp.calculate_uncracked_stress(m_x=10e6)\n",
    "el_stress_conc = conc_sec_conc.calculate_uncracked_stress(m_x=10e6)\n",
    "el_stress_comp.plot_stress(units=si_n_mm)\n",
    "el_stress_conc.plot_stress(units=si_n_mm)"
   ]
  },
  {
   "cell_type": "markdown",
   "id": "25",
   "metadata": {},
   "source": [
    "Compare the elastic stresses under a bending moment of 50 kN.m (cracked)."
   ]
  },
  {
   "cell_type": "code",
   "execution_count": null,
   "id": "26",
   "metadata": {},
   "outputs": [],
   "source": [
    "cr_res_comp = conc_sec_comp.calculate_cracked_properties()\n",
    "cr_res_conc = conc_sec_conc.calculate_cracked_properties()\n",
    "\n",
    "cr_stress_comp = conc_sec_comp.calculate_cracked_stress(\n",
    "    cracked_results=cr_res_comp, m=50e6\n",
    ")\n",
    "cr_stress_conc = conc_sec_conc.calculate_cracked_stress(\n",
    "    cracked_results=cr_res_conc, m=50e6\n",
    ")\n",
    "cr_stress_comp.plot_stress(units=si_n_mm)\n",
    "cr_stress_conc.plot_stress(units=si_n_mm)"
   ]
  },
  {
   "cell_type": "markdown",
   "id": "27",
   "metadata": {},
   "source": [
    "### Compare Moment Curvature Response\n",
    "Calculate the moment curvature response of each column and compare the results."
   ]
  },
  {
   "cell_type": "code",
   "execution_count": null,
   "id": "28",
   "metadata": {},
   "outputs": [],
   "source": [
    "mk_res_comp = conc_sec_comp.moment_curvature_analysis(\n",
    "    kappa_inc=2.5e-6, progress_bar=False\n",
    ")\n",
    "mk_res_conc = conc_sec_conc.moment_curvature_analysis(\n",
    "    kappa_inc=2.5e-6, progress_bar=False\n",
    ")"
   ]
  },
  {
   "cell_type": "code",
   "execution_count": null,
   "id": "29",
   "metadata": {},
   "outputs": [],
   "source": [
    "res.MomentCurvatureResults.plot_multiple_results(\n",
    "    moment_curvature_results=[mk_res_comp, mk_res_conc],\n",
    "    labels=[\"Composite\", \"Concrete\"],\n",
    "    fmt=\"x-\",\n",
    "    eng=True,\n",
    "    units=si_kn_m,\n",
    ")"
   ]
  },
  {
   "cell_type": "markdown",
   "id": "30",
   "metadata": {},
   "source": [
    "Although the composite section is significantly stiffer and stronger, the regular concrete section exhibits a more ductile response due to the reduced amount of steel reinforcement."
   ]
  },
  {
   "cell_type": "markdown",
   "id": "31",
   "metadata": {},
   "source": [
    "### Compare Moment Interaction Results\n",
    "Moment interaction diagrams can be produced for each section and compared."
   ]
  },
  {
   "cell_type": "code",
   "execution_count": null,
   "id": "32",
   "metadata": {},
   "outputs": [],
   "source": [
    "mi_res_comp = conc_sec_comp.moment_interaction_diagram(progress_bar=False)\n",
    "mi_res_conc = conc_sec_conc.moment_interaction_diagram(progress_bar=False)\n",
    "res.MomentInteractionResults.plot_multiple_diagrams(\n",
    "    moment_interaction_results=[mi_res_comp, mi_res_conc],\n",
    "    labels=[\"Composite\", \"Concrete\"],\n",
    "    fmt=\"x-\",\n",
    "    units=si_kn_m,\n",
    ")"
   ]
  },
  {
   "cell_type": "markdown",
   "id": "33",
   "metadata": {},
   "source": [
    "## Composite Steel Beam\n",
    "Finally we will analyse a steel composite beam, consisting of a 530UB92 universal beam compositely attached to a 1500 mm wide x 120 mm deep concrete slab. We start by defining the concrete material (32 MPa) for the slab."
   ]
  },
  {
   "cell_type": "code",
   "execution_count": null,
   "id": "34",
   "metadata": {},
   "outputs": [],
   "source": [
    "concrete = Concrete(\n",
    "    name=\"32 MPa Concrete\",\n",
    "    density=2.4e-6,\n",
    "    stress_strain_profile=ConcreteLinearNoTension(\n",
    "        elastic_modulus=30.1e3,\n",
    "        ultimate_strain=0.003,\n",
    "        compressive_strength=0.9 * 32,\n",
    "    ),\n",
    "    ultimate_stress_strain_profile=RectangularStressBlock(\n",
    "        compressive_strength=32,\n",
    "        alpha=0.802,\n",
    "        gamma=0.89,\n",
    "        ultimate_strain=0.003,\n",
    "    ),\n",
    "    flexural_tensile_strength=3.4,\n",
    "    colour=\"lightgrey\",\n",
    ")"
   ]
  },
  {
   "cell_type": "markdown",
   "id": "35",
   "metadata": {},
   "source": [
    "Next we construct the composite geometry. Note that we set ``geometric_centroid_override=True`` to ensure that moments are calculated about the geometric centroid rather than the gross centroid. In previous examples the geometry was symmetric so setting this made no difference to the results."
   ]
  },
  {
   "cell_type": "code",
   "execution_count": null,
   "id": "36",
   "metadata": {},
   "outputs": [],
   "source": [
    "# create 530UB92\n",
    "ub = i_section(\n",
    "    d=533,\n",
    "    b=209,\n",
    "    t_f=15.6,\n",
    "    t_w=10.2,\n",
    "    r=14,\n",
    "    n_r=3,\n",
    "    material=steel_300,\n",
    ")\n",
    "\n",
    "# create concrete slab, centre on top of UB\n",
    "conc_slab = (\n",
    "    rectangular_section(\n",
    "        d=120,\n",
    "        b=1200,\n",
    "        material=concrete,\n",
    "    )\n",
    "    .align_center(align_to=ub)\n",
    "    .align_to(other=ub, on=\"top\")\n",
    ")\n",
    "\n",
    "# as there is no overlapping geometry, we can simply add the two sections together\n",
    "geom = ub + conc_slab\n",
    "\n",
    "# create concrete section and plot\n",
    "conc_sec = ConcreteSection(geom, geometric_centroid_override=True)\n",
    "conc_sec.plot_section()"
   ]
  },
  {
   "cell_type": "markdown",
   "id": "37",
   "metadata": {},
   "source": [
    "We can compare the gross and geometric centroids. The geometric centroid takes into account the difference elastic moduli of each material, whereas the gross centroid does not."
   ]
  },
  {
   "cell_type": "code",
   "execution_count": null,
   "id": "38",
   "metadata": {},
   "outputs": [],
   "source": [
    "cx_geom = conc_sec.moment_centroid[0]\n",
    "cy_geom = conc_sec.moment_centroid[1]\n",
    "cx_gross = conc_sec.gross_properties.cx_gross\n",
    "cy_gross = conc_sec.gross_properties.cy_gross\n",
    "print(f\"cx_geom = {cx_geom:.2f}; cy_geom = {cy_geom:.2f}\")\n",
    "print(f\"cx_gross = {cx_gross:.2f}; cy_gross = {cy_gross:.2f}\")"
   ]
  },
  {
   "cell_type": "markdown",
   "id": "39",
   "metadata": {},
   "source": [
    "### Moment Curvature Response\n",
    "Calculate the moment curvature response of the composite section. The section should show a gradual yielding response as plasticity develops over the depth of the steel beam."
   ]
  },
  {
   "cell_type": "code",
   "execution_count": null,
   "id": "40",
   "metadata": {},
   "outputs": [],
   "source": [
    "mk_res = conc_sec.moment_curvature_analysis(kappa_inc=1e-6, progress_bar=False)"
   ]
  },
  {
   "cell_type": "code",
   "execution_count": null,
   "id": "41",
   "metadata": {},
   "outputs": [],
   "source": [
    "mk_res.plot_results(eng=True, units=si_kn_m)"
   ]
  },
  {
   "cell_type": "markdown",
   "id": "42",
   "metadata": {},
   "source": [
    "We can examine the stresses at various point within the moment-curvature response."
   ]
  },
  {
   "cell_type": "code",
   "execution_count": null,
   "id": "43",
   "metadata": {},
   "outputs": [],
   "source": [
    "el_stress = conc_sec.calculate_service_stress(moment_curvature_results=mk_res, m=500e6)\n",
    "yield_stress = conc_sec.calculate_service_stress(\n",
    "    moment_curvature_results=mk_res, m=900e6\n",
    ")\n",
    "ult_stress = conc_sec.calculate_service_stress(\n",
    "    moment_curvature_results=mk_res, m=1150e6\n",
    ")"
   ]
  },
  {
   "cell_type": "code",
   "execution_count": null,
   "id": "44",
   "metadata": {},
   "outputs": [],
   "source": [
    "el_stress.plot_stress(units=si_n_mm)\n",
    "yield_stress.plot_stress(units=si_n_mm)\n",
    "ult_stress.plot_stress(units=si_n_mm)"
   ]
  },
  {
   "cell_type": "markdown",
   "id": "45",
   "metadata": {},
   "source": [
    "### Ultimate Bending Capacity\n",
    "The ultimate bending capacity can be calculated and compared to the result obtained from the moment curvature analysis."
   ]
  },
  {
   "cell_type": "code",
   "execution_count": null,
   "id": "46",
   "metadata": {},
   "outputs": [],
   "source": [
    "ult_res = conc_sec.ultimate_bending_capacity()\n",
    "ult_res.print_results(units=si_kn_m)"
   ]
  },
  {
   "cell_type": "markdown",
   "id": "47",
   "metadata": {},
   "source": [
    "The above results match closely with the moment curvature results, as will as confirming that the neutral axis is within the concrete slab. Note that ``k_u`` is not calculated for only meshed sections, it is only computed for lumped reinforcement."
   ]
  }
 ],
 "metadata": {
  "kernelspec": {
   "display_name": "Python 3 (ipykernel)",
   "language": "python",
   "name": "python3"
  },
  "language_info": {
   "codemirror_mode": {
    "name": "ipython",
    "version": 3
   },
   "file_extension": ".py",
   "mimetype": "text/x-python",
   "name": "python",
   "nbconvert_exporter": "python",
   "pygments_lexer": "ipython3",
   "version": "3.12.7"
  },
  "vscode": {
   "interpreter": {
    "hash": "893b3ef6d13023afab4be8c5000be38ce11a760491bcfa4047435852657817d1"
   }
  }
 },
 "nbformat": 4,
 "nbformat_minor": 5
}
