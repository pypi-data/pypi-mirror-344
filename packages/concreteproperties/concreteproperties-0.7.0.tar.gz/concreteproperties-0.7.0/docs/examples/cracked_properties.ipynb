{
 "cells": [
  {
   "cell_type": "markdown",
   "id": "0",
   "metadata": {},
   "source": [
    "# Calculating Cracked Properties"
   ]
  },
  {
   "cell_type": "markdown",
   "id": "1",
   "metadata": {},
   "source": [
    "This example demonstrates how to obtain and display the cracked area properties. We start by importing the necessary modules."
   ]
  },
  {
   "cell_type": "code",
   "execution_count": null,
   "id": "2",
   "metadata": {},
   "outputs": [],
   "source": [
    "import numpy as np\n",
    "from sectionproperties.pre.library import concrete_tee_section\n",
    "\n",
    "from concreteproperties import (\n",
    "    Concrete,\n",
    "    ConcreteLinear,\n",
    "    ConcreteSection,\n",
    "    RectangularStressBlock,\n",
    "    SteelBar,\n",
    "    SteelElasticPlastic,\n",
    ")"
   ]
  },
  {
   "cell_type": "markdown",
   "id": "3",
   "metadata": {},
   "source": [
    "## Assign Materials\n",
    "\n",
    "The materials used in this example will be 40 MPa concrete and 500 MPa steel, specified in accordance with AS 3600:2018."
   ]
  },
  {
   "cell_type": "code",
   "execution_count": null,
   "id": "4",
   "metadata": {},
   "outputs": [],
   "source": [
    "concrete = Concrete(\n",
    "    name=\"40 MPa Concrete\",\n",
    "    density=2.4e-6,\n",
    "    stress_strain_profile=ConcreteLinear(elastic_modulus=32.8e3),\n",
    "    ultimate_stress_strain_profile=RectangularStressBlock(\n",
    "        compressive_strength=40,\n",
    "        alpha=0.79,\n",
    "        gamma=0.87,\n",
    "        ultimate_strain=0.003,\n",
    "    ),\n",
    "    flexural_tensile_strength=3.8,\n",
    "    colour=\"lightgrey\",\n",
    ")\n",
    "\n",
    "steel = SteelBar(\n",
    "    name=\"500 MPa Steel\",\n",
    "    density=7.85e-6,\n",
    "    stress_strain_profile=SteelElasticPlastic(\n",
    "        yield_strength=500,\n",
    "        elastic_modulus=200e3,\n",
    "        fracture_strain=0.05,\n",
    "    ),\n",
    "    colour=\"grey\",\n",
    ")"
   ]
  },
  {
   "cell_type": "markdown",
   "id": "5",
   "metadata": {},
   "source": [
    "## Create Geometry and Concrete Section\n",
    "\n",
    "The section being analysed in this example is a 900D x 300W tee-beam with a 1200W x 200D slab. The reinforcement detailed is 6N16 top bars and 3N32 bottom bars, with 30 mm of clear cover. The geometry is generated using the *sectionproperties* concrete sections library."
   ]
  },
  {
   "cell_type": "code",
   "execution_count": null,
   "id": "6",
   "metadata": {},
   "outputs": [],
   "source": [
    "geom = concrete_tee_section(\n",
    "    d=900,\n",
    "    b=300,\n",
    "    d_f=200,\n",
    "    b_f=1200,\n",
    "    dia_top=16,\n",
    "    area_top=200,\n",
    "    n_top=6,\n",
    "    c_top=30,\n",
    "    dia_bot=32,\n",
    "    area_bot=800,\n",
    "    n_bot=3,\n",
    "    c_bot=30,\n",
    "    conc_mat=concrete,\n",
    "    steel_mat=steel,\n",
    ")\n",
    "\n",
    "conc_sec = ConcreteSection(geom)\n",
    "conc_sec.plot_section()"
   ]
  },
  {
   "cell_type": "markdown",
   "id": "7",
   "metadata": {},
   "source": [
    "## Calculate Cracked Properties\n",
    "\n",
    "In this example we'll peform a cracked analysis for sagging ($\\theta=0$) and hogging ($\\theta=\\pi$). To do this we call the ``calculate_cracked_properties()`` method:"
   ]
  },
  {
   "cell_type": "code",
   "execution_count": null,
   "id": "8",
   "metadata": {},
   "outputs": [],
   "source": [
    "cracked_res_sag = conc_sec.calculate_cracked_properties()\n",
    "cracked_res_hog = conc_sec.calculate_cracked_properties(theta=np.pi)"
   ]
  },
  {
   "cell_type": "markdown",
   "id": "9",
   "metadata": {},
   "source": [
    "We can print the results of these analyses by calling the ``print_results`` method:"
   ]
  },
  {
   "cell_type": "code",
   "execution_count": null,
   "id": "10",
   "metadata": {},
   "outputs": [],
   "source": [
    "cracked_res_sag.print_results()\n",
    "cracked_res_hog.print_results()"
   ]
  },
  {
   "cell_type": "markdown",
   "id": "11",
   "metadata": {},
   "source": [
    "## Transformed Cracked Properties\n",
    "\n",
    "We can compute the transformed properties by calling the ``calculate_transformed_properties()`` method on the ``CrackedResults`` objects and also print these results:"
   ]
  },
  {
   "cell_type": "code",
   "execution_count": null,
   "id": "12",
   "metadata": {},
   "outputs": [],
   "source": [
    "from concreteproperties.post import si_kn_m, si_n_mm\n",
    "\n",
    "si_n_mm.radians = False  # show degrees\n",
    "\n",
    "cracked_res_sag.calculate_transformed_properties(elastic_modulus=32.8e3)\n",
    "cracked_res_hog.calculate_transformed_properties(elastic_modulus=32.8e3)\n",
    "\n",
    "cracked_res_sag.print_results(units=si_kn_m)\n",
    "cracked_res_hog.print_results(units=si_n_mm)"
   ]
  },
  {
   "cell_type": "markdown",
   "id": "13",
   "metadata": {},
   "source": [
    "Specific results can be obtained by referencing the associated attribute in the ``CrackedResults`` object:"
   ]
  },
  {
   "cell_type": "code",
   "execution_count": null,
   "id": "14",
   "metadata": {},
   "outputs": [],
   "source": [
    "cracking_moment = cracked_res_sag.m_cr\n",
    "neutral_axis_depth = cracked_res_sag.d_nc\n",
    "cracked_i = cracked_res_sag.iuu_cr\n",
    "\n",
    "print(f\"M_cr = {cracking_moment / 1e6:.2f} kN.m\")\n",
    "print(f\"d_nc = {neutral_axis_depth:.2f} mm\")\n",
    "print(f\"I_cr = {cracked_i:.3e} mm^4\")"
   ]
  },
  {
   "cell_type": "markdown",
   "id": "15",
   "metadata": {},
   "source": [
    "## Plot Cracked Geometries\n",
    "\n",
    "Finally, the cracked geometry can be displayed by calling the ``plot_cracked_geometries()`` method:"
   ]
  },
  {
   "cell_type": "code",
   "execution_count": null,
   "id": "16",
   "metadata": {
    "nbsphinx-thumbnail": {
     "output-index": 0
    }
   },
   "outputs": [],
   "source": [
    "cracked_res_sag.plot_cracked_geometries(labels=[], cp=False, legend=False)"
   ]
  },
  {
   "cell_type": "code",
   "execution_count": null,
   "id": "17",
   "metadata": {},
   "outputs": [],
   "source": [
    "cracked_res_hog.plot_cracked_geometries(labels=[], cp=False, legend=False)"
   ]
  }
 ],
 "metadata": {
  "kernelspec": {
   "display_name": "Python 3 (ipykernel)",
   "language": "python",
   "name": "python3"
  },
  "language_info": {
   "codemirror_mode": {
    "name": "ipython",
    "version": 3
   },
   "file_extension": ".py",
   "mimetype": "text/x-python",
   "name": "python",
   "nbconvert_exporter": "python",
   "pygments_lexer": "ipython3",
   "version": "3.12.7"
  }
 },
 "nbformat": 4,
 "nbformat_minor": 5
}
