{
 "cells": [
  {
   "cell_type": "markdown",
   "id": "4c2d80d7-aaf4-42d0-9d03-e7178c0ff531",
   "metadata": {},
   "source": [
    "# Cartpole\n",
    "Planner __init__ expects a reward and transition matrix P, which is a nested dictionary \n",
    "[OpenAI Gym](https://gymnasium.farama.org/) style discrete environment where\n",
    "P[state][action] is a list of tuples (probability, next state, reward, terminal).\n",
    "\n",
    "The gym cartpole environment does not include this matrix, so we'll use the CartpoleWrapper class to create a wrapped gym environment, which modifies the observation space and includes P.  "
   ]
  },
  {
   "cell_type": "code",
   "execution_count": null,
   "id": "d2ca7ee2-87f7-4002-9960-9045cbd34d38",
   "metadata": {},
   "outputs": [],
   "source": [
    "!pip install bettermdptools"
   ]
  },
  {
   "cell_type": "code",
   "execution_count": 1,
   "id": "d8765dfa-0db9-4e04-83b4-24e296053634",
   "metadata": {},
   "outputs": [],
   "source": [
    "import gymnasium as gym\n",
    "from bettermdptools.envs.cartpole_wrapper import CartpoleWrapper\n",
    "from bettermdptools.utils.test_env import TestEnv\n",
    "from bettermdptools.algorithms.planner import Planner\n",
    "from bettermdptools.algorithms.rl import RL\n",
    "import numpy as np"
   ]
  },
  {
   "cell_type": "code",
   "execution_count": null,
   "id": "e9e16c85-88e6-483c-aeb9-ee2a91d5cda6",
   "metadata": {},
   "outputs": [
    {
     "name": "stdout",
     "output_type": "stream",
     "text": []
    },
    {
     "name": "stdout",
     "output_type": "stream",
     "text": [
      "runtime = 41.46 seconds\n",
      "9.4\n"
     ]
    },
    {
     "name": "stdout",
     "output_type": "stream",
     "text": [
      "runtime = 175.35 seconds\n",
      "103.45\n"
     ]
    }
   ],
   "source": [
    "base_env = gym.make('CartPole-v1', render_mode=None)\n",
    "cartpole = CartpoleWrapper(base_env)\n",
    "\n",
    "# run VI\n",
    "V, V_track, pi = Planner(cartpole.P).value_iteration()\n",
    "\n",
    "#test policy\n",
    "test_scores = TestEnv.test_env(env=cartpole, n_iters=100, render=False, pi=pi, user_input=False)\n",
    "print(np.mean(test_scores))\n",
    "\n",
    "# Q-learning\n",
    "Q, V, pi, Q_track, pi_track, rewards = RL(cartpole).q_learning()\n",
    "\n",
    "#test policy\n",
    "test_scores = TestEnv.test_env(env=cartpole, n_iters=100, render=False, pi=pi, user_input=False)\n",
    "print(np.mean(test_scores))"
   ]
  }
 ],
 "metadata": {
  "kernelspec": {
   "display_name": "bettermdptools",
   "language": "python",
   "name": "bettermdptools"
  },
  "language_info": {
   "codemirror_mode": {
    "name": "ipython",
    "version": 3
   },
   "file_extension": ".py",
   "mimetype": "text/x-python",
   "name": "python",
   "nbconvert_exporter": "python",
   "pygments_lexer": "ipython3",
   "version": "3.11.5"
  }
 },
 "nbformat": 4,
 "nbformat_minor": 5
}
