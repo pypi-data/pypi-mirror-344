{
 "cells": [
  {
   "cell_type": "code",
   "execution_count": null,
   "metadata": {},
   "outputs": [],
   "source": []
  },
  {
   "cell_type": "code",
   "execution_count": null,
   "metadata": {},
   "outputs": [],
   "source": [
    "from pathlib import Path\n",
    "from ec4py import *\n",
    "from ec4py import Quantity_Value_Unit as QV\n",
    "from ec4py.util_voltammetry import Voltammetry, split_rawData_into_sweeps\n",
    "import numpy as np\n",
    "import matplotlib.pyplot as plt\n",
    "import math\n"
   ]
  },
  {
   "cell_type": "code",
   "execution_count": 4,
   "metadata": {},
   "outputs": [],
   "source": [
    "data= Voltammetry()\n",
    "\n"
   ]
  },
  {
   "cell_type": "code",
   "execution_count": 5,
   "metadata": {},
   "outputs": [
    {
     "name": "stdout",
     "output_type": "stream",
     "text": [
      "-2.5\n",
      "2.5\n",
      "5\n",
      "10\n"
     ]
    }
   ],
   "source": [
    "data= Voltammetry()\n",
    "print(data.E_axis[\"E_min\"])\n",
    "print(data.E_axis[\"E_max\"])\n",
    "data= Voltammetry(E_min=5,E_max=10)\n",
    "print(data.E_axis[\"E_min\"])\n",
    "print(data.E_axis[\"E_max\"])\n"
   ]
  },
  {
   "cell_type": "code",
   "execution_count": 6,
   "metadata": {},
   "outputs": [
    {
     "data": {
      "text/plain": [
       "array([0.000e+00, 1.000e-03, 2.000e-03, ..., 1.998e+00, 1.999e+00,\n",
       "       2.000e+00])"
      ]
     },
     "execution_count": 6,
     "metadata": {},
     "output_type": "execute_result"
    }
   ],
   "source": [
    "data.make_E_axis(0,2)\n",
    "data.make_E_axis(0,2)"
   ]
  },
  {
   "cell_type": "code",
   "execution_count": 7,
   "metadata": {},
   "outputs": [
    {
     "name": "stdout",
     "output_type": "stream",
     "text": [
      "[-5.    -4.999 -4.998 ...  4.998  4.999  5.   ]\n",
      "5000\n",
      "0.0\n"
     ]
    }
   ],
   "source": [
    "data= Voltammetry(E_min=-5,E_max=5)\n",
    "print(data.E)\n",
    "print(data.get_index_of_E(0))\n",
    "print(data.E[data.get_index_of_E(0)])\n"
   ]
  }
 ],
 "metadata": {
  "kernelspec": {
   "display_name": ".venv",
   "language": "python",
   "name": "python3"
  },
  "language_info": {
   "codemirror_mode": {
    "name": "ipython",
    "version": 3
   },
   "file_extension": ".py",
   "mimetype": "text/x-python",
   "name": "python",
   "nbconvert_exporter": "python",
   "pygments_lexer": "ipython3",
   "version": "3.12.1"
  }
 },
 "nbformat": 4,
 "nbformat_minor": 2
}
