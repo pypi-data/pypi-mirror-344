{
 "cells": [
  {
   "cell_type": "markdown",
   "id": "0b1477ba",
   "metadata": {},
   "source": [
    "## Pycantus tutorial\n",
    "\n",
    "Here comes basics of how to work with `pycantus` library.  \n",
    "`pycantus`: A Python library designed to enhance accessibility of Gregorian chants for both coders and non-coders."
   ]
  },
  {
   "cell_type": "markdown",
   "id": "8093479a",
   "metadata": {},
   "source": [
    "First make sure you have latest pycantus version installed.  \n",
    "That can be ensured by running in command line:  \n",
    "`pip install --upgrade pycantus`"
   ]
  },
  {
   "cell_type": "markdown",
   "id": "4eb13071",
   "metadata": {},
   "source": [
    "Now let's make sure you can use `pycantus`."
   ]
  },
  {
   "cell_type": "code",
   "execution_count": 3,
   "id": "512451f7",
   "metadata": {},
   "outputs": [
    {
     "name": "stdout",
     "output_type": "stream",
     "text": [
      "\n",
      "    *********************************************\n",
      "    *                                           *\n",
      "    *           Welcome to PyCantus!            *\n",
      "    *                                           *\n",
      "    *    A Python library designed to enhance   *\n",
      "    *    accessibility of Gregorian chants for  *\n",
      "    *    both coders and non-coders.            *\n",
      "    *                                           *\n",
      "    *********************************************\n",
      "    \n"
     ]
    }
   ],
   "source": [
    "import pycantus\n",
    "import pycantus.data as data\n",
    "\n",
    "pycantus.hello_pycantus()"
   ]
  },
  {
   "cell_type": "markdown",
   "id": "9fcdae90",
   "metadata": {},
   "source": [
    "#### Get your firts corpus to play with\n",
    "Base of `pycantus` is work with data.  \n",
    "This data are stored in `Corpus` object containing list of chants (objects `Chant`) and possibly also list of sources (objects `Source`).  \n",
    "You can load one of predefined datasets as well as your own files."
   ]
  },
  {
   "cell_type": "code",
   "execution_count": 4,
   "id": "20d7c2db",
   "metadata": {},
   "outputs": [
    {
     "name": "stdout",
     "output_type": "stream",
     "text": [
      "Loading chants and sources...\n"
     ]
    }
   ],
   "source": [
    "my_sample_corpus = data.load_dataset('sample_dataset')"
   ]
  },
  {
   "cell_type": "markdown",
   "id": "94a43491",
   "metadata": {},
   "source": [
    "Now we can look how `Chant` and `Source` do look like as data holders:"
   ]
  },
  {
   "cell_type": "code",
   "execution_count": 5,
   "id": "82acf0f9",
   "metadata": {},
   "outputs": [
    {
     "data": {
      "text/plain": [
       "'cantus_id,incipit,siglum,srclink,chantlink,folio,db,sequence,feast,genre,office,position,melody_id,image,mode,full_text,melody,century'"
      ]
     },
     "execution_count": 5,
     "metadata": {},
     "output_type": "execute_result"
    }
   ],
   "source": [
    "my_sample_corpus.csv_chants_header"
   ]
  },
  {
   "cell_type": "code",
   "execution_count": 6,
   "id": "f630addd",
   "metadata": {},
   "outputs": [
    {
     "data": {
      "text/plain": [
       "'title,siglum,century,provenance,srclink'"
      ]
     },
     "execution_count": 6,
     "metadata": {},
     "output_type": "execute_result"
    }
   ],
   "source": [
    "my_sample_corpus.csv_sources_header"
   ]
  },
  {
   "cell_type": "markdown",
   "id": "5d6075ff",
   "metadata": {},
   "source": [
    "And also how particulary ones of them look like:"
   ]
  },
  {
   "cell_type": "code",
   "execution_count": 7,
   "id": "e11d557d",
   "metadata": {},
   "outputs": [
    {
     "data": {
      "text/plain": [
       "'206135,Quasi David dejicit funda Philistaeum dum ,SK-Bra (Bratislava) Antiphonary of Bratislava I EC Lad.3,https://cantus.sk/source/14828,https://cantus.sk/chant/21201,163v,CSK,,Emerici,A,L,4,,,,Quasi David dejicit funda Philistaeum dum de carne perficit Emericus trophaeum,,'"
      ]
     },
     "execution_count": 7,
     "metadata": {},
     "output_type": "execute_result"
    }
   ],
   "source": [
    "my_sample_corpus.chants[0].to_csv_row"
   ]
  },
  {
   "cell_type": "code",
   "execution_count": 8,
   "id": "46739302",
   "metadata": {},
   "outputs": [
    {
     "data": {
      "text/plain": [
       "'H-Efkö MS I. 1 a-b – Graduale Strigoniense Thomae Card. Bakócz I-II.,H-Efkö MS I. 1 a-b,15th century,Esztergom,http://hun-chant.eu/source/1295'"
      ]
     },
     "execution_count": 8,
     "metadata": {},
     "output_type": "execute_result"
    }
   ],
   "source": [
    "my_sample_corpus.sources[2].to_csv_row"
   ]
  },
  {
   "cell_type": "code",
   "execution_count": 10,
   "id": "d35771cd",
   "metadata": {},
   "outputs": [
    {
     "name": "stdout",
     "output_type": "stream",
     "text": [
      "My chants have incipts:\n",
      "\t Quasi David dejicit funda Philistaeum dum \n",
      "\t Quasi David deicit funda Philisteum\n",
      "\t Quidam autem ex Judaeis\n",
      "\t Quidam autem ex Judaeis volebant\n",
      "\t Quidam autem ex Judaeis volebant\n",
      "\t Quidam autem ex Judaeis volebant \n",
      "\t Quidam autem ex Judaeis volebant inter \n",
      "\t Quidam autem ex Judaeis\n",
      "\t Quidam autem ex Judaeis volebant inter \n",
      "\t Quidam autem ex Judaeis\n",
      "\t Iussit eam virgis cedi suspensam\n",
      "\t His festis mundus jubili sit\n",
      "\t Puer Jesus crescebat plenus\n"
     ]
    }
   ],
   "source": [
    "print('My chants have incipts:')\n",
    "for chant in my_sample_corpus.chants:\n",
    "    print('\\t', chant.incipit)"
   ]
  },
  {
   "cell_type": "markdown",
   "id": "bf429402",
   "metadata": {},
   "source": [
    "##### Editability\n",
    "\n",
    "By default `Corpus` is not editable and so are all its `Chant` and `Source` objects.  \n",
    "That means that you cannot change values in them, they are locked, and if we try to change some value, we shlould recieve an error."
   ]
  },
  {
   "cell_type": "code",
   "execution_count": 11,
   "id": "35933ea9",
   "metadata": {},
   "outputs": [
    {
     "ename": "AttributeError",
     "evalue": "Cannot modify 'incipit' because the object is locked.",
     "output_type": "error",
     "traceback": [
      "\u001b[31m---------------------------------------------------------------------------\u001b[39m",
      "\u001b[31mAttributeError\u001b[39m                            Traceback (most recent call last)",
      "\u001b[36mCell\u001b[39m\u001b[36m \u001b[39m\u001b[32mIn[11]\u001b[39m\u001b[32m, line 1\u001b[39m\n\u001b[32m----> \u001b[39m\u001b[32m1\u001b[39m \u001b[43mmy_sample_corpus\u001b[49m\u001b[43m.\u001b[49m\u001b[43mchants\u001b[49m\u001b[43m[\u001b[49m\u001b[32;43m0\u001b[39;49m\u001b[43m]\u001b[49m\u001b[43m.\u001b[49m\u001b[43mincipit\u001b[49m = \u001b[33m'\u001b[39m\u001b[33mMamma Mia! Here I go again!\u001b[39m\u001b[33m'\u001b[39m\n",
      "\u001b[36mFile \u001b[39m\u001b[32mc:\\Users\\annad\\Documents\\MFFuck\\PyCantus_ALL\\PyCantus\\pycantus\\models\\chant.py:116\u001b[39m, in \u001b[36mChant.__setattr__\u001b[39m\u001b[34m(self, name, value)\u001b[39m\n\u001b[32m    114\u001b[39m \u001b[38;5;28;01mdef\u001b[39;00m\u001b[38;5;250m \u001b[39m\u001b[34m__setattr__\u001b[39m(\u001b[38;5;28mself\u001b[39m, name, value):\n\u001b[32m    115\u001b[39m     \u001b[38;5;28;01mif\u001b[39;00m name != \u001b[33m\"\u001b[39m\u001b[33mlocked\u001b[39m\u001b[33m\"\u001b[39m \u001b[38;5;129;01mand\u001b[39;00m \u001b[38;5;28mgetattr\u001b[39m(\u001b[38;5;28mself\u001b[39m, \u001b[33m\"\u001b[39m\u001b[33mlocked\u001b[39m\u001b[33m\"\u001b[39m, \u001b[38;5;28;01mFalse\u001b[39;00m):\n\u001b[32m--> \u001b[39m\u001b[32m116\u001b[39m         \u001b[38;5;28;01mraise\u001b[39;00m \u001b[38;5;167;01mAttributeError\u001b[39;00m(\u001b[33mf\u001b[39m\u001b[33m\"\u001b[39m\u001b[33mCannot modify \u001b[39m\u001b[33m'\u001b[39m\u001b[38;5;132;01m{\u001b[39;00mname\u001b[38;5;132;01m}\u001b[39;00m\u001b[33m'\u001b[39m\u001b[33m because the object is locked.\u001b[39m\u001b[33m\"\u001b[39m)\n\u001b[32m    117\u001b[39m     \u001b[38;5;28msuper\u001b[39m().\u001b[34m__setattr__\u001b[39m(name, value)\n",
      "\u001b[31mAttributeError\u001b[39m: Cannot modify 'incipit' because the object is locked."
     ]
    }
   ],
   "source": [
    "my_sample_corpus.chants[0].incipit = 'Mamma Mia! Here I go again!'"
   ]
  },
  {
   "cell_type": "markdown",
   "id": "73cdaaa4",
   "metadata": {},
   "source": [
    "However, if you need to do such edits (e.g. clean volpiano melodies) you can create whole `Corpus` editable:"
   ]
  },
  {
   "cell_type": "code",
   "execution_count": 14,
   "id": "c3cc1af7",
   "metadata": {},
   "outputs": [
    {
     "name": "stdout",
     "output_type": "stream",
     "text": [
      "Loading chants and sources...\n"
     ]
    },
    {
     "ename": "AttributeError",
     "evalue": "Cannot modify 'incipit' because the object is locked.",
     "output_type": "error",
     "traceback": [
      "\u001b[31m---------------------------------------------------------------------------\u001b[39m",
      "\u001b[31mAttributeError\u001b[39m                            Traceback (most recent call last)",
      "\u001b[36mCell\u001b[39m\u001b[36m \u001b[39m\u001b[32mIn[14]\u001b[39m\u001b[32m, line 2\u001b[39m\n\u001b[32m      1\u001b[39m my_sample_corpus_editable = data.load_dataset(\u001b[33m'\u001b[39m\u001b[33msample_dataset\u001b[39m\u001b[33m'\u001b[39m, is_editable=\u001b[38;5;28;01mTrue\u001b[39;00m)\n\u001b[32m----> \u001b[39m\u001b[32m2\u001b[39m \u001b[43mmy_sample_corpus_editable\u001b[49m\u001b[43m.\u001b[49m\u001b[43mchants\u001b[49m\u001b[43m[\u001b[49m\u001b[32;43m0\u001b[39;49m\u001b[43m]\u001b[49m\u001b[43m.\u001b[49m\u001b[43mincipit\u001b[49m = \u001b[33m'\u001b[39m\u001b[33mMamma Mia! Here I go again!\u001b[39m\u001b[33m'\u001b[39m\n",
      "\u001b[36mFile \u001b[39m\u001b[32mc:\\Users\\annad\\Documents\\MFFuck\\PyCantus_ALL\\PyCantus\\pycantus\\models\\chant.py:116\u001b[39m, in \u001b[36mChant.__setattr__\u001b[39m\u001b[34m(self, name, value)\u001b[39m\n\u001b[32m    114\u001b[39m \u001b[38;5;28;01mdef\u001b[39;00m\u001b[38;5;250m \u001b[39m\u001b[34m__setattr__\u001b[39m(\u001b[38;5;28mself\u001b[39m, name, value):\n\u001b[32m    115\u001b[39m     \u001b[38;5;28;01mif\u001b[39;00m name != \u001b[33m\"\u001b[39m\u001b[33mlocked\u001b[39m\u001b[33m\"\u001b[39m \u001b[38;5;129;01mand\u001b[39;00m \u001b[38;5;28mgetattr\u001b[39m(\u001b[38;5;28mself\u001b[39m, \u001b[33m\"\u001b[39m\u001b[33mlocked\u001b[39m\u001b[33m\"\u001b[39m, \u001b[38;5;28;01mFalse\u001b[39;00m):\n\u001b[32m--> \u001b[39m\u001b[32m116\u001b[39m         \u001b[38;5;28;01mraise\u001b[39;00m \u001b[38;5;167;01mAttributeError\u001b[39;00m(\u001b[33mf\u001b[39m\u001b[33m\"\u001b[39m\u001b[33mCannot modify \u001b[39m\u001b[33m'\u001b[39m\u001b[38;5;132;01m{\u001b[39;00mname\u001b[38;5;132;01m}\u001b[39;00m\u001b[33m'\u001b[39m\u001b[33m because the object is locked.\u001b[39m\u001b[33m\"\u001b[39m)\n\u001b[32m    117\u001b[39m     \u001b[38;5;28msuper\u001b[39m().\u001b[34m__setattr__\u001b[39m(name, value)\n",
      "\u001b[31mAttributeError\u001b[39m: Cannot modify 'incipit' because the object is locked."
     ]
    }
   ],
   "source": [
    "my_sample_corpus_editable = data.load_dataset('sample_dataset', is_editable=True)\n",
    "my_sample_corpus_editable.chants[0].incipit = 'Mamma Mia! Here I go again!'"
   ]
  },
  {
   "cell_type": "markdown",
   "id": "ec7683b6",
   "metadata": {},
   "source": [
    "You can always change "
   ]
  },
  {
   "cell_type": "code",
   "execution_count": null,
   "id": "ede0852c",
   "metadata": {},
   "outputs": [],
   "source": []
  }
 ],
 "metadata": {
  "kernelspec": {
   "display_name": "testvenv",
   "language": "python",
   "name": "python3"
  },
  "language_info": {
   "codemirror_mode": {
    "name": "ipython",
    "version": 3
   },
   "file_extension": ".py",
   "mimetype": "text/x-python",
   "name": "python",
   "nbconvert_exporter": "python",
   "pygments_lexer": "ipython3",
   "version": "3.11.6"
  }
 },
 "nbformat": 4,
 "nbformat_minor": 5
}
