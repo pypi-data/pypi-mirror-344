{
 "cells": [
  {
   "cell_type": "code",
   "execution_count": 1,
   "metadata": {},
   "outputs": [],
   "source": [
    "import attrsx\n",
    "import attrs"
   ]
  },
  {
   "cell_type": "markdown",
   "metadata": {},
   "source": [
    "## Usage"
   ]
  },
  {
   "cell_type": "markdown",
   "metadata": {},
   "source": [
    "### 1. Built-in logger"
   ]
  },
  {
   "cell_type": "markdown",
   "metadata": {},
   "source": [
    "One of the primary extensions in `attrsx` is automatic logging. It can be accessed via `self.logger` in any `attrsx`-decorated class."
   ]
  },
  {
   "cell_type": "markdown",
   "metadata": {},
   "source": [
    "#### Basic Logger Usage"
   ]
  },
  {
   "cell_type": "code",
   "execution_count": 2,
   "metadata": {},
   "outputs": [],
   "source": [
    "@attrsx.define\n",
    "class ProcessData:\n",
    "    data: str = attrs.field(default=None)\n",
    "\n",
    "    def run(self):\n",
    "        self.logger.info(\"Running data processing...\")\n",
    "        self.logger.debug(f\"Processing data: {self.data}\")\n",
    "        return f\"Processed: {self.data}\"\n"
   ]
  },
  {
   "cell_type": "code",
   "execution_count": 3,
   "metadata": {},
   "outputs": [
    {
     "name": "stderr",
     "output_type": "stream",
     "text": [
      "INFO:ProcessData:Running data processing...\n"
     ]
    },
    {
     "data": {
      "text/plain": [
       "'Processed: data'"
      ]
     },
     "execution_count": 3,
     "metadata": {},
     "output_type": "execute_result"
    }
   ],
   "source": [
    "ProcessData(data = \"data\").run()"
   ]
  },
  {
   "cell_type": "markdown",
   "metadata": {},
   "source": [
    "#### Logger Configuration"
   ]
  },
  {
   "cell_type": "markdown",
   "metadata": {},
   "source": [
    "The logging behavior can be customized using the following optional attributes:\n",
    "\n",
    "- `loggerLvl` : Sets the log level (from `logging`), defaults to `logging.INFO`.\n",
    "- `logger_name` : Specifies the logger name; defaults to the class name.\n",
    "- `logger_format` : Sets the logging message format, defaults to `%(levelname)s:%(name)s:%(message)s`.\n",
    "\n",
    "`self.logger` becomes available starting from `__attrs_post_init__`."
   ]
  },
  {
   "cell_type": "code",
   "execution_count": 4,
   "metadata": {},
   "outputs": [],
   "source": [
    "import logging\n",
    "\n",
    "@attrsx.define\n",
    "class VerboseProcess:\n",
    "    data: str = attrs.field(default=None)\n",
    "    loggerLvl: int = attrs.field(default=logging.DEBUG)\n",
    "    logger_format: str = attrs.field(\n",
    "        default=\"%(asctime)s - %(name)s - %(levelname)s - %(message)s\"\n",
    "    )\n",
    "\n",
    "    def __attrs_post_init__(self):\n",
    "        self.logger.info(\"Custom post-init logic\")\n",
    "        self.data = \"DATA\"\n",
    "\n",
    "    def run(self):\n",
    "        self.logger.debug(\"Processing %s\", self.data)\n",
    "        return f\"Processed: {self.data}\"\n"
   ]
  },
  {
   "cell_type": "code",
   "execution_count": 5,
   "metadata": {},
   "outputs": [
    {
     "name": "stderr",
     "output_type": "stream",
     "text": [
      "2025-05-01 16:04:38,304 - VerboseProcess - INFO - Custom post-init logic\n",
      "2025-05-01 16:04:38,305 - VerboseProcess - DEBUG - Processing DATA\n"
     ]
    },
    {
     "data": {
      "text/plain": [
       "'Processed: DATA'"
      ]
     },
     "execution_count": 5,
     "metadata": {},
     "output_type": "execute_result"
    }
   ],
   "source": [
    "VerboseProcess(data = \"data\").run()"
   ]
  },
  {
   "cell_type": "markdown",
   "metadata": {},
   "source": [
    "#### Using External Loggers"
   ]
  },
  {
   "cell_type": "markdown",
   "metadata": {},
   "source": [
    "An external, pre-initialized logger can also be provided to the class using the `logger` attribute."
   ]
  },
  {
   "cell_type": "code",
   "execution_count": 6,
   "metadata": {},
   "outputs": [
    {
     "name": "stderr",
     "output_type": "stream",
     "text": [
      "INFO:ProcessData:Custom post-init logic\n"
     ]
    },
    {
     "data": {
      "text/plain": [
       "'Processed: DATA'"
      ]
     },
     "execution_count": 6,
     "metadata": {},
     "output_type": "execute_result"
    }
   ],
   "source": [
    "shared_logger = ProcessData().logger\n",
    "\n",
    "VerboseProcess(\n",
    "    data = \"data\",\n",
    "    logger = shared_logger\n",
    ").run()"
   ]
  },
  {
   "cell_type": "markdown",
   "metadata": {},
   "source": [
    "### 2. Built-in handlers\n",
    "\n",
    "Another extension in `attrsx` is `built-in handlers`. This feature is meant to help plug interchangeable helper objects (“handlers”) into a host class declaratively, without manual wiring, in a way that allows for both providing initialized handlers as well as initializing handlers within a class. \n",
    "\n",
    "The main class has access to methods of handler classes, can reinitialize them or reset them in a well defined way, where most additional code is added automatically by the library to the class.\n"
   ]
  },
  {
   "cell_type": "markdown",
   "metadata": {},
   "source": [
    "#### Adding handlers to a class\n",
    "\n",
    "To add handlers to an `attrsx` class, one can take advantage of `handler_specs` parameter within `@attrsx.define`, which takes a dictionary, where key is alias for the handler and value is the handler class."
   ]
  },
  {
   "cell_type": "code",
   "execution_count": 7,
   "metadata": {},
   "outputs": [],
   "source": [
    "@attrsx.define(handler_specs={\"procd\": ProcessData})\n",
    "class Service:\n",
    "    def run(self, data: str):\n",
    "        self.logger.info(\"Calling procd handler\")\n",
    "        self._initialize_procd_h(uparams={\"data\": data})\n",
    "        return self.procd_h.run()\n"
   ]
  },
  {
   "cell_type": "code",
   "execution_count": 8,
   "metadata": {},
   "outputs": [
    {
     "name": "stderr",
     "output_type": "stream",
     "text": [
      "INFO:Service:Calling procd handler\n",
      "INFO:ProcessData:Running data processing...\n"
     ]
    },
    {
     "data": {
      "text/plain": [
       "'Processed: some data'"
      ]
     },
     "execution_count": 8,
     "metadata": {},
     "output_type": "execute_result"
    }
   ],
   "source": [
    "Service().run(\"some data\")"
   ]
  },
  {
   "cell_type": "markdown",
   "metadata": {},
   "source": [
    "For each handler in provided via `handler_specs` in definition of `NewClass` as :\n",
    "\n",
    "```python\n",
    "@attrsx.define(handler_specs = {\n",
    "    'handler_alias' : HandlerClass, ..., \n",
    "    'another_handler_alias_n' : AnotherHandlerClass})\n",
    "class NewClass:\n",
    "    ...\n",
    "```\n",
    "\n",
    "the class gets the following attributes:\n",
    "\n",
    "- `{handler_alias}_h` : an instance of the handler, by default set to `None`\n",
    "- `{handler_alias}_class` : a class of the handler, will be used if corresponding instance is None, when initialized\n",
    "- `{handler_alias}_params` : parameters that should be used for creating new instance of the handler, using handler class\n",
    "\n",
    "and a function:\n",
    "\n",
    "```python\n",
    "def _initialize_{handler_alias}_h(self, params : dict = None, uparams : dict = None):\n",
    "\n",
    "    if params is None:\n",
    "        params = self.{handler_alias}_params\n",
    "\n",
    "    if uparams is not None:\n",
    "        params.update(uparams)\n",
    "\n",
    "    if self.{handler_alias}_h is None:\n",
    "        self.{handler_alias}_h = self.{handler_alias}_class(**params)\n",
    "```\n",
    "\n",
    "which checks is initialized instance was already provided and if not, initializes handler with provided parameters.\n",
    "\n",
    "To achieve the same with regular `attrs`, the `NewClass` could be defined in the following way, which would work exactly the same:\n",
    "\n",
    "<details>\n",
    "\n",
    "```python\n",
    "@attrs.define\n",
    "class NewClass:\n",
    "    ...\n",
    "\n",
    "    handler_alias_h = attrs.field(default=None)\n",
    "    handler_alias_class = attrs.field(default=HandlerClass)\n",
    "    handler_alias_params = attrs.field(default={})\n",
    "\n",
    "    another_handler_alias_n_h = attrs.field(default=None)\n",
    "    another_handler_alias_n_class = attrs.field(default=AnotherHandlerClass)\n",
    "    another_handler_alias_n_params = attrs.field(default={})\n",
    "\n",
    "    logger_chaining = attrs.field(default={\n",
    "        'loggerLvl' : True, \n",
    "        'logger' : False, \n",
    "        'logger_format' : True})\n",
    "\n",
    "    def _apply_logger_chaining(self, handler_class, params):\n",
    "\n",
    "        if self.logger_chaining.get(\"logger\"):\n",
    "            if ('logger' in handler_class.__dict__) \\\n",
    "                    and \"logger\" not in params.keys():\n",
    "                params[\"logger\"] = self.logger\n",
    "\n",
    "        if self.logger_chaining.get(\"loggerLvl\"):\n",
    "\n",
    "            if ('loggerLvl' in handler_class.__dict__) \\\n",
    "                    and \"loggerLvl\" not in params.keys():\n",
    "                params[\"loggerLvl\"] = self.loggerLvl\n",
    "\n",
    "        if self.logger_chaining.get(\"logger_format\"):\n",
    "\n",
    "            if ('logger_format' in handler_class.__dict__) \\\n",
    "                    and \"logger_format\" not in params.keys():\n",
    "                params[\"logger_format\"] = self.logger_format\n",
    "\n",
    "        return params\n",
    "\n",
    "    def _initialize_handler_alias_h(self, params : dict = None, uparams : dict = None):\n",
    "\n",
    "        if params is None:\n",
    "            params = self.handler_alias_params\n",
    "\n",
    "        if uparams is not None:\n",
    "            params.update(uparams)\n",
    "\n",
    "        params = self._apply_logger_chaining(\n",
    "            handler_class = self.handler_alias_class, \n",
    "            params = params)\n",
    "\n",
    "        if self.handler_alias_h is None:\n",
    "            self.handler_alias_n_h = self.handler_alias_class(**params)\n",
    "\n",
    "    def _initialize_another_handler_alias_n_h(self, params : dict = None, uparams : dict = None):\n",
    "\n",
    "        if params is None:\n",
    "            params = self.another_handler_alias_n_params\n",
    "\n",
    "        if uparams is not None:\n",
    "            params.update(uparams)\n",
    "\n",
    "        params = self._apply_logger_chaining(\n",
    "            handler_class = self.another_handler_alias_n_class, \n",
    "            params = params)\n",
    "\n",
    "        if self.another_handler_alias_n_h is None:\n",
    "            self.another_handler_alias_n_h = self.another_handler_alias_n_class(**params)\n",
    "    \n",
    "```\n",
    "\n",
    "</details>"
   ]
  },
  {
   "cell_type": "markdown",
   "metadata": {},
   "source": [
    "#### Setting default parameters\n",
    "\n",
    "For each handler there is `{handler_alias}_params` within new class, which can be used to provide parameters for handler initialization. \n",
    "\n",
    "Sometimes there is a need to extend or update default parameters and initialize/reinitialize the handler. Each handler has `_initialize_{handler_alias}_h` method within new class to which new default params (parameters that one would use when initializing handler class) could be passed via `params` and update to these or `{handler_alias}_params` via `uparams`."
   ]
  },
  {
   "cell_type": "code",
   "execution_count": 9,
   "metadata": {},
   "outputs": [],
   "source": [
    "@attrsx.define(handler_specs = {'procd' : ProcessData})\n",
    "class Service:\n",
    "    data: str = attrs.field(default=None)\n",
    "\n",
    "    procd_params = attrs.field(default={\"loggerLvl\" : logging.DEBUG})\n",
    "\n",
    "    def run(self, data : str):\n",
    "\n",
    "        self.logger.info(\"Running method from procd handler!\")\n",
    "\n",
    "        self._initialize_procd_h(uparams={\"data\" : data})\n",
    "\n",
    "        return self.procd_h.run()\n"
   ]
  },
  {
   "cell_type": "code",
   "execution_count": 10,
   "metadata": {},
   "outputs": [
    {
     "name": "stderr",
     "output_type": "stream",
     "text": [
      "INFO:Service:Running method from procd handler!\n",
      "INFO:ProcessData:Running data processing...\n",
      "DEBUG:ProcessData:Processing data: some data\n"
     ]
    },
    {
     "data": {
      "text/plain": [
       "'Processed: some data'"
      ]
     },
     "execution_count": 10,
     "metadata": {},
     "output_type": "execute_result"
    }
   ],
   "source": [
    "Service().run(data = \"some data\")\n"
   ]
  },
  {
   "cell_type": "markdown",
   "metadata": {},
   "source": [
    "#### Adding handler initialization to class post init\n",
    "\n",
    "One of the benefits of using `attrs` is the ability to define what happens when class in initialized without making the whole `__init__`, by using `__attrs_post_init__`. Some handlers could be added there to be initialized with a new class and rdy to be used within its methods. "
   ]
  },
  {
   "cell_type": "code",
   "execution_count": 11,
   "metadata": {},
   "outputs": [],
   "source": [
    "@attrsx.define(handler_specs = {'procd' : ProcessData})\n",
    "class Service:\n",
    "    data: str = attrs.field(default=None)\n",
    "\n",
    "    procd_params = attrs.field(default={\"data\" : \"default data\"})\n",
    "\n",
    "    def __attrs_post_init__(self):\n",
    "        self._initialize_procd_h()\n",
    "\n",
    "    def run(self, data : str = None):\n",
    "\n",
    "        self.logger.info(\"Running method from procd handler!\")\n",
    "\n",
    "        return self.procd_h.run()"
   ]
  },
  {
   "cell_type": "code",
   "execution_count": 12,
   "metadata": {},
   "outputs": [
    {
     "name": "stderr",
     "output_type": "stream",
     "text": [
      "INFO:Service:Running method from procd handler!\n",
      "INFO:ProcessData:Running data processing...\n"
     ]
    },
    {
     "data": {
      "text/plain": [
       "'Processed: default data'"
      ]
     },
     "execution_count": 12,
     "metadata": {},
     "output_type": "execute_result"
    }
   ],
   "source": [
    "Service().run()"
   ]
  },
  {
   "cell_type": "markdown",
   "metadata": {},
   "source": [
    "#### Using instances of handlers initialized outside of new class\n",
    "\n",
    "Each new class defined with `handler_specs` can use initialized instances of handlers and skip initialization within new class, which allows the code to remain flexible. "
   ]
  },
  {
   "cell_type": "code",
   "execution_count": 13,
   "metadata": {},
   "outputs": [],
   "source": [
    "@attrsx.define(handler_specs = {'procd' : ProcessData})\n",
    "class Service:\n",
    "    data: str = attrs.field(default=None)\n",
    "\n",
    "    procd_params = attrs.field(default={\"data\" : \"default data\"})\n",
    "\n",
    "    def __attrs_post_init__(self):\n",
    "        self._initialize_procd_h()\n",
    "\n",
    "    def run(self, data : str = None):\n",
    "\n",
    "        self.logger.info(\"Running method from procd handler!\")\n",
    "\n",
    "        return self.procd_h.run()"
   ]
  },
  {
   "cell_type": "code",
   "execution_count": 14,
   "metadata": {},
   "outputs": [
    {
     "name": "stderr",
     "output_type": "stream",
     "text": [
      "INFO:Service:Running method from procd handler!\n",
      "INFO:ProcessData:Running data processing...\n"
     ]
    },
    {
     "data": {
      "text/plain": [
       "'Processed: some other data'"
      ]
     },
     "execution_count": 14,
     "metadata": {},
     "output_type": "execute_result"
    }
   ],
   "source": [
    "outside_procd = ProcessData(data = 'some other data')\n",
    "\n",
    "Service(procd_h=outside_procd).run()"
   ]
  },
  {
   "cell_type": "markdown",
   "metadata": {},
   "source": [
    "#### Chaining loggers\n",
    "\n",
    "Each `attrsx` class has its own independent built-in logger, it might be useful to control behaviour of handler loggers from main class (for handlers that themselves are `attrsx` classes). This package allows to chain loggers of `attrsx` classes on 3 different levels via `logger_chaining` boolean parameters in `@attrsx.define`:\n",
    "\n",
    "1. `logger_format` : synchronizes logger format for all `attrsx` handlers (by default set to `True`)\n",
    "2. `loggerLvl` : synchronizes logger level for all `attrsx` handlers (by default set to `True`)\n",
    "3. `logger` : uses logger defined for main class within handlers (by default set to `False`)"
   ]
  },
  {
   "cell_type": "code",
   "execution_count": 15,
   "metadata": {},
   "outputs": [],
   "source": [
    "@attrsx.define(handler_specs = {'procd' : ProcessData})\n",
    "class ChainedService:\n",
    "    data: str = attrs.field(default=None)\n",
    "\n",
    "    procd_params = attrs.field(default={\"data\" : \"default data\"})\n",
    "\n",
    "    loggerLvl = attrs.field(default=logging.DEBUG)\n",
    "    logger_format = attrs.field(default=\"%(levelname)s - %(name)s - %(message)s\")\n",
    "\n",
    "    def __attrs_post_init__(self):\n",
    "        self._initialize_procd_h()\n",
    "\n",
    "    def run(self, data : str = None):\n",
    "\n",
    "        self.logger.info(\"Running method from procd handler!\")\n",
    "\n",
    "        return self.procd_h.run()"
   ]
  },
  {
   "cell_type": "code",
   "execution_count": 16,
   "metadata": {},
   "outputs": [
    {
     "name": "stderr",
     "output_type": "stream",
     "text": [
      "INFO - ChainedService - Running method from procd handler!\n",
      "INFO - ProcessData - Running data processing...\n",
      "DEBUG - ProcessData - Processing data: default data\n"
     ]
    },
    {
     "data": {
      "text/plain": [
       "'Processed: default data'"
      ]
     },
     "execution_count": 16,
     "metadata": {},
     "output_type": "execute_result"
    }
   ],
   "source": [
    "ChainedService().run()"
   ]
  },
  {
   "cell_type": "code",
   "execution_count": 17,
   "metadata": {},
   "outputs": [],
   "source": [
    "@attrsx.define(handler_specs = {'procd' : ProcessData}, logger_chaining={'logger' : True})\n",
    "class ChainedService:\n",
    "    data: str = attrs.field(default=None)\n",
    "\n",
    "    procd_params = attrs.field(default={\"data\" : \"default data\"})\n",
    "\n",
    "    loggerLvl = attrs.field(default=logging.DEBUG)\n",
    "    logger_format = attrs.field(default=\"%(levelname)s - %(name)s - %(message)s\")\n",
    "\n",
    "    def __attrs_post_init__(self):\n",
    "        self._initialize_procd_h()\n",
    "\n",
    "    def run(self, data : str = None):\n",
    "\n",
    "        self.logger.info(\"Running method from procd handler!\")\n",
    "\n",
    "        return self.procd_h.run()"
   ]
  },
  {
   "cell_type": "code",
   "execution_count": 19,
   "metadata": {},
   "outputs": [
    {
     "name": "stderr",
     "output_type": "stream",
     "text": [
      "INFO - ChainedService - Running method from procd handler!\n",
      "INFO - ChainedService - Running data processing...\n",
      "DEBUG - ChainedService - Processing data: default data\n"
     ]
    },
    {
     "data": {
      "text/plain": [
       "'Processed: default data'"
      ]
     },
     "execution_count": 19,
     "metadata": {},
     "output_type": "execute_result"
    }
   ],
   "source": [
    "ChainedService().run()"
   ]
  }
 ],
 "metadata": {
  "kernelspec": {
   "display_name": "testenv",
   "language": "python",
   "name": "python3"
  },
  "language_info": {
   "codemirror_mode": {
    "name": "ipython",
    "version": 3
   },
   "file_extension": ".py",
   "mimetype": "text/x-python",
   "name": "python",
   "nbconvert_exporter": "python",
   "pygments_lexer": "ipython3",
   "version": "3.10.14"
  }
 },
 "nbformat": 4,
 "nbformat_minor": 2
}
