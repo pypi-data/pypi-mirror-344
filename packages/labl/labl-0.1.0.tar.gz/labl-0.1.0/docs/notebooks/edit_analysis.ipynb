{
 "cells": [
  {
   "cell_type": "markdown",
   "id": "8cf8b45e",
   "metadata": {},
   "source": [
    "# Word-level Edit Analysis with `labl` 🏷️\n",
    "\n",
    "In this notebook, we will use `labl` to analyze machine translation post-edits from multiple annotators, extracting useful statistics and visualizations. Finally, we will compare the annotator edit proportions with the error spans predicted by the word-level quality estimation model [`XCOMET-XXL`](https://huggingface.co/Unbabel/XCOMET-XXL) to evaluate its performance.\n",
    "\n",
    "Firstly, we load some edit data hosted on the 🤗 `datasets` Hub. For this purpose, we will use the [QE4PE](https://huggingface.co/datasets/gsarti/qe4pe) dataset, containing a set of 315 sentences each with 12 human post-edits for English-Italian and English-Dutch ([more info](https://arxiv.org/abs/2503.03044)). The large amount of annotators will prove useful for analyzing agreement."
   ]
  },
  {
   "cell_type": "code",
   "execution_count": 1,
   "id": "3cf2e0f6",
   "metadata": {},
   "outputs": [
    {
     "name": "stdout",
     "output_type": "stream",
     "text": [
      "Italian main data: 3780 total edits\n",
      "Dutch main data: 3780 total edits\n"
     ]
    }
   ],
   "source": [
    "# type: ignore\n",
    "from datasets import load_dataset\n",
    "\n",
    "full_main_dict = load_dataset(\"gsarti/qe4pe\", \"main\")\n",
    "full_main = full_main_dict[\"train\"].to_pandas()\n",
    "main = full_main[(~full_main[\"has_issue\"]) & (full_main[\"translator_main_id\"] != \"no_highlight_t4\")]\n",
    "\n",
    "ita_main = main[main[\"tgt_lang\"] == \"ita\"].reset_index(drop=True)\n",
    "nld_main = main[main[\"tgt_lang\"] == \"nld\"].reset_index(drop=True)\n",
    "\n",
    "print(\"Italian main data:\", len(ita_main), \"total edits\")\n",
    "print(\"Dutch main data:\", len(nld_main), \"total edits\")"
   ]
  },
  {
   "cell_type": "markdown",
   "id": "fbc89523",
   "metadata": {},
   "source": [
    "We will now create an [`EditDataset`](../api/data/dataset.md/#labl.data.edited_dataset.EditedDataset) containing the multiple post-edits for each sentence using the `from_edits_dataframe` method, allowing for quick import from a `pandas` DataFrame. The required columns are:\n",
    "\n",
    "- `text_column`: The name of the column containing the text before edits.\n",
    "- `edit_column`: The name of the column containing the text after edits.\n",
    "- `entry_ids`: A list of column names to be used as unique identifiers for each entry. This is useful when the same sentence has multiple edits, as in this case."
   ]
  },
  {
   "cell_type": "code",
   "execution_count": 2,
   "id": "a6739857",
   "metadata": {},
   "outputs": [
    {
     "name": "stderr",
     "output_type": "stream",
     "text": [
      "None of PyTorch, TensorFlow >= 2.0, or Flax have been found. Models won't be available and only tokenizers, configuration and file/data utilities can be used.\n",
      "Extracting texts and edits: 100%|██████████| 315/315 [00:00<00:00, 1501.24entries/s]\n",
      "Creating EditedDataset: 100%|██████████| 315/315 [00:00<00:00, 777.58entries/s]\n"
     ]
    },
    {
     "name": "stdout",
     "output_type": "stream",
     "text": [
      "Italian main data: 315 unique entries\n"
     ]
    },
    {
     "name": "stderr",
     "output_type": "stream",
     "text": [
      "Extracting texts and edits: 100%|██████████| 315/315 [00:00<00:00, 1516.79entries/s]\n",
      "Creating EditedDataset: 100%|██████████| 315/315 [00:00<00:00, 861.47entries/s]"
     ]
    },
    {
     "name": "stdout",
     "output_type": "stream",
     "text": [
      "Dutch main data: 315 unique entries\n"
     ]
    },
    {
     "name": "stderr",
     "output_type": "stream",
     "text": [
      "\n"
     ]
    }
   ],
   "source": [
    "from labl import EditedDataset\n",
    "\n",
    "ita = EditedDataset.from_edits_dataframe(\n",
    "    ita_main,\n",
    "    text_column=\"mt_text\",\n",
    "    edit_column=\"pe_text\",\n",
    "    entry_ids=[\"doc_id\", \"segment_in_doc_id\"],\n",
    ")\n",
    "print(\"Italian main data:\", len(ita), \"unique entries\")\n",
    "\n",
    "nld = EditedDataset.from_edits_dataframe(\n",
    "    nld_main,\n",
    "    text_column=\"mt_text\",\n",
    "    edit_column=\"pe_text\",\n",
    "    entry_ids=[\"doc_id\", \"segment_in_doc_id\"],\n",
    ")\n",
    "print(\"Dutch main data:\", len(nld), \"unique entries\")"
   ]
  },
  {
   "cell_type": "markdown",
   "id": "a6f7c77b",
   "metadata": {},
   "source": [
    "We can now visualize the contents of each entry by simply printing it. `EditedDataset` is a list-like object containing entries, and since multiple edits are available for each entry, every entry is also a list-like object of `EditedEntry`. An `EditedEntry` is, in essence, a combination of two `LabeledEntry` objects (see the [Quickstart]() tutorial), one for the original text and one for the edited text, plus some additional information regarding edit alignments."
   ]
  },
  {
   "cell_type": "code",
   "execution_count": 3,
   "id": "143cceaf",
   "metadata": {},
   "outputs": [
    {
     "name": "stdout",
     "output_type": "stream",
     "text": [
      "orig.text:\n",
      "            Esistono limitate ricerche riguardanti la continuità, la stabilità e il ruolo del paese di origine nel temperamento del neonato prematuro durante il primo anno di vita.\n",
      "edit.text:\n",
      "            Esistono ricerche limitate riguardanti la costanza, la stabilità e il ruolo del paese di origine nel temperamento del neonato prematuro durante il primo anno di vita.\n",
      "orig.tokens:\n",
      "            ▁ Esistono ▁ limitate ▁ ricerche ▁ riguardanti ▁ la ▁ continuità, ▁ la ▁ stabilità ▁ e ▁ il ▁ ruolo ▁ del ▁ paese ▁ di ▁ origine ▁ nel ▁ temperamento ▁ del ▁ neonato ▁ prematuro ▁ durante ▁ il ▁ primo ▁ anno ▁ di ▁ vita. ▁\n",
      "                       I                   D                                S                                                                                                                                                             \n",
      "\n",
      "edit.tokens:\n",
      "            ▁ Esistono ▁ ricerche ▁ limitate ▁ riguardanti ▁ la ▁ costanza, ▁ la ▁ stabilità ▁ e ▁ il ▁ ruolo ▁ del ▁ paese ▁ di ▁ origine ▁ nel ▁ temperamento ▁ del ▁ neonato ▁ prematuro ▁ durante ▁ il ▁ primo ▁ anno ▁ di ▁ vita. ▁\n",
      "                                I            D                            S                                                                                                                                                             \n",
      "\n",
      "aligned:\n",
      "            ORIG: Esistono ******** limitate ricerche riguardanti la continuità, la stabilità e il ruolo del paese di origine nel temperamento del neonato prematuro durante il primo anno di vita.\n",
      "            EDIT: Esistono ricerche limitate ******** riguardanti la   costanza, la stabilità e il ruolo del paese di origine nel temperamento del neonato prematuro durante il primo anno di vita.\n",
      "                                  I                 D                          S\n"
     ]
    }
   ],
   "source": [
    "# Accessing all edits for the first unique entry\n",
    "id_0_all_edits = ita[0]\n",
    "\n",
    "# Accessing the first edit for the fist unique entry\n",
    "id_0_first_edit = ita[0][5]\n",
    "\n",
    "# Visualize the contents of an edited entry\n",
    "print(id_0_first_edit)"
   ]
  },
  {
   "cell_type": "markdown",
   "id": "85cb8cfa",
   "metadata": {},
   "source": [
    "The `aligned` attribute is obtained using [`jiwer`](https://jitsi.github.io/jiwer) and corresponds to the Levenshtein alignment between the original and edited text. Since no tokenizer was provided, whitespace tokenization was used by default.\n",
    "\n",
    "## Handling gaps\n",
    "\n",
    "You might also note that `orig.tokens` and `edit.tokens` contain **gap tokens** (`▁`, see e.g. the [MLQE-PE](https://aclanthology.org/2022.lrec-1.530/) dataset for an example of gap usage). These are added by default when importing edits to keep annotations for insertions and deletions distinct on both sequences (for example, the insertion label `I` on the second gap of `orig.tokens` marks that the token `ricerche` was added in that position in `edit.tokens`, while the deletion label `D` on the fourth gap of `edit.tokens` marks that the token `ricerche` was deleted from `orig.tokens`). \n",
    "\n",
    "If you want to restrict analysis on the actual tokens, gap annotations can be trasferred to the token on the right to obtain a more compact representation of the sequence. By default, labels are added together (so if a gap marked with `I` is followed by a token marked with `S`, the resulting label will be `IS`), but the merging behavior can be customized with the `merge_fn` argument:"
   ]
  },
  {
   "cell_type": "code",
   "execution_count": 4,
   "id": "43523ecd",
   "metadata": {},
   "outputs": [
    {
     "name": "stdout",
     "output_type": "stream",
     "text": [
      "orig.text:\n",
      "            Esistono limitate ricerche riguardanti la continuità, la stabilità e il ruolo del paese di origine nel temperamento del neonato prematuro durante il primo anno di vita.\n",
      "edit.text:\n",
      "            Esistono ricerche limitate riguardanti la costanza, la stabilità e il ruolo del paese di origine nel temperamento del neonato prematuro durante il primo anno di vita.\n",
      "orig.tokens:\n",
      "            Esistono limitate ricerche riguardanti la continuità, la stabilità e il ruolo del paese di origine nel temperamento del neonato prematuro durante il primo anno di vita.\n",
      "                            I        D                          S                                                                                                                   \n",
      "\n",
      "edit.tokens:\n",
      "            Esistono ricerche limitate riguardanti la costanza, la stabilità e il ruolo del paese di origine nel temperamento del neonato prematuro durante il primo anno di vita.\n",
      "                            I                    D            S                                                                                                                   \n",
      "\n",
      "aligned:\n",
      "            ORIG: Esistono ******** limitate ricerche riguardanti la continuità, la stabilità e il ruolo del paese di origine nel temperamento del neonato prematuro durante il primo anno di vita.\n",
      "            EDIT: Esistono ricerche limitate ******** riguardanti la   costanza, la stabilità e il ruolo del paese di origine nel temperamento del neonato prematuro durante il primo anno di vita.\n",
      "                                  I                 D                          S\n"
     ]
    }
   ],
   "source": [
    "# Merge gap annotations in-place\n",
    "ita.merge_gap_annotations(keep_final_gap=False)\n",
    "print(ita[0][5])"
   ]
  },
  {
   "cell_type": "markdown",
   "id": "75836d6f",
   "metadata": {},
   "source": [
    "## Agreement\n",
    "\n",
    "We can now easily obtain a measure of the edit agreement between annotators using `get_agreement` using [Krippendorff's alpha](https://en.wikipedia.org/wiki/Krippendorff%27s_alpha) coefficient. Provided that every entry has multiple edits, the agreement will be computed across all annotations of the original text, and for every annotator pair:"
   ]
  },
  {
   "cell_type": "code",
   "execution_count": 5,
   "id": "0b00e56c",
   "metadata": {},
   "outputs": [
    {
     "name": "stdout",
     "output_type": "stream",
     "text": [
      "AgreementOutput(\n",
      "    type: krippendorff_nominal,\n",
      "    full: 0.3234,\n",
      "    pair:\n",
      "            | A0   | A1   | A2   | A3   | A4   | A5   | A6   | A7   | A8   | A9   | A10  | A11  |\n",
      "        A0  |      | 0.36 | 0.53 | 0.32 | 0.18 | 0.37 | 0.35 | 0.36 | 0.41 | 0.35 | 0.35 | 0.37 |\n",
      "        A1  | 0.36 |      | 0.18 | 0.32 | 0.33 | 0.27 | 0.4  | 0.42 | 0.35 | 0.32 | 0.36 | 0.34 |\n",
      "        A2  | 0.53 | 0.18 |      | 0.45 | 0.23 | 0.37 | 0.39 | 0.35 | 0.34 | 0.56 | 0.34 | 0.38 |\n",
      "        A3  | 0.32 | 0.32 | 0.45 |      | 0.34 | 0.38 | 0.34 | 0.32 | 0.33 | 0.38 | 0.29 | 0.41 |\n",
      "        A4  | 0.18 | 0.33 | 0.23 | 0.34 |      | 0.32 | 0.33 | 0.31 | 0.28 | 0.21 | 0.33 | 0.27 |\n",
      "        A5  | 0.37 | 0.27 | 0.37 | 0.38 | 0.32 |      | 0.3  | 0.34 | 0.31 | 0.33 | 0.34 | 0.32 |\n",
      "        A6  | 0.35 | 0.4  | 0.39 | 0.34 | 0.33 | 0.3  |      | 0.31 | 0.28 | 0.27 | 0.3  | 0.3  |\n",
      "        A7  | 0.36 | 0.42 | 0.35 | 0.32 | 0.31 | 0.34 | 0.31 |      | 0.34 | 0.4  | 0.34 | 0.34 |\n",
      "        A8  | 0.41 | 0.35 | 0.34 | 0.33 | 0.28 | 0.31 | 0.28 | 0.34 |      | 0.31 | 0.33 | 0.35 |\n",
      "        A9  | 0.35 | 0.32 | 0.56 | 0.38 | 0.21 | 0.33 | 0.27 | 0.4  | 0.31 |      | 0.36 | 0.3  |\n",
      "        A10 | 0.35 | 0.36 | 0.34 | 0.29 | 0.33 | 0.34 | 0.3  | 0.34 | 0.33 | 0.36 |      | 0.35 |\n",
      "        A11 | 0.37 | 0.34 | 0.38 | 0.41 | 0.27 | 0.32 | 0.3  | 0.34 | 0.35 | 0.3  | 0.35 |      |\n",
      "\n",
      ")\n",
      "\n"
     ]
    }
   ],
   "source": [
    "agreement_output = ita.get_agreement()\n",
    "print(agreement_output)"
   ]
  },
  {
   "cell_type": "markdown",
   "id": "5c91f450",
   "metadata": {},
   "source": [
    "The agreement is quite low, but currently we are considering every type of edit as a separate label (including the combinations derived from merging, e.g. `IS` and `ID`). We can try to relabel the entries to use a single label to mark edits (e.g. `E`), and see how this affects the agreement computation. Relabeling with the `relabel` method can be done either with a `relabel_map` dictionary specifying the mapping from old to new labels, or with a `relabel_fn` function that takes a label and returns the new label. The latter is useful when we want to apply a more complex relabeling strategy, such as merging multiple labels into one.\n",
    "\n",
    "⚠️ While relabeling affects all properties of the `orig` and `edit` `LabeledEntry` attributes in each `EditedEntry`, it does not affect the `aligned` attribute, which cannot be changed after the entry is created. This does not affect in any way the rest of the analysis."
   ]
  },
  {
   "cell_type": "code",
   "execution_count": 6,
   "id": "0cc35af1",
   "metadata": {},
   "outputs": [
    {
     "name": "stdout",
     "output_type": "stream",
     "text": [
      "orig.text:\n",
      "            Esistono limitate ricerche riguardanti la continuità, la stabilità e il ruolo del paese di origine nel temperamento del neonato prematuro durante il primo anno di vita.\n",
      "edit.text:\n",
      "            Esistono ricerche limitate riguardanti la costanza, la stabilità e il ruolo del paese di origine nel temperamento del neonato prematuro durante il primo anno di vita.\n",
      "orig.tokens:\n",
      "            Esistono limitate ricerche riguardanti la continuità, la stabilità e il ruolo del paese di origine nel temperamento del neonato prematuro durante il primo anno di vita.\n",
      "                            E        E                          E                                                                                                                   \n",
      "\n",
      "edit.tokens:\n",
      "            Esistono ricerche limitate riguardanti la costanza, la stabilità e il ruolo del paese di origine nel temperamento del neonato prematuro durante il primo anno di vita.\n",
      "                            E                    E            E                                                                                                                   \n",
      "\n",
      "aligned:\n",
      "            ORIG: Esistono ******** limitate ricerche riguardanti la continuità, la stabilità e il ruolo del paese di origine nel temperamento del neonato prematuro durante il primo anno di vita.\n",
      "            EDIT: Esistono ricerche limitate ******** riguardanti la   costanza, la stabilità e il ruolo del paese di origine nel temperamento del neonato prematuro durante il primo anno di vita.\n",
      "                                  I                 D                          S\n"
     ]
    }
   ],
   "source": [
    "ita.relabel(lambda lab: \"E\" if lab is not None else None)\n",
    "\n",
    "# Visualize the contents of an edited entry\n",
    "print(ita[0][5])"
   ]
  },
  {
   "cell_type": "code",
   "execution_count": 7,
   "id": "f88b5928",
   "metadata": {},
   "outputs": [
    {
     "name": "stdout",
     "output_type": "stream",
     "text": [
      "AgreementOutput(\n",
      "    type: spearmanr_binary,\n",
      "    full: None,\n",
      "    pair:\n",
      "            | A0   | A1   | A2   | A3   | A4   | A5   | A6   | A7   | A8   | A9   | A10  | A11  |\n",
      "        A0  |      | 0.34 | 0.22 | 0.33 | 0.27 | 0.3  | 0.33 | 0.27 | 0.28 | 0.3  | 0.27 | 0.27 |\n",
      "        A1  | 0.34 |      | 0.22 | 0.38 | 0.33 | 0.36 | 0.4  | 0.32 | 0.34 | 0.34 | 0.36 | 0.35 |\n",
      "        A2  | 0.22 | 0.22 |      | 0.26 | 0.21 | 0.23 | 0.25 | 0.18 | 0.22 | 0.28 | 0.2  | 0.21 |\n",
      "        A3  | 0.33 | 0.38 | 0.26 |      | 0.36 | 0.37 | 0.39 | 0.31 | 0.36 | 0.36 | 0.35 | 0.35 |\n",
      "        A4  | 0.27 | 0.33 | 0.21 | 0.36 |      | 0.4  | 0.35 | 0.32 | 0.39 | 0.25 | 0.34 | 0.34 |\n",
      "        A5  | 0.3  | 0.36 | 0.23 | 0.37 | 0.4  |      | 0.37 | 0.34 | 0.37 | 0.33 | 0.34 | 0.38 |\n",
      "        A6  | 0.33 | 0.4  | 0.25 | 0.39 | 0.35 | 0.37 |      | 0.37 | 0.37 | 0.35 | 0.38 | 0.38 |\n",
      "        A7  | 0.27 | 0.32 | 0.18 | 0.31 | 0.32 | 0.34 | 0.37 |      | 0.37 | 0.34 | 0.39 | 0.4  |\n",
      "        A8  | 0.28 | 0.34 | 0.22 | 0.36 | 0.39 | 0.37 | 0.37 | 0.37 |      | 0.3  | 0.36 | 0.37 |\n",
      "        A9  | 0.3  | 0.34 | 0.28 | 0.36 | 0.25 | 0.33 | 0.35 | 0.34 | 0.3  |      | 0.33 | 0.31 |\n",
      "        A10 | 0.27 | 0.36 | 0.2  | 0.35 | 0.34 | 0.34 | 0.38 | 0.39 | 0.36 | 0.33 |      | 0.4  |\n",
      "        A11 | 0.27 | 0.35 | 0.21 | 0.35 | 0.34 | 0.38 | 0.38 | 0.4  | 0.37 | 0.31 | 0.4  |      |\n",
      "\n",
      ")\n",
      "\n"
     ]
    }
   ],
   "source": [
    "agreement_output = ita.get_agreement()\n",
    "print(agreement_output)"
   ]
  },
  {
   "cell_type": "markdown",
   "id": "50c8a9c7",
   "metadata": {},
   "source": [
    "The new agreement is now a [Spearman's rank correlation](https://en.wikipedia.org/wiki/Spearman%27s_rank_correlation_coefficient) coefficient, since the relabeling resulted in a binary labeling scheme. We can mark all unchanged tokens with a label `K` for \"kept\" to compute the agreement on both `E` and `K` labels. Correlation is not defined across multiple label sets, so the `full` attribute is `None`."
   ]
  },
  {
   "cell_type": "code",
   "execution_count": 8,
   "id": "237bcc02",
   "metadata": {},
   "outputs": [
    {
     "name": "stderr",
     "output_type": "stream",
     "text": [
      "Creating labeled dataset: 100%|██████████| 315/315 [00:00<00:00, 2770.52entries/s]\n"
     ]
    }
   ],
   "source": [
    "from labl.data import LabeledDataset\n",
    "\n",
    "ita_main_unique = ita_main.groupby([\"doc_id\", \"segment_in_doc_id\"]).first().reset_index(drop=True)\n",
    "\n",
    "all_spans = []\n",
    "for spans_str in ita_main_unique[\"mt_xcomet_errors\"]:\n",
    "    curr_spans = []\n",
    "    list_dic_span = eval(spans_str)\n",
    "    for span in list_dic_span:\n",
    "        curr_spans.append(\n",
    "            {\n",
    "                \"start\": span[\"start\"],\n",
    "                \"end\": span[\"end\"],\n",
    "                \"label\": span[\"severity\"],\n",
    "                \"text\": span[\"text\"],\n",
    "            }\n",
    "        )\n",
    "    all_spans.append(curr_spans)\n",
    "\n",
    "ita_xcomet_spans = LabeledDataset.from_spans(\n",
    "    texts=list(ita_main_unique[\"mt_text\"]),\n",
    "    spans=all_spans,\n",
    ")"
   ]
  },
  {
   "cell_type": "code",
   "execution_count": 9,
   "id": "e7a46ea5",
   "metadata": {},
   "outputs": [
    {
     "name": "stdout",
     "output_type": "stream",
     "text": [
      "text:\n",
      "       La continuità del temperamento dai 6 ai 12 mesi varia a seconda del paese: le madri cilene hanno riportato un aumento del sorriso e della risata e del livello di attività dai 6 ai 12 mesi, e le madri del Regno Unito hanno riportato una diminuzione del sorriso e della risata e un aumento della paura dai 6 ai 12 mesi.\n",
      "tagged:\n",
      "       La continuità del temperamento dai 6 ai 12 mesi varia a seconda del paese: le madri cilene hanno riportato un aumento del sorriso<minor> e</minor> della<minor> risata</minor> e del livello di attività dai 6 ai 12 mesi, e le madri del Regno Unito hanno riportato una diminuzione del sorriso e della risata e un aumento della paura dai 6 ai 12 mesi.\n",
      "tokens:\n",
      "       La continuità del temperamento dai 6 ai 12 mesi varia a seconda del paese: le madri cilene hanno riportato un aumento del sorriso     e della risata e del livello di attività dai 6 ai 12 mesi, e le madri del Regno Unito hanno riportato una diminuzione del sorriso e della risata e un aumento della paura dai 6 ai 12 mesi.\n",
      "                                                                                                                                         minor        minor                                                                                                                                                                             \n",
      "\n",
      "spans:\n",
      "       0: 129:131 (e) => minor\n",
      "       1: 137:144 (risata) => minor\n"
     ]
    }
   ],
   "source": [
    "print(ita_xcomet_spans[5])"
   ]
  },
  {
   "cell_type": "code",
   "execution_count": 10,
   "id": "9a60f1ca",
   "metadata": {},
   "outputs": [
    {
     "name": "stdout",
     "output_type": "stream",
     "text": [
      "text:\n",
      "       La continuità del temperamento dai 6 ai 12 mesi varia a seconda del paese: le madri cilene hanno riportato un aumento del sorriso e della risata e del livello di attività dai 6 ai 12 mesi, e le madri del Regno Unito hanno riportato una diminuzione del sorriso e della risata e un aumento della paura dai 6 ai 12 mesi.\n",
      "tagged:\n",
      "       La continuità del temperamento dai 6 ai 12 mesi varia a seconda del paese: le madri cilene hanno riportato un aumento del sorriso<E> e</E> della<E> risata</E> e del livello di attività dai 6 ai 12 mesi, e le madri del Regno Unito hanno riportato una diminuzione del sorriso e della risata e un aumento della paura dai 6 ai 12 mesi.\n",
      "tokens:\n",
      "       La continuità del temperamento dai 6 ai 12 mesi varia a seconda del paese: le madri cilene hanno riportato un aumento del sorriso e della risata e del livello di attività dai 6 ai 12 mesi, e le madri del Regno Unito hanno riportato una diminuzione del sorriso e della risata e un aumento della paura dai 6 ai 12 mesi.\n",
      "                                                                                                                                         E            E                                                                                                                                                                             \n",
      "\n",
      "spans:\n",
      "       0: 129:131 (None) => E\n",
      "       1: 137:144 (None) => E\n"
     ]
    }
   ],
   "source": [
    "ita_xcomet_spans.relabel(lambda lab: \"E\" if lab is not None else None)\n",
    "print(ita_xcomet_spans[5])"
   ]
  },
  {
   "cell_type": "code",
   "execution_count": 13,
   "id": "00e10c66",
   "metadata": {},
   "outputs": [
    {
     "name": "stdout",
     "output_type": "stream",
     "text": [
      "Agreement of XCOMET with annotator 0: 0.21915394517009773\n",
      "Agreement of XCOMET with annotator 1: 0.2275337204552564\n",
      "Agreement of XCOMET with annotator 2: 0.22868301380157635\n",
      "Agreement of XCOMET with annotator 3: 0.20886058547534597\n",
      "Agreement of XCOMET with annotator 4: 0.18324181750361304\n",
      "Agreement of XCOMET with annotator 5: 0.2350649104677996\n",
      "Agreement of XCOMET with annotator 6: 0.2599132539885884\n",
      "Agreement of XCOMET with annotator 7: 0.1887801438815674\n",
      "Agreement of XCOMET with annotator 8: 0.18871477020233016\n",
      "Agreement of XCOMET with annotator 9: 0.24598840796027605\n",
      "Agreement of XCOMET with annotator 10: 0.1912293643198062\n",
      "Agreement of XCOMET with annotator 11: 0.19964725018467855\n"
     ]
    }
   ],
   "source": [
    "for idx in range(len(ita[0])):\n",
    "    agreement = ita_xcomet_spans.get_agreement(LabeledDataset([e[idx].orig for e in ita]))\n",
    "    print(f\"Agreement of XCOMET with annotator {idx}: {agreement.pair}\")"
   ]
  }
 ],
 "metadata": {
  "kernelspec": {
   "display_name": ".venv",
   "language": "python",
   "name": "python3"
  },
  "language_info": {
   "codemirror_mode": {
    "name": "ipython",
    "version": 3
   },
   "file_extension": ".py",
   "mimetype": "text/x-python",
   "name": "python",
   "nbconvert_exporter": "python",
   "pygments_lexer": "ipython3",
   "version": "3.10.15"
  }
 },
 "nbformat": 4,
 "nbformat_minor": 5
}
