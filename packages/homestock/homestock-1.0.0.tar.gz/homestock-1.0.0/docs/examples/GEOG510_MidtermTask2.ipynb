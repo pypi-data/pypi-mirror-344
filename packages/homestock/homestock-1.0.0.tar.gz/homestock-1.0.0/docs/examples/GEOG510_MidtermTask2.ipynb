{
 "cells": [
  {
   "cell_type": "markdown",
   "id": "f710ee09",
   "metadata": {},
   "source": [
    "# 🗺️ Split Map Viewer Demo\n",
    "\n",
    "This notebook demonstrates how to use the `add_split_map()` method in the `Map` class from the `homestock.map_folium` module.\n",
    "\n",
    "With this method, you can visually compare two raster datasets (such as GeoTIFFs) side by side using a split-pane interface powered by Folium + localtileserver.\n"
   ]
  },
  {
   "cell_type": "code",
   "execution_count": 2,
   "id": "4ca59fed",
   "metadata": {},
   "outputs": [],
   "source": [
    "from map_folium import Map\n",
    "\n",
    "# Initialize the map at a central location (e.g., Knoxville)\n",
    "m = Map(location=[35.96, -83.92], zoom_start=10)"
   ]
  },
  {
   "cell_type": "markdown",
   "id": "482fe9b5",
   "metadata": {},
   "source": [
    "## 🖼️ Load and Compare Two Raster Files\n",
    "\n",
    "Make sure the raster files are:\n",
    "- GeoTIFF format (or similar)\n",
    "- Stored locally\n",
    "- Accessible by `localtileserver`\n"
   ]
  },
  {
   "cell_type": "code",
   "execution_count": null,
   "id": "07d0517e",
   "metadata": {},
   "outputs": [],
   "source": [
    "# Define paths to two raster files\n",
    "left_raster = \"data/ndvi_april.tif\"\n",
    "right_raster = \"data/ndvi_july.tif\"\n",
    "\n",
    "# Add split-pane comparison view\n",
    "m.add_split_map(left_raster, right_raster, left_name=\"NDVI - April\", right_name=\"NDVI - July\")"
   ]
  },
  {
   "cell_type": "markdown",
   "id": "11d14da3",
   "metadata": {},
   "source": [
    "## 💾 Save and View the Map\n",
    "\n",
    "Saving the map generates a self-contained HTML file that you can open in a browser.\n"
   ]
  },
  {
   "cell_type": "code",
   "execution_count": null,
   "id": "82b17cb1",
   "metadata": {},
   "outputs": [],
   "source": [
    "# Save to an HTML file\n",
    "m.map.save(\"split_map_output.html\")\n",
    "print(\"✅ Map saved as split_map_output.html\")"
   ]
  }
 ],
 "metadata": {
  "kernelspec": {
   "display_name": "python3.10",
   "language": "python",
   "name": "python3.10"
  },
  "language_info": {
   "codemirror_mode": {
    "name": "ipython",
    "version": 3
   },
   "file_extension": ".py",
   "mimetype": "text/x-python",
   "name": "python",
   "nbconvert_exporter": "python",
   "pygments_lexer": "ipython3",
   "version": "3.11.8"
  }
 },
 "nbformat": 4,
 "nbformat_minor": 5
}
