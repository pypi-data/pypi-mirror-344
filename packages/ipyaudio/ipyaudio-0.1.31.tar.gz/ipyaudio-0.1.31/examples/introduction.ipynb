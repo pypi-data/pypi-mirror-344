{
 "cells": [
  {
   "cell_type": "markdown",
   "metadata": {},
   "source": [
    "# Introduction"
   ]
  },
  {
   "cell_type": "code",
   "execution_count": 1,
   "metadata": {},
   "outputs": [],
   "source": [
    "from ipyaudio import Recorder, play\n",
    "\n",
    "# recorder = Recorder(\"test.wav\")"
   ]
  },
  {
   "cell_type": "code",
   "execution_count": 2,
   "metadata": {},
   "outputs": [
    {
     "data": {
      "application/vnd.jupyter.widget-view+json": {
       "model_id": "b33f4a612ff944639875eda9c019bdf6",
       "version_major": 2,
       "version_minor": 0
      },
      "text/plain": [
       "Player(value=None, config={'options': {'autoScroll': True, 'backend': 'WebAudio', 'container': '', 'cursorColo…"
      ]
     },
     "metadata": {},
     "output_type": "display_data"
    }
   ],
   "source": [
    "play(\"test.wav\", language=\"zh\")"
   ]
  },
  {
   "cell_type": "code",
   "execution_count": 3,
   "metadata": {},
   "outputs": [
    {
     "name": "stdout",
     "output_type": "stream",
     "text": [
      "--2025-04-28 17:44:43--  https://modelscope.cn/datasets/pengzhendong/filesamples/resolve/master/audio/aac/sample1.aac\n",
      "Resolving modelscope.cn (modelscope.cn)... 47.92.141.220, 39.99.133.195\n",
      "Connecting to modelscope.cn (modelscope.cn)|47.92.141.220|:443... connected.\n",
      "HTTP request sent, awaiting response... 200 \n",
      "Length: unspecified [application/octet-stream]\n",
      "Saving to: ‘sample1.aac’\n",
      "\n",
      "sample1.aac             [   <=>              ]   1.95M  3.74MB/s    in 0.5s    \n",
      "\n",
      "2025-04-28 17:44:44 (3.74 MB/s) - ‘sample1.aac’ saved [2049390]\n",
      "\n",
      "\n",
      "Input File     : 'sample1.aac'\n",
      "Channels       : 2\n",
      "Sample Rate    : 44100\n",
      "Precision      : 32-bit\n",
      "Duration       : 00:02:08.554 = 5669226 samples ~ 9641.54 CDDA sectors\n",
      "File Size      : 2 MB\n",
      "Bit Rate       : 127.5 kbps\n",
      "Sample Encoding: AAC (Advanced Audio Coding)\n"
     ]
    }
   ],
   "source": [
    "import time\n",
    "\n",
    "from audiolab import info, load_audio\n",
    "from ipyaudio import Player, Recorder, play, record\n",
    "\n",
    "\n",
    "!wget https://modelscope.cn/datasets/pengzhendong/filesamples/resolve/master/audio/aac/sample1.aac -O sample1.aac\n",
    "audio_url = \"https://modelscope.cn/datasets/pengzhendong/filesamples/resolve/master/audio/aac/sample1.aac\"\n",
    "audio_path = \"sample1.aac\"\n",
    "\n",
    "!audioi sample1.aac"
   ]
  },
  {
   "cell_type": "markdown",
   "metadata": {},
   "source": [
    "## Player"
   ]
  },
  {
   "cell_type": "markdown",
   "metadata": {},
   "source": [
    "- Play an audio from url"
   ]
  },
  {
   "cell_type": "code",
   "execution_count": 4,
   "metadata": {},
   "outputs": [
    {
     "data": {
      "application/vnd.jupyter.widget-view+json": {
       "model_id": "4adbf02341da484993d679be77722928",
       "version_major": 2,
       "version_minor": 0
      },
      "text/plain": [
       "Player(value=None, config={'options': {'autoScroll': True, 'backend': 'WebAudio', 'container': '', 'cursorColo…"
      ]
     },
     "metadata": {},
     "output_type": "display_data"
    },
    {
     "name": "stderr",
     "output_type": "stream",
     "text": [
      "WARNING:audiolab.av.frame:float32 array out of range: -1.0800782442092896 ~ 1.048580527305603\n"
     ]
    }
   ],
   "source": [
    "play(audio_url)"
   ]
  },
  {
   "cell_type": "markdown",
   "metadata": {},
   "source": [
    "- Play local audio"
   ]
  },
  {
   "cell_type": "code",
   "execution_count": 5,
   "metadata": {},
   "outputs": [
    {
     "data": {
      "application/vnd.jupyter.widget-view+json": {
       "model_id": "bf39d46199a64a48a0e8c3ec0a83e9dd",
       "version_major": 2,
       "version_minor": 0
      },
      "text/plain": [
       "Player(value=None, config={'options': {'autoScroll': True, 'backend': 'WebAudio', 'container': '', 'cursorColo…"
      ]
     },
     "metadata": {},
     "output_type": "display_data"
    },
    {
     "name": "stderr",
     "output_type": "stream",
     "text": [
      "WARNING:audiolab.av.frame:float32 array out of range: -1.0800782442092896 ~ 1.048580527305603\n"
     ]
    }
   ],
   "source": [
    "play(audio_path)"
   ]
  },
  {
   "cell_type": "markdown",
   "metadata": {},
   "source": [
    "- Play numpy ndarray"
   ]
  },
  {
   "cell_type": "code",
   "execution_count": 6,
   "metadata": {},
   "outputs": [
    {
     "name": "stdout",
     "output_type": "stream",
     "text": [
      "(2, 5386240) 44100\n"
     ]
    },
    {
     "data": {
      "application/vnd.jupyter.widget-view+json": {
       "model_id": "1237209e080b4a7ca96a2a782b099eda",
       "version_major": 2,
       "version_minor": 0
      },
      "text/plain": [
       "Player(value=None, config={'options': {'autoScroll': True, 'backend': 'WebAudio', 'container': '', 'cursorColo…"
      ]
     },
     "metadata": {},
     "output_type": "display_data"
    },
    {
     "name": "stderr",
     "output_type": "stream",
     "text": [
      "WARNING:audiolab.av.frame:float32 array out of range: -1.2672439813613892 ~ 1.1845004558563232\n"
     ]
    }
   ],
   "source": [
    "audio, rate = load_audio(audio_path)\n",
    "print(audio.shape, rate)\n",
    "play(audio, rate)"
   ]
  },
  {
   "cell_type": "markdown",
   "metadata": {},
   "source": [
    "- Play an audio stream"
   ]
  },
  {
   "cell_type": "code",
   "execution_count": 7,
   "metadata": {},
   "outputs": [
    {
     "data": {
      "application/vnd.jupyter.widget-view+json": {
       "model_id": "76aade961d954e67b88918e614eba312",
       "version_major": 2,
       "version_minor": 0
      },
      "text/plain": [
       "VBox(children=(Player(value=None, config={'options': {'autoScroll': True, 'backend': 'WebAudio', 'container': …"
      ]
     },
     "metadata": {},
     "output_type": "display_data"
    }
   ],
   "source": [
    "def audio_stream():\n",
    "    for frame, rate in load_audio(audio_path, duration=5, frame_size_ms=300):\n",
    "        time.sleep(0.1)  # Latency: 0.1 * 1000 = 100ms\n",
    "        yield frame\n",
    "        time.sleep(0.05)  # RTF: (0.1 + 0.05) * 1000 / 300 = 0.5\n",
    "\n",
    "rate = info(audio_path).rate\n",
    "play(audio_stream(), rate, verbose=True)"
   ]
  },
  {
   "cell_type": "markdown",
   "metadata": {},
   "source": [
    "## Recorder"
   ]
  },
  {
   "cell_type": "code",
   "execution_count": 8,
   "metadata": {},
   "outputs": [
    {
     "data": {
      "application/vnd.jupyter.widget-view+json": {
       "model_id": "93aa759755dd40fcbf72005a27a62f20",
       "version_major": 2,
       "version_minor": 0
      },
      "text/plain": [
       "VBox(children=(Recorder(value=None, config={'options': {'backend': 'WebAudio', 'container': '', 'waveColor': '…"
      ]
     },
     "metadata": {},
     "output_type": "display_data"
    }
   ],
   "source": [
    "record(\"audio.wav\", verbose=True)"
   ]
  },
  {
   "cell_type": "code",
   "execution_count": 9,
   "metadata": {},
   "outputs": [
    {
     "name": "stdout",
     "output_type": "stream",
     "text": [
      "\n",
      "Input File     : 'audio.wav'\n",
      "Channels       : 1\n",
      "Sample Rate    : 16000\n",
      "Precision      : 16-bit\n",
      "Duration       : 00:00:00.6 = 9600 samples ~ 45 CDDA sectors\n",
      "File Size      : 19.3 kB\n",
      "Bit Rate       : 256 kbps\n",
      "Sample Encoding: PCM signed 16-bit little-endian\n"
     ]
    }
   ],
   "source": [
    "!audioi audio.wav"
   ]
  },
  {
   "cell_type": "code",
   "execution_count": 10,
   "metadata": {},
   "outputs": [
    {
     "data": {
      "application/vnd.jupyter.widget-view+json": {
       "model_id": "f7d3392b7126440a9b01778253e9ad2a",
       "version_major": 2,
       "version_minor": 0
      },
      "text/plain": [
       "VBox(children=(Recorder(value=None, config={'options': {'backend': 'WebAudio', 'container': '', 'waveColor': '…"
      ]
     },
     "metadata": {},
     "output_type": "display_data"
    }
   ],
   "source": [
    "from ipyaudio import Recorder\n",
    "recorder = Recorder(\"audio.wav\", verbose=True)"
   ]
  },
  {
   "cell_type": "code",
   "execution_count": 11,
   "metadata": {},
   "outputs": [
    {
     "data": {
      "application/vnd.jupyter.widget-view+json": {
       "model_id": "f456eb01192b44fa9c9e802b11612940",
       "version_major": 2,
       "version_minor": 0
      },
      "text/plain": [
       "Output()"
      ]
     },
     "metadata": {},
     "output_type": "display_data"
    }
   ],
   "source": [
    "import ipywidgets as widgets\n",
    "\n",
    "out = widgets.Output()\n",
    "display(out)\n",
    "\n",
    "def process_frame(frame):\n",
    "    with out:\n",
    "        display(frame[\"new\"].shape)\n",
    "recorder.observe(process_frame, names=\"frame\")"
   ]
  },
  {
   "cell_type": "code",
   "execution_count": null,
   "metadata": {},
   "outputs": [],
   "source": []
  }
 ],
 "metadata": {
  "kernelspec": {
   "display_name": "Python 3 (ipykernel)",
   "language": "python",
   "name": "python3"
  },
  "language_info": {
   "codemirror_mode": {
    "name": "ipython",
    "version": 3
   },
   "file_extension": ".py",
   "mimetype": "text/x-python",
   "name": "python",
   "nbconvert_exporter": "python",
   "pygments_lexer": "ipython3",
   "version": "3.13.3"
  }
 },
 "nbformat": 4,
 "nbformat_minor": 4
}
